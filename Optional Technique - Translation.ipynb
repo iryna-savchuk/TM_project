{
 "cells": [
  {
   "cell_type": "markdown",
   "metadata": {},
   "source": [
    "## Loading Libraries and Train Dataset"
   ]
  },
  {
   "cell_type": "code",
   "execution_count": 1,
   "metadata": {
    "tags": []
   },
   "outputs": [],
   "source": [
    "import pandas as pd\n",
    "import matplotlib.pyplot as plt\n",
    "from tqdm import tqdm\n",
    "from langdetect import detect\n",
    "import os"
   ]
  },
  {
   "cell_type": "code",
   "execution_count": 2,
   "metadata": {},
   "outputs": [],
   "source": [
    "corpora_df = pd.read_excel('Project Corpora/train.xlsx')"
   ]
  },
  {
   "cell_type": "code",
   "execution_count": 3,
   "metadata": {},
   "outputs": [
    {
     "data": {
      "text/html": [
       "<div>\n",
       "<style scoped>\n",
       "    .dataframe tbody tr th:only-of-type {\n",
       "        vertical-align: middle;\n",
       "    }\n",
       "\n",
       "    .dataframe tbody tr th {\n",
       "        vertical-align: top;\n",
       "    }\n",
       "\n",
       "    .dataframe thead th {\n",
       "        text-align: right;\n",
       "    }\n",
       "</style>\n",
       "<table border=\"1\" class=\"dataframe\">\n",
       "  <thead>\n",
       "    <tr style=\"text-align: right;\">\n",
       "      <th></th>\n",
       "      <th>index</th>\n",
       "      <th>description</th>\n",
       "      <th>host_about</th>\n",
       "      <th>unlisted</th>\n",
       "    </tr>\n",
       "  </thead>\n",
       "  <tbody>\n",
       "    <tr>\n",
       "      <th>12491</th>\n",
       "      <td>12492</td>\n",
       "      <td>CAT’S BY BAIRRO ALTO&lt;br /&gt;&lt;br /&gt;This cozy apar...</td>\n",
       "      <td>Travelling is one of my favorite hobbies. I've...</td>\n",
       "      <td>0</td>\n",
       "    </tr>\n",
       "    <tr>\n",
       "      <th>12492</th>\n",
       "      <td>12493</td>\n",
       "      <td>Beautifully located in the heart of Lisbon's h...</td>\n",
       "      <td>Founded by travel enthusiasts (just like you) ...</td>\n",
       "      <td>0</td>\n",
       "    </tr>\n",
       "    <tr>\n",
       "      <th>12493</th>\n",
       "      <td>12494</td>\n",
       "      <td>Enjoy breakfast in the sleek kitchen with its ...</td>\n",
       "      <td>I´m from Portugal and I love to dance and to t...</td>\n",
       "      <td>0</td>\n",
       "    </tr>\n",
       "    <tr>\n",
       "      <th>12494</th>\n",
       "      <td>12495</td>\n",
       "      <td>A Terra da Eira é uma casa de campo rodeada de...</td>\n",
       "      <td>Somos uma familia de 5. Gostamos de viajar e d...</td>\n",
       "      <td>1</td>\n",
       "    </tr>\n",
       "    <tr>\n",
       "      <th>12495</th>\n",
       "      <td>12496</td>\n",
       "      <td>This brandnew Apartment combines elegant charm...</td>\n",
       "      <td>We are a German-Portuguese couple with a Passi...</td>\n",
       "      <td>1</td>\n",
       "    </tr>\n",
       "  </tbody>\n",
       "</table>\n",
       "</div>"
      ],
      "text/plain": [
       "       index                                        description   \n",
       "12491  12492  CAT’S BY BAIRRO ALTO<br /><br />This cozy apar...  \\\n",
       "12492  12493  Beautifully located in the heart of Lisbon's h...   \n",
       "12493  12494  Enjoy breakfast in the sleek kitchen with its ...   \n",
       "12494  12495  A Terra da Eira é uma casa de campo rodeada de...   \n",
       "12495  12496  This brandnew Apartment combines elegant charm...   \n",
       "\n",
       "                                              host_about  unlisted  \n",
       "12491  Travelling is one of my favorite hobbies. I've...         0  \n",
       "12492  Founded by travel enthusiasts (just like you) ...         0  \n",
       "12493  I´m from Portugal and I love to dance and to t...         0  \n",
       "12494  Somos uma familia de 5. Gostamos de viajar e d...         1  \n",
       "12495  We are a German-Portuguese couple with a Passi...         1  "
      ]
     },
     "execution_count": 3,
     "metadata": {},
     "output_type": "execute_result"
    }
   ],
   "source": [
    "corpora_df.tail()"
   ]
  },
  {
   "cell_type": "code",
   "execution_count": 4,
   "metadata": {},
   "outputs": [
    {
     "data": {
      "text/plain": [
       "0"
      ]
     },
     "execution_count": 4,
     "metadata": {},
     "output_type": "execute_result"
    }
   ],
   "source": [
    "corpora_df.description.isna().sum()"
   ]
  },
  {
   "cell_type": "code",
   "execution_count": 5,
   "metadata": {},
   "outputs": [
    {
     "data": {
      "text/plain": [
       "(12496, 4)"
      ]
     },
     "execution_count": 5,
     "metadata": {},
     "output_type": "execute_result"
    }
   ],
   "source": [
    "corpora_df.shape"
   ]
  },
  {
   "cell_type": "code",
   "execution_count": 6,
   "metadata": {},
   "outputs": [
    {
     "data": {
      "image/png": "[encoded data removed]",
      "text/plain": [
       "<Figure size 640x480 with 1 Axes>"
      ]
     },
     "metadata": {},
     "output_type": "display_data"
    }
   ],
   "source": [
    "description_lengths = corpora_df['description'].str.len()\n",
    "\n",
    "# Plot the distribution of description lengths\n",
    "plt.hist(description_lengths, bins=50)\n",
    "plt.xlabel('Description Length')\n",
    "plt.ylabel('Frequency')\n",
    "plt.title('Distribution of Description Lengths')\n",
    "plt.show()"
   ]
  },
  {
   "cell_type": "markdown",
   "metadata": {},
   "source": [
    "## Detecting Languages (description, host_about) "
   ]
  },
  {
   "cell_type": "code",
   "execution_count": 7,
   "metadata": {},
   "outputs": [],
   "source": [
    "# Define a function to detect the language of a string\n",
    "def detect_language(text):\n",
    "    try:\n",
    "        lang = detect(text)\n",
    "    except:\n",
    "        lang = None\n",
    "    return lang"
   ]
  },
  {
   "cell_type": "code",
   "execution_count": 8,
   "metadata": {},
   "outputs": [],
   "source": [
    "train_df = pd.read_excel('Project Corpora/train.xlsx')\n",
    "train_df.to_csv('output/train.csv', index=False)"
   ]
  },
  {
   "cell_type": "code",
   "execution_count": 9,
   "metadata": {},
   "outputs": [
    {
     "name": "stderr",
     "output_type": "stream",
     "text": [
      "25it [01:03,  2.56s/it]\n"
     ]
    }
   ],
   "source": [
    "# Detecting languages  >>>>>>>>>>>>>>>>>> RUN THIS ONLY ONCE: IT APPENDS IN THE END OF FILE\n",
    "source_file = 'output/train.csv'\n",
    "destination_file = 'output/train_with_language.csv'\n",
    "\n",
    "chunk_size = 500\n",
    "chunk_iterator = pd.read_csv(source_file, chunksize=chunk_size)\n",
    "\n",
    "# Processing data in chunks\n",
    "for chunk in tqdm(chunk_iterator):\n",
    "    chunk['description'] = chunk['description'].str.replace('<br/>', '')\n",
    "    chunk['description'] = chunk['description'].str.replace('_x000D_', '')\n",
    "    chunk['description_language'] = chunk['description'].apply(detect_language)\n",
    "    \n",
    "    chunk['host_about'] = chunk['host_about'].str.replace('<br/>', '')\n",
    "    chunk['host_about'] = chunk['host_about'].str.replace('_x000D_', '')\n",
    "    chunk['host_about_language'] = chunk['host_about'].apply(detect_language)\n",
    "    \n",
    "    chunk.to_csv(destination_file, \n",
    "                 index=False, \n",
    "                 mode='a', \n",
    "                 header=not os.path.exists(destination_file))"
   ]
  },
  {
   "cell_type": "code",
   "execution_count": 10,
   "metadata": {},
   "outputs": [
    {
     "data": {
      "text/html": [
       "<div>\n",
       "<style scoped>\n",
       "    .dataframe tbody tr th:only-of-type {\n",
       "        vertical-align: middle;\n",
       "    }\n",
       "\n",
       "    .dataframe tbody tr th {\n",
       "        vertical-align: top;\n",
       "    }\n",
       "\n",
       "    .dataframe thead th {\n",
       "        text-align: right;\n",
       "    }\n",
       "</style>\n",
       "<table border=\"1\" class=\"dataframe\">\n",
       "  <thead>\n",
       "    <tr style=\"text-align: right;\">\n",
       "      <th></th>\n",
       "      <th>index</th>\n",
       "      <th>description</th>\n",
       "      <th>host_about</th>\n",
       "      <th>unlisted</th>\n",
       "      <th>description_language</th>\n",
       "      <th>host_about_language</th>\n",
       "    </tr>\n",
       "  </thead>\n",
       "  <tbody>\n",
       "    <tr>\n",
       "      <th>0</th>\n",
       "      <td>1</td>\n",
       "      <td>This is a shared mixed room in our hostel, wit...</td>\n",
       "      <td>Alojamento Local Registro: 20835/AL</td>\n",
       "      <td>0</td>\n",
       "      <td>en</td>\n",
       "      <td>pt</td>\n",
       "    </tr>\n",
       "    <tr>\n",
       "      <th>1</th>\n",
       "      <td>2</td>\n",
       "      <td>O meu espaço fica perto de Parque Eduardo VII,...</td>\n",
       "      <td>I am friendly host, and I will try to always b...</td>\n",
       "      <td>1</td>\n",
       "      <td>pt</td>\n",
       "      <td>en</td>\n",
       "    </tr>\n",
       "    <tr>\n",
       "      <th>2</th>\n",
       "      <td>3</td>\n",
       "      <td>Trafaria’s House is a cozy and familiar villa ...</td>\n",
       "      <td>I am a social person liking to communicate, re...</td>\n",
       "      <td>1</td>\n",
       "      <td>en</td>\n",
       "      <td>en</td>\n",
       "    </tr>\n",
       "    <tr>\n",
       "      <th>3</th>\n",
       "      <td>4</td>\n",
       "      <td>Apartamento Charmoso no Chiado, Entre o Largo ...</td>\n",
       "      <td>Hello!\\nI m Portuguese and i love to meet peop...</td>\n",
       "      <td>0</td>\n",
       "      <td>pt</td>\n",
       "      <td>en</td>\n",
       "    </tr>\n",
       "    <tr>\n",
       "      <th>4</th>\n",
       "      <td>5</td>\n",
       "      <td>Joli appartement  en bordure de mer.&lt;br /&gt; 2 m...</td>\n",
       "      <td>Nous sommes une famille avec deux enfants de 1...</td>\n",
       "      <td>0</td>\n",
       "      <td>fr</td>\n",
       "      <td>fr</td>\n",
       "    </tr>\n",
       "  </tbody>\n",
       "</table>\n",
       "</div>"
      ],
      "text/plain": [
       "   index                                        description   \n",
       "0      1  This is a shared mixed room in our hostel, wit...  \\\n",
       "1      2  O meu espaço fica perto de Parque Eduardo VII,...   \n",
       "2      3  Trafaria’s House is a cozy and familiar villa ...   \n",
       "3      4  Apartamento Charmoso no Chiado, Entre o Largo ...   \n",
       "4      5  Joli appartement  en bordure de mer.<br /> 2 m...   \n",
       "\n",
       "                                          host_about  unlisted   \n",
       "0                Alojamento Local Registro: 20835/AL         0  \\\n",
       "1  I am friendly host, and I will try to always b...         1   \n",
       "2  I am a social person liking to communicate, re...         1   \n",
       "3  Hello!\\nI m Portuguese and i love to meet peop...         0   \n",
       "4  Nous sommes une famille avec deux enfants de 1...         0   \n",
       "\n",
       "  description_language host_about_language  \n",
       "0                   en                  pt  \n",
       "1                   pt                  en  \n",
       "2                   en                  en  \n",
       "3                   pt                  en  \n",
       "4                   fr                  fr  "
      ]
     },
     "execution_count": 10,
     "metadata": {},
     "output_type": "execute_result"
    }
   ],
   "source": [
    "train_df = pd.read_csv('output/train_with_language.csv')\n",
    "train_df.head()"
   ]
  },
  {
   "cell_type": "code",
   "execution_count": 11,
   "metadata": {},
   "outputs": [
    {
     "data": {
      "image/png": "[encoded data removed]",
      "text/plain": [
       "<Figure size 640x480 with 1 Axes>"
      ]
     },
     "metadata": {},
     "output_type": "display_data"
    }
   ],
   "source": [
    "freq = pd.Series(train_df['description_language']).value_counts()\n",
    "\n",
    "x_labels = freq.index[0:20]\n",
    "values = freq[:20]\n",
    "plt.bar(x_labels, values, align='center', alpha=0.5)\n",
    "#plt.xticks(values, x_labels)\n",
    "plt.ylabel('Frequencies')\n",
    "plt.title('Description Languages')\n",
    "plt.xticks(rotation=90)\n",
    "plt.show()"
   ]
  },
  {
   "cell_type": "code",
   "execution_count": 12,
   "metadata": {},
   "outputs": [
    {
     "data": {
      "image/png": "[encoded data removed]",
      "text/plain": [
       "<Figure size 640x480 with 1 Axes>"
      ]
     },
     "metadata": {},
     "output_type": "display_data"
    }
   ],
   "source": [
    "freq = pd.Series(train_df['host_about_language']).value_counts()\n",
    "\n",
    "x_labels = freq.index[0:20]\n",
    "values = freq[:20]\n",
    "plt.bar(x_labels, values, align='center', alpha=0.5)\n",
    "#plt.xticks(values, x_labels)\n",
    "plt.ylabel('Frequencies')\n",
    "plt.title('Host_about Languages')\n",
    "plt.xticks(rotation=90)\n",
    "plt.show()"
   ]
  },
  {
   "cell_type": "code",
   "execution_count": 13,
   "metadata": {},
   "outputs": [
    {
     "name": "stdout",
     "output_type": "stream",
     "text": [
      "description_languages: {'ca', 'sv', 'de', 'en', 'da', 'zh-cn', 'nl', 'fr', 'ru', 'pl', 'es', 'it', 'no', 'pt'}\n",
      "total number: 14\n",
      "-----------------\n",
      "host_about_languages: {'sv', 'hr', 'zh-cn', 'fr', 'no', 'sk', 'vi', 'zh-tw', 'hu', 'en', 'nl', 'cs', 'ko', 'lt', 'tl', 'ca', 'tr', 'he', 'da', 'sw', 'ru', 'es', 'ro', 'it', 'id', 'pt', 'sl', 'de', 'fi', 'et', 'af', nan, 'so'}\n",
      "total number: 33\n"
     ]
    }
   ],
   "source": [
    "description_languages = set(train_df['description_language'])\n",
    "print(\"description_languages:\", description_languages)\n",
    "print(\"total number:\", len(description_languages))\n",
    "print(\"-----------------\")\n",
    "host_about_languages = set(train_df['host_about_language'])\n",
    "print(\"host_about_languages:\", host_about_languages)\n",
    "print(\"total number:\", len(host_about_languages))"
   ]
  },
  {
   "cell_type": "markdown",
   "metadata": {},
   "source": [
    "## Translating Descriptions"
   ]
  },
  {
   "cell_type": "markdown",
   "metadata": {},
   "source": [
    "The following transformer model will be used to translate non-English text into English:\n",
    "\n",
    "https://huggingface.co/Helsinki-NLP/opus-mt-mul-en\n",
    "\n",
    "Source group: 120 languages \n",
    "Target group: English"
   ]
  },
  {
   "cell_type": "code",
   "execution_count": 14,
   "metadata": {},
   "outputs": [],
   "source": [
    "from transformers import MarianMTModel, MarianTokenizer\n",
    "\n",
    "def translate_text_multilingual(text):\n",
    "    model_name = \"Helsinki-NLP/opus-mt-mul-en\"  # Multilingual to English translation model\n",
    "    model = MarianMTModel.from_pretrained(model_name)\n",
    "    tokenizer = MarianTokenizer.from_pretrained(model_name)\n",
    "    \n",
    "    # Tokenize the input text\n",
    "    input_ids = tokenizer.encode(text, return_tensors=\"pt\")\n",
    "    \n",
    "    # Perform translation\n",
    "    translated_ids = model.generate(input_ids)\n",
    "    \n",
    "    # Decode the translated output\n",
    "    translated_text = tokenizer.decode(translated_ids[0], skip_special_tokens=True)\n",
    "    \n",
    "    return translated_text"
   ]
  },
  {
   "cell_type": "code",
   "execution_count": 15,
   "metadata": {},
   "outputs": [
    {
     "name": "stderr",
     "output_type": "stream",
     "text": [
      "/Users/iryna/Documents/projects/NovaIMS/TM/.tm_env/lib/python3.10/site-packages/transformers/models/marian/tokenization_marian.py:194: UserWarning: Recommended: pip install sacremoses.\n",
      "  warnings.warn(\"Recommended: pip install sacremoses.\")\n",
      "/Users/iryna/Documents/projects/NovaIMS/TM/.tm_env/lib/python3.10/site-packages/transformers/generation/utils.py:1346: UserWarning: Using `max_length`'s default (512) to control the generation length. This behaviour is deprecated and will be removed from the config in v5 of Transformers -- we recommend using `max_new_tokens` to control the maximum length of the generation.\n",
      "  warnings.warn(\n"
     ]
    },
    {
     "name": "stdout",
     "output_type": "stream",
     "text": [
      "Hey, our apartment's just amazing.\n"
     ]
    }
   ],
   "source": [
    "# Test\n",
    "text = \"Olá. Nosso apartamento é simplesmente incrível.\"\n",
    "translated_text = translate_text_multilingual(text)\n",
    "print(translated_text)"
   ]
  },
  {
   "cell_type": "markdown",
   "metadata": {},
   "source": [
    "### Ttranslating of descriptions -- TIME CONSUMING STEP"
   ]
  },
  {
   "cell_type": "code",
   "execution_count": 19,
   "metadata": {},
   "outputs": [
    {
     "name": "stderr",
     "output_type": "stream",
     "text": [
      "  0%|                                                 | 0/12496 [00:00<?, ?it/s]/Users/iryna/Documents/projects/NovaIMS/TM/.tm_env/lib/python3.10/site-packages/transformers/models/marian/tokenization_marian.py:194: UserWarning: Recommended: pip install sacremoses.\n",
      "  warnings.warn(\"Recommended: pip install sacremoses.\")\n",
      "/Users/iryna/Documents/projects/NovaIMS/TM/.tm_env/lib/python3.10/site-packages/transformers/generation/utils.py:1346: UserWarning: Using `max_length`'s default (512) to control the generation length. This behaviour is deprecated and will be removed from the config in v5 of Transformers -- we recommend using `max_new_tokens` to control the maximum length of the generation.\n",
      "  warnings.warn(\n",
      "100%|███████████████████████████████████| 12496/12496 [4:54:18<00:00,  1.41s/it]\n"
     ]
    },
    {
     "data": {
      "text/html": [
       "<div>\n",
       "<style scoped>\n",
       "    .dataframe tbody tr th:only-of-type {\n",
       "        vertical-align: middle;\n",
       "    }\n",
       "\n",
       "    .dataframe tbody tr th {\n",
       "        vertical-align: top;\n",
       "    }\n",
       "\n",
       "    .dataframe thead th {\n",
       "        text-align: right;\n",
       "    }\n",
       "</style>\n",
       "<table border=\"1\" class=\"dataframe\">\n",
       "  <thead>\n",
       "    <tr style=\"text-align: right;\">\n",
       "      <th></th>\n",
       "      <th>index</th>\n",
       "      <th>description</th>\n",
       "      <th>host_about</th>\n",
       "      <th>unlisted</th>\n",
       "      <th>description_language</th>\n",
       "      <th>host_about_language</th>\n",
       "      <th>description_english</th>\n",
       "    </tr>\n",
       "  </thead>\n",
       "  <tbody>\n",
       "    <tr>\n",
       "      <th>12491</th>\n",
       "      <td>12492</td>\n",
       "      <td>CAT’S BY BAIRRO ALTO&lt;br /&gt;&lt;br /&gt;This cozy apar...</td>\n",
       "      <td>Travelling is one of my favorite hobbies. I've...</td>\n",
       "      <td>0</td>\n",
       "      <td>en</td>\n",
       "      <td>en</td>\n",
       "      <td>CAT’S BY BAIRRO ALTO&lt;br /&gt;&lt;br /&gt;This cozy apar...</td>\n",
       "    </tr>\n",
       "    <tr>\n",
       "      <th>12492</th>\n",
       "      <td>12493</td>\n",
       "      <td>Beautifully located in the heart of Lisbon's h...</td>\n",
       "      <td>Founded by travel enthusiasts (just like you) ...</td>\n",
       "      <td>0</td>\n",
       "      <td>en</td>\n",
       "      <td>en</td>\n",
       "      <td>Beautifully located in the heart of Lisbon's h...</td>\n",
       "    </tr>\n",
       "    <tr>\n",
       "      <th>12493</th>\n",
       "      <td>12494</td>\n",
       "      <td>Enjoy breakfast in the sleek kitchen with its ...</td>\n",
       "      <td>I´m from Portugal and I love to dance and to t...</td>\n",
       "      <td>0</td>\n",
       "      <td>en</td>\n",
       "      <td>en</td>\n",
       "      <td>Enjoy breakfast in the sleek kitchen with its ...</td>\n",
       "    </tr>\n",
       "    <tr>\n",
       "      <th>12494</th>\n",
       "      <td>12495</td>\n",
       "      <td>A Terra da Eira é uma casa de campo rodeada de...</td>\n",
       "      <td>Somos uma familia de 5. Gostamos de viajar e d...</td>\n",
       "      <td>1</td>\n",
       "      <td>pt</td>\n",
       "      <td>pt</td>\n",
       "      <td>The Earth of Eira is a farm surrounded by frui...</td>\n",
       "    </tr>\n",
       "    <tr>\n",
       "      <th>12495</th>\n",
       "      <td>12496</td>\n",
       "      <td>This brandnew Apartment combines elegant charm...</td>\n",
       "      <td>We are a German-Portuguese couple with a Passi...</td>\n",
       "      <td>1</td>\n",
       "      <td>en</td>\n",
       "      <td>en</td>\n",
       "      <td>This brandnew Apartment combines elegant charm...</td>\n",
       "    </tr>\n",
       "  </tbody>\n",
       "</table>\n",
       "</div>"
      ],
      "text/plain": [
       "       index                                        description   \n",
       "12491  12492  CAT’S BY BAIRRO ALTO<br /><br />This cozy apar...  \\\n",
       "12492  12493  Beautifully located in the heart of Lisbon's h...   \n",
       "12493  12494  Enjoy breakfast in the sleek kitchen with its ...   \n",
       "12494  12495  A Terra da Eira é uma casa de campo rodeada de...   \n",
       "12495  12496  This brandnew Apartment combines elegant charm...   \n",
       "\n",
       "                                              host_about  unlisted   \n",
       "12491  Travelling is one of my favorite hobbies. I've...         0  \\\n",
       "12492  Founded by travel enthusiasts (just like you) ...         0   \n",
       "12493  I´m from Portugal and I love to dance and to t...         0   \n",
       "12494  Somos uma familia de 5. Gostamos de viajar e d...         1   \n",
       "12495  We are a German-Portuguese couple with a Passi...         1   \n",
       "\n",
       "      description_language host_about_language   \n",
       "12491                   en                  en  \\\n",
       "12492                   en                  en   \n",
       "12493                   en                  en   \n",
       "12494                   pt                  pt   \n",
       "12495                   en                  en   \n",
       "\n",
       "                                     description_english  \n",
       "12491  CAT’S BY BAIRRO ALTO<br /><br />This cozy apar...  \n",
       "12492  Beautifully located in the heart of Lisbon's h...  \n",
       "12493  Enjoy breakfast in the sleek kitchen with its ...  \n",
       "12494  The Earth of Eira is a farm surrounded by frui...  \n",
       "12495  This brandnew Apartment combines elegant charm...  "
      ]
     },
     "execution_count": 19,
     "metadata": {},
     "output_type": "execute_result"
    }
   ],
   "source": [
    "# Translating 'description' column, creating a new column 'description_english', and storing dataset for the future\n",
    "\n",
    "descriptions = train_df.description\n",
    "description_languages = train_df.description_language\n",
    "\n",
    "description_english = []\n",
    "\n",
    "for i in tqdm(range(len(descriptions))):\n",
    "    if description_languages[i] == 'en':\n",
    "        description_english.append(descriptions[i])\n",
    "    else:\n",
    "        source = descriptions[i].replace('<br/>', '')\n",
    "        source = source.replace('_x000D_', '')\n",
    "        translated = translate_text_multilingual(source)\n",
    "        description_english.append(translated)\n",
    "        \n",
    "# Add a new column to train_df\n",
    "train_df['description_english'] = description_english\n",
    "train_df.to_csv('output/train_with_translation.csv', index=False)\n",
    "\n",
    "train_df.tail(5)"
   ]
  },
  {
   "cell_type": "code",
   "execution_count": null,
   "metadata": {},
   "outputs": [],
   "source": []
  },
  {
   "cell_type": "code",
   "execution_count": null,
   "metadata": {},
   "outputs": [],
   "source": []
  },
  {
   "cell_type": "code",
   "execution_count": null,
   "metadata": {},
   "outputs": [],
   "source": []
  },
  {
   "cell_type": "code",
   "execution_count": null,
   "metadata": {},
   "outputs": [],
   "source": []
  },
  {
   "cell_type": "code",
   "execution_count": null,
   "metadata": {},
   "outputs": [],
   "source": []
  },
  {
   "cell_type": "code",
   "execution_count": null,
   "metadata": {},
   "outputs": [],
   "source": []
  }
 ],
 "metadata": {
  "kernelspec": {
   "display_name": ".tm_env",
   "language": "python",
   "name": ".tm_env"
  },
  "language_info": {
   "codemirror_mode": {
    "name": "ipython",
    "version": 3
   },
   "file_extension": ".py",
   "mimetype": "text/x-python",
   "name": "python",
   "nbconvert_exporter": "python",
   "pygments_lexer": "ipython3",
   "version": "3.10.4"
  }
 },
 "nbformat": 4,
 "nbformat_minor": 4
}
