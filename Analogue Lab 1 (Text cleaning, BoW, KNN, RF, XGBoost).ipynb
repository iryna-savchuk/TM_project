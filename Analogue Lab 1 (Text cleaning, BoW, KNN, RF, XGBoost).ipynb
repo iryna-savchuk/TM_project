{
 "cells": [
  {
   "cell_type": "code",
   "execution_count": 1,
   "metadata": {
    "tags": []
   },
   "outputs": [],
   "source": [
    "import pandas as pd\n",
    "import numpy as np\n",
    "import matplotlib.pyplot as plt\n",
    "\n",
    "import nltk\n",
    "from nltk.tokenize import word_tokenize\n",
    "from nltk.corpus import stopwords\n",
    "from nltk.stem import SnowballStemmer\n",
    "from nltk.stem.wordnet import WordNetLemmatizer\n",
    "\n",
    "import string\n",
    "import re\n",
    "from tqdm import tqdm\n",
    "\n",
    "from sklearn.model_selection import train_test_split\n",
    "from sklearn.feature_extraction.text import CountVectorizer\n",
    "from sklearn.neighbors import KNeighborsClassifier\n",
    "from sklearn.metrics import classification_report, confusion_matrix\n",
    "\n",
    "from sklearn.preprocessing import MinMaxScaler\n",
    "\n",
    "import demoji"
   ]
  },
  {
   "cell_type": "markdown",
   "metadata": {},
   "source": [
    "# Data Import"
   ]
  },
  {
   "cell_type": "code",
   "execution_count": 2,
   "metadata": {},
   "outputs": [],
   "source": [
    "df_train_raw = pd.read_excel('Project Corpora/train.xlsx')"
   ]
  },
  {
   "cell_type": "code",
   "execution_count": 3,
   "metadata": {},
   "outputs": [
    {
     "data": {
      "text/html": [
       "<div>\n",
       "<style scoped>\n",
       "    .dataframe tbody tr th:only-of-type {\n",
       "        vertical-align: middle;\n",
       "    }\n",
       "\n",
       "    .dataframe tbody tr th {\n",
       "        vertical-align: top;\n",
       "    }\n",
       "\n",
       "    .dataframe thead th {\n",
       "        text-align: right;\n",
       "    }\n",
       "</style>\n",
       "<table border=\"1\" class=\"dataframe\">\n",
       "  <thead>\n",
       "    <tr style=\"text-align: right;\">\n",
       "      <th></th>\n",
       "      <th>index</th>\n",
       "      <th>description</th>\n",
       "      <th>host_about</th>\n",
       "      <th>unlisted</th>\n",
       "    </tr>\n",
       "  </thead>\n",
       "  <tbody>\n",
       "    <tr>\n",
       "      <th>0</th>\n",
       "      <td>1</td>\n",
       "      <td>This is a shared mixed room in our hostel, wit...</td>\n",
       "      <td>Alojamento Local Registro: 20835/AL</td>\n",
       "      <td>0</td>\n",
       "    </tr>\n",
       "    <tr>\n",
       "      <th>1</th>\n",
       "      <td>2</td>\n",
       "      <td>O meu espaço fica perto de Parque Eduardo VII,...</td>\n",
       "      <td>I am friendly host, and I will try to always b...</td>\n",
       "      <td>1</td>\n",
       "    </tr>\n",
       "    <tr>\n",
       "      <th>2</th>\n",
       "      <td>3</td>\n",
       "      <td>Trafaria’s House is a cozy and familiar villa ...</td>\n",
       "      <td>I am a social person liking to communicate, re...</td>\n",
       "      <td>1</td>\n",
       "    </tr>\n",
       "    <tr>\n",
       "      <th>3</th>\n",
       "      <td>4</td>\n",
       "      <td>Apartamento Charmoso no Chiado, Entre o Largo ...</td>\n",
       "      <td>Hello!_x000D_\\nI m Portuguese and i love to me...</td>\n",
       "      <td>0</td>\n",
       "    </tr>\n",
       "    <tr>\n",
       "      <th>4</th>\n",
       "      <td>5</td>\n",
       "      <td>Joli appartement  en bordure de mer.&lt;br /&gt; 2 m...</td>\n",
       "      <td>Nous sommes une famille avec deux enfants de 1...</td>\n",
       "      <td>0</td>\n",
       "    </tr>\n",
       "  </tbody>\n",
       "</table>\n",
       "</div>"
      ],
      "text/plain": [
       "   index                                        description   \n",
       "0      1  This is a shared mixed room in our hostel, wit...  \\\n",
       "1      2  O meu espaço fica perto de Parque Eduardo VII,...   \n",
       "2      3  Trafaria’s House is a cozy and familiar villa ...   \n",
       "3      4  Apartamento Charmoso no Chiado, Entre o Largo ...   \n",
       "4      5  Joli appartement  en bordure de mer.<br /> 2 m...   \n",
       "\n",
       "                                          host_about  unlisted  \n",
       "0                Alojamento Local Registro: 20835/AL         0  \n",
       "1  I am friendly host, and I will try to always b...         1  \n",
       "2  I am a social person liking to communicate, re...         1  \n",
       "3  Hello!_x000D_\\nI m Portuguese and i love to me...         0  \n",
       "4  Nous sommes une famille avec deux enfants de 1...         0  "
      ]
     },
     "execution_count": 3,
     "metadata": {},
     "output_type": "execute_result"
    }
   ],
   "source": [
    "df_train_raw.head(5)"
   ]
  },
  {
   "cell_type": "markdown",
   "metadata": {},
   "source": [
    "# Exploratory Analysis"
   ]
  },
  {
   "cell_type": "code",
   "execution_count": 4,
   "metadata": {},
   "outputs": [
    {
     "data": {
      "text/plain": [
       "(12496, 4)"
      ]
     },
     "execution_count": 4,
     "metadata": {},
     "output_type": "execute_result"
    }
   ],
   "source": [
    "df_train_raw.shape"
   ]
  },
  {
   "cell_type": "code",
   "execution_count": 5,
   "metadata": {},
   "outputs": [
    {
     "name": "stdout",
     "output_type": "stream",
     "text": [
      "index          0\n",
      "description    0\n",
      "host_about     0\n",
      "unlisted       0\n",
      "dtype: int64\n"
     ]
    }
   ],
   "source": [
    "# Count the number of empty values in each column\n",
    "empty_counts = df_train_raw.isna().sum()\n",
    "print(empty_counts) "
   ]
  },
  {
   "cell_type": "code",
   "execution_count": 6,
   "metadata": {},
   "outputs": [
    {
     "data": {
      "text/plain": [
       "unlisted\n",
       "0    9033\n",
       "1    3463\n",
       "Name: count, dtype: int64"
      ]
     },
     "execution_count": 6,
     "metadata": {},
     "output_type": "execute_result"
    }
   ],
   "source": [
    "df_train_raw['unlisted'].value_counts()"
   ]
  },
  {
   "cell_type": "code",
   "execution_count": 7,
   "metadata": {},
   "outputs": [
    {
     "data": {
      "image/png": "[encoded data removed]",
      "text/plain": [
       "<Figure size 640x480 with 1 Axes>"
      ]
     },
     "metadata": {},
     "output_type": "display_data"
    }
   ],
   "source": [
    "#df_train['unlisted'].pie()  # Classes are imbalanced !!!\n",
    "# plot a pie chart for the 'count' column\n",
    "df_train_raw['unlisted'].value_counts().plot(kind='pie', \n",
    "                                             labels=df_train_raw['unlisted'].unique(), \n",
    "                                             autopct='%1.1f%%', \n",
    "                                             startangle=90)\n",
    "plt.axis('equal')\n",
    "plt.show()"
   ]
  },
  {
   "cell_type": "code",
   "execution_count": 8,
   "metadata": {},
   "outputs": [
    {
     "data": {
      "text/plain": [
       "count    12496.000000\n",
       "mean       814.679097\n",
       "std        282.124598\n",
       "min         12.000000\n",
       "25%        625.000000\n",
       "50%       1000.000000\n",
       "75%       1000.000000\n",
       "max       1000.000000\n",
       "Name: description, dtype: float64"
      ]
     },
     "execution_count": 8,
     "metadata": {},
     "output_type": "execute_result"
    }
   ],
   "source": [
    "df_train_raw['description'].str.len().describe()"
   ]
  },
  {
   "cell_type": "code",
   "execution_count": 9,
   "metadata": {},
   "outputs": [
    {
     "data": {
      "text/plain": [
       "count    12496.000000\n",
       "mean       439.562100\n",
       "std        486.270567\n",
       "min          1.000000\n",
       "25%        152.000000\n",
       "50%        325.000000\n",
       "75%        612.000000\n",
       "max       8683.000000\n",
       "Name: host_about, dtype: float64"
      ]
     },
     "execution_count": 9,
     "metadata": {},
     "output_type": "execute_result"
    }
   ],
   "source": [
    "df_train_raw['host_about'].str.len().describe()"
   ]
  },
  {
   "cell_type": "markdown",
   "metadata": {},
   "source": [
    "# Preprocesssing"
   ]
  },
  {
   "cell_type": "code",
   "execution_count": 10,
   "metadata": {},
   "outputs": [
    {
     "data": {
      "text/html": [
       "<div>\n",
       "<style scoped>\n",
       "    .dataframe tbody tr th:only-of-type {\n",
       "        vertical-align: middle;\n",
       "    }\n",
       "\n",
       "    .dataframe tbody tr th {\n",
       "        vertical-align: top;\n",
       "    }\n",
       "\n",
       "    .dataframe thead th {\n",
       "        text-align: right;\n",
       "    }\n",
       "</style>\n",
       "<table border=\"1\" class=\"dataframe\">\n",
       "  <thead>\n",
       "    <tr style=\"text-align: right;\">\n",
       "      <th></th>\n",
       "      <th>index</th>\n",
       "      <th>description</th>\n",
       "      <th>host_about</th>\n",
       "      <th>unlisted</th>\n",
       "      <th>description_language</th>\n",
       "      <th>host_about_language</th>\n",
       "      <th>description_english</th>\n",
       "    </tr>\n",
       "  </thead>\n",
       "  <tbody>\n",
       "    <tr>\n",
       "      <th>0</th>\n",
       "      <td>1</td>\n",
       "      <td>This is a shared mixed room in our hostel, wit...</td>\n",
       "      <td>Alojamento Local Registro: 20835/AL</td>\n",
       "      <td>0</td>\n",
       "      <td>en</td>\n",
       "      <td>pt</td>\n",
       "      <td>This is a shared mixed room in our hostel, wit...</td>\n",
       "    </tr>\n",
       "    <tr>\n",
       "      <th>1</th>\n",
       "      <td>2</td>\n",
       "      <td>O meu espaço fica perto de Parque Eduardo VII,...</td>\n",
       "      <td>I am friendly host, and I will try to always b...</td>\n",
       "      <td>1</td>\n",
       "      <td>pt</td>\n",
       "      <td>en</td>\n",
       "      <td>My space is close to Parque Eduardo VII, Salda...</td>\n",
       "    </tr>\n",
       "    <tr>\n",
       "      <th>2</th>\n",
       "      <td>3</td>\n",
       "      <td>Trafaria’s House is a cozy and familiar villa ...</td>\n",
       "      <td>I am a social person liking to communicate, re...</td>\n",
       "      <td>1</td>\n",
       "      <td>en</td>\n",
       "      <td>en</td>\n",
       "      <td>Trafaria’s House is a cozy and familiar villa ...</td>\n",
       "    </tr>\n",
       "    <tr>\n",
       "      <th>3</th>\n",
       "      <td>4</td>\n",
       "      <td>Apartamento Charmoso no Chiado, Entre o Largo ...</td>\n",
       "      <td>Hello!\\nI m Portuguese and i love to meet peop...</td>\n",
       "      <td>0</td>\n",
       "      <td>pt</td>\n",
       "      <td>en</td>\n",
       "      <td>Charming apartment in Chiado, Between the Farg...</td>\n",
       "    </tr>\n",
       "    <tr>\n",
       "      <th>4</th>\n",
       "      <td>5</td>\n",
       "      <td>Joli appartement  en bordure de mer.&lt;br /&gt; 2 m...</td>\n",
       "      <td>Nous sommes une famille avec deux enfants de 1...</td>\n",
       "      <td>0</td>\n",
       "      <td>fr</td>\n",
       "      <td>fr</td>\n",
       "      <td>Beautiful apartment on the beach.&lt;br /&gt; 2 min....</td>\n",
       "    </tr>\n",
       "  </tbody>\n",
       "</table>\n",
       "</div>"
      ],
      "text/plain": [
       "   index                                        description   \n",
       "0      1  This is a shared mixed room in our hostel, wit...  \\\n",
       "1      2  O meu espaço fica perto de Parque Eduardo VII,...   \n",
       "2      3  Trafaria’s House is a cozy and familiar villa ...   \n",
       "3      4  Apartamento Charmoso no Chiado, Entre o Largo ...   \n",
       "4      5  Joli appartement  en bordure de mer.<br /> 2 m...   \n",
       "\n",
       "                                          host_about  unlisted   \n",
       "0                Alojamento Local Registro: 20835/AL         0  \\\n",
       "1  I am friendly host, and I will try to always b...         1   \n",
       "2  I am a social person liking to communicate, re...         1   \n",
       "3  Hello!\\nI m Portuguese and i love to meet peop...         0   \n",
       "4  Nous sommes une famille avec deux enfants de 1...         0   \n",
       "\n",
       "  description_language host_about_language   \n",
       "0                   en                  pt  \\\n",
       "1                   pt                  en   \n",
       "2                   en                  en   \n",
       "3                   pt                  en   \n",
       "4                   fr                  fr   \n",
       "\n",
       "                                 description_english  \n",
       "0  This is a shared mixed room in our hostel, wit...  \n",
       "1  My space is close to Parque Eduardo VII, Salda...  \n",
       "2  Trafaria’s House is a cozy and familiar villa ...  \n",
       "3  Charming apartment in Chiado, Between the Farg...  \n",
       "4  Beautiful apartment on the beach.<br /> 2 min....  "
      ]
     },
     "execution_count": 10,
     "metadata": {},
     "output_type": "execute_result"
    }
   ],
   "source": [
    "df = pd.read_csv('output/train_with_translation.csv') # this is the result of translation of ddescriptions\n",
    "df.head(5)"
   ]
  },
  {
   "cell_type": "markdown",
   "metadata": {},
   "source": [
    "## Splitting data into Train and Validation"
   ]
  },
  {
   "cell_type": "code",
   "execution_count": 11,
   "metadata": {},
   "outputs": [
    {
     "name": "stdout",
     "output_type": "stream",
     "text": [
      "Shapes of train_df (9996, 7)\n",
      "Shapes of val_df (2500, 7)\n"
     ]
    }
   ],
   "source": [
    "# Split the original train dataframe into training and validation sets\n",
    "train_df, val_df = train_test_split(df, test_size=0.2, random_state=42, \n",
    "                                    stratify=df['unlisted']) # using stratify, to keep classes proportion\n",
    "\n",
    "print('Shapes of train_df', train_df.shape)\n",
    "print('Shapes of val_df', val_df.shape)"
   ]
  },
  {
   "cell_type": "markdown",
   "metadata": {},
   "source": [
    "## Word Count"
   ]
  },
  {
   "cell_type": "code",
   "execution_count": 45,
   "metadata": {},
   "outputs": [
    {
     "data": {
      "text/html": [
       "<div>\n",
       "<style scoped>\n",
       "    .dataframe tbody tr th:only-of-type {\n",
       "        vertical-align: middle;\n",
       "    }\n",
       "\n",
       "    .dataframe tbody tr th {\n",
       "        vertical-align: top;\n",
       "    }\n",
       "\n",
       "    .dataframe thead th {\n",
       "        text-align: right;\n",
       "    }\n",
       "</style>\n",
       "<table border=\"1\" class=\"dataframe\">\n",
       "  <thead>\n",
       "    <tr style=\"text-align: right;\">\n",
       "      <th></th>\n",
       "      <th>index</th>\n",
       "      <th>description</th>\n",
       "      <th>host_about</th>\n",
       "      <th>unlisted</th>\n",
       "      <th>description_language</th>\n",
       "      <th>host_about_language</th>\n",
       "      <th>description_english</th>\n",
       "      <th>word_count</th>\n",
       "      <th>cleaned_description</th>\n",
       "    </tr>\n",
       "  </thead>\n",
       "  <tbody>\n",
       "    <tr>\n",
       "      <th>5963</th>\n",
       "      <td>5964</td>\n",
       "      <td>O apartamento está localizado numa zona muito ...</td>\n",
       "      <td>I was born in Lisbon, live here and I love thi...</td>\n",
       "      <td>0</td>\n",
       "      <td>pt</td>\n",
       "      <td>en</td>\n",
       "      <td>The apartment is located in a very quiet and p...</td>\n",
       "      <td>163</td>\n",
       "      <td>apartment located quiet pleasant area near his...</td>\n",
       "    </tr>\n",
       "    <tr>\n",
       "      <th>8624</th>\n",
       "      <td>8625</td>\n",
       "      <td>&lt;b&gt;Other things to note&lt;/b&gt;&lt;br /&gt;About the Hos...</td>\n",
       "      <td>Sant Jordi Hostels Lisbon is a chic designer h...</td>\n",
       "      <td>0</td>\n",
       "      <td>en</td>\n",
       "      <td>en</td>\n",
       "      <td>&lt;b&gt;Other things to note&lt;/b&gt;&lt;br /&gt;About the Hos...</td>\n",
       "      <td>92</td>\n",
       "      <td>b thing note b hostel hostel modern traveller ...</td>\n",
       "    </tr>\n",
       "    <tr>\n",
       "      <th>9231</th>\n",
       "      <td>9232</td>\n",
       "      <td>We have 10 luxury serviced-apartments all unde...</td>\n",
       "      <td>Martinhal Chiado in the old town in Lisbon is ...</td>\n",
       "      <td>0</td>\n",
       "      <td>en</td>\n",
       "      <td>en</td>\n",
       "      <td>We have 10 luxury serviced-apartments all unde...</td>\n",
       "      <td>160</td>\n",
       "      <td>luxury serviced apartment trusted martinhal su...</td>\n",
       "    </tr>\n",
       "    <tr>\n",
       "      <th>3396</th>\n",
       "      <td>3397</td>\n",
       "      <td>Apartamento ideal para 2 pessoas, com possibil...</td>\n",
       "      <td>What makes us fall in love every day in the ci...</td>\n",
       "      <td>0</td>\n",
       "      <td>pt</td>\n",
       "      <td>en</td>\n",
       "      <td>Ideal apartment for 2 people, with the possibi...</td>\n",
       "      <td>163</td>\n",
       "      <td>ideal apartment people possibility using sofa ...</td>\n",
       "    </tr>\n",
       "    <tr>\n",
       "      <th>9671</th>\n",
       "      <td>9672</td>\n",
       "      <td>Situated in Alfama - the oldest and most typic...</td>\n",
       "      <td>We are Elsa and Rui, computer engineers and en...</td>\n",
       "      <td>0</td>\n",
       "      <td>en</td>\n",
       "      <td>en</td>\n",
       "      <td>Situated in Alfama - the oldest and most typic...</td>\n",
       "      <td>165</td>\n",
       "      <td>situated alfama oldest typical district lisbon...</td>\n",
       "    </tr>\n",
       "  </tbody>\n",
       "</table>\n",
       "</div>"
      ],
      "text/plain": [
       "      index                                        description   \n",
       "5963   5964  O apartamento está localizado numa zona muito ...  \\\n",
       "8624   8625  <b>Other things to note</b><br />About the Hos...   \n",
       "9231   9232  We have 10 luxury serviced-apartments all unde...   \n",
       "3396   3397  Apartamento ideal para 2 pessoas, com possibil...   \n",
       "9671   9672  Situated in Alfama - the oldest and most typic...   \n",
       "\n",
       "                                             host_about  unlisted   \n",
       "5963  I was born in Lisbon, live here and I love thi...         0  \\\n",
       "8624  Sant Jordi Hostels Lisbon is a chic designer h...         0   \n",
       "9231  Martinhal Chiado in the old town in Lisbon is ...         0   \n",
       "3396  What makes us fall in love every day in the ci...         0   \n",
       "9671  We are Elsa and Rui, computer engineers and en...         0   \n",
       "\n",
       "     description_language host_about_language   \n",
       "5963                   pt                  en  \\\n",
       "8624                   en                  en   \n",
       "9231                   en                  en   \n",
       "3396                   pt                  en   \n",
       "9671                   en                  en   \n",
       "\n",
       "                                    description_english  word_count   \n",
       "5963  The apartment is located in a very quiet and p...         163  \\\n",
       "8624  <b>Other things to note</b><br />About the Hos...          92   \n",
       "9231  We have 10 luxury serviced-apartments all unde...         160   \n",
       "3396  Ideal apartment for 2 people, with the possibi...         163   \n",
       "9671  Situated in Alfama - the oldest and most typic...         165   \n",
       "\n",
       "                                    cleaned_description  \n",
       "5963  apartment located quiet pleasant area near his...  \n",
       "8624  b thing note b hostel hostel modern traveller ...  \n",
       "9231  luxury serviced apartment trusted martinhal su...  \n",
       "3396  ideal apartment people possibility using sofa ...  \n",
       "9671  situated alfama oldest typical district lisbon...  "
      ]
     },
     "execution_count": 45,
     "metadata": {},
     "output_type": "execute_result"
    }
   ],
   "source": [
    "train_df[905:910]"
   ]
  },
  {
   "cell_type": "code",
   "execution_count": 13,
   "metadata": {},
   "outputs": [
    {
     "data": {
      "text/html": [
       "<div>\n",
       "<style scoped>\n",
       "    .dataframe tbody tr th:only-of-type {\n",
       "        vertical-align: middle;\n",
       "    }\n",
       "\n",
       "    .dataframe tbody tr th {\n",
       "        vertical-align: top;\n",
       "    }\n",
       "\n",
       "    .dataframe thead th {\n",
       "        text-align: right;\n",
       "    }\n",
       "</style>\n",
       "<table border=\"1\" class=\"dataframe\">\n",
       "  <thead>\n",
       "    <tr style=\"text-align: right;\">\n",
       "      <th></th>\n",
       "      <th>index</th>\n",
       "      <th>description</th>\n",
       "      <th>host_about</th>\n",
       "      <th>unlisted</th>\n",
       "      <th>description_language</th>\n",
       "      <th>host_about_language</th>\n",
       "      <th>description_english</th>\n",
       "      <th>word_count</th>\n",
       "    </tr>\n",
       "  </thead>\n",
       "  <tbody>\n",
       "    <tr>\n",
       "      <th>7712</th>\n",
       "      <td>7713</td>\n",
       "      <td>This exclusive villa, located in a quiet pinew...</td>\n",
       "      <td>We are a couple with a big family and we love ...</td>\n",
       "      <td>0</td>\n",
       "      <td>en</td>\n",
       "      <td>en</td>\n",
       "      <td>This exclusive villa, located in a quiet pinew...</td>\n",
       "      <td>167</td>\n",
       "    </tr>\n",
       "    <tr>\n",
       "      <th>11333</th>\n",
       "      <td>11334</td>\n",
       "      <td>Luna House B&amp;B is part of the Luna House Hub, ...</td>\n",
       "      <td>Luna House B&amp;B is part of the Luna House Hub, ...</td>\n",
       "      <td>1</td>\n",
       "      <td>en</td>\n",
       "      <td>en</td>\n",
       "      <td>Luna House B&amp;B is part of the Luna House Hub, ...</td>\n",
       "      <td>167</td>\n",
       "    </tr>\n",
       "    <tr>\n",
       "      <th>3536</th>\n",
       "      <td>3537</td>\n",
       "      <td>Newly refurbished apartment with swimming pool...</td>\n",
       "      <td>World citizen looking forward to meet new peop...</td>\n",
       "      <td>0</td>\n",
       "      <td>en</td>\n",
       "      <td>en</td>\n",
       "      <td>Newly refurbished apartment with swimming pool...</td>\n",
       "      <td>175</td>\n",
       "    </tr>\n",
       "    <tr>\n",
       "      <th>4061</th>\n",
       "      <td>4062</td>\n",
       "      <td>Nice studio for two people with one bathroom a...</td>\n",
       "      <td>Hello, I’m Antonio and I want to welcome you i...</td>\n",
       "      <td>0</td>\n",
       "      <td>en</td>\n",
       "      <td>en</td>\n",
       "      <td>Nice studio for two people with one bathroom a...</td>\n",
       "      <td>164</td>\n",
       "    </tr>\n",
       "    <tr>\n",
       "      <th>2742</th>\n",
       "      <td>2743</td>\n",
       "      <td>WHETHER FOR A SHORTER OR LONGER STAYS, I WANT ...</td>\n",
       "      <td>My name is Alexandre, I live in Lisbon and I l...</td>\n",
       "      <td>0</td>\n",
       "      <td>en</td>\n",
       "      <td>en</td>\n",
       "      <td>WHETHER FOR A SHORTER OR LONGER STAYS, I WANT ...</td>\n",
       "      <td>170</td>\n",
       "    </tr>\n",
       "  </tbody>\n",
       "</table>\n",
       "</div>"
      ],
      "text/plain": [
       "       index                                        description   \n",
       "7712    7713  This exclusive villa, located in a quiet pinew...  \\\n",
       "11333  11334  Luna House B&B is part of the Luna House Hub, ...   \n",
       "3536    3537  Newly refurbished apartment with swimming pool...   \n",
       "4061    4062  Nice studio for two people with one bathroom a...   \n",
       "2742    2743  WHETHER FOR A SHORTER OR LONGER STAYS, I WANT ...   \n",
       "\n",
       "                                              host_about  unlisted   \n",
       "7712   We are a couple with a big family and we love ...         0  \\\n",
       "11333  Luna House B&B is part of the Luna House Hub, ...         1   \n",
       "3536   World citizen looking forward to meet new peop...         0   \n",
       "4061   Hello, I’m Antonio and I want to welcome you i...         0   \n",
       "2742   My name is Alexandre, I live in Lisbon and I l...         0   \n",
       "\n",
       "      description_language host_about_language   \n",
       "7712                    en                  en  \\\n",
       "11333                   en                  en   \n",
       "3536                    en                  en   \n",
       "4061                    en                  en   \n",
       "2742                    en                  en   \n",
       "\n",
       "                                     description_english  word_count  \n",
       "7712   This exclusive villa, located in a quiet pinew...         167  \n",
       "11333  Luna House B&B is part of the Luna House Hub, ...         167  \n",
       "3536   Newly refurbished apartment with swimming pool...         175  \n",
       "4061   Nice studio for two people with one bathroom a...         164  \n",
       "2742   WHETHER FOR A SHORTER OR LONGER STAYS, I WANT ...         170  "
      ]
     },
     "execution_count": 13,
     "metadata": {},
     "output_type": "execute_result"
    }
   ],
   "source": [
    "# Fetch wordcount for each abstract\n",
    "train_df['word_count']  = train_df['description'].apply(lambda x: len(str(x).split(\" \")))\n",
    "#train_df[['description','word_count']].head()\n",
    "train_df.head()"
   ]
  },
  {
   "cell_type": "markdown",
   "metadata": {},
   "source": [
    "### Descriptive Statistics of word count"
   ]
  },
  {
   "cell_type": "code",
   "execution_count": 14,
   "metadata": {},
   "outputs": [
    {
     "data": {
      "text/plain": [
       "count    9996.000000\n",
       "mean      132.795018\n",
       "std        48.323208\n",
       "min         3.000000\n",
       "25%        99.000000\n",
       "50%       157.000000\n",
       "75%       167.000000\n",
       "max       210.000000\n",
       "Name: word_count, dtype: float64"
      ]
     },
     "execution_count": 14,
     "metadata": {},
     "output_type": "execute_result"
    }
   ],
   "source": [
    "train_df.word_count.describe()"
   ]
  },
  {
   "cell_type": "code",
   "execution_count": 15,
   "metadata": {},
   "outputs": [
    {
     "data": {
      "text/plain": [
       "<Axes: >"
      ]
     },
     "execution_count": 15,
     "metadata": {},
     "output_type": "execute_result"
    },
    {
     "data": {
      "image/png": "[encoded data removed]",
      "text/plain": [
       "<Figure size 640x480 with 1 Axes>"
      ]
     },
     "metadata": {},
     "output_type": "display_data"
    }
   ],
   "source": [
    "train_df['word_count'].hist()"
   ]
  },
  {
   "cell_type": "code",
   "execution_count": 16,
   "metadata": {},
   "outputs": [
    {
     "data": {
      "text/plain": [
       "the      50115\n",
       "and      43918\n",
       "a        40453\n",
       "/><br    27999\n",
       "to       24560\n",
       "of       24049\n",
       "in       22402\n",
       "with     21558\n",
       "is       19192\n",
       "de       11009\n",
       "Name: count, dtype: int64"
      ]
     },
     "execution_count": 16,
     "metadata": {},
     "output_type": "execute_result"
    }
   ],
   "source": [
    "all_words = ' '.join(train_df['description']).split()\n",
    "freq = pd.Series(all_words).value_counts()\n",
    "freq.sort_values(ascending=False)[0:10]"
   ]
  },
  {
   "cell_type": "code",
   "execution_count": 17,
   "metadata": {},
   "outputs": [
    {
     "data": {
      "text/plain": [
       "Index(['the', 'and', 'a', '/><br', 'to', 'of', 'in', 'with', 'is', 'de'], dtype='object')"
      ]
     },
     "execution_count": 17,
     "metadata": {},
     "output_type": "execute_result"
    }
   ],
   "source": [
    "freq.index[0:10]"
   ]
  },
  {
   "cell_type": "code",
   "execution_count": 18,
   "metadata": {},
   "outputs": [
    {
     "data": {
      "image/png": "[encoded data removed]",
      "text/plain": [
       "<Figure size 640x480 with 1 Axes>"
      ]
     },
     "metadata": {},
     "output_type": "display_data"
    }
   ],
   "source": [
    "x_labels = freq.index[0:10]\n",
    "values = freq[:10]\n",
    "plt.bar(x_labels, values, align='center', alpha=0.5)\n",
    "#plt.xticks(values, x_labels)\n",
    "plt.ylabel('Frequencies')\n",
    "plt.title('Words')\n",
    "plt.xticks(rotation=90)\n",
    "plt.show()"
   ]
  },
  {
   "cell_type": "markdown",
   "metadata": {},
   "source": [
    "## Preprocessing: cleaning, stemming, lemmatization"
   ]
  },
  {
   "cell_type": "code",
   "execution_count": 19,
   "metadata": {},
   "outputs": [],
   "source": [
    "stop = set(stopwords.words('english'))\n",
    "stemmer = SnowballStemmer('english')\n",
    "lemma = WordNetLemmatizer()"
   ]
  },
  {
   "cell_type": "code",
   "execution_count": 20,
   "metadata": {},
   "outputs": [],
   "source": [
    "def clean(text_list, lemmatize, stemmer):   \n",
    "    cleaned_text_list = []  \n",
    "    text_list.fillna('', inplace=True)\n",
    "    for text in tqdm(text_list):           \n",
    "        #LOWERCASE TEXT\n",
    "        text = text.lower()\n",
    "        \n",
    "        #Converting emoji to their description\n",
    "        text = demoji.replace_with_desc(text)\n",
    "\n",
    "        #REMOVE NUMERICAL DATA and PUNCTUATION\n",
    "        text = re.sub(\"[^a-zA-Z]\",\" \", text )\n",
    "        text = re.sub(\"br\", \"\", text)\n",
    "\n",
    "        #REMOVE STOPWORDS\n",
    "        text = \" \".join([word for word in text.split() if word not in stop])\n",
    "\n",
    "        #Lemmatize\n",
    "        if lemmatize:\n",
    "            text = \" \".join(lemma.lemmatize(word) for word in text.split())\n",
    "\n",
    "        #Stemming\n",
    "        if stemmer:\n",
    "            text = \" \".join(stemmer.stem(word) for word in text.split())\n",
    "\n",
    "        cleaned_text_list.append(text)        \n",
    "    return cleaned_text_list"
   ]
  },
  {
   "cell_type": "code",
   "execution_count": 24,
   "metadata": {},
   "outputs": [
    {
     "name": "stderr",
     "output_type": "stream",
     "text": [
      "100%|██████████████████████████████████████| 9996/9996 [00:23<00:00, 433.42it/s]\n"
     ]
    }
   ],
   "source": [
    "cleaned_text_list = clean(train_df['description_english'], lemmatize = True, stemmer = False)"
   ]
  },
  {
   "cell_type": "code",
   "execution_count": 25,
   "metadata": {},
   "outputs": [
    {
     "data": {
      "text/html": [
       "<div>\n",
       "<style scoped>\n",
       "    .dataframe tbody tr th:only-of-type {\n",
       "        vertical-align: middle;\n",
       "    }\n",
       "\n",
       "    .dataframe tbody tr th {\n",
       "        vertical-align: top;\n",
       "    }\n",
       "\n",
       "    .dataframe thead th {\n",
       "        text-align: right;\n",
       "    }\n",
       "</style>\n",
       "<table border=\"1\" class=\"dataframe\">\n",
       "  <thead>\n",
       "    <tr style=\"text-align: right;\">\n",
       "      <th></th>\n",
       "      <th>index</th>\n",
       "      <th>description</th>\n",
       "      <th>host_about</th>\n",
       "      <th>unlisted</th>\n",
       "      <th>description_language</th>\n",
       "      <th>host_about_language</th>\n",
       "      <th>description_english</th>\n",
       "      <th>word_count</th>\n",
       "      <th>cleaned_description</th>\n",
       "    </tr>\n",
       "  </thead>\n",
       "  <tbody>\n",
       "    <tr>\n",
       "      <th>7712</th>\n",
       "      <td>7713</td>\n",
       "      <td>This exclusive villa, located in a quiet pinew...</td>\n",
       "      <td>We are a couple with a big family and we love ...</td>\n",
       "      <td>0</td>\n",
       "      <td>en</td>\n",
       "      <td>en</td>\n",
       "      <td>This exclusive villa, located in a quiet pinew...</td>\n",
       "      <td>167</td>\n",
       "      <td>exclusive villa located quiet pinewood area co...</td>\n",
       "    </tr>\n",
       "    <tr>\n",
       "      <th>11333</th>\n",
       "      <td>11334</td>\n",
       "      <td>Luna House B&amp;B is part of the Luna House Hub, ...</td>\n",
       "      <td>Luna House B&amp;B is part of the Luna House Hub, ...</td>\n",
       "      <td>1</td>\n",
       "      <td>en</td>\n",
       "      <td>en</td>\n",
       "      <td>Luna House B&amp;B is part of the Luna House Hub, ...</td>\n",
       "      <td>167</td>\n",
       "      <td>luna house b b part luna house hub located clo...</td>\n",
       "    </tr>\n",
       "    <tr>\n",
       "      <th>3536</th>\n",
       "      <td>3537</td>\n",
       "      <td>Newly refurbished apartment with swimming pool...</td>\n",
       "      <td>World citizen looking forward to meet new peop...</td>\n",
       "      <td>0</td>\n",
       "      <td>en</td>\n",
       "      <td>en</td>\n",
       "      <td>Newly refurbished apartment with swimming pool...</td>\n",
       "      <td>175</td>\n",
       "      <td>newly refurbished apartment swimming pool stun...</td>\n",
       "    </tr>\n",
       "  </tbody>\n",
       "</table>\n",
       "</div>"
      ],
      "text/plain": [
       "       index                                        description   \n",
       "7712    7713  This exclusive villa, located in a quiet pinew...  \\\n",
       "11333  11334  Luna House B&B is part of the Luna House Hub, ...   \n",
       "3536    3537  Newly refurbished apartment with swimming pool...   \n",
       "\n",
       "                                              host_about  unlisted   \n",
       "7712   We are a couple with a big family and we love ...         0  \\\n",
       "11333  Luna House B&B is part of the Luna House Hub, ...         1   \n",
       "3536   World citizen looking forward to meet new peop...         0   \n",
       "\n",
       "      description_language host_about_language   \n",
       "7712                    en                  en  \\\n",
       "11333                   en                  en   \n",
       "3536                    en                  en   \n",
       "\n",
       "                                     description_english  word_count   \n",
       "7712   This exclusive villa, located in a quiet pinew...         167  \\\n",
       "11333  Luna House B&B is part of the Luna House Hub, ...         167   \n",
       "3536   Newly refurbished apartment with swimming pool...         175   \n",
       "\n",
       "                                     cleaned_description  \n",
       "7712   exclusive villa located quiet pinewood area co...  \n",
       "11333  luna house b b part luna house hub located clo...  \n",
       "3536   newly refurbished apartment swimming pool stun...  "
      ]
     },
     "execution_count": 25,
     "metadata": {},
     "output_type": "execute_result"
    }
   ],
   "source": [
    "train_df['cleaned_description'] = cleaned_text_list\n",
    "train_df.head(3)"
   ]
  },
  {
   "cell_type": "code",
   "execution_count": 23,
   "metadata": {},
   "outputs": [],
   "source": [
    "#def update_df(dataframe, list_updated):\n",
    "#    dataframe.update(pd.DataFrame({\"description\": list_updated}))\n",
    "    \n",
    "#x_train = x_train.drop(['word_count'], axis=1)\n",
    "#update_df(x_train, updates)\n",
    "#x_train"
   ]
  },
  {
   "cell_type": "markdown",
   "metadata": {
    "tags": []
   },
   "source": [
    "# Defining training features"
   ]
  },
  {
   "cell_type": "markdown",
   "metadata": {},
   "source": [
    "## Bag of Words (Bow)\n",
    "Each word is a feature. Our feature space is defined by our vocabulary. Documents/pieces of text will be represented as sparse vectors."
   ]
  },
  {
   "cell_type": "code",
   "execution_count": 46,
   "metadata": {},
   "outputs": [
    {
     "data": {
      "text/plain": [
       "<9996x15179 sparse matrix of type '<class 'numpy.int64'>'\n",
       "\twith 568037 stored elements in Compressed Sparse Row format>"
      ]
     },
     "execution_count": 46,
     "metadata": {},
     "output_type": "execute_result"
    }
   ],
   "source": [
    "bow = CountVectorizer(binary=True)\n",
    "x_train = bow.fit_transform(train_df[\"cleaned_description\"])\n",
    "x_train"
   ]
  },
  {
   "cell_type": "code",
   "execution_count": 47,
   "metadata": {},
   "outputs": [
    {
     "name": "stdout",
     "output_type": "stream",
     "text": [
      "[[0 0 0 ... 0 0 0]\n",
      " [0 0 0 ... 0 0 0]\n",
      " [0 0 0 ... 0 0 0]\n",
      " [0 0 0 ... 0 0 0]\n",
      " [0 0 0 ... 0 0 0]]\n"
     ]
    }
   ],
   "source": [
    "# To see the content of the built x_train matrix\n",
    "print(x_train.toarray()[:5])"
   ]
  },
  {
   "cell_type": "code",
   "execution_count": 48,
   "metadata": {},
   "outputs": [
    {
     "name": "stdout",
     "output_type": "stream",
     "text": [
      "['aa' 'aais' 'aas' 'aasper' 'ab' 'aba' 'abaixo' 'abandoned' 'abelhas'\n",
      " 'abelheira' 'aberta' 'aberto' 'abeviated' 'abide' 'ability' 'able' 'ably'\n",
      " 'abnb' 'aboard' 'abode' 'abou' 'abound' 'absence' 'absense' 'absolute'\n",
      " 'absolutely' 'absolutly' 'absorb' 'absorbing' 'absorve' 'abstract'\n",
      " 'abundance' 'abundant' 'abundantly' 'abuse' 'abuts' 'ac' 'acaba'\n",
      " 'acabamentos' 'acabou' 'acacia' 'academic' 'academy' 'acapulco' 'acc'\n",
      " 'acce' 'accent' 'accented' 'accentuated' 'accentuating']\n"
     ]
    }
   ],
   "source": [
    "feature_names = bow.get_feature_names_out()\n",
    "print(feature_names[:50])"
   ]
  },
  {
   "cell_type": "code",
   "execution_count": 49,
   "metadata": {},
   "outputs": [],
   "source": [
    "y_train = train_df['unlisted']"
   ]
  },
  {
   "cell_type": "markdown",
   "metadata": {},
   "source": [
    "# Train Classifier"
   ]
  },
  {
   "cell_type": "code",
   "execution_count": 50,
   "metadata": {},
   "outputs": [],
   "source": [
    "modelknn = KNeighborsClassifier(n_neighbors = 7, \n",
    "                                metric = 'cosine', \n",
    "                                weights = 'distance')"
   ]
  },
  {
   "cell_type": "code",
   "execution_count": 51,
   "metadata": {},
   "outputs": [
    {
     "data": {
      "text/html": [
       "<style>#sk-container-id-1 {color: black;background-color: white;}#sk-container-id-1 pre{padding: 0;}#sk-container-id-1 div.sk-toggleable {background-color: white;}#sk-container-id-1 label.sk-toggleable__label {cursor: pointer;display: block;width: 100%;margin-bottom: 0;padding: 0.3em;box-sizing: border-box;text-align: center;}#sk-container-id-1 label.sk-toggleable__label-arrow:before {content: \"▸\";float: left;margin-right: 0.25em;color: #696969;}#sk-container-id-1 label.sk-toggleable__label-arrow:hover:before {color: black;}#sk-container-id-1 div.sk-estimator:hover label.sk-toggleable__label-arrow:before {color: black;}#sk-container-id-1 div.sk-toggleable__content {max-height: 0;max-width: 0;overflow: hidden;text-align: left;background-color: #f0f8ff;}#sk-container-id-1 div.sk-toggleable__content pre {margin: 0.2em;color: black;border-radius: 0.25em;background-color: #f0f8ff;}#sk-container-id-1 input.sk-toggleable__control:checked~div.sk-toggleable__content {max-height: 200px;max-width: 100%;overflow: auto;}#sk-container-id-1 input.sk-toggleable__control:checked~label.sk-toggleable__label-arrow:before {content: \"▾\";}#sk-container-id-1 div.sk-estimator input.sk-toggleable__control:checked~label.sk-toggleable__label {background-color: #d4ebff;}#sk-container-id-1 div.sk-label input.sk-toggleable__control:checked~label.sk-toggleable__label {background-color: #d4ebff;}#sk-container-id-1 input.sk-hidden--visually {border: 0;clip: rect(1px 1px 1px 1px);clip: rect(1px, 1px, 1px, 1px);height: 1px;margin: -1px;overflow: hidden;padding: 0;position: absolute;width: 1px;}#sk-container-id-1 div.sk-estimator {font-family: monospace;background-color: #f0f8ff;border: 1px dotted black;border-radius: 0.25em;box-sizing: border-box;margin-bottom: 0.5em;}#sk-container-id-1 div.sk-estimator:hover {background-color: #d4ebff;}#sk-container-id-1 div.sk-parallel-item::after {content: \"\";width: 100%;border-bottom: 1px solid gray;flex-grow: 1;}#sk-container-id-1 div.sk-label:hover label.sk-toggleable__label {background-color: #d4ebff;}#sk-container-id-1 div.sk-serial::before {content: \"\";position: absolute;border-left: 1px solid gray;box-sizing: border-box;top: 0;bottom: 0;left: 50%;z-index: 0;}#sk-container-id-1 div.sk-serial {display: flex;flex-direction: column;align-items: center;background-color: white;padding-right: 0.2em;padding-left: 0.2em;position: relative;}#sk-container-id-1 div.sk-item {position: relative;z-index: 1;}#sk-container-id-1 div.sk-parallel {display: flex;align-items: stretch;justify-content: center;background-color: white;position: relative;}#sk-container-id-1 div.sk-item::before, #sk-container-id-1 div.sk-parallel-item::before {content: \"\";position: absolute;border-left: 1px solid gray;box-sizing: border-box;top: 0;bottom: 0;left: 50%;z-index: -1;}#sk-container-id-1 div.sk-parallel-item {display: flex;flex-direction: column;z-index: 1;position: relative;background-color: white;}#sk-container-id-1 div.sk-parallel-item:first-child::after {align-self: flex-end;width: 50%;}#sk-container-id-1 div.sk-parallel-item:last-child::after {align-self: flex-start;width: 50%;}#sk-container-id-1 div.sk-parallel-item:only-child::after {width: 0;}#sk-container-id-1 div.sk-dashed-wrapped {border: 1px dashed gray;margin: 0 0.4em 0.5em 0.4em;box-sizing: border-box;padding-bottom: 0.4em;background-color: white;}#sk-container-id-1 div.sk-label label {font-family: monospace;font-weight: bold;display: inline-block;line-height: 1.2em;}#sk-container-id-1 div.sk-label-container {text-align: center;}#sk-container-id-1 div.sk-container {/* jupyter's `normalize.less` sets `[hidden] { display: none; }` but bootstrap.min.css set `[hidden] { display: none !important; }` so we also need the `!important` here to be able to override the default hidden behavior on the sphinx rendered scikit-learn.org. See: https://github.com/scikit-learn/scikit-learn/issues/21755 */display: inline-block !important;position: relative;}#sk-container-id-1 div.sk-text-repr-fallback {display: none;}</style><div id=\"sk-container-id-1\" class=\"sk-top-container\"><div class=\"sk-text-repr-fallback\"><pre>KNeighborsClassifier(metric=&#x27;cosine&#x27;, n_neighbors=7, weights=&#x27;distance&#x27;)</pre><b>In a Jupyter environment, please rerun this cell to show the HTML representation or trust the notebook. <br />On GitHub, the HTML representation is unable to render, please try loading this page with nbviewer.org.</b></div><div class=\"sk-container\" hidden><div class=\"sk-item\"><div class=\"sk-estimator sk-toggleable\"><input class=\"sk-toggleable__control sk-hidden--visually\" id=\"sk-estimator-id-1\" type=\"checkbox\" checked><label for=\"sk-estimator-id-1\" class=\"sk-toggleable__label sk-toggleable__label-arrow\">KNeighborsClassifier</label><div class=\"sk-toggleable__content\"><pre>KNeighborsClassifier(metric=&#x27;cosine&#x27;, n_neighbors=7, weights=&#x27;distance&#x27;)</pre></div></div></div></div></div>"
      ],
      "text/plain": [
       "KNeighborsClassifier(metric='cosine', n_neighbors=7, weights='distance')"
      ]
     },
     "execution_count": 51,
     "metadata": {},
     "output_type": "execute_result"
    }
   ],
   "source": [
    "modelknn.fit(x_train, y_train)"
   ]
  },
  {
   "cell_type": "markdown",
   "metadata": {},
   "source": [
    "# Predict for Val corpus"
   ]
  },
  {
   "cell_type": "code",
   "execution_count": 52,
   "metadata": {},
   "outputs": [],
   "source": [
    "#update_df(x_val, clean(x_val['description'], lemmatize = True, stemmer = False))"
   ]
  },
  {
   "cell_type": "code",
   "execution_count": 53,
   "metadata": {},
   "outputs": [
    {
     "data": {
      "text/html": [
       "<div>\n",
       "<style scoped>\n",
       "    .dataframe tbody tr th:only-of-type {\n",
       "        vertical-align: middle;\n",
       "    }\n",
       "\n",
       "    .dataframe tbody tr th {\n",
       "        vertical-align: top;\n",
       "    }\n",
       "\n",
       "    .dataframe thead th {\n",
       "        text-align: right;\n",
       "    }\n",
       "</style>\n",
       "<table border=\"1\" class=\"dataframe\">\n",
       "  <thead>\n",
       "    <tr style=\"text-align: right;\">\n",
       "      <th></th>\n",
       "      <th>index</th>\n",
       "      <th>description</th>\n",
       "      <th>host_about</th>\n",
       "      <th>unlisted</th>\n",
       "      <th>description_language</th>\n",
       "      <th>host_about_language</th>\n",
       "      <th>description_english</th>\n",
       "    </tr>\n",
       "  </thead>\n",
       "  <tbody>\n",
       "    <tr>\n",
       "      <th>4768</th>\n",
       "      <td>4769</td>\n",
       "      <td>This charming apartment on the first floor of ...</td>\n",
       "      <td>Easygoing person, always ready to present the ...</td>\n",
       "      <td>0</td>\n",
       "      <td>en</td>\n",
       "      <td>en</td>\n",
       "      <td>This charming apartment on the first floor of ...</td>\n",
       "    </tr>\n",
       "    <tr>\n",
       "      <th>4384</th>\n",
       "      <td>4385</td>\n",
       "      <td>Charming villa with a private pool and tennis ...</td>\n",
       "      <td>Allure Villas is your go-to spot for renting V...</td>\n",
       "      <td>1</td>\n",
       "      <td>en</td>\n",
       "      <td>en</td>\n",
       "      <td>Charming villa with a private pool and tennis ...</td>\n",
       "    </tr>\n",
       "    <tr>\n",
       "      <th>11857</th>\n",
       "      <td>11858</td>\n",
       "      <td>One bedroom apartment inside a modern developm...</td>\n",
       "      <td>Hey, this is Goncalo and Miku, your hosts in L...</td>\n",
       "      <td>0</td>\n",
       "      <td>en</td>\n",
       "      <td>en</td>\n",
       "      <td>One bedroom apartment inside a modern developm...</td>\n",
       "    </tr>\n",
       "    <tr>\n",
       "      <th>1281</th>\n",
       "      <td>1282</td>\n",
       "      <td>Apartment in the heart of the city, between Pr...</td>\n",
       "      <td>Hi!\\n\\nI'm Laura, I'm 32yo, and I live with my...</td>\n",
       "      <td>0</td>\n",
       "      <td>en</td>\n",
       "      <td>en</td>\n",
       "      <td>Apartment in the heart of the city, between Pr...</td>\n",
       "    </tr>\n",
       "    <tr>\n",
       "      <th>2133</th>\n",
       "      <td>2134</td>\n",
       "      <td>Amazing flat with two bedrooms in Restauradore...</td>\n",
       "      <td>We are Feels Like Home Holiday Rentals.\\nA com...</td>\n",
       "      <td>0</td>\n",
       "      <td>en</td>\n",
       "      <td>en</td>\n",
       "      <td>Amazing flat with two bedrooms in Restauradore...</td>\n",
       "    </tr>\n",
       "    <tr>\n",
       "      <th>...</th>\n",
       "      <td>...</td>\n",
       "      <td>...</td>\n",
       "      <td>...</td>\n",
       "      <td>...</td>\n",
       "      <td>...</td>\n",
       "      <td>...</td>\n",
       "      <td>...</td>\n",
       "    </tr>\n",
       "    <tr>\n",
       "      <th>2648</th>\n",
       "      <td>2649</td>\n",
       "      <td>Set in a stunning seaside location, this luxur...</td>\n",
       "      <td>Going someplace new is always exciting. And wh...</td>\n",
       "      <td>0</td>\n",
       "      <td>en</td>\n",
       "      <td>en</td>\n",
       "      <td>Set in a stunning seaside location, this luxur...</td>\n",
       "    </tr>\n",
       "    <tr>\n",
       "      <th>9002</th>\n",
       "      <td>9003</td>\n",
       "      <td>The apartment in Lisbon has 2 bedrooms and has...</td>\n",
       "      <td>We are Feels Like Home Holiday Rentals.\\nA com...</td>\n",
       "      <td>0</td>\n",
       "      <td>en</td>\n",
       "      <td>en</td>\n",
       "      <td>The apartment in Lisbon has 2 bedrooms and has...</td>\n",
       "    </tr>\n",
       "    <tr>\n",
       "      <th>8678</th>\n",
       "      <td>8679</td>\n",
       "      <td>Junto ao Palácio de S. Bento, e á assembleia d...</td>\n",
       "      <td>Olá sou o João, e estou á vossa espera para lh...</td>\n",
       "      <td>0</td>\n",
       "      <td>pt</td>\n",
       "      <td>pt</td>\n",
       "      <td>Together with the Palácio de S. Bento, and the...</td>\n",
       "    </tr>\n",
       "    <tr>\n",
       "      <th>5770</th>\n",
       "      <td>5771</td>\n",
       "      <td>The apartment is very homely, and it was thoug...</td>\n",
       "      <td>Hi there!  We are The Mojo Team (MCPP Investme...</td>\n",
       "      <td>0</td>\n",
       "      <td>en</td>\n",
       "      <td>en</td>\n",
       "      <td>The apartment is very homely, and it was thoug...</td>\n",
       "    </tr>\n",
       "    <tr>\n",
       "      <th>2758</th>\n",
       "      <td>2759</td>\n",
       "      <td>Barco na Marina de Cascais,  com salão e 2 Qua...</td>\n",
       "      <td>Navego desde os meus 14 Anos fui campeão nacio...</td>\n",
       "      <td>0</td>\n",
       "      <td>pt</td>\n",
       "      <td>pt</td>\n",
       "      <td>The boat in the Marine de Cascais, with room a...</td>\n",
       "    </tr>\n",
       "  </tbody>\n",
       "</table>\n",
       "<p>2500 rows × 7 columns</p>\n",
       "</div>"
      ],
      "text/plain": [
       "       index                                        description   \n",
       "4768    4769  This charming apartment on the first floor of ...  \\\n",
       "4384    4385  Charming villa with a private pool and tennis ...   \n",
       "11857  11858  One bedroom apartment inside a modern developm...   \n",
       "1281    1282  Apartment in the heart of the city, between Pr...   \n",
       "2133    2134  Amazing flat with two bedrooms in Restauradore...   \n",
       "...      ...                                                ...   \n",
       "2648    2649  Set in a stunning seaside location, this luxur...   \n",
       "9002    9003  The apartment in Lisbon has 2 bedrooms and has...   \n",
       "8678    8679  Junto ao Palácio de S. Bento, e á assembleia d...   \n",
       "5770    5771  The apartment is very homely, and it was thoug...   \n",
       "2758    2759  Barco na Marina de Cascais,  com salão e 2 Qua...   \n",
       "\n",
       "                                              host_about  unlisted   \n",
       "4768   Easygoing person, always ready to present the ...         0  \\\n",
       "4384   Allure Villas is your go-to spot for renting V...         1   \n",
       "11857  Hey, this is Goncalo and Miku, your hosts in L...         0   \n",
       "1281   Hi!\\n\\nI'm Laura, I'm 32yo, and I live with my...         0   \n",
       "2133   We are Feels Like Home Holiday Rentals.\\nA com...         0   \n",
       "...                                                  ...       ...   \n",
       "2648   Going someplace new is always exciting. And wh...         0   \n",
       "9002   We are Feels Like Home Holiday Rentals.\\nA com...         0   \n",
       "8678   Olá sou o João, e estou á vossa espera para lh...         0   \n",
       "5770   Hi there!  We are The Mojo Team (MCPP Investme...         0   \n",
       "2758   Navego desde os meus 14 Anos fui campeão nacio...         0   \n",
       "\n",
       "      description_language host_about_language   \n",
       "4768                    en                  en  \\\n",
       "4384                    en                  en   \n",
       "11857                   en                  en   \n",
       "1281                    en                  en   \n",
       "2133                    en                  en   \n",
       "...                    ...                 ...   \n",
       "2648                    en                  en   \n",
       "9002                    en                  en   \n",
       "8678                    pt                  pt   \n",
       "5770                    en                  en   \n",
       "2758                    pt                  pt   \n",
       "\n",
       "                                     description_english  \n",
       "4768   This charming apartment on the first floor of ...  \n",
       "4384   Charming villa with a private pool and tennis ...  \n",
       "11857  One bedroom apartment inside a modern developm...  \n",
       "1281   Apartment in the heart of the city, between Pr...  \n",
       "2133   Amazing flat with two bedrooms in Restauradore...  \n",
       "...                                                  ...  \n",
       "2648   Set in a stunning seaside location, this luxur...  \n",
       "9002   The apartment in Lisbon has 2 bedrooms and has...  \n",
       "8678   Together with the Palácio de S. Bento, and the...  \n",
       "5770   The apartment is very homely, and it was thoug...  \n",
       "2758   The boat in the Marine de Cascais, with room a...  \n",
       "\n",
       "[2500 rows x 7 columns]"
      ]
     },
     "execution_count": 53,
     "metadata": {},
     "output_type": "execute_result"
    }
   ],
   "source": [
    "val_df"
   ]
  },
  {
   "cell_type": "code",
   "execution_count": 54,
   "metadata": {},
   "outputs": [
    {
     "name": "stderr",
     "output_type": "stream",
     "text": [
      "100%|██████████████████████████████████████| 2500/2500 [00:05<00:00, 435.73it/s]\n"
     ]
    },
    {
     "data": {
      "text/html": [
       "<div>\n",
       "<style scoped>\n",
       "    .dataframe tbody tr th:only-of-type {\n",
       "        vertical-align: middle;\n",
       "    }\n",
       "\n",
       "    .dataframe tbody tr th {\n",
       "        vertical-align: top;\n",
       "    }\n",
       "\n",
       "    .dataframe thead th {\n",
       "        text-align: right;\n",
       "    }\n",
       "</style>\n",
       "<table border=\"1\" class=\"dataframe\">\n",
       "  <thead>\n",
       "    <tr style=\"text-align: right;\">\n",
       "      <th></th>\n",
       "      <th>index</th>\n",
       "      <th>description</th>\n",
       "      <th>host_about</th>\n",
       "      <th>unlisted</th>\n",
       "      <th>description_language</th>\n",
       "      <th>host_about_language</th>\n",
       "      <th>description_english</th>\n",
       "      <th>cleaned_description</th>\n",
       "    </tr>\n",
       "  </thead>\n",
       "  <tbody>\n",
       "    <tr>\n",
       "      <th>4768</th>\n",
       "      <td>4769</td>\n",
       "      <td>This charming apartment on the first floor of ...</td>\n",
       "      <td>Easygoing person, always ready to present the ...</td>\n",
       "      <td>0</td>\n",
       "      <td>en</td>\n",
       "      <td>en</td>\n",
       "      <td>This charming apartment on the first floor of ...</td>\n",
       "      <td>charming apartment first floor typical cascais...</td>\n",
       "    </tr>\n",
       "    <tr>\n",
       "      <th>4384</th>\n",
       "      <td>4385</td>\n",
       "      <td>Charming villa with a private pool and tennis ...</td>\n",
       "      <td>Allure Villas is your go-to spot for renting V...</td>\n",
       "      <td>1</td>\n",
       "      <td>en</td>\n",
       "      <td>en</td>\n",
       "      <td>Charming villa with a private pool and tennis ...</td>\n",
       "      <td>charming villa private pool tennis table withi...</td>\n",
       "    </tr>\n",
       "    <tr>\n",
       "      <th>11857</th>\n",
       "      <td>11858</td>\n",
       "      <td>One bedroom apartment inside a modern developm...</td>\n",
       "      <td>Hey, this is Goncalo and Miku, your hosts in L...</td>\n",
       "      <td>0</td>\n",
       "      <td>en</td>\n",
       "      <td>en</td>\n",
       "      <td>One bedroom apartment inside a modern developm...</td>\n",
       "      <td>one bedroom apartment inside modern developmen...</td>\n",
       "    </tr>\n",
       "    <tr>\n",
       "      <th>1281</th>\n",
       "      <td>1282</td>\n",
       "      <td>Apartment in the heart of the city, between Pr...</td>\n",
       "      <td>Hi!\\n\\nI'm Laura, I'm 32yo, and I live with my...</td>\n",
       "      <td>0</td>\n",
       "      <td>en</td>\n",
       "      <td>en</td>\n",
       "      <td>Apartment in the heart of the city, between Pr...</td>\n",
       "      <td>apartment heart city pr ncipe real chiado bair...</td>\n",
       "    </tr>\n",
       "    <tr>\n",
       "      <th>2133</th>\n",
       "      <td>2134</td>\n",
       "      <td>Amazing flat with two bedrooms in Restauradore...</td>\n",
       "      <td>We are Feels Like Home Holiday Rentals.\\nA com...</td>\n",
       "      <td>0</td>\n",
       "      <td>en</td>\n",
       "      <td>en</td>\n",
       "      <td>Amazing flat with two bedrooms in Restauradore...</td>\n",
       "      <td>amazing flat two bedroom restauradores lisbon ...</td>\n",
       "    </tr>\n",
       "  </tbody>\n",
       "</table>\n",
       "</div>"
      ],
      "text/plain": [
       "       index                                        description   \n",
       "4768    4769  This charming apartment on the first floor of ...  \\\n",
       "4384    4385  Charming villa with a private pool and tennis ...   \n",
       "11857  11858  One bedroom apartment inside a modern developm...   \n",
       "1281    1282  Apartment in the heart of the city, between Pr...   \n",
       "2133    2134  Amazing flat with two bedrooms in Restauradore...   \n",
       "\n",
       "                                              host_about  unlisted   \n",
       "4768   Easygoing person, always ready to present the ...         0  \\\n",
       "4384   Allure Villas is your go-to spot for renting V...         1   \n",
       "11857  Hey, this is Goncalo and Miku, your hosts in L...         0   \n",
       "1281   Hi!\\n\\nI'm Laura, I'm 32yo, and I live with my...         0   \n",
       "2133   We are Feels Like Home Holiday Rentals.\\nA com...         0   \n",
       "\n",
       "      description_language host_about_language   \n",
       "4768                    en                  en  \\\n",
       "4384                    en                  en   \n",
       "11857                   en                  en   \n",
       "1281                    en                  en   \n",
       "2133                    en                  en   \n",
       "\n",
       "                                     description_english   \n",
       "4768   This charming apartment on the first floor of ...  \\\n",
       "4384   Charming villa with a private pool and tennis ...   \n",
       "11857  One bedroom apartment inside a modern developm...   \n",
       "1281   Apartment in the heart of the city, between Pr...   \n",
       "2133   Amazing flat with two bedrooms in Restauradore...   \n",
       "\n",
       "                                     cleaned_description  \n",
       "4768   charming apartment first floor typical cascais...  \n",
       "4384   charming villa private pool tennis table withi...  \n",
       "11857  one bedroom apartment inside modern developmen...  \n",
       "1281   apartment heart city pr ncipe real chiado bair...  \n",
       "2133   amazing flat two bedroom restauradores lisbon ...  "
      ]
     },
     "execution_count": 54,
     "metadata": {},
     "output_type": "execute_result"
    }
   ],
   "source": [
    "val_df['cleaned_description'] = clean(val_df['description_english'], lemmatize = True, stemmer = False)\n",
    "val_df.head()"
   ]
  },
  {
   "cell_type": "code",
   "execution_count": 55,
   "metadata": {},
   "outputs": [],
   "source": [
    "X_val = bow.transform(val_df['cleaned_description'])\n",
    "y_val = np.array(val_df['unlisted'])\n",
    "\n",
    "#X = df_train[['description']]\n",
    "#y = df_train['unlisted']"
   ]
  },
  {
   "cell_type": "code",
   "execution_count": 56,
   "metadata": {},
   "outputs": [],
   "source": [
    "y_pred = modelknn.predict(X_val)"
   ]
  },
  {
   "cell_type": "markdown",
   "metadata": {},
   "source": [
    "# Evaluate"
   ]
  },
  {
   "cell_type": "code",
   "execution_count": 57,
   "metadata": {},
   "outputs": [
    {
     "name": "stdout",
     "output_type": "stream",
     "text": [
      "              precision    recall  f1-score   support\n",
      "\n",
      "      listed       0.91      0.81      0.86      2027\n",
      "    unlisted       0.45      0.66      0.53       473\n",
      "\n",
      "    accuracy                           0.78      2500\n",
      "   macro avg       0.68      0.73      0.69      2500\n",
      "weighted avg       0.82      0.78      0.80      2500\n",
      "\n"
     ]
    }
   ],
   "source": [
    "labels = {\"listed\":0, \"unlisted\":1}\n",
    "print(classification_report(y_pred, y_val, target_names = labels.keys()))"
   ]
  },
  {
   "cell_type": "code",
   "execution_count": 58,
   "metadata": {},
   "outputs": [
    {
     "data": {
      "text/plain": [
       "array([[1644,  383],\n",
       "       [ 163,  310]])"
      ]
     },
     "execution_count": 58,
     "metadata": {},
     "output_type": "execute_result"
    }
   ],
   "source": [
    "confusion_matrix(y_pred, y_val)"
   ]
  },
  {
   "cell_type": "code",
   "execution_count": 59,
   "metadata": {},
   "outputs": [],
   "source": [
    "def plot_cm(confusion_matrix : np.array, \n",
    "            classnames : list):\n",
    "    \"\"\"\n",
    "    Function that creates a confusion matrix plot using the Wikipedia convention for the axis. \n",
    "    :param confusion_matrix: confusion matrix that will be plotted\n",
    "    :param classnames: labels of the classes\n",
    "    \n",
    "    Returns:\n",
    "        - Plot of the Confusion Matrix\n",
    "    \"\"\"\n",
    "    \n",
    "    confusionmatrix = confusion_matrix\n",
    "    class_names = classnames             \n",
    "\n",
    "    fig, ax = plt.subplots()\n",
    "    im = plt.imshow(confusionmatrix, cmap=plt.cm.cividis)\n",
    "    plt.colorbar()\n",
    "\n",
    "    # We want to show all ticks...\n",
    "    ax.set_xticks(np.arange(len(class_names)))\n",
    "    ax.set_yticks(np.arange(len(class_names)))\n",
    "    # ... and label them with the respective list entries\n",
    "    ax.set_xticklabels(class_names)\n",
    "    ax.set_yticklabels(class_names)\n",
    "\n",
    "    # Rotate the tick labels and set their alignment.\n",
    "    plt.setp(ax.get_xticklabels(), rotation=45, ha=\"right\",\n",
    "             rotation_mode=\"anchor\")\n",
    "\n",
    "    # Loop over data dimensions and create text annotations.\n",
    "    for i in range(len(class_names)):\n",
    "        for j in range(len(class_names)):\n",
    "            text = ax.text(j, i, confusionmatrix[i, j],\n",
    "                           ha=\"center\", va=\"center\", color=\"w\")\n",
    "\n",
    "    ax.set_title(\"Confusion Matrix\")\n",
    "    plt.xlabel('Targets')\n",
    "    plt.ylabel('Predictions')\n",
    "    #plt.ylim(top=len(class_names)-0.5)  # adjust the top leaving bottom unchanged\n",
    "    #plt.ylim(bottom=-0.5)  # adjust the bottom leaving top unchanged\n",
    "    return plt.show()"
   ]
  },
  {
   "cell_type": "code",
   "execution_count": 60,
   "metadata": {},
   "outputs": [
    {
     "data": {
      "image/png": "[encoded data removed]",
      "text/plain": [
       "<Figure size 640x480 with 2 Axes>"
      ]
     },
     "metadata": {},
     "output_type": "display_data"
    }
   ],
   "source": [
    "plot_cm(confusion_matrix(y_pred, y_val), labels.keys())"
   ]
  },
  {
   "cell_type": "markdown",
   "metadata": {},
   "source": [
    "# Extending Features with Reviews"
   ]
  },
  {
   "cell_type": "markdown",
   "metadata": {},
   "source": [
    "## Preprocessing Reviews"
   ]
  },
  {
   "cell_type": "code",
   "execution_count": 61,
   "metadata": {},
   "outputs": [
    {
     "data": {
      "text/html": [
       "<div>\n",
       "<style scoped>\n",
       "    .dataframe tbody tr th:only-of-type {\n",
       "        vertical-align: middle;\n",
       "    }\n",
       "\n",
       "    .dataframe tbody tr th {\n",
       "        vertical-align: top;\n",
       "    }\n",
       "\n",
       "    .dataframe thead th {\n",
       "        text-align: right;\n",
       "    }\n",
       "</style>\n",
       "<table border=\"1\" class=\"dataframe\">\n",
       "  <thead>\n",
       "    <tr style=\"text-align: right;\">\n",
       "      <th></th>\n",
       "      <th>index</th>\n",
       "      <th>description</th>\n",
       "      <th>host_about</th>\n",
       "      <th>unlisted</th>\n",
       "      <th>description_language</th>\n",
       "      <th>host_about_language</th>\n",
       "      <th>description_english</th>\n",
       "      <th>word_count</th>\n",
       "      <th>cleaned_description</th>\n",
       "    </tr>\n",
       "  </thead>\n",
       "  <tbody>\n",
       "    <tr>\n",
       "      <th>7712</th>\n",
       "      <td>7713</td>\n",
       "      <td>This exclusive villa, located in a quiet pinew...</td>\n",
       "      <td>We are a couple with a big family and we love ...</td>\n",
       "      <td>0</td>\n",
       "      <td>en</td>\n",
       "      <td>en</td>\n",
       "      <td>This exclusive villa, located in a quiet pinew...</td>\n",
       "      <td>167</td>\n",
       "      <td>exclusive villa located quiet pinewood area co...</td>\n",
       "    </tr>\n",
       "    <tr>\n",
       "      <th>11333</th>\n",
       "      <td>11334</td>\n",
       "      <td>Luna House B&amp;B is part of the Luna House Hub, ...</td>\n",
       "      <td>Luna House B&amp;B is part of the Luna House Hub, ...</td>\n",
       "      <td>1</td>\n",
       "      <td>en</td>\n",
       "      <td>en</td>\n",
       "      <td>Luna House B&amp;B is part of the Luna House Hub, ...</td>\n",
       "      <td>167</td>\n",
       "      <td>luna house b b part luna house hub located clo...</td>\n",
       "    </tr>\n",
       "    <tr>\n",
       "      <th>3536</th>\n",
       "      <td>3537</td>\n",
       "      <td>Newly refurbished apartment with swimming pool...</td>\n",
       "      <td>World citizen looking forward to meet new peop...</td>\n",
       "      <td>0</td>\n",
       "      <td>en</td>\n",
       "      <td>en</td>\n",
       "      <td>Newly refurbished apartment with swimming pool...</td>\n",
       "      <td>175</td>\n",
       "      <td>newly refurbished apartment swimming pool stun...</td>\n",
       "    </tr>\n",
       "  </tbody>\n",
       "</table>\n",
       "</div>"
      ],
      "text/plain": [
       "       index                                        description   \n",
       "7712    7713  This exclusive villa, located in a quiet pinew...  \\\n",
       "11333  11334  Luna House B&B is part of the Luna House Hub, ...   \n",
       "3536    3537  Newly refurbished apartment with swimming pool...   \n",
       "\n",
       "                                              host_about  unlisted   \n",
       "7712   We are a couple with a big family and we love ...         0  \\\n",
       "11333  Luna House B&B is part of the Luna House Hub, ...         1   \n",
       "3536   World citizen looking forward to meet new peop...         0   \n",
       "\n",
       "      description_language host_about_language   \n",
       "7712                    en                  en  \\\n",
       "11333                   en                  en   \n",
       "3536                    en                  en   \n",
       "\n",
       "                                     description_english  word_count   \n",
       "7712   This exclusive villa, located in a quiet pinew...         167  \\\n",
       "11333  Luna House B&B is part of the Luna House Hub, ...         167   \n",
       "3536   Newly refurbished apartment with swimming pool...         175   \n",
       "\n",
       "                                     cleaned_description  \n",
       "7712   exclusive villa located quiet pinewood area co...  \n",
       "11333  luna house b b part luna house hub located clo...  \n",
       "3536   newly refurbished apartment swimming pool stun...  "
      ]
     },
     "execution_count": 61,
     "metadata": {},
     "output_type": "execute_result"
    }
   ],
   "source": [
    "train_df.head(3)"
   ]
  },
  {
   "cell_type": "code",
   "execution_count": 62,
   "metadata": {},
   "outputs": [
    {
     "data": {
      "text/html": [
       "<div>\n",
       "<style scoped>\n",
       "    .dataframe tbody tr th:only-of-type {\n",
       "        vertical-align: middle;\n",
       "    }\n",
       "\n",
       "    .dataframe tbody tr th {\n",
       "        vertical-align: top;\n",
       "    }\n",
       "\n",
       "    .dataframe thead th {\n",
       "        text-align: right;\n",
       "    }\n",
       "</style>\n",
       "<table border=\"1\" class=\"dataframe\">\n",
       "  <thead>\n",
       "    <tr style=\"text-align: right;\">\n",
       "      <th></th>\n",
       "      <th>index</th>\n",
       "      <th>comments</th>\n",
       "      <th>language</th>\n",
       "    </tr>\n",
       "  </thead>\n",
       "  <tbody>\n",
       "    <tr>\n",
       "      <th>1000</th>\n",
       "      <td>23</td>\n",
       "      <td>A well equipt, clean unit in an ideal location...</td>\n",
       "      <td>en</td>\n",
       "    </tr>\n",
       "    <tr>\n",
       "      <th>1001</th>\n",
       "      <td>23</td>\n",
       "      <td>Great place!</td>\n",
       "      <td>en</td>\n",
       "    </tr>\n",
       "    <tr>\n",
       "      <th>1002</th>\n",
       "      <td>23</td>\n",
       "      <td>Joao and his colleagues are all very kind and ...</td>\n",
       "      <td>en</td>\n",
       "    </tr>\n",
       "    <tr>\n",
       "      <th>1003</th>\n",
       "      <td>23</td>\n",
       "      <td>L'appartement est très bien. L'agence est top ...</td>\n",
       "      <td>fr</td>\n",
       "    </tr>\n",
       "    <tr>\n",
       "      <th>1004</th>\n",
       "      <td>23</td>\n",
       "      <td>1ère visite de Lisbonne: le logement est situé...</td>\n",
       "      <td>fr</td>\n",
       "    </tr>\n",
       "    <tr>\n",
       "      <th>...</th>\n",
       "      <td>...</td>\n",
       "      <td>...</td>\n",
       "      <td>...</td>\n",
       "    </tr>\n",
       "    <tr>\n",
       "      <th>1105</th>\n",
       "      <td>24</td>\n",
       "      <td>Newly, well located, fully equipped and clean ...</td>\n",
       "      <td>en</td>\n",
       "    </tr>\n",
       "    <tr>\n",
       "      <th>1106</th>\n",
       "      <td>24</td>\n",
       "      <td>Very nice place! Great location, very helpful ...</td>\n",
       "      <td>en</td>\n",
       "    </tr>\n",
       "    <tr>\n",
       "      <th>1107</th>\n",
       "      <td>24</td>\n",
       "      <td>The appartement was pretty and of good taste o...</td>\n",
       "      <td>en</td>\n",
       "    </tr>\n",
       "    <tr>\n",
       "      <th>1108</th>\n",
       "      <td>24</td>\n",
       "      <td>Wonderful little apartment in a beautiful city!</td>\n",
       "      <td>en</td>\n",
       "    </tr>\n",
       "    <tr>\n",
       "      <th>1109</th>\n",
       "      <td>24</td>\n",
       "      <td>Marce, es una gran anfitriona muy preocupada p...</td>\n",
       "      <td>es</td>\n",
       "    </tr>\n",
       "  </tbody>\n",
       "</table>\n",
       "<p>110 rows × 3 columns</p>\n",
       "</div>"
      ],
      "text/plain": [
       "      index                                           comments language\n",
       "1000     23  A well equipt, clean unit in an ideal location...       en\n",
       "1001     23                                       Great place!       en\n",
       "1002     23  Joao and his colleagues are all very kind and ...       en\n",
       "1003     23  L'appartement est très bien. L'agence est top ...       fr\n",
       "1004     23  1ère visite de Lisbonne: le logement est situé...       fr\n",
       "...     ...                                                ...      ...\n",
       "1105     24  Newly, well located, fully equipped and clean ...       en\n",
       "1106     24  Very nice place! Great location, very helpful ...       en\n",
       "1107     24  The appartement was pretty and of good taste o...       en\n",
       "1108     24    Wonderful little apartment in a beautiful city!       en\n",
       "1109     24  Marce, es una gran anfitriona muy preocupada p...       es\n",
       "\n",
       "[110 rows x 3 columns]"
      ]
     },
     "execution_count": 62,
     "metadata": {},
     "output_type": "execute_result"
    }
   ],
   "source": [
    "reviews_df = pd.read_csv('output/reviews_with_language.csv')\n",
    "reviews_df.iloc[1000:1110, :]"
   ]
  },
  {
   "cell_type": "code",
   "execution_count": 63,
   "metadata": {},
   "outputs": [
    {
     "data": {
      "text/html": [
       "<div>\n",
       "<style scoped>\n",
       "    .dataframe tbody tr th:only-of-type {\n",
       "        vertical-align: middle;\n",
       "    }\n",
       "\n",
       "    .dataframe tbody tr th {\n",
       "        vertical-align: top;\n",
       "    }\n",
       "\n",
       "    .dataframe thead th {\n",
       "        text-align: right;\n",
       "    }\n",
       "</style>\n",
       "<table border=\"1\" class=\"dataframe\">\n",
       "  <thead>\n",
       "    <tr style=\"text-align: right;\">\n",
       "      <th></th>\n",
       "      <th>index</th>\n",
       "      <th>unique_languages_count</th>\n",
       "      <th>total_comments_count</th>\n",
       "    </tr>\n",
       "  </thead>\n",
       "  <tbody>\n",
       "    <tr>\n",
       "      <th>0</th>\n",
       "      <td>1</td>\n",
       "      <td>7</td>\n",
       "      <td>50</td>\n",
       "    </tr>\n",
       "    <tr>\n",
       "      <th>1</th>\n",
       "      <td>5</td>\n",
       "      <td>6</td>\n",
       "      <td>41</td>\n",
       "    </tr>\n",
       "    <tr>\n",
       "      <th>2</th>\n",
       "      <td>8</td>\n",
       "      <td>8</td>\n",
       "      <td>168</td>\n",
       "    </tr>\n",
       "    <tr>\n",
       "      <th>3</th>\n",
       "      <td>9</td>\n",
       "      <td>6</td>\n",
       "      <td>32</td>\n",
       "    </tr>\n",
       "    <tr>\n",
       "      <th>4</th>\n",
       "      <td>10</td>\n",
       "      <td>3</td>\n",
       "      <td>13</td>\n",
       "    </tr>\n",
       "    <tr>\n",
       "      <th>...</th>\n",
       "      <td>...</td>\n",
       "      <td>...</td>\n",
       "      <td>...</td>\n",
       "    </tr>\n",
       "    <tr>\n",
       "      <th>8461</th>\n",
       "      <td>12490</td>\n",
       "      <td>7</td>\n",
       "      <td>32</td>\n",
       "    </tr>\n",
       "    <tr>\n",
       "      <th>8462</th>\n",
       "      <td>12491</td>\n",
       "      <td>4</td>\n",
       "      <td>10</td>\n",
       "    </tr>\n",
       "    <tr>\n",
       "      <th>8463</th>\n",
       "      <td>12492</td>\n",
       "      <td>9</td>\n",
       "      <td>312</td>\n",
       "    </tr>\n",
       "    <tr>\n",
       "      <th>8464</th>\n",
       "      <td>12493</td>\n",
       "      <td>5</td>\n",
       "      <td>35</td>\n",
       "    </tr>\n",
       "    <tr>\n",
       "      <th>8465</th>\n",
       "      <td>12494</td>\n",
       "      <td>10</td>\n",
       "      <td>207</td>\n",
       "    </tr>\n",
       "  </tbody>\n",
       "</table>\n",
       "<p>8466 rows × 3 columns</p>\n",
       "</div>"
      ],
      "text/plain": [
       "      index  unique_languages_count  total_comments_count\n",
       "0         1                       7                    50\n",
       "1         5                       6                    41\n",
       "2         8                       8                   168\n",
       "3         9                       6                    32\n",
       "4        10                       3                    13\n",
       "...     ...                     ...                   ...\n",
       "8461  12490                       7                    32\n",
       "8462  12491                       4                    10\n",
       "8463  12492                       9                   312\n",
       "8464  12493                       5                    35\n",
       "8465  12494                      10                   207\n",
       "\n",
       "[8466 rows x 3 columns]"
      ]
     },
     "execution_count": 63,
     "metadata": {},
     "output_type": "execute_result"
    }
   ],
   "source": [
    "reviews_df['comments'] = reviews_df['comments'].astype('string')\n",
    "reviews_df = reviews_df.dropna()\n",
    "\n",
    "grouped = reviews_df.groupby(['index', 'language']).agg({'comments': 'count'})\n",
    "grouped = grouped.reset_index()\n",
    "final_grouped = grouped.groupby('index').agg({'language': 'nunique', 'comments': 'sum'})\n",
    "final_grouped = final_grouped.reset_index()\n",
    "\n",
    "# rename the columns to the desired names\n",
    "final_grouped.columns = ['index', 'unique_languages_count', 'total_comments_count']\n",
    "final_grouped"
   ]
  },
  {
   "cell_type": "code",
   "execution_count": 64,
   "metadata": {},
   "outputs": [
    {
     "data": {
      "text/html": [
       "<div>\n",
       "<style scoped>\n",
       "    .dataframe tbody tr th:only-of-type {\n",
       "        vertical-align: middle;\n",
       "    }\n",
       "\n",
       "    .dataframe tbody tr th {\n",
       "        vertical-align: top;\n",
       "    }\n",
       "\n",
       "    .dataframe thead th {\n",
       "        text-align: right;\n",
       "    }\n",
       "</style>\n",
       "<table border=\"1\" class=\"dataframe\">\n",
       "  <thead>\n",
       "    <tr style=\"text-align: right;\">\n",
       "      <th></th>\n",
       "      <th>index</th>\n",
       "      <th>eng_comment_count</th>\n",
       "      <th>eng_reviews_merged</th>\n",
       "    </tr>\n",
       "  </thead>\n",
       "  <tbody>\n",
       "    <tr>\n",
       "      <th>0</th>\n",
       "      <td>1</td>\n",
       "      <td>30</td>\n",
       "      <td>this is a very cozy and comfortable house to s...</td>\n",
       "    </tr>\n",
       "    <tr>\n",
       "      <th>1</th>\n",
       "      <td>5</td>\n",
       "      <td>17</td>\n",
       "      <td>We really enjoyed staying at Sonias place. The...</td>\n",
       "    </tr>\n",
       "    <tr>\n",
       "      <th>2</th>\n",
       "      <td>8</td>\n",
       "      <td>145</td>\n",
       "      <td>Shani was very helpful throughout our process!...</td>\n",
       "    </tr>\n",
       "    <tr>\n",
       "      <th>3</th>\n",
       "      <td>9</td>\n",
       "      <td>16</td>\n",
       "      <td>Great little space; lovely hosts - clean and w...</td>\n",
       "    </tr>\n",
       "    <tr>\n",
       "      <th>4</th>\n",
       "      <td>10</td>\n",
       "      <td>11</td>\n",
       "      <td>WOW, what a great stay! The spacious apartment...</td>\n",
       "    </tr>\n",
       "    <tr>\n",
       "      <th>...</th>\n",
       "      <td>...</td>\n",
       "      <td>...</td>\n",
       "      <td>...</td>\n",
       "    </tr>\n",
       "    <tr>\n",
       "      <th>8293</th>\n",
       "      <td>12490</td>\n",
       "      <td>14</td>\n",
       "      <td>Excellent very well equiped apartment! Thank y...</td>\n",
       "    </tr>\n",
       "    <tr>\n",
       "      <th>8294</th>\n",
       "      <td>12491</td>\n",
       "      <td>7</td>\n",
       "      <td>I am so happy to found this accomodation near ...</td>\n",
       "    </tr>\n",
       "    <tr>\n",
       "      <th>8295</th>\n",
       "      <td>12492</td>\n",
       "      <td>212</td>\n",
       "      <td>We were very happy to find this place. The com...</td>\n",
       "    </tr>\n",
       "    <tr>\n",
       "      <th>8296</th>\n",
       "      <td>12493</td>\n",
       "      <td>27</td>\n",
       "      <td>Nice place, nice location, easy communication!...</td>\n",
       "    </tr>\n",
       "    <tr>\n",
       "      <th>8297</th>\n",
       "      <td>12494</td>\n",
       "      <td>157</td>\n",
       "      <td>We had a very lovely stay in Lisbon.The apartm...</td>\n",
       "    </tr>\n",
       "  </tbody>\n",
       "</table>\n",
       "<p>8298 rows × 3 columns</p>\n",
       "</div>"
      ],
      "text/plain": [
       "      index  eng_comment_count   \n",
       "0         1                 30  \\\n",
       "1         5                 17   \n",
       "2         8                145   \n",
       "3         9                 16   \n",
       "4        10                 11   \n",
       "...     ...                ...   \n",
       "8293  12490                 14   \n",
       "8294  12491                  7   \n",
       "8295  12492                212   \n",
       "8296  12493                 27   \n",
       "8297  12494                157   \n",
       "\n",
       "                                     eng_reviews_merged  \n",
       "0     this is a very cozy and comfortable house to s...  \n",
       "1     We really enjoyed staying at Sonias place. The...  \n",
       "2     Shani was very helpful throughout our process!...  \n",
       "3     Great little space; lovely hosts - clean and w...  \n",
       "4     WOW, what a great stay! The spacious apartment...  \n",
       "...                                                 ...  \n",
       "8293  Excellent very well equiped apartment! Thank y...  \n",
       "8294  I am so happy to found this accomodation near ...  \n",
       "8295  We were very happy to find this place. The com...  \n",
       "8296  Nice place, nice location, easy communication!...  \n",
       "8297  We had a very lovely stay in Lisbon.The apartm...  \n",
       "\n",
       "[8298 rows x 3 columns]"
      ]
     },
     "execution_count": 64,
     "metadata": {},
     "output_type": "execute_result"
    }
   ],
   "source": [
    "reviews_df_eng = reviews_df[(reviews_df['language']=='en')]\n",
    "\n",
    "grouped_eng = reviews_df_eng.groupby(['index']).agg({'comments': ['count', ' '.join]})\n",
    "grouped_eng.columns = ['_'.join(col).strip() for col in grouped_eng.columns.values]\n",
    "grouped_eng = grouped_eng.reset_index()\n",
    "\n",
    "# Rename the columns of the DataFrame\n",
    "grouped_eng.columns = ['index', 'eng_comment_count', 'eng_reviews_merged']\n",
    "grouped_eng"
   ]
  },
  {
   "cell_type": "code",
   "execution_count": 65,
   "metadata": {},
   "outputs": [
    {
     "data": {
      "text/html": [
       "<div>\n",
       "<style scoped>\n",
       "    .dataframe tbody tr th:only-of-type {\n",
       "        vertical-align: middle;\n",
       "    }\n",
       "\n",
       "    .dataframe tbody tr th {\n",
       "        vertical-align: top;\n",
       "    }\n",
       "\n",
       "    .dataframe thead th {\n",
       "        text-align: right;\n",
       "    }\n",
       "</style>\n",
       "<table border=\"1\" class=\"dataframe\">\n",
       "  <thead>\n",
       "    <tr style=\"text-align: right;\">\n",
       "      <th></th>\n",
       "      <th>index</th>\n",
       "      <th>unique_languages_count</th>\n",
       "      <th>total_comments_count</th>\n",
       "      <th>eng_comment_count</th>\n",
       "      <th>eng_reviews_merged</th>\n",
       "    </tr>\n",
       "  </thead>\n",
       "  <tbody>\n",
       "    <tr>\n",
       "      <th>0</th>\n",
       "      <td>1</td>\n",
       "      <td>7</td>\n",
       "      <td>50</td>\n",
       "      <td>30.0</td>\n",
       "      <td>this is a very cozy and comfortable house to s...</td>\n",
       "    </tr>\n",
       "    <tr>\n",
       "      <th>1</th>\n",
       "      <td>5</td>\n",
       "      <td>6</td>\n",
       "      <td>41</td>\n",
       "      <td>17.0</td>\n",
       "      <td>We really enjoyed staying at Sonias place. The...</td>\n",
       "    </tr>\n",
       "    <tr>\n",
       "      <th>2</th>\n",
       "      <td>8</td>\n",
       "      <td>8</td>\n",
       "      <td>168</td>\n",
       "      <td>145.0</td>\n",
       "      <td>Shani was very helpful throughout our process!...</td>\n",
       "    </tr>\n",
       "    <tr>\n",
       "      <th>3</th>\n",
       "      <td>9</td>\n",
       "      <td>6</td>\n",
       "      <td>32</td>\n",
       "      <td>16.0</td>\n",
       "      <td>Great little space; lovely hosts - clean and w...</td>\n",
       "    </tr>\n",
       "    <tr>\n",
       "      <th>4</th>\n",
       "      <td>10</td>\n",
       "      <td>3</td>\n",
       "      <td>13</td>\n",
       "      <td>11.0</td>\n",
       "      <td>WOW, what a great stay! The spacious apartment...</td>\n",
       "    </tr>\n",
       "    <tr>\n",
       "      <th>...</th>\n",
       "      <td>...</td>\n",
       "      <td>...</td>\n",
       "      <td>...</td>\n",
       "      <td>...</td>\n",
       "      <td>...</td>\n",
       "    </tr>\n",
       "    <tr>\n",
       "      <th>8461</th>\n",
       "      <td>12490</td>\n",
       "      <td>7</td>\n",
       "      <td>32</td>\n",
       "      <td>14.0</td>\n",
       "      <td>Excellent very well equiped apartment! Thank y...</td>\n",
       "    </tr>\n",
       "    <tr>\n",
       "      <th>8462</th>\n",
       "      <td>12491</td>\n",
       "      <td>4</td>\n",
       "      <td>10</td>\n",
       "      <td>7.0</td>\n",
       "      <td>I am so happy to found this accomodation near ...</td>\n",
       "    </tr>\n",
       "    <tr>\n",
       "      <th>8463</th>\n",
       "      <td>12492</td>\n",
       "      <td>9</td>\n",
       "      <td>312</td>\n",
       "      <td>212.0</td>\n",
       "      <td>We were very happy to find this place. The com...</td>\n",
       "    </tr>\n",
       "    <tr>\n",
       "      <th>8464</th>\n",
       "      <td>12493</td>\n",
       "      <td>5</td>\n",
       "      <td>35</td>\n",
       "      <td>27.0</td>\n",
       "      <td>Nice place, nice location, easy communication!...</td>\n",
       "    </tr>\n",
       "    <tr>\n",
       "      <th>8465</th>\n",
       "      <td>12494</td>\n",
       "      <td>10</td>\n",
       "      <td>207</td>\n",
       "      <td>157.0</td>\n",
       "      <td>We had a very lovely stay in Lisbon.The apartm...</td>\n",
       "    </tr>\n",
       "  </tbody>\n",
       "</table>\n",
       "<p>8466 rows × 5 columns</p>\n",
       "</div>"
      ],
      "text/plain": [
       "      index  unique_languages_count  total_comments_count  eng_comment_count   \n",
       "0         1                       7                    50               30.0  \\\n",
       "1         5                       6                    41               17.0   \n",
       "2         8                       8                   168              145.0   \n",
       "3         9                       6                    32               16.0   \n",
       "4        10                       3                    13               11.0   \n",
       "...     ...                     ...                   ...                ...   \n",
       "8461  12490                       7                    32               14.0   \n",
       "8462  12491                       4                    10                7.0   \n",
       "8463  12492                       9                   312              212.0   \n",
       "8464  12493                       5                    35               27.0   \n",
       "8465  12494                      10                   207              157.0   \n",
       "\n",
       "                                     eng_reviews_merged  \n",
       "0     this is a very cozy and comfortable house to s...  \n",
       "1     We really enjoyed staying at Sonias place. The...  \n",
       "2     Shani was very helpful throughout our process!...  \n",
       "3     Great little space; lovely hosts - clean and w...  \n",
       "4     WOW, what a great stay! The spacious apartment...  \n",
       "...                                                 ...  \n",
       "8461  Excellent very well equiped apartment! Thank y...  \n",
       "8462  I am so happy to found this accomodation near ...  \n",
       "8463  We were very happy to find this place. The com...  \n",
       "8464  Nice place, nice location, easy communication!...  \n",
       "8465  We had a very lovely stay in Lisbon.The apartm...  \n",
       "\n",
       "[8466 rows x 5 columns]"
      ]
     },
     "execution_count": 65,
     "metadata": {},
     "output_type": "execute_result"
    }
   ],
   "source": [
    "merged_reviews = pd.merge(final_grouped, grouped_eng, on='index', how='left')\n",
    "merged_reviews"
   ]
  },
  {
   "cell_type": "code",
   "execution_count": 66,
   "metadata": {},
   "outputs": [
    {
     "data": {
      "text/html": [
       "<div>\n",
       "<style scoped>\n",
       "    .dataframe tbody tr th:only-of-type {\n",
       "        vertical-align: middle;\n",
       "    }\n",
       "\n",
       "    .dataframe tbody tr th {\n",
       "        vertical-align: top;\n",
       "    }\n",
       "\n",
       "    .dataframe thead th {\n",
       "        text-align: right;\n",
       "    }\n",
       "</style>\n",
       "<table border=\"1\" class=\"dataframe\">\n",
       "  <thead>\n",
       "    <tr style=\"text-align: right;\">\n",
       "      <th></th>\n",
       "      <th>index</th>\n",
       "      <th>description</th>\n",
       "      <th>host_about</th>\n",
       "      <th>unlisted</th>\n",
       "      <th>description_language</th>\n",
       "      <th>host_about_language</th>\n",
       "      <th>description_english</th>\n",
       "      <th>word_count</th>\n",
       "      <th>cleaned_description</th>\n",
       "      <th>unique_languages_count</th>\n",
       "      <th>total_comments_count</th>\n",
       "      <th>eng_comment_count</th>\n",
       "      <th>eng_reviews_merged</th>\n",
       "    </tr>\n",
       "  </thead>\n",
       "  <tbody>\n",
       "    <tr>\n",
       "      <th>0</th>\n",
       "      <td>7713</td>\n",
       "      <td>This exclusive villa, located in a quiet pinew...</td>\n",
       "      <td>We are a couple with a big family and we love ...</td>\n",
       "      <td>0</td>\n",
       "      <td>en</td>\n",
       "      <td>en</td>\n",
       "      <td>This exclusive villa, located in a quiet pinew...</td>\n",
       "      <td>167</td>\n",
       "      <td>exclusive villa located quiet pinewood area co...</td>\n",
       "      <td>3.0</td>\n",
       "      <td>25.0</td>\n",
       "      <td>21.0</td>\n",
       "      <td>Great house in a great location. Close to Lisb...</td>\n",
       "    </tr>\n",
       "    <tr>\n",
       "      <th>1</th>\n",
       "      <td>11334</td>\n",
       "      <td>Luna House B&amp;B is part of the Luna House Hub, ...</td>\n",
       "      <td>Luna House B&amp;B is part of the Luna House Hub, ...</td>\n",
       "      <td>1</td>\n",
       "      <td>en</td>\n",
       "      <td>en</td>\n",
       "      <td>Luna House B&amp;B is part of the Luna House Hub, ...</td>\n",
       "      <td>167</td>\n",
       "      <td>luna house b b part luna house hub located clo...</td>\n",
       "      <td>NaN</td>\n",
       "      <td>NaN</td>\n",
       "      <td>NaN</td>\n",
       "      <td>&lt;NA&gt;</td>\n",
       "    </tr>\n",
       "    <tr>\n",
       "      <th>2</th>\n",
       "      <td>3537</td>\n",
       "      <td>Newly refurbished apartment with swimming pool...</td>\n",
       "      <td>World citizen looking forward to meet new peop...</td>\n",
       "      <td>0</td>\n",
       "      <td>en</td>\n",
       "      <td>en</td>\n",
       "      <td>Newly refurbished apartment with swimming pool...</td>\n",
       "      <td>175</td>\n",
       "      <td>newly refurbished apartment swimming pool stun...</td>\n",
       "      <td>3.0</td>\n",
       "      <td>32.0</td>\n",
       "      <td>25.0</td>\n",
       "      <td>Great getaway in cascais. Gorgeous apartment a...</td>\n",
       "    </tr>\n",
       "    <tr>\n",
       "      <th>3</th>\n",
       "      <td>4062</td>\n",
       "      <td>Nice studio for two people with one bathroom a...</td>\n",
       "      <td>Hello, I’m Antonio and I want to welcome you i...</td>\n",
       "      <td>0</td>\n",
       "      <td>en</td>\n",
       "      <td>en</td>\n",
       "      <td>Nice studio for two people with one bathroom a...</td>\n",
       "      <td>164</td>\n",
       "      <td>nice studio two people one bathroom compact ki...</td>\n",
       "      <td>13.0</td>\n",
       "      <td>226.0</td>\n",
       "      <td>146.0</td>\n",
       "      <td>The studio is very charming, comfortable, has ...</td>\n",
       "    </tr>\n",
       "    <tr>\n",
       "      <th>4</th>\n",
       "      <td>2743</td>\n",
       "      <td>WHETHER FOR A SHORTER OR LONGER STAYS, I WANT ...</td>\n",
       "      <td>My name is Alexandre, I live in Lisbon and I l...</td>\n",
       "      <td>0</td>\n",
       "      <td>en</td>\n",
       "      <td>en</td>\n",
       "      <td>WHETHER FOR A SHORTER OR LONGER STAYS, I WANT ...</td>\n",
       "      <td>170</td>\n",
       "      <td>whether shorter longer stay want offer solutio...</td>\n",
       "      <td>16.0</td>\n",
       "      <td>523.0</td>\n",
       "      <td>356.0</td>\n",
       "      <td>I'm portuguese from Lisbon , living in Italy, ...</td>\n",
       "    </tr>\n",
       "  </tbody>\n",
       "</table>\n",
       "</div>"
      ],
      "text/plain": [
       "   index                                        description   \n",
       "0   7713  This exclusive villa, located in a quiet pinew...  \\\n",
       "1  11334  Luna House B&B is part of the Luna House Hub, ...   \n",
       "2   3537  Newly refurbished apartment with swimming pool...   \n",
       "3   4062  Nice studio for two people with one bathroom a...   \n",
       "4   2743  WHETHER FOR A SHORTER OR LONGER STAYS, I WANT ...   \n",
       "\n",
       "                                          host_about  unlisted   \n",
       "0  We are a couple with a big family and we love ...         0  \\\n",
       "1  Luna House B&B is part of the Luna House Hub, ...         1   \n",
       "2  World citizen looking forward to meet new peop...         0   \n",
       "3  Hello, I’m Antonio and I want to welcome you i...         0   \n",
       "4  My name is Alexandre, I live in Lisbon and I l...         0   \n",
       "\n",
       "  description_language host_about_language   \n",
       "0                   en                  en  \\\n",
       "1                   en                  en   \n",
       "2                   en                  en   \n",
       "3                   en                  en   \n",
       "4                   en                  en   \n",
       "\n",
       "                                 description_english  word_count   \n",
       "0  This exclusive villa, located in a quiet pinew...         167  \\\n",
       "1  Luna House B&B is part of the Luna House Hub, ...         167   \n",
       "2  Newly refurbished apartment with swimming pool...         175   \n",
       "3  Nice studio for two people with one bathroom a...         164   \n",
       "4  WHETHER FOR A SHORTER OR LONGER STAYS, I WANT ...         170   \n",
       "\n",
       "                                 cleaned_description  unique_languages_count   \n",
       "0  exclusive villa located quiet pinewood area co...                     3.0  \\\n",
       "1  luna house b b part luna house hub located clo...                     NaN   \n",
       "2  newly refurbished apartment swimming pool stun...                     3.0   \n",
       "3  nice studio two people one bathroom compact ki...                    13.0   \n",
       "4  whether shorter longer stay want offer solutio...                    16.0   \n",
       "\n",
       "   total_comments_count  eng_comment_count   \n",
       "0                  25.0               21.0  \\\n",
       "1                   NaN                NaN   \n",
       "2                  32.0               25.0   \n",
       "3                 226.0              146.0   \n",
       "4                 523.0              356.0   \n",
       "\n",
       "                                  eng_reviews_merged  \n",
       "0  Great house in a great location. Close to Lisb...  \n",
       "1                                               <NA>  \n",
       "2  Great getaway in cascais. Gorgeous apartment a...  \n",
       "3  The studio is very charming, comfortable, has ...  \n",
       "4  I'm portuguese from Lisbon , living in Italy, ...  "
      ]
     },
     "execution_count": 66,
     "metadata": {},
     "output_type": "execute_result"
    }
   ],
   "source": [
    "# Merging reviews to train_df\n",
    "train_df = pd.merge(train_df, merged_reviews, on='index', how='left')\n",
    "train_df.head()"
   ]
  },
  {
   "cell_type": "code",
   "execution_count": 67,
   "metadata": {},
   "outputs": [
    {
     "name": "stderr",
     "output_type": "stream",
     "text": [
      "100%|███████████████████████████████████████| 9996/9996 [05:09<00:00, 32.25it/s]\n"
     ]
    },
    {
     "data": {
      "text/html": [
       "<div>\n",
       "<style scoped>\n",
       "    .dataframe tbody tr th:only-of-type {\n",
       "        vertical-align: middle;\n",
       "    }\n",
       "\n",
       "    .dataframe tbody tr th {\n",
       "        vertical-align: top;\n",
       "    }\n",
       "\n",
       "    .dataframe thead th {\n",
       "        text-align: right;\n",
       "    }\n",
       "</style>\n",
       "<table border=\"1\" class=\"dataframe\">\n",
       "  <thead>\n",
       "    <tr style=\"text-align: right;\">\n",
       "      <th></th>\n",
       "      <th>index</th>\n",
       "      <th>description</th>\n",
       "      <th>host_about</th>\n",
       "      <th>unlisted</th>\n",
       "      <th>description_language</th>\n",
       "      <th>host_about_language</th>\n",
       "      <th>description_english</th>\n",
       "      <th>word_count</th>\n",
       "      <th>cleaned_description</th>\n",
       "      <th>unique_languages_count</th>\n",
       "      <th>total_comments_count</th>\n",
       "      <th>eng_comment_count</th>\n",
       "      <th>eng_reviews_merged</th>\n",
       "      <th>eng_reviews_cleaned</th>\n",
       "    </tr>\n",
       "  </thead>\n",
       "  <tbody>\n",
       "    <tr>\n",
       "      <th>0</th>\n",
       "      <td>7713</td>\n",
       "      <td>This exclusive villa, located in a quiet pinew...</td>\n",
       "      <td>We are a couple with a big family and we love ...</td>\n",
       "      <td>0</td>\n",
       "      <td>en</td>\n",
       "      <td>en</td>\n",
       "      <td>This exclusive villa, located in a quiet pinew...</td>\n",
       "      <td>167</td>\n",
       "      <td>exclusive villa located quiet pinewood area co...</td>\n",
       "      <td>3.0</td>\n",
       "      <td>25.0</td>\n",
       "      <td>21.0</td>\n",
       "      <td>Great house in a great location. Close to Lisb...</td>\n",
       "      <td>great house great location close lisbon sintra...</td>\n",
       "    </tr>\n",
       "    <tr>\n",
       "      <th>1</th>\n",
       "      <td>11334</td>\n",
       "      <td>Luna House B&amp;B is part of the Luna House Hub, ...</td>\n",
       "      <td>Luna House B&amp;B is part of the Luna House Hub, ...</td>\n",
       "      <td>1</td>\n",
       "      <td>en</td>\n",
       "      <td>en</td>\n",
       "      <td>Luna House B&amp;B is part of the Luna House Hub, ...</td>\n",
       "      <td>167</td>\n",
       "      <td>luna house b b part luna house hub located clo...</td>\n",
       "      <td>NaN</td>\n",
       "      <td>NaN</td>\n",
       "      <td>NaN</td>\n",
       "      <td></td>\n",
       "      <td></td>\n",
       "    </tr>\n",
       "    <tr>\n",
       "      <th>2</th>\n",
       "      <td>3537</td>\n",
       "      <td>Newly refurbished apartment with swimming pool...</td>\n",
       "      <td>World citizen looking forward to meet new peop...</td>\n",
       "      <td>0</td>\n",
       "      <td>en</td>\n",
       "      <td>en</td>\n",
       "      <td>Newly refurbished apartment with swimming pool...</td>\n",
       "      <td>175</td>\n",
       "      <td>newly refurbished apartment swimming pool stun...</td>\n",
       "      <td>3.0</td>\n",
       "      <td>32.0</td>\n",
       "      <td>25.0</td>\n",
       "      <td>Great getaway in cascais. Gorgeous apartment a...</td>\n",
       "      <td>great getaway cascais gorgeous apartment excel...</td>\n",
       "    </tr>\n",
       "    <tr>\n",
       "      <th>3</th>\n",
       "      <td>4062</td>\n",
       "      <td>Nice studio for two people with one bathroom a...</td>\n",
       "      <td>Hello, I’m Antonio and I want to welcome you i...</td>\n",
       "      <td>0</td>\n",
       "      <td>en</td>\n",
       "      <td>en</td>\n",
       "      <td>Nice studio for two people with one bathroom a...</td>\n",
       "      <td>164</td>\n",
       "      <td>nice studio two people one bathroom compact ki...</td>\n",
       "      <td>13.0</td>\n",
       "      <td>226.0</td>\n",
       "      <td>146.0</td>\n",
       "      <td>The studio is very charming, comfortable, has ...</td>\n",
       "      <td>studio charming comfortable everything need st...</td>\n",
       "    </tr>\n",
       "    <tr>\n",
       "      <th>4</th>\n",
       "      <td>2743</td>\n",
       "      <td>WHETHER FOR A SHORTER OR LONGER STAYS, I WANT ...</td>\n",
       "      <td>My name is Alexandre, I live in Lisbon and I l...</td>\n",
       "      <td>0</td>\n",
       "      <td>en</td>\n",
       "      <td>en</td>\n",
       "      <td>WHETHER FOR A SHORTER OR LONGER STAYS, I WANT ...</td>\n",
       "      <td>170</td>\n",
       "      <td>whether shorter longer stay want offer solutio...</td>\n",
       "      <td>16.0</td>\n",
       "      <td>523.0</td>\n",
       "      <td>356.0</td>\n",
       "      <td>I'm portuguese from Lisbon , living in Italy, ...</td>\n",
       "      <td>portuguese lisbon living italy travel often ba...</td>\n",
       "    </tr>\n",
       "  </tbody>\n",
       "</table>\n",
       "</div>"
      ],
      "text/plain": [
       "   index                                        description   \n",
       "0   7713  This exclusive villa, located in a quiet pinew...  \\\n",
       "1  11334  Luna House B&B is part of the Luna House Hub, ...   \n",
       "2   3537  Newly refurbished apartment with swimming pool...   \n",
       "3   4062  Nice studio for two people with one bathroom a...   \n",
       "4   2743  WHETHER FOR A SHORTER OR LONGER STAYS, I WANT ...   \n",
       "\n",
       "                                          host_about  unlisted   \n",
       "0  We are a couple with a big family and we love ...         0  \\\n",
       "1  Luna House B&B is part of the Luna House Hub, ...         1   \n",
       "2  World citizen looking forward to meet new peop...         0   \n",
       "3  Hello, I’m Antonio and I want to welcome you i...         0   \n",
       "4  My name is Alexandre, I live in Lisbon and I l...         0   \n",
       "\n",
       "  description_language host_about_language   \n",
       "0                   en                  en  \\\n",
       "1                   en                  en   \n",
       "2                   en                  en   \n",
       "3                   en                  en   \n",
       "4                   en                  en   \n",
       "\n",
       "                                 description_english  word_count   \n",
       "0  This exclusive villa, located in a quiet pinew...         167  \\\n",
       "1  Luna House B&B is part of the Luna House Hub, ...         167   \n",
       "2  Newly refurbished apartment with swimming pool...         175   \n",
       "3  Nice studio for two people with one bathroom a...         164   \n",
       "4  WHETHER FOR A SHORTER OR LONGER STAYS, I WANT ...         170   \n",
       "\n",
       "                                 cleaned_description  unique_languages_count   \n",
       "0  exclusive villa located quiet pinewood area co...                     3.0  \\\n",
       "1  luna house b b part luna house hub located clo...                     NaN   \n",
       "2  newly refurbished apartment swimming pool stun...                     3.0   \n",
       "3  nice studio two people one bathroom compact ki...                    13.0   \n",
       "4  whether shorter longer stay want offer solutio...                    16.0   \n",
       "\n",
       "   total_comments_count  eng_comment_count   \n",
       "0                  25.0               21.0  \\\n",
       "1                   NaN                NaN   \n",
       "2                  32.0               25.0   \n",
       "3                 226.0              146.0   \n",
       "4                 523.0              356.0   \n",
       "\n",
       "                                  eng_reviews_merged   \n",
       "0  Great house in a great location. Close to Lisb...  \\\n",
       "1                                                      \n",
       "2  Great getaway in cascais. Gorgeous apartment a...   \n",
       "3  The studio is very charming, comfortable, has ...   \n",
       "4  I'm portuguese from Lisbon , living in Italy, ...   \n",
       "\n",
       "                                 eng_reviews_cleaned  \n",
       "0  great house great location close lisbon sintra...  \n",
       "1                                                     \n",
       "2  great getaway cascais gorgeous apartment excel...  \n",
       "3  studio charming comfortable everything need st...  \n",
       "4  portuguese lisbon living italy travel often ba...  "
      ]
     },
     "execution_count": 67,
     "metadata": {},
     "output_type": "execute_result"
    }
   ],
   "source": [
    "train_df['eng_reviews_cleaned'] = clean(train_df['eng_reviews_merged'], lemmatize = True, stemmer = False)\n",
    "train_df.head()"
   ]
  },
  {
   "cell_type": "code",
   "execution_count": 68,
   "metadata": {},
   "outputs": [
    {
     "data": {
      "text/html": [
       "<div>\n",
       "<style scoped>\n",
       "    .dataframe tbody tr th:only-of-type {\n",
       "        vertical-align: middle;\n",
       "    }\n",
       "\n",
       "    .dataframe tbody tr th {\n",
       "        vertical-align: top;\n",
       "    }\n",
       "\n",
       "    .dataframe thead th {\n",
       "        text-align: right;\n",
       "    }\n",
       "</style>\n",
       "<table border=\"1\" class=\"dataframe\">\n",
       "  <thead>\n",
       "    <tr style=\"text-align: right;\">\n",
       "      <th></th>\n",
       "      <th>index</th>\n",
       "      <th>description</th>\n",
       "      <th>host_about</th>\n",
       "      <th>unlisted</th>\n",
       "      <th>description_language</th>\n",
       "      <th>host_about_language</th>\n",
       "      <th>description_english</th>\n",
       "      <th>word_count</th>\n",
       "      <th>cleaned_description</th>\n",
       "      <th>unique_languages_count</th>\n",
       "      <th>total_comments_count</th>\n",
       "      <th>eng_comment_count</th>\n",
       "      <th>eng_reviews_merged</th>\n",
       "      <th>eng_reviews_cleaned</th>\n",
       "    </tr>\n",
       "  </thead>\n",
       "  <tbody>\n",
       "    <tr>\n",
       "      <th>0</th>\n",
       "      <td>7713</td>\n",
       "      <td>This exclusive villa, located in a quiet pinew...</td>\n",
       "      <td>We are a couple with a big family and we love ...</td>\n",
       "      <td>0</td>\n",
       "      <td>en</td>\n",
       "      <td>en</td>\n",
       "      <td>This exclusive villa, located in a quiet pinew...</td>\n",
       "      <td>167</td>\n",
       "      <td>exclusive villa located quiet pinewood area co...</td>\n",
       "      <td>0.071429</td>\n",
       "      <td>0.026846</td>\n",
       "      <td>0.030303</td>\n",
       "      <td>Great house in a great location. Close to Lisb...</td>\n",
       "      <td>great house great location close lisbon sintra...</td>\n",
       "    </tr>\n",
       "    <tr>\n",
       "      <th>1</th>\n",
       "      <td>11334</td>\n",
       "      <td>Luna House B&amp;B is part of the Luna House Hub, ...</td>\n",
       "      <td>Luna House B&amp;B is part of the Luna House Hub, ...</td>\n",
       "      <td>1</td>\n",
       "      <td>en</td>\n",
       "      <td>en</td>\n",
       "      <td>Luna House B&amp;B is part of the Luna House Hub, ...</td>\n",
       "      <td>167</td>\n",
       "      <td>luna house b b part luna house hub located clo...</td>\n",
       "      <td>NaN</td>\n",
       "      <td>NaN</td>\n",
       "      <td>NaN</td>\n",
       "      <td></td>\n",
       "      <td></td>\n",
       "    </tr>\n",
       "    <tr>\n",
       "      <th>2</th>\n",
       "      <td>3537</td>\n",
       "      <td>Newly refurbished apartment with swimming pool...</td>\n",
       "      <td>World citizen looking forward to meet new peop...</td>\n",
       "      <td>0</td>\n",
       "      <td>en</td>\n",
       "      <td>en</td>\n",
       "      <td>Newly refurbished apartment with swimming pool...</td>\n",
       "      <td>175</td>\n",
       "      <td>newly refurbished apartment swimming pool stun...</td>\n",
       "      <td>0.071429</td>\n",
       "      <td>0.034676</td>\n",
       "      <td>0.036364</td>\n",
       "      <td>Great getaway in cascais. Gorgeous apartment a...</td>\n",
       "      <td>great getaway cascais gorgeous apartment excel...</td>\n",
       "    </tr>\n",
       "    <tr>\n",
       "      <th>3</th>\n",
       "      <td>4062</td>\n",
       "      <td>Nice studio for two people with one bathroom a...</td>\n",
       "      <td>Hello, I’m Antonio and I want to welcome you i...</td>\n",
       "      <td>0</td>\n",
       "      <td>en</td>\n",
       "      <td>en</td>\n",
       "      <td>Nice studio for two people with one bathroom a...</td>\n",
       "      <td>164</td>\n",
       "      <td>nice studio two people one bathroom compact ki...</td>\n",
       "      <td>0.428571</td>\n",
       "      <td>0.251678</td>\n",
       "      <td>0.219697</td>\n",
       "      <td>The studio is very charming, comfortable, has ...</td>\n",
       "      <td>studio charming comfortable everything need st...</td>\n",
       "    </tr>\n",
       "    <tr>\n",
       "      <th>4</th>\n",
       "      <td>2743</td>\n",
       "      <td>WHETHER FOR A SHORTER OR LONGER STAYS, I WANT ...</td>\n",
       "      <td>My name is Alexandre, I live in Lisbon and I l...</td>\n",
       "      <td>0</td>\n",
       "      <td>en</td>\n",
       "      <td>en</td>\n",
       "      <td>WHETHER FOR A SHORTER OR LONGER STAYS, I WANT ...</td>\n",
       "      <td>170</td>\n",
       "      <td>whether shorter longer stay want offer solutio...</td>\n",
       "      <td>0.535714</td>\n",
       "      <td>0.583893</td>\n",
       "      <td>0.537879</td>\n",
       "      <td>I'm portuguese from Lisbon , living in Italy, ...</td>\n",
       "      <td>portuguese lisbon living italy travel often ba...</td>\n",
       "    </tr>\n",
       "  </tbody>\n",
       "</table>\n",
       "</div>"
      ],
      "text/plain": [
       "   index                                        description   \n",
       "0   7713  This exclusive villa, located in a quiet pinew...  \\\n",
       "1  11334  Luna House B&B is part of the Luna House Hub, ...   \n",
       "2   3537  Newly refurbished apartment with swimming pool...   \n",
       "3   4062  Nice studio for two people with one bathroom a...   \n",
       "4   2743  WHETHER FOR A SHORTER OR LONGER STAYS, I WANT ...   \n",
       "\n",
       "                                          host_about  unlisted   \n",
       "0  We are a couple with a big family and we love ...         0  \\\n",
       "1  Luna House B&B is part of the Luna House Hub, ...         1   \n",
       "2  World citizen looking forward to meet new peop...         0   \n",
       "3  Hello, I’m Antonio and I want to welcome you i...         0   \n",
       "4  My name is Alexandre, I live in Lisbon and I l...         0   \n",
       "\n",
       "  description_language host_about_language   \n",
       "0                   en                  en  \\\n",
       "1                   en                  en   \n",
       "2                   en                  en   \n",
       "3                   en                  en   \n",
       "4                   en                  en   \n",
       "\n",
       "                                 description_english  word_count   \n",
       "0  This exclusive villa, located in a quiet pinew...         167  \\\n",
       "1  Luna House B&B is part of the Luna House Hub, ...         167   \n",
       "2  Newly refurbished apartment with swimming pool...         175   \n",
       "3  Nice studio for two people with one bathroom a...         164   \n",
       "4  WHETHER FOR A SHORTER OR LONGER STAYS, I WANT ...         170   \n",
       "\n",
       "                                 cleaned_description  unique_languages_count   \n",
       "0  exclusive villa located quiet pinewood area co...                0.071429  \\\n",
       "1  luna house b b part luna house hub located clo...                     NaN   \n",
       "2  newly refurbished apartment swimming pool stun...                0.071429   \n",
       "3  nice studio two people one bathroom compact ki...                0.428571   \n",
       "4  whether shorter longer stay want offer solutio...                0.535714   \n",
       "\n",
       "   total_comments_count  eng_comment_count   \n",
       "0              0.026846           0.030303  \\\n",
       "1                   NaN                NaN   \n",
       "2              0.034676           0.036364   \n",
       "3              0.251678           0.219697   \n",
       "4              0.583893           0.537879   \n",
       "\n",
       "                                  eng_reviews_merged   \n",
       "0  Great house in a great location. Close to Lisb...  \\\n",
       "1                                                      \n",
       "2  Great getaway in cascais. Gorgeous apartment a...   \n",
       "3  The studio is very charming, comfortable, has ...   \n",
       "4  I'm portuguese from Lisbon , living in Italy, ...   \n",
       "\n",
       "                                 eng_reviews_cleaned  \n",
       "0  great house great location close lisbon sintra...  \n",
       "1                                                     \n",
       "2  great getaway cascais gorgeous apartment excel...  \n",
       "3  studio charming comfortable everything need st...  \n",
       "4  portuguese lisbon living italy travel often ba...  "
      ]
     },
     "execution_count": 68,
     "metadata": {},
     "output_type": "execute_result"
    }
   ],
   "source": [
    "# Scaling selected columns with MinMaxScaler\n",
    "scaler = MinMaxScaler()\n",
    "cols_to_scale = ['unique_languages_count', 'total_comments_count', 'eng_comment_count']\n",
    "train_df[cols_to_scale] = scaler.fit_transform(train_df[cols_to_scale])\n",
    "\n",
    "train_df.head()"
   ]
  },
  {
   "cell_type": "markdown",
   "metadata": {},
   "source": [
    "## Creating Features with BoW"
   ]
  },
  {
   "cell_type": "code",
   "execution_count": 69,
   "metadata": {},
   "outputs": [
    {
     "name": "stdout",
     "output_type": "stream",
     "text": [
      "(9996, 15179) (9996, 1000)\n"
     ]
    }
   ],
   "source": [
    "#bow = CountVectorizer(binary=True)\n",
    "#X_train = bow.fit_transform(train_df[\"cleaned_description\"] + ' ' + train_df[\"eng_reviews_cleaned\"])\n",
    "\n",
    "bow_desc = CountVectorizer(binary=True)     \n",
    "bow_reviews = CountVectorizer(binary=True, max_features=1000) \n",
    "\n",
    "X_train_1 = bow_desc.fit_transform(train_df[\"cleaned_description\"])\n",
    "X_train_2 = bow_reviews.fit_transform(train_df[\"eng_reviews_cleaned\"]) \n",
    "\n",
    "print(X_train_1.shape, X_train_2.shape)"
   ]
  },
  {
   "cell_type": "code",
   "execution_count": 70,
   "metadata": {},
   "outputs": [],
   "source": [
    "n1 = X_train_1.shape[1]\n",
    "n2 = X_train_2.shape[1]\n",
    "n_additional = len(cols_to_scale)\n",
    "\n",
    "X_train_ext = np.zeros((X_train_1.shape[0], n1 + n2 + n_additional))"
   ]
  },
  {
   "cell_type": "code",
   "execution_count": 71,
   "metadata": {},
   "outputs": [],
   "source": [
    "X_train_ext[:, :n1] = X_train_1.toarray() # copy over TF-IDF for cleaned AirBnb description\n",
    "X_train_ext[:, n1:n1+n2] = X_train_2.toarray() # copy over TF-IDF for cleaned English reviews\n",
    "X_train_ext[:, n1+n2:] = train_df[cols_to_scale].values # copy over the count columns\n",
    "\n",
    "X_train_ext = np.nan_to_num(X_train_ext, nan=0) # filling in empty values with zeroes"
   ]
  },
  {
   "cell_type": "code",
   "execution_count": 72,
   "metadata": {},
   "outputs": [
    {
     "data": {
      "text/plain": [
       "(9996, 16182)"
      ]
     },
     "execution_count": 72,
     "metadata": {},
     "output_type": "execute_result"
    }
   ],
   "source": [
    "X_train_ext.shape"
   ]
  },
  {
   "cell_type": "markdown",
   "metadata": {},
   "source": [
    "### Processing validation set in the same manner"
   ]
  },
  {
   "cell_type": "code",
   "execution_count": 73,
   "metadata": {},
   "outputs": [
    {
     "data": {
      "text/html": [
       "<div>\n",
       "<style scoped>\n",
       "    .dataframe tbody tr th:only-of-type {\n",
       "        vertical-align: middle;\n",
       "    }\n",
       "\n",
       "    .dataframe tbody tr th {\n",
       "        vertical-align: top;\n",
       "    }\n",
       "\n",
       "    .dataframe thead th {\n",
       "        text-align: right;\n",
       "    }\n",
       "</style>\n",
       "<table border=\"1\" class=\"dataframe\">\n",
       "  <thead>\n",
       "    <tr style=\"text-align: right;\">\n",
       "      <th></th>\n",
       "      <th>index</th>\n",
       "      <th>description</th>\n",
       "      <th>host_about</th>\n",
       "      <th>unlisted</th>\n",
       "      <th>description_language</th>\n",
       "      <th>host_about_language</th>\n",
       "      <th>description_english</th>\n",
       "      <th>cleaned_description</th>\n",
       "    </tr>\n",
       "  </thead>\n",
       "  <tbody>\n",
       "    <tr>\n",
       "      <th>4768</th>\n",
       "      <td>4769</td>\n",
       "      <td>This charming apartment on the first floor of ...</td>\n",
       "      <td>Easygoing person, always ready to present the ...</td>\n",
       "      <td>0</td>\n",
       "      <td>en</td>\n",
       "      <td>en</td>\n",
       "      <td>This charming apartment on the first floor of ...</td>\n",
       "      <td>charming apartment first floor typical cascais...</td>\n",
       "    </tr>\n",
       "    <tr>\n",
       "      <th>4384</th>\n",
       "      <td>4385</td>\n",
       "      <td>Charming villa with a private pool and tennis ...</td>\n",
       "      <td>Allure Villas is your go-to spot for renting V...</td>\n",
       "      <td>1</td>\n",
       "      <td>en</td>\n",
       "      <td>en</td>\n",
       "      <td>Charming villa with a private pool and tennis ...</td>\n",
       "      <td>charming villa private pool tennis table withi...</td>\n",
       "    </tr>\n",
       "    <tr>\n",
       "      <th>11857</th>\n",
       "      <td>11858</td>\n",
       "      <td>One bedroom apartment inside a modern developm...</td>\n",
       "      <td>Hey, this is Goncalo and Miku, your hosts in L...</td>\n",
       "      <td>0</td>\n",
       "      <td>en</td>\n",
       "      <td>en</td>\n",
       "      <td>One bedroom apartment inside a modern developm...</td>\n",
       "      <td>one bedroom apartment inside modern developmen...</td>\n",
       "    </tr>\n",
       "  </tbody>\n",
       "</table>\n",
       "</div>"
      ],
      "text/plain": [
       "       index                                        description   \n",
       "4768    4769  This charming apartment on the first floor of ...  \\\n",
       "4384    4385  Charming villa with a private pool and tennis ...   \n",
       "11857  11858  One bedroom apartment inside a modern developm...   \n",
       "\n",
       "                                              host_about  unlisted   \n",
       "4768   Easygoing person, always ready to present the ...         0  \\\n",
       "4384   Allure Villas is your go-to spot for renting V...         1   \n",
       "11857  Hey, this is Goncalo and Miku, your hosts in L...         0   \n",
       "\n",
       "      description_language host_about_language   \n",
       "4768                    en                  en  \\\n",
       "4384                    en                  en   \n",
       "11857                   en                  en   \n",
       "\n",
       "                                     description_english   \n",
       "4768   This charming apartment on the first floor of ...  \\\n",
       "4384   Charming villa with a private pool and tennis ...   \n",
       "11857  One bedroom apartment inside a modern developm...   \n",
       "\n",
       "                                     cleaned_description  \n",
       "4768   charming apartment first floor typical cascais...  \n",
       "4384   charming villa private pool tennis table withi...  \n",
       "11857  one bedroom apartment inside modern developmen...  "
      ]
     },
     "execution_count": 73,
     "metadata": {},
     "output_type": "execute_result"
    }
   ],
   "source": [
    "val_df.head(3)"
   ]
  },
  {
   "cell_type": "code",
   "execution_count": 74,
   "metadata": {},
   "outputs": [
    {
     "name": "stderr",
     "output_type": "stream",
     "text": [
      "100%|██████████████████████████████████████| 2500/2500 [00:05<00:00, 418.16it/s]\n",
      "100%|███████████████████████████████████████| 2500/2500 [06:02<00:00,  6.89it/s]\n"
     ]
    }
   ],
   "source": [
    "# Pipeline of preprocessing the val_df to extract the same feature values\n",
    "#val_df['word_count']  = val_df['description'].apply(lambda x: len(str(x).split(\" \")))\n",
    "val_df['cleaned_description'] = clean(val_df['description'], lemmatize = True, stemmer = False)\n",
    "val_df = pd.merge(val_df, merged_reviews, on='index', how='left')\n",
    "\n",
    "val_df['eng_reviews_cleaned'] = clean(val_df['eng_reviews_merged'], lemmatize = True, stemmer = False)\n",
    "val_df[cols_to_scale] = scaler.transform(val_df[cols_to_scale]) # Note: just trannsform here"
   ]
  },
  {
   "cell_type": "code",
   "execution_count": 75,
   "metadata": {},
   "outputs": [
    {
     "name": "stdout",
     "output_type": "stream",
     "text": [
      "(2500, 16182) (2500,)\n"
     ]
    }
   ],
   "source": [
    "X_val_1 = bow_desc.transform(val_df[\"cleaned_description\"])\n",
    "X_val_2 = bow_reviews.transform(val_df[\"eng_reviews_merged\"])                            \n",
    "n1 = X_val_1.shape[1]\n",
    "n2 = X_val_2.shape[1]\n",
    "n_additional = len(cols_to_scale)\n",
    "\n",
    "X_val_ext = np.zeros((X_val_1.shape[0], n1 + n2 + n_additional))\n",
    "X_val_ext[:, :n1] = X_val_1.toarray()      # copy over TF-IDF for cleaned AirBnb description\n",
    "X_val_ext[:, n1:n1+n2] = X_val_2.toarray() # copy over TF-IDF for cleaned English reviews\n",
    "X_val_ext[:, n1+n2:] = val_df[cols_to_scale].values   # copy over the count columns\n",
    "\n",
    "X_val_ext = np.nan_to_num(X_val_ext, nan=0)   # filling in empty values with zeroes                                 \n",
    "\n",
    "y_val = np.array(val_df['unlisted'])\n",
    "\n",
    "print(X_val_ext.shape, y_val.shape)"
   ]
  },
  {
   "cell_type": "markdown",
   "metadata": {},
   "source": [
    "# Building Models on the Extended List of Features"
   ]
  },
  {
   "cell_type": "markdown",
   "metadata": {},
   "source": [
    "## KNN model (on extended list of features)"
   ]
  },
  {
   "cell_type": "code",
   "execution_count": 76,
   "metadata": {},
   "outputs": [
    {
     "data": {
      "text/html": [
       "<style>#sk-container-id-2 {color: black;background-color: white;}#sk-container-id-2 pre{padding: 0;}#sk-container-id-2 div.sk-toggleable {background-color: white;}#sk-container-id-2 label.sk-toggleable__label {cursor: pointer;display: block;width: 100%;margin-bottom: 0;padding: 0.3em;box-sizing: border-box;text-align: center;}#sk-container-id-2 label.sk-toggleable__label-arrow:before {content: \"▸\";float: left;margin-right: 0.25em;color: #696969;}#sk-container-id-2 label.sk-toggleable__label-arrow:hover:before {color: black;}#sk-container-id-2 div.sk-estimator:hover label.sk-toggleable__label-arrow:before {color: black;}#sk-container-id-2 div.sk-toggleable__content {max-height: 0;max-width: 0;overflow: hidden;text-align: left;background-color: #f0f8ff;}#sk-container-id-2 div.sk-toggleable__content pre {margin: 0.2em;color: black;border-radius: 0.25em;background-color: #f0f8ff;}#sk-container-id-2 input.sk-toggleable__control:checked~div.sk-toggleable__content {max-height: 200px;max-width: 100%;overflow: auto;}#sk-container-id-2 input.sk-toggleable__control:checked~label.sk-toggleable__label-arrow:before {content: \"▾\";}#sk-container-id-2 div.sk-estimator input.sk-toggleable__control:checked~label.sk-toggleable__label {background-color: #d4ebff;}#sk-container-id-2 div.sk-label input.sk-toggleable__control:checked~label.sk-toggleable__label {background-color: #d4ebff;}#sk-container-id-2 input.sk-hidden--visually {border: 0;clip: rect(1px 1px 1px 1px);clip: rect(1px, 1px, 1px, 1px);height: 1px;margin: -1px;overflow: hidden;padding: 0;position: absolute;width: 1px;}#sk-container-id-2 div.sk-estimator {font-family: monospace;background-color: #f0f8ff;border: 1px dotted black;border-radius: 0.25em;box-sizing: border-box;margin-bottom: 0.5em;}#sk-container-id-2 div.sk-estimator:hover {background-color: #d4ebff;}#sk-container-id-2 div.sk-parallel-item::after {content: \"\";width: 100%;border-bottom: 1px solid gray;flex-grow: 1;}#sk-container-id-2 div.sk-label:hover label.sk-toggleable__label {background-color: #d4ebff;}#sk-container-id-2 div.sk-serial::before {content: \"\";position: absolute;border-left: 1px solid gray;box-sizing: border-box;top: 0;bottom: 0;left: 50%;z-index: 0;}#sk-container-id-2 div.sk-serial {display: flex;flex-direction: column;align-items: center;background-color: white;padding-right: 0.2em;padding-left: 0.2em;position: relative;}#sk-container-id-2 div.sk-item {position: relative;z-index: 1;}#sk-container-id-2 div.sk-parallel {display: flex;align-items: stretch;justify-content: center;background-color: white;position: relative;}#sk-container-id-2 div.sk-item::before, #sk-container-id-2 div.sk-parallel-item::before {content: \"\";position: absolute;border-left: 1px solid gray;box-sizing: border-box;top: 0;bottom: 0;left: 50%;z-index: -1;}#sk-container-id-2 div.sk-parallel-item {display: flex;flex-direction: column;z-index: 1;position: relative;background-color: white;}#sk-container-id-2 div.sk-parallel-item:first-child::after {align-self: flex-end;width: 50%;}#sk-container-id-2 div.sk-parallel-item:last-child::after {align-self: flex-start;width: 50%;}#sk-container-id-2 div.sk-parallel-item:only-child::after {width: 0;}#sk-container-id-2 div.sk-dashed-wrapped {border: 1px dashed gray;margin: 0 0.4em 0.5em 0.4em;box-sizing: border-box;padding-bottom: 0.4em;background-color: white;}#sk-container-id-2 div.sk-label label {font-family: monospace;font-weight: bold;display: inline-block;line-height: 1.2em;}#sk-container-id-2 div.sk-label-container {text-align: center;}#sk-container-id-2 div.sk-container {/* jupyter's `normalize.less` sets `[hidden] { display: none; }` but bootstrap.min.css set `[hidden] { display: none !important; }` so we also need the `!important` here to be able to override the default hidden behavior on the sphinx rendered scikit-learn.org. See: https://github.com/scikit-learn/scikit-learn/issues/21755 */display: inline-block !important;position: relative;}#sk-container-id-2 div.sk-text-repr-fallback {display: none;}</style><div id=\"sk-container-id-2\" class=\"sk-top-container\"><div class=\"sk-text-repr-fallback\"><pre>KNeighborsClassifier(metric=&#x27;cosine&#x27;, n_neighbors=7, weights=&#x27;distance&#x27;)</pre><b>In a Jupyter environment, please rerun this cell to show the HTML representation or trust the notebook. <br />On GitHub, the HTML representation is unable to render, please try loading this page with nbviewer.org.</b></div><div class=\"sk-container\" hidden><div class=\"sk-item\"><div class=\"sk-estimator sk-toggleable\"><input class=\"sk-toggleable__control sk-hidden--visually\" id=\"sk-estimator-id-2\" type=\"checkbox\" checked><label for=\"sk-estimator-id-2\" class=\"sk-toggleable__label sk-toggleable__label-arrow\">KNeighborsClassifier</label><div class=\"sk-toggleable__content\"><pre>KNeighborsClassifier(metric=&#x27;cosine&#x27;, n_neighbors=7, weights=&#x27;distance&#x27;)</pre></div></div></div></div></div>"
      ],
      "text/plain": [
       "KNeighborsClassifier(metric='cosine', n_neighbors=7, weights='distance')"
      ]
     },
     "execution_count": 76,
     "metadata": {},
     "output_type": "execute_result"
    }
   ],
   "source": [
    "# Model Building\n",
    "modelknn = KNeighborsClassifier(n_neighbors = 7, \n",
    "                                metric = 'cosine', \n",
    "                                weights = 'distance')\n",
    "\n",
    "modelknn.fit(X_train_ext, y_train)"
   ]
  },
  {
   "cell_type": "code",
   "execution_count": 77,
   "metadata": {},
   "outputs": [],
   "source": [
    "# Making preditions\n",
    "y_pred = modelknn.predict(X_val_ext)"
   ]
  },
  {
   "cell_type": "code",
   "execution_count": 78,
   "metadata": {},
   "outputs": [
    {
     "name": "stdout",
     "output_type": "stream",
     "text": [
      "              precision    recall  f1-score   support\n",
      "\n",
      "      listed       0.91      0.91      0.91      1810\n",
      "    unlisted       0.75      0.76      0.75       690\n",
      "\n",
      "    accuracy                           0.86      2500\n",
      "   macro avg       0.83      0.83      0.83      2500\n",
      "weighted avg       0.86      0.86      0.86      2500\n",
      "\n"
     ]
    },
    {
     "data": {
      "image/png": "[encoded data removed]",
      "text/plain": [
       "<Figure size 640x480 with 2 Axes>"
      ]
     },
     "metadata": {},
     "output_type": "display_data"
    }
   ],
   "source": [
    "# Model Evaluation\n",
    "print(classification_report(y_pred, y_val, target_names = labels.keys()))\n",
    "plot_cm(confusion_matrix(y_pred, y_val), labels.keys())"
   ]
  },
  {
   "cell_type": "markdown",
   "metadata": {},
   "source": [
    "## RandomForest (on extended list of features)"
   ]
  },
  {
   "cell_type": "code",
   "execution_count": 79,
   "metadata": {},
   "outputs": [
    {
     "name": "stdout",
     "output_type": "stream",
     "text": [
      "              precision    recall  f1-score   support\n",
      "\n",
      "      listed       0.90      0.92      0.91      1768\n",
      "    unlisted       0.80      0.76      0.78       732\n",
      "\n",
      "    accuracy                           0.87      2500\n",
      "   macro avg       0.85      0.84      0.85      2500\n",
      "weighted avg       0.87      0.87      0.87      2500\n",
      "\n"
     ]
    },
    {
     "data": {
      "image/png": "[encoded data removed]",
      "text/plain": [
       "<Figure size 640x480 with 2 Axes>"
      ]
     },
     "metadata": {},
     "output_type": "display_data"
    }
   ],
   "source": [
    "from sklearn.ensemble import RandomForestClassifier\n",
    "\n",
    "model_forest = RandomForestClassifier(n_estimators=100, \n",
    "                                      class_weight={0: 0.7, 1: 0.3}, \n",
    "                                      random_state=42)\n",
    "\n",
    "model_forest.fit(X_train_ext, y_train)\n",
    "\n",
    "# Predicting\n",
    "y_pred = model_forest.predict(X_val_ext)\n",
    "\n",
    "# Evaluation\n",
    "print(classification_report(y_pred, y_val, target_names = labels.keys()))\n",
    "plot_cm(confusion_matrix(y_pred, y_val), labels.keys())"
   ]
  },
  {
   "cell_type": "markdown",
   "metadata": {},
   "source": [
    "##  XGBoost model (on extended list of features)"
   ]
  },
  {
   "cell_type": "markdown",
   "metadata": {},
   "source": [
    "XGBoost can work well with sparse and high-dimensional data, such as the bag-of-words representation used in text mining, as it has built-in support for sparse data structures. XGBoost uses a technique called \"sparse-aware\" gradient boosting, which is designed to handle sparse input data more efficiently than dense data.\n",
    "\n",
    "However, when working with very large datasets, memory usage can become a concern, especially if the dataset has many features or is very sparse. In this case, you may need to consider using techniques such as feature selection or dimensionality reduction to reduce the number of features or the dimensionality of the data, or consider using distributed computing frameworks such as Apache Spark to parallelize the training process across multiple machines.\n",
    "\n",
    "In addition to XGBoost, there are other classification models that are commonly used in text mining, such as logistic regression, support vector machines, and neural networks. The choice of model will depend on the specific characteristics of your data, the size of your dataset, and the computational resources available to you. You may need to experiment with multiple models to find the best one for your specific problem."
   ]
  },
  {
   "cell_type": "code",
   "execution_count": 80,
   "metadata": {},
   "outputs": [
    {
     "name": "stdout",
     "output_type": "stream",
     "text": [
      "              precision    recall  f1-score   support\n",
      "\n",
      "      listed       0.97      0.83      0.90      2097\n",
      "    unlisted       0.50      0.85      0.63       403\n",
      "\n",
      "    accuracy                           0.84      2500\n",
      "   macro avg       0.73      0.84      0.76      2500\n",
      "weighted avg       0.89      0.84      0.85      2500\n",
      "\n"
     ]
    },
    {
     "data": {
      "image/png": "[encoded data removed]",
      "text/plain": [
       "<Figure size 640x480 with 2 Axes>"
      ]
     },
     "metadata": {},
     "output_type": "display_data"
    }
   ],
   "source": [
    "import xgboost as xgb\n",
    "\n",
    "model_xgb = xgb.XGBClassifier(scale_pos_weight=0.3, random_state=123)\n",
    "model_xgb.fit(X_train_ext, y_train)\n",
    "\n",
    "# Predicting\n",
    "y_pred = model_xgb.predict(X_val_ext)\n",
    "\n",
    "# Evaluating\n",
    "print(classification_report(y_pred, y_val, target_names = labels.keys()))\n",
    "plot_cm(confusion_matrix(y_pred, y_val), labels.keys())"
   ]
  },
  {
   "cell_type": "code",
   "execution_count": null,
   "metadata": {},
   "outputs": [],
   "source": []
  },
  {
   "cell_type": "code",
   "execution_count": null,
   "metadata": {},
   "outputs": [],
   "source": []
  }
 ],
 "metadata": {
  "kernelspec": {
   "display_name": ".tm_env",
   "language": "python",
   "name": ".tm_env"
  },
  "language_info": {
   "codemirror_mode": {
    "name": "ipython",
    "version": 3
   },
   "file_extension": ".py",
   "mimetype": "text/x-python",
   "name": "python",
   "nbconvert_exporter": "python",
   "pygments_lexer": "ipython3",
   "version": "3.10.4"
  }
 },
 "nbformat": 4,
 "nbformat_minor": 4
}
