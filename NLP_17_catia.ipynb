{
 "cells": [
  {
   "cell_type": "markdown",
   "id": "e2e6650b",
   "metadata": {},
   "source": [
    "<div class=\"alert alert-block alert-info\">\n",
    "<center> <h1> Text Mining - 2022/2023 </h1> </center> <br>\n",
    "<center> Group 17 </center>"
   ]
  },
  {
   "cell_type": "markdown",
   "id": "1ec3bd51",
   "metadata": {},
   "source": [
    "**Table of Contents** <br>\n",
    "* [1.Data Import](#dataimport)\n",
    "    * [1.1.Import Libraries](#importlibraries)\n",
    "    * [1.2.Import Datasets](#importdatasets)\n",
    "        * [1.2.1. Airbnb](#airbnb)\n",
    "        * [1.2.2. Reviews](#reviews)\n",
    "* [2.Data Exploration](#dataexploration)\n",
    "    * [2.1. Missing Values](#missingvalues)\n",
    "    * [2.2. Target data exploration](#targetdataexploration)\n",
    "    * [2.3. Independent Features data exploration](#independentdataexploration)\n",
    "        * [2.2.1. Word Counts](#wordcounts)\n",
    "        * [2.2.2. Detecting Language](#language)\n",
    "* [3.Data Preprocessing](#datapreprocessing)\n",
    "* [4.Classification Models](#classificationmodels)\n",
    "    * [4.1. Define training features - Bag of Words (Bow)](#bow)\n",
    "    * [4.2. KNeighborsClassifier](#KNN)\n",
    "    * [4.3. Random Forest](#randomforest)\n"
   ]
  },
  {
   "cell_type": "markdown",
   "id": "1580a30b",
   "metadata": {},
   "source": [
    "<hr>\n",
    "<a class=\"anchor\" id=\"dataimport\">\n",
    "    \n",
    "# 1. Data Import\n",
    "    \n",
    "</a>"
   ]
  },
  {
   "cell_type": "markdown",
   "id": "d6af8b39",
   "metadata": {},
   "source": [
    "<hr>\n",
    "<a class=\"anchor\" id=\"importlibraries\">\n",
    "    \n",
    "## 1.1. Import Libraries\n",
    "    \n",
    "</a>"
   ]
  },
  {
   "cell_type": "code",
   "execution_count": 178,
   "id": "c77a0b36",
   "metadata": {},
   "outputs": [],
   "source": [
    "import pandas as pd\n",
    "import numpy as np\n",
    "import matplotlib.pyplot as plt\n",
    "from wordcloud import WordCloud\n",
    "\n",
    "#Tokenization\n",
    "import nltk\n",
    "from nltk.tokenize import word_tokenize\n",
    "\n",
    "#Punctuation\n",
    "import string\n",
    "\n",
    "#Stop Words\n",
    "from nltk.corpus import stopwords\n",
    "\n",
    "#Regular Expressions\n",
    "import re\n",
    "\n",
    "# Stemming and Lemmatization\n",
    "from nltk.stem import SnowballStemmer\n",
    "from nltk.stem.wordnet import WordNetLemmatizer\n",
    "\n",
    "# For displaying progress bars during iterative tasks\n",
    "from tqdm import tqdm\n",
    "\n",
    "# Data Partition\n",
    "from sklearn.model_selection import train_test_split, StratifiedKFold, RepeatedStratifiedKFold\n",
    "\n",
    "# Create BoW - Bag of Words\n",
    "from sklearn.feature_extraction.text import CountVectorizer\n",
    "\n",
    "# Classifiers\n",
    "from sklearn.neighbors import KNeighborsClassifier\n",
    "from sklearn.naive_bayes import MultinomialNB\n",
    "from sklearn.ensemble import RandomForestClassifier\n",
    "\n",
    "# Evaluate\n",
    "from sklearn.metrics import classification_report\n",
    "\n",
    "# confusion_matrix\n",
    "from sklearn.metrics import confusion_matrix\n",
    "\n",
    "# Translator\n",
    "from langdetect import detect\n",
    "from googletrans import Translator\n",
    "import os\n",
    "\n",
    "# Remove emoji\n",
    "import emoji\n",
    "\n",
    "#Scaller\n",
    "from sklearn.preprocessing import MinMaxScaler"
   ]
  },
  {
   "cell_type": "markdown",
   "id": "d64002c5",
   "metadata": {},
   "source": [
    "<hr>\n",
    "<a class=\"anchor\" id=\"importdatasets\">\n",
    "    \n",
    "## 1.2. Import Datasets\n",
    "    \n",
    "</a>"
   ]
  },
  {
   "cell_type": "markdown",
   "id": "e9660875",
   "metadata": {},
   "source": [
    "<hr>\n",
    "<a class=\"anchor\" id=\"airbnb\">\n",
    "    \n",
    "### 1.2.1. Airbnb\n",
    "    \n",
    "</a>"
   ]
  },
  {
   "cell_type": "code",
   "execution_count": 2,
   "id": "d4f3609e",
   "metadata": {},
   "outputs": [
    {
     "data": {
      "text/html": [
       "<div>\n",
       "<style scoped>\n",
       "    .dataframe tbody tr th:only-of-type {\n",
       "        vertical-align: middle;\n",
       "    }\n",
       "\n",
       "    .dataframe tbody tr th {\n",
       "        vertical-align: top;\n",
       "    }\n",
       "\n",
       "    .dataframe thead th {\n",
       "        text-align: right;\n",
       "    }\n",
       "</style>\n",
       "<table border=\"1\" class=\"dataframe\">\n",
       "  <thead>\n",
       "    <tr style=\"text-align: right;\">\n",
       "      <th></th>\n",
       "      <th>index</th>\n",
       "      <th>description</th>\n",
       "      <th>host_about</th>\n",
       "      <th>unlisted</th>\n",
       "    </tr>\n",
       "  </thead>\n",
       "  <tbody>\n",
       "    <tr>\n",
       "      <th>0</th>\n",
       "      <td>1</td>\n",
       "      <td>This is a shared mixed room in our hostel, wit...</td>\n",
       "      <td>Alojamento Local Registro: 20835/AL</td>\n",
       "      <td>0</td>\n",
       "    </tr>\n",
       "    <tr>\n",
       "      <th>1</th>\n",
       "      <td>2</td>\n",
       "      <td>O meu espaço fica perto de Parque Eduardo VII,...</td>\n",
       "      <td>I am friendly host, and I will try to always b...</td>\n",
       "      <td>1</td>\n",
       "    </tr>\n",
       "    <tr>\n",
       "      <th>2</th>\n",
       "      <td>3</td>\n",
       "      <td>Trafaria’s House is a cozy and familiar villa ...</td>\n",
       "      <td>I am a social person liking to communicate, re...</td>\n",
       "      <td>1</td>\n",
       "    </tr>\n",
       "    <tr>\n",
       "      <th>3</th>\n",
       "      <td>4</td>\n",
       "      <td>Apartamento Charmoso no Chiado, Entre o Largo ...</td>\n",
       "      <td>Hello!_x000D_\\nI m Portuguese and i love to me...</td>\n",
       "      <td>0</td>\n",
       "    </tr>\n",
       "    <tr>\n",
       "      <th>4</th>\n",
       "      <td>5</td>\n",
       "      <td>Joli appartement  en bordure de mer.&lt;br /&gt; 2 m...</td>\n",
       "      <td>Nous sommes une famille avec deux enfants de 1...</td>\n",
       "      <td>0</td>\n",
       "    </tr>\n",
       "  </tbody>\n",
       "</table>\n",
       "</div>"
      ],
      "text/plain": [
       "   index                                        description  \\\n",
       "0      1  This is a shared mixed room in our hostel, wit...   \n",
       "1      2  O meu espaço fica perto de Parque Eduardo VII,...   \n",
       "2      3  Trafaria’s House is a cozy and familiar villa ...   \n",
       "3      4  Apartamento Charmoso no Chiado, Entre o Largo ...   \n",
       "4      5  Joli appartement  en bordure de mer.<br /> 2 m...   \n",
       "\n",
       "                                          host_about  unlisted  \n",
       "0                Alojamento Local Registro: 20835/AL         0  \n",
       "1  I am friendly host, and I will try to always b...         1  \n",
       "2  I am a social person liking to communicate, re...         1  \n",
       "3  Hello!_x000D_\\nI m Portuguese and i love to me...         0  \n",
       "4  Nous sommes une famille avec deux enfants de 1...         0  "
      ]
     },
     "execution_count": 2,
     "metadata": {},
     "output_type": "execute_result"
    }
   ],
   "source": [
    "airbnb_df_train = pd.read_excel('train.xlsx')\n",
    "airbnb_df_train.head()"
   ]
  },
  {
   "cell_type": "markdown",
   "id": "5084426e",
   "metadata": {},
   "source": [
    "<hr>\n",
    "<a class=\"anchor\" id=\"reviews\">\n",
    "    \n",
    "### 1.2.2. Reviews\n",
    "    \n",
    "</a>"
   ]
  },
  {
   "cell_type": "code",
   "execution_count": 3,
   "id": "054a165f",
   "metadata": {},
   "outputs": [
    {
     "data": {
      "text/html": [
       "<div>\n",
       "<style scoped>\n",
       "    .dataframe tbody tr th:only-of-type {\n",
       "        vertical-align: middle;\n",
       "    }\n",
       "\n",
       "    .dataframe tbody tr th {\n",
       "        vertical-align: top;\n",
       "    }\n",
       "\n",
       "    .dataframe thead th {\n",
       "        text-align: right;\n",
       "    }\n",
       "</style>\n",
       "<table border=\"1\" class=\"dataframe\">\n",
       "  <thead>\n",
       "    <tr style=\"text-align: right;\">\n",
       "      <th></th>\n",
       "      <th>index</th>\n",
       "      <th>comments</th>\n",
       "    </tr>\n",
       "  </thead>\n",
       "  <tbody>\n",
       "    <tr>\n",
       "      <th>0</th>\n",
       "      <td>1</td>\n",
       "      <td>this is a very cozy and comfortable house to s...</td>\n",
       "    </tr>\n",
       "    <tr>\n",
       "      <th>1</th>\n",
       "      <td>1</td>\n",
       "      <td>good&lt;br/&gt;</td>\n",
       "    </tr>\n",
       "    <tr>\n",
       "      <th>2</th>\n",
       "      <td>1</td>\n",
       "      <td>My first hostel experience, and all I have to ...</td>\n",
       "    </tr>\n",
       "    <tr>\n",
       "      <th>3</th>\n",
       "      <td>1</td>\n",
       "      <td>Das Hostel war neu und deshalb funktionierte a...</td>\n",
       "    </tr>\n",
       "    <tr>\n",
       "      <th>4</th>\n",
       "      <td>1</td>\n",
       "      <td>It was fine for a dorm, but I think for the pe...</td>\n",
       "    </tr>\n",
       "  </tbody>\n",
       "</table>\n",
       "</div>"
      ],
      "text/plain": [
       "   index                                           comments\n",
       "0      1  this is a very cozy and comfortable house to s...\n",
       "1      1                                          good<br/>\n",
       "2      1  My first hostel experience, and all I have to ...\n",
       "3      1  Das Hostel war neu und deshalb funktionierte a...\n",
       "4      1  It was fine for a dorm, but I think for the pe..."
      ]
     },
     "execution_count": 3,
     "metadata": {},
     "output_type": "execute_result"
    }
   ],
   "source": [
    "reviews_df_train = pd.read_excel('train_reviews.xlsx')\n",
    "reviews_df_train.head()"
   ]
  },
  {
   "cell_type": "markdown",
   "id": "9d59f699",
   "metadata": {},
   "source": [
    "<hr>\n",
    "<a class=\"anchor\" id=\"dataexploration\">\n",
    "    \n",
    "# 2. Data Exploration\n",
    "    \n",
    "</a>"
   ]
  },
  {
   "cell_type": "markdown",
   "id": "814dcfff",
   "metadata": {},
   "source": [
    "<hr>\n",
    "<a class=\"anchor\" id=\"missingvalues\">\n",
    "    \n",
    "## 2.1. Missing Values\n",
    "    \n",
    "</a>"
   ]
  },
  {
   "cell_type": "code",
   "execution_count": 4,
   "id": "10fabe4d",
   "metadata": {},
   "outputs": [
    {
     "data": {
      "text/plain": [
       "index          0\n",
       "description    0\n",
       "host_about     0\n",
       "unlisted       0\n",
       "dtype: int64"
      ]
     },
     "execution_count": 4,
     "metadata": {},
     "output_type": "execute_result"
    }
   ],
   "source": [
    "airbnb_df_train.isna().sum()"
   ]
  },
  {
   "cell_type": "code",
   "execution_count": 5,
   "id": "a86a3722",
   "metadata": {},
   "outputs": [
    {
     "data": {
      "text/plain": [
       "index       0\n",
       "comments    0\n",
       "dtype: int64"
      ]
     },
     "execution_count": 5,
     "metadata": {},
     "output_type": "execute_result"
    }
   ],
   "source": [
    "reviews_df_train.isna().sum()"
   ]
  },
  {
   "cell_type": "markdown",
   "id": "fbaba4c6",
   "metadata": {},
   "source": [
    "<div class=\"alert alert-block alert-success\">\n",
    "    There is no missing values in any features"
   ]
  },
  {
   "cell_type": "markdown",
   "id": "387b2223",
   "metadata": {},
   "source": [
    "<hr>\n",
    "<a class=\"anchor\" id=\"targetdataexploration\">\n",
    "    \n",
    "## 2.2. Target data exploration\n",
    "    \n",
    "</a>"
   ]
  },
  {
   "cell_type": "markdown",
   "id": "477dd376",
   "metadata": {},
   "source": [
    "Check the unique values."
   ]
  },
  {
   "cell_type": "code",
   "execution_count": 6,
   "id": "875c053b",
   "metadata": {},
   "outputs": [
    {
     "data": {
      "text/plain": [
       "array([0, 1], dtype=int64)"
      ]
     },
     "execution_count": 6,
     "metadata": {},
     "output_type": "execute_result"
    }
   ],
   "source": [
    "(airbnb_df_train['unlisted']).unique()"
   ]
  },
  {
   "cell_type": "markdown",
   "id": "c7129bee",
   "metadata": {},
   "source": [
    "Some statistics about target values"
   ]
  },
  {
   "cell_type": "code",
   "execution_count": 7,
   "id": "a3c14162",
   "metadata": {},
   "outputs": [
    {
     "data": {
      "text/plain": [
       "count    12496.000000\n",
       "mean         0.277129\n",
       "std          0.447598\n",
       "min          0.000000\n",
       "25%          0.000000\n",
       "50%          0.000000\n",
       "75%          1.000000\n",
       "max          1.000000\n",
       "Name: unlisted, dtype: float64"
      ]
     },
     "execution_count": 7,
     "metadata": {},
     "output_type": "execute_result"
    }
   ],
   "source": [
    "(airbnb_df_train['unlisted']).describe()"
   ]
  },
  {
   "cell_type": "markdown",
   "id": "6bfc0b38",
   "metadata": {},
   "source": [
    "But it is better to visualize it."
   ]
  },
  {
   "cell_type": "code",
   "execution_count": 8,
   "id": "4ac3eaef",
   "metadata": {},
   "outputs": [
    {
     "data": {
      "image/png": "[encoded data removed]",
      "text/plain": [
       "<Figure size 640x480 with 1 Axes>"
      ]
     },
     "metadata": {},
     "output_type": "display_data"
    }
   ],
   "source": [
    "# Calculate the frequency of each rating\n",
    "counts = airbnb_df_train['unlisted'].value_counts()\n",
    "\n",
    "# Create a bar chart of the ratings\n",
    "plt.bar(counts.index, counts.values, color = 'grey')\n",
    "plt.xlabel('Target')\n",
    "plt.ylabel('Frequency')\n",
    "plt.title('Distribution of Target Values')\n",
    "plt.xticks(range(0,2))\n",
    "\n",
    "# Add the value of each bar to the plot\n",
    "for i, v in enumerate(counts.values):\n",
    "    plt.text(counts.index[i] - 0.1, v + 0.1, str(v))\n",
    "\n",
    "plt.show()"
   ]
  },
  {
   "cell_type": "code",
   "execution_count": 9,
   "id": "bbd18281",
   "metadata": {},
   "outputs": [
    {
     "data": {
      "text/plain": [
       "0    0.722871\n",
       "1    0.277129\n",
       "Name: unlisted, dtype: float64"
      ]
     },
     "execution_count": 9,
     "metadata": {},
     "output_type": "execute_result"
    }
   ],
   "source": [
    "airbnb_df_train['unlisted'].value_counts(normalize = True)"
   ]
  },
  {
   "cell_type": "markdown",
   "id": "5d8fa6ae",
   "metadata": {},
   "source": [
    "<div class=\"alert alert-block alert-danger\">  \n",
    "Labels are not balanced.\n",
    "</div>"
   ]
  },
  {
   "cell_type": "markdown",
   "id": "a6b0875c",
   "metadata": {},
   "source": [
    "<hr>\n",
    "<a class=\"anchor\" id=\"independentdataexploration\">\n",
    "    \n",
    "## 2.3. Independent Features data exploration\n",
    "    \n",
    "</a>"
   ]
  },
  {
   "cell_type": "markdown",
   "id": "198e39b7",
   "metadata": {},
   "source": [
    "<hr>\n",
    "<a class=\"anchor\" id=\"wordcounts\">\n",
    "    \n",
    "### 2.3.1. Word Counts\n",
    "    \n",
    "</a>"
   ]
  },
  {
   "cell_type": "markdown",
   "id": "38b54b2a",
   "metadata": {},
   "source": [
    "We will split our texts into tokens and count how many tokens exist in each document."
   ]
  },
  {
   "cell_type": "markdown",
   "id": "7fd3391f",
   "metadata": {},
   "source": [
    "**Description**"
   ]
  },
  {
   "cell_type": "code",
   "execution_count": 10,
   "id": "c0080002",
   "metadata": {},
   "outputs": [
    {
     "data": {
      "text/html": [
       "<div>\n",
       "<style scoped>\n",
       "    .dataframe tbody tr th:only-of-type {\n",
       "        vertical-align: middle;\n",
       "    }\n",
       "\n",
       "    .dataframe tbody tr th {\n",
       "        vertical-align: top;\n",
       "    }\n",
       "\n",
       "    .dataframe thead th {\n",
       "        text-align: right;\n",
       "    }\n",
       "</style>\n",
       "<table border=\"1\" class=\"dataframe\">\n",
       "  <thead>\n",
       "    <tr style=\"text-align: right;\">\n",
       "      <th></th>\n",
       "      <th>description</th>\n",
       "      <th>word_count_description</th>\n",
       "    </tr>\n",
       "  </thead>\n",
       "  <tbody>\n",
       "    <tr>\n",
       "      <th>0</th>\n",
       "      <td>This is a shared mixed room in our hostel, wit...</td>\n",
       "      <td>127</td>\n",
       "    </tr>\n",
       "    <tr>\n",
       "      <th>1</th>\n",
       "      <td>O meu espaço fica perto de Parque Eduardo VII,...</td>\n",
       "      <td>23</td>\n",
       "    </tr>\n",
       "    <tr>\n",
       "      <th>2</th>\n",
       "      <td>Trafaria’s House is a cozy and familiar villa ...</td>\n",
       "      <td>170</td>\n",
       "    </tr>\n",
       "    <tr>\n",
       "      <th>3</th>\n",
       "      <td>Apartamento Charmoso no Chiado, Entre o Largo ...</td>\n",
       "      <td>47</td>\n",
       "    </tr>\n",
       "    <tr>\n",
       "      <th>4</th>\n",
       "      <td>Joli appartement  en bordure de mer.&lt;br /&gt; 2 m...</td>\n",
       "      <td>101</td>\n",
       "    </tr>\n",
       "  </tbody>\n",
       "</table>\n",
       "</div>"
      ],
      "text/plain": [
       "                                         description  word_count_description\n",
       "0  This is a shared mixed room in our hostel, wit...                     127\n",
       "1  O meu espaço fica perto de Parque Eduardo VII,...                      23\n",
       "2  Trafaria’s House is a cozy and familiar villa ...                     170\n",
       "3  Apartamento Charmoso no Chiado, Entre o Largo ...                      47\n",
       "4  Joli appartement  en bordure de mer.<br /> 2 m...                     101"
      ]
     },
     "execution_count": 10,
     "metadata": {},
     "output_type": "execute_result"
    }
   ],
   "source": [
    "airbnb_df_train['word_count_description']  = airbnb_df_train['description'].apply(lambda x: len(str(x).split(\" \")))\n",
    "airbnb_df_train[['description','word_count_description']].head()"
   ]
  },
  {
   "cell_type": "markdown",
   "id": "a1319b2c",
   "metadata": {},
   "source": [
    "Descriptive Statistics of word count"
   ]
  },
  {
   "cell_type": "code",
   "execution_count": 11,
   "id": "43e4dfe9",
   "metadata": {},
   "outputs": [
    {
     "data": {
      "text/plain": [
       "count    12496.000000\n",
       "mean       132.663572\n",
       "std         48.494104\n",
       "min          3.000000\n",
       "25%         99.000000\n",
       "50%        157.000000\n",
       "75%        167.000000\n",
       "max        210.000000\n",
       "Name: word_count_description, dtype: float64"
      ]
     },
     "execution_count": 11,
     "metadata": {},
     "output_type": "execute_result"
    }
   ],
   "source": [
    "airbnb_df_train.word_count_description.describe()"
   ]
  },
  {
   "cell_type": "code",
   "execution_count": 12,
   "id": "3d51c15d",
   "metadata": {},
   "outputs": [
    {
     "data": {
      "image/png": "[encoded data removed]",
      "text/plain": [
       "<Figure size 640x480 with 1 Axes>"
      ]
     },
     "metadata": {},
     "output_type": "display_data"
    }
   ],
   "source": [
    "# Calculate the frequency of each rating\n",
    "counts_desc = airbnb_df_train['word_count_description'].value_counts()\n",
    "\n",
    "# Create a bar chart of the ratings\n",
    "plt.bar(counts_desc.index, counts_desc.values, color = 'grey')\n",
    "plt.xlabel('Words Counts in \"Description\"')\n",
    "plt.ylabel('Frequency')\n",
    "plt.title('Distribution of Words in \"Description\"')\n",
    "\n",
    "plt.show()"
   ]
  },
  {
   "cell_type": "code",
   "execution_count": 13,
   "id": "1e934bba",
   "metadata": {},
   "outputs": [
    {
     "data": {
      "image/png": "[encoded data removed]",
      "text/plain": [
       "<Figure size 640x480 with 1 Axes>"
      ]
     },
     "metadata": {},
     "output_type": "display_data"
    }
   ],
   "source": [
    "# Create a list with all words in airbnb_df_train['description']\n",
    "all_words_desc = ' '.join(airbnb_df_train['description']).split()\n",
    "# The frequency of each word\n",
    "freq_desc = pd.Series(all_words_desc).value_counts()\n",
    "\n",
    "# A bar plot with the top 35 words, from description column\n",
    "x_labels = freq_desc.index[0:35]\n",
    "values = freq_desc[:35]\n",
    "plt.bar(x_labels, values, align='center', alpha=0.5, color = 'grey')\n",
    "plt.xticks(x_labels)\n",
    "plt.ylabel('Frequencies')\n",
    "plt.title('Words')\n",
    "plt.xticks(rotation=90)\n",
    "plt.show()\n"
   ]
  },
  {
   "cell_type": "markdown",
   "id": "5ca4aaf5",
   "metadata": {},
   "source": [
    "**host_about**"
   ]
  },
  {
   "cell_type": "code",
   "execution_count": 14,
   "id": "6e783fe0",
   "metadata": {},
   "outputs": [
    {
     "data": {
      "text/html": [
       "<div>\n",
       "<style scoped>\n",
       "    .dataframe tbody tr th:only-of-type {\n",
       "        vertical-align: middle;\n",
       "    }\n",
       "\n",
       "    .dataframe tbody tr th {\n",
       "        vertical-align: top;\n",
       "    }\n",
       "\n",
       "    .dataframe thead th {\n",
       "        text-align: right;\n",
       "    }\n",
       "</style>\n",
       "<table border=\"1\" class=\"dataframe\">\n",
       "  <thead>\n",
       "    <tr style=\"text-align: right;\">\n",
       "      <th></th>\n",
       "      <th>host_about</th>\n",
       "      <th>word_count_host_about</th>\n",
       "    </tr>\n",
       "  </thead>\n",
       "  <tbody>\n",
       "    <tr>\n",
       "      <th>0</th>\n",
       "      <td>Alojamento Local Registro: 20835/AL</td>\n",
       "      <td>4</td>\n",
       "    </tr>\n",
       "    <tr>\n",
       "      <th>1</th>\n",
       "      <td>I am friendly host, and I will try to always b...</td>\n",
       "      <td>24</td>\n",
       "    </tr>\n",
       "    <tr>\n",
       "      <th>2</th>\n",
       "      <td>I am a social person liking to communicate, re...</td>\n",
       "      <td>45</td>\n",
       "    </tr>\n",
       "    <tr>\n",
       "      <th>3</th>\n",
       "      <td>Hello!_x000D_\\nI m Portuguese and i love to me...</td>\n",
       "      <td>31</td>\n",
       "    </tr>\n",
       "    <tr>\n",
       "      <th>4</th>\n",
       "      <td>Nous sommes une famille avec deux enfants de 1...</td>\n",
       "      <td>37</td>\n",
       "    </tr>\n",
       "  </tbody>\n",
       "</table>\n",
       "</div>"
      ],
      "text/plain": [
       "                                          host_about  word_count_host_about\n",
       "0                Alojamento Local Registro: 20835/AL                      4\n",
       "1  I am friendly host, and I will try to always b...                     24\n",
       "2  I am a social person liking to communicate, re...                     45\n",
       "3  Hello!_x000D_\\nI m Portuguese and i love to me...                     31\n",
       "4  Nous sommes une famille avec deux enfants de 1...                     37"
      ]
     },
     "execution_count": 14,
     "metadata": {},
     "output_type": "execute_result"
    }
   ],
   "source": [
    "airbnb_df_train['word_count_host_about']  = airbnb_df_train['host_about'].apply(lambda x: len(str(x).split(\" \")))\n",
    "airbnb_df_train[['host_about','word_count_host_about']].head()"
   ]
  },
  {
   "cell_type": "markdown",
   "id": "dfc3ea97",
   "metadata": {},
   "source": [
    "Descriptive Statistics of word count"
   ]
  },
  {
   "cell_type": "code",
   "execution_count": 15,
   "id": "6f32f81e",
   "metadata": {},
   "outputs": [
    {
     "data": {
      "text/plain": [
       "count    12496.000000\n",
       "mean        73.031050\n",
       "std         77.132867\n",
       "min          1.000000\n",
       "25%         26.000000\n",
       "50%         55.000000\n",
       "75%        102.000000\n",
       "max       1387.000000\n",
       "Name: word_count_host_about, dtype: float64"
      ]
     },
     "execution_count": 15,
     "metadata": {},
     "output_type": "execute_result"
    }
   ],
   "source": [
    "airbnb_df_train.word_count_host_about.describe()"
   ]
  },
  {
   "cell_type": "code",
   "execution_count": 16,
   "id": "174da64a",
   "metadata": {},
   "outputs": [
    {
     "data": {
      "image/png": "[encoded data removed]",
      "text/plain": [
       "<Figure size 640x480 with 1 Axes>"
      ]
     },
     "metadata": {},
     "output_type": "display_data"
    }
   ],
   "source": [
    "# Calculate the frequency of each rating\n",
    "counts_host = airbnb_df_train['word_count_host_about'].value_counts()\n",
    "\n",
    "# Create a bar chart of the ratings\n",
    "plt.bar(counts_host.index, counts_host.values, color = 'grey')\n",
    "plt.xlabel('Words Counts in \"Host About\"')\n",
    "plt.ylabel('Frequency')\n",
    "plt.title('Distribution of Words in \"Host About\"')\n",
    "\n",
    "plt.show()"
   ]
  },
  {
   "cell_type": "code",
   "execution_count": 17,
   "id": "92ad0691",
   "metadata": {},
   "outputs": [
    {
     "data": {
      "image/png": "[encoded data removed]",
      "text/plain": [
       "<Figure size 640x480 with 1 Axes>"
      ]
     },
     "metadata": {},
     "output_type": "display_data"
    }
   ],
   "source": [
    "# Create a list with all words in airbnb_df_train['hoost_about']\n",
    "all_words_host = ' '.join(airbnb_df_train['host_about']).split()\n",
    "# The frequency of each word\n",
    "freq_host = pd.Series(all_words_host).value_counts()\n",
    "\n",
    "# A bar plot with the top 35 words, for 'host_about' column\n",
    "x_labels = freq_host.index[0:35]\n",
    "values = freq_host[:35]\n",
    "plt.bar(x_labels, values, align='center', alpha=0.5, color = 'grey')\n",
    "plt.xticks(x_labels)\n",
    "plt.ylabel('Frequencies')\n",
    "plt.title('Words')\n",
    "plt.xticks(rotation=90)\n",
    "plt.show()"
   ]
  },
  {
   "cell_type": "markdown",
   "id": "0992d449",
   "metadata": {},
   "source": [
    "**Comments**"
   ]
  },
  {
   "cell_type": "code",
   "execution_count": 18,
   "id": "649e18b9",
   "metadata": {},
   "outputs": [
    {
     "data": {
      "text/html": [
       "<div>\n",
       "<style scoped>\n",
       "    .dataframe tbody tr th:only-of-type {\n",
       "        vertical-align: middle;\n",
       "    }\n",
       "\n",
       "    .dataframe tbody tr th {\n",
       "        vertical-align: top;\n",
       "    }\n",
       "\n",
       "    .dataframe thead th {\n",
       "        text-align: right;\n",
       "    }\n",
       "</style>\n",
       "<table border=\"1\" class=\"dataframe\">\n",
       "  <thead>\n",
       "    <tr style=\"text-align: right;\">\n",
       "      <th></th>\n",
       "      <th>comments</th>\n",
       "      <th>word_count_comments</th>\n",
       "    </tr>\n",
       "  </thead>\n",
       "  <tbody>\n",
       "    <tr>\n",
       "      <th>0</th>\n",
       "      <td>this is a very cozy and comfortable house to s...</td>\n",
       "      <td>28</td>\n",
       "    </tr>\n",
       "    <tr>\n",
       "      <th>1</th>\n",
       "      <td>good&lt;br/&gt;</td>\n",
       "      <td>1</td>\n",
       "    </tr>\n",
       "    <tr>\n",
       "      <th>2</th>\n",
       "      <td>My first hostel experience, and all I have to ...</td>\n",
       "      <td>261</td>\n",
       "    </tr>\n",
       "    <tr>\n",
       "      <th>3</th>\n",
       "      <td>Das Hostel war neu und deshalb funktionierte a...</td>\n",
       "      <td>81</td>\n",
       "    </tr>\n",
       "    <tr>\n",
       "      <th>4</th>\n",
       "      <td>It was fine for a dorm, but I think for the pe...</td>\n",
       "      <td>27</td>\n",
       "    </tr>\n",
       "  </tbody>\n",
       "</table>\n",
       "</div>"
      ],
      "text/plain": [
       "                                            comments  word_count_comments\n",
       "0  this is a very cozy and comfortable house to s...                   28\n",
       "1                                          good<br/>                    1\n",
       "2  My first hostel experience, and all I have to ...                  261\n",
       "3  Das Hostel war neu und deshalb funktionierte a...                   81\n",
       "4  It was fine for a dorm, but I think for the pe...                   27"
      ]
     },
     "execution_count": 18,
     "metadata": {},
     "output_type": "execute_result"
    }
   ],
   "source": [
    "reviews_df_train['word_count_comments']  = reviews_df_train['comments'].apply(lambda x: len(str(x).split(\" \")))\n",
    "reviews_df_train[['comments','word_count_comments']].head()"
   ]
  },
  {
   "cell_type": "code",
   "execution_count": 19,
   "id": "5d4a7e83",
   "metadata": {},
   "outputs": [
    {
     "data": {
      "text/plain": [
       "count    721402.000000\n",
       "mean         47.993793\n",
       "std          46.922807\n",
       "min           1.000000\n",
       "25%          18.000000\n",
       "50%          36.000000\n",
       "75%          63.000000\n",
       "max        1064.000000\n",
       "Name: word_count_comments, dtype: float64"
      ]
     },
     "execution_count": 19,
     "metadata": {},
     "output_type": "execute_result"
    }
   ],
   "source": [
    "reviews_df_train.word_count_comments.describe()"
   ]
  },
  {
   "cell_type": "code",
   "execution_count": 20,
   "id": "8c374eaa",
   "metadata": {},
   "outputs": [
    {
     "data": {
      "image/png": "[encoded data removed]",
      "text/plain": [
       "<Figure size 640x480 with 1 Axes>"
      ]
     },
     "metadata": {},
     "output_type": "display_data"
    }
   ],
   "source": [
    "# Calculate the frequency of each rating\n",
    "counts_host = reviews_df_train['word_count_comments'].value_counts()\n",
    "\n",
    "# Create a bar chart of the ratings\n",
    "plt.bar(counts_host.index, counts_host.values, color = 'grey')\n",
    "plt.xlabel('Words Counts in \"Comments\"')\n",
    "plt.ylabel('Frequency')\n",
    "plt.title('Distribution of Words in \"Comments\"')\n",
    "\n",
    "plt.show()"
   ]
  },
  {
   "cell_type": "code",
   "execution_count": 21,
   "id": "5733561a",
   "metadata": {},
   "outputs": [
    {
     "data": {
      "text/html": [
       "<div>\n",
       "<style scoped>\n",
       "    .dataframe tbody tr th:only-of-type {\n",
       "        vertical-align: middle;\n",
       "    }\n",
       "\n",
       "    .dataframe tbody tr th {\n",
       "        vertical-align: top;\n",
       "    }\n",
       "\n",
       "    .dataframe thead th {\n",
       "        text-align: right;\n",
       "    }\n",
       "</style>\n",
       "<table border=\"1\" class=\"dataframe\">\n",
       "  <thead>\n",
       "    <tr style=\"text-align: right;\">\n",
       "      <th></th>\n",
       "      <th>index</th>\n",
       "      <th>comments</th>\n",
       "      <th>word_count_comments</th>\n",
       "    </tr>\n",
       "  </thead>\n",
       "  <tbody>\n",
       "    <tr>\n",
       "      <th>26593</th>\n",
       "      <td>468</td>\n",
       "      <td>10</td>\n",
       "      <td>1</td>\n",
       "    </tr>\n",
       "    <tr>\n",
       "      <th>62305</th>\n",
       "      <td>1062</td>\n",
       "      <td>1</td>\n",
       "      <td>1</td>\n",
       "    </tr>\n",
       "    <tr>\n",
       "      <th>83596</th>\n",
       "      <td>1397</td>\n",
       "      <td>1</td>\n",
       "      <td>1</td>\n",
       "    </tr>\n",
       "    <tr>\n",
       "      <th>160070</th>\n",
       "      <td>2696</td>\n",
       "      <td>0</td>\n",
       "      <td>1</td>\n",
       "    </tr>\n",
       "    <tr>\n",
       "      <th>211858</th>\n",
       "      <td>3593</td>\n",
       "      <td>9</td>\n",
       "      <td>1</td>\n",
       "    </tr>\n",
       "  </tbody>\n",
       "</table>\n",
       "</div>"
      ],
      "text/plain": [
       "        index comments  word_count_comments\n",
       "26593     468       10                    1\n",
       "62305    1062        1                    1\n",
       "83596    1397        1                    1\n",
       "160070   2696        0                    1\n",
       "211858   3593        9                    1"
      ]
     },
     "execution_count": 21,
     "metadata": {},
     "output_type": "execute_result"
    }
   ],
   "source": [
    "# Checking if there are rows where 'comments' is numberic\n",
    "numeric_column = pd.to_numeric(reviews_df_train['comments'], errors='coerce')\n",
    "numeric_rows = reviews_df_train[~numeric_column.isna()] # rows with successful conversion\n",
    "numeric_rows.head()"
   ]
  },
  {
   "cell_type": "code",
   "execution_count": 22,
   "id": "c0cbd876",
   "metadata": {},
   "outputs": [],
   "source": [
    "reviews_df_train['comments'] = reviews_df_train['comments'].astype('string')"
   ]
  },
  {
   "cell_type": "code",
   "execution_count": 23,
   "id": "89976688",
   "metadata": {},
   "outputs": [
    {
     "data": {
      "image/png": "[encoded data removed]",
      "text/plain": [
       "<Figure size 640x480 with 1 Axes>"
      ]
     },
     "metadata": {},
     "output_type": "display_data"
    }
   ],
   "source": [
    "# Create a list with all words in reviews_df_train['comments']\n",
    "all_words_comments = ' '.join(reviews_df_train['comments']).split()\n",
    "# The frequency of each word\n",
    "freq_host = pd.Series(all_words_comments).value_counts()\n",
    "\n",
    "# A bar plot with the top 35 words, for 'comments' column\n",
    "x_labels = freq_host.index[0:35]\n",
    "values = freq_host[:35]\n",
    "plt.bar(x_labels, values, align='center', alpha=0.5, color = 'grey')\n",
    "plt.xticks(x_labels)\n",
    "plt.ylabel('Frequencies')\n",
    "plt.title('Words')\n",
    "plt.xticks(rotation=90)\n",
    "plt.show()"
   ]
  },
  {
   "cell_type": "markdown",
   "id": "754498eb",
   "metadata": {},
   "source": [
    "<hr>\n",
    "<a class=\"anchor\" id=\"language\">\n",
    "    \n",
    "### 2.3.2. Detecting Language\n",
    "    \n",
    "</a>"
   ]
  },
  {
   "cell_type": "code",
   "execution_count": 24,
   "id": "96496040",
   "metadata": {},
   "outputs": [],
   "source": [
    "# Define a function to detect the language of a string\n",
    "def detect_language(text):\n",
    "    try:\n",
    "        lang = detect(text)\n",
    "    except:\n",
    "        lang = None\n",
    "    return lang"
   ]
  },
  {
   "cell_type": "markdown",
   "id": "c7c39c79",
   "metadata": {},
   "source": [
    "**Airbnb**"
   ]
  },
  {
   "cell_type": "code",
   "execution_count": 26,
   "id": "86049313",
   "metadata": {},
   "outputs": [],
   "source": [
    "#airbnb_df_train.to_csv('train_airbnb.csv', index=False)"
   ]
  },
  {
   "cell_type": "code",
   "execution_count": 27,
   "id": "6c32340a",
   "metadata": {},
   "outputs": [
    {
     "name": "stderr",
     "output_type": "stream",
     "text": [
      "13it [02:12, 10.19s/it]\n"
     ]
    }
   ],
   "source": [
    "# Detecting languages \n",
    "#source_file = 'train_airbnb.csv'\n",
    "#destination_file = 'train_airbnb_with_language.csv'\n",
    "\n",
    "#chunk_size = 1000\n",
    "#chunk_iterator = pd.read_csv(source_file, chunksize=chunk_size)\n",
    "\n",
    "# Processing data in chunks\n",
    "#for chunk in tqdm(chunk_iterator):   \n",
    "#    chunk['language_description'] = chunk['description'].apply(detect_language)\n",
    "#    chunk['language_host_about'] = chunk['host_about'].apply(detect_language)\n",
    "#    chunk.to_csv(destination_file, \n",
    "#                 index=False, \n",
    "#                 mode='a', \n",
    "#                 header=not os.path.exists(destination_file))"
   ]
  },
  {
   "cell_type": "code",
   "execution_count": 28,
   "id": "70190e1a",
   "metadata": {},
   "outputs": [
    {
     "data": {
      "text/html": [
       "<div>\n",
       "<style scoped>\n",
       "    .dataframe tbody tr th:only-of-type {\n",
       "        vertical-align: middle;\n",
       "    }\n",
       "\n",
       "    .dataframe tbody tr th {\n",
       "        vertical-align: top;\n",
       "    }\n",
       "\n",
       "    .dataframe thead th {\n",
       "        text-align: right;\n",
       "    }\n",
       "</style>\n",
       "<table border=\"1\" class=\"dataframe\">\n",
       "  <thead>\n",
       "    <tr style=\"text-align: right;\">\n",
       "      <th></th>\n",
       "      <th>index</th>\n",
       "      <th>description</th>\n",
       "      <th>host_about</th>\n",
       "      <th>unlisted</th>\n",
       "      <th>word_count_description</th>\n",
       "      <th>word_count_host_about</th>\n",
       "      <th>language_description</th>\n",
       "      <th>language_host_about</th>\n",
       "    </tr>\n",
       "  </thead>\n",
       "  <tbody>\n",
       "    <tr>\n",
       "      <th>0</th>\n",
       "      <td>1</td>\n",
       "      <td>this is a shared mixed room in our hostel  wit...</td>\n",
       "      <td>Alojamento Local Registro: 20835/AL</td>\n",
       "      <td>0</td>\n",
       "      <td>127</td>\n",
       "      <td>4</td>\n",
       "      <td>en</td>\n",
       "      <td>pt</td>\n",
       "    </tr>\n",
       "    <tr>\n",
       "      <th>1</th>\n",
       "      <td>2</td>\n",
       "      <td>o meu espa o fica perto de parque eduardo vii ...</td>\n",
       "      <td>I am friendly host, and I will try to always b...</td>\n",
       "      <td>1</td>\n",
       "      <td>23</td>\n",
       "      <td>24</td>\n",
       "      <td>pt</td>\n",
       "      <td>en</td>\n",
       "    </tr>\n",
       "    <tr>\n",
       "      <th>2</th>\n",
       "      <td>3</td>\n",
       "      <td>trafaria s house is a cozy and familiar villa ...</td>\n",
       "      <td>I am a social person liking to communicate, re...</td>\n",
       "      <td>1</td>\n",
       "      <td>170</td>\n",
       "      <td>45</td>\n",
       "      <td>en</td>\n",
       "      <td>en</td>\n",
       "    </tr>\n",
       "    <tr>\n",
       "      <th>3</th>\n",
       "      <td>4</td>\n",
       "      <td>apartamento charmoso no chiado  entre o largo ...</td>\n",
       "      <td>Hello!_x000D_\\nI m Portuguese and i love to me...</td>\n",
       "      <td>0</td>\n",
       "      <td>47</td>\n",
       "      <td>31</td>\n",
       "      <td>pt</td>\n",
       "      <td>en</td>\n",
       "    </tr>\n",
       "    <tr>\n",
       "      <th>4</th>\n",
       "      <td>5</td>\n",
       "      <td>joli appartement  en bordure de mer  br      m...</td>\n",
       "      <td>Nous sommes une famille avec deux enfants de 1...</td>\n",
       "      <td>0</td>\n",
       "      <td>101</td>\n",
       "      <td>37</td>\n",
       "      <td>fr</td>\n",
       "      <td>fr</td>\n",
       "    </tr>\n",
       "  </tbody>\n",
       "</table>\n",
       "</div>"
      ],
      "text/plain": [
       "   index                                        description  \\\n",
       "0      1  this is a shared mixed room in our hostel  wit...   \n",
       "1      2  o meu espa o fica perto de parque eduardo vii ...   \n",
       "2      3  trafaria s house is a cozy and familiar villa ...   \n",
       "3      4  apartamento charmoso no chiado  entre o largo ...   \n",
       "4      5  joli appartement  en bordure de mer  br      m...   \n",
       "\n",
       "                                          host_about  unlisted  \\\n",
       "0                Alojamento Local Registro: 20835/AL         0   \n",
       "1  I am friendly host, and I will try to always b...         1   \n",
       "2  I am a social person liking to communicate, re...         1   \n",
       "3  Hello!_x000D_\\nI m Portuguese and i love to me...         0   \n",
       "4  Nous sommes une famille avec deux enfants de 1...         0   \n",
       "\n",
       "   word_count_description  word_count_host_about language_description  \\\n",
       "0                     127                      4                   en   \n",
       "1                      23                     24                   pt   \n",
       "2                     170                     45                   en   \n",
       "3                      47                     31                   pt   \n",
       "4                     101                     37                   fr   \n",
       "\n",
       "  language_host_about  \n",
       "0                  pt  \n",
       "1                  en  \n",
       "2                  en  \n",
       "3                  en  \n",
       "4                  fr  "
      ]
     },
     "execution_count": 28,
     "metadata": {},
     "output_type": "execute_result"
    }
   ],
   "source": [
    "airbnb_df_train = pd.read_csv('train_airbnb_with_language.csv')\n",
    "airbnb_df_train.head()"
   ]
  },
  {
   "cell_type": "code",
   "execution_count": 36,
   "id": "1a27f80f",
   "metadata": {},
   "outputs": [
    {
     "name": "stdout",
     "output_type": "stream",
     "text": [
      "['en' 'pt' 'fr' 'es' 'de' 'no' 'da' 'ca' 'sv' 'it' 'nl' 'ro' 'pl' 'zh-cn'\n",
      " 'ru']\n"
     ]
    }
   ],
   "source": [
    "# How many languages are in description column:\n",
    "description_language = airbnb_df_train['language_description'].unique()\n",
    "print(description_language)"
   ]
  },
  {
   "cell_type": "code",
   "execution_count": 38,
   "id": "838a7950",
   "metadata": {},
   "outputs": [
    {
     "data": {
      "image/png": "[encoded data removed]",
      "text/plain": [
       "<Figure size 640x480 with 1 Axes>"
      ]
     },
     "metadata": {},
     "output_type": "display_data"
    }
   ],
   "source": [
    "freq = pd.Series(airbnb_df_train['language_description']).value_counts()\n",
    "\n",
    "x_labels = freq.index[0:20]\n",
    "values = freq[:20]\n",
    "plt.bar(x_labels, values, align='center', alpha=0.5)\n",
    "#plt.xticks(values, x_labels)\n",
    "plt.ylabel('Frequencies')\n",
    "plt.title('Words')\n",
    "plt.xticks(rotation=90)\n",
    "plt.show()"
   ]
  },
  {
   "cell_type": "code",
   "execution_count": 37,
   "id": "83831b7d",
   "metadata": {},
   "outputs": [
    {
     "name": "stdout",
     "output_type": "stream",
     "text": [
      "['pt' 'en' 'fr' nan 'es' 'ko' 'de' 'it' 'so' 'nl' 'zh-cn' 'ca' 'no' 'sv'\n",
      " 'af' 'sw' 'zh-tw' 'da' 'fi' 'lt' 'sk' 'tl' 'ro' 'tr' 'et' 'sl' 'he' 'vi'\n",
      " 'id' 'hr' 'ru' 'cs' 'hu']\n"
     ]
    }
   ],
   "source": [
    "# How many languages are in host_about column:\n",
    "description_host_about = airbnb_df_train['language_host_about'].unique()\n",
    "print(description_host_about)"
   ]
  },
  {
   "cell_type": "code",
   "execution_count": 39,
   "id": "b3735c6f",
   "metadata": {},
   "outputs": [
    {
     "data": {
      "image/png": "[encoded data removed]",
      "text/plain": [
       "<Figure size 640x480 with 1 Axes>"
      ]
     },
     "metadata": {},
     "output_type": "display_data"
    }
   ],
   "source": [
    "freq = pd.Series(airbnb_df_train['language_host_about']).value_counts()\n",
    "\n",
    "x_labels = freq.index[0:20]\n",
    "values = freq[:20]\n",
    "plt.bar(x_labels, values, align='center', alpha=0.5)\n",
    "#plt.xticks(values, x_labels)\n",
    "plt.ylabel('Frequencies')\n",
    "plt.title('Words')\n",
    "plt.xticks(rotation=90)\n",
    "plt.show()"
   ]
  },
  {
   "cell_type": "markdown",
   "id": "4dcfa511",
   "metadata": {},
   "source": [
    "**Review**"
   ]
  },
  {
   "cell_type": "code",
   "execution_count": 31,
   "id": "e9e041f1",
   "metadata": {},
   "outputs": [],
   "source": [
    "#reviews_df_train.to_csv('train_reviews.csv', index=False)"
   ]
  },
  {
   "cell_type": "code",
   "execution_count": 32,
   "id": "a428e9ee",
   "metadata": {},
   "outputs": [
    {
     "name": "stderr",
     "output_type": "stream",
     "text": [
      "722it [45:39,  3.79s/it]\n"
     ]
    }
   ],
   "source": [
    "# Detecting languages \n",
    "#source_file = 'train_reviews.csv'\n",
    "#destination_file = 'reviews_with_language.csv'\n",
    "\n",
    "#chunk_size = 1000\n",
    "#chunk_iterator = pd.read_csv(source_file, chunksize=chunk_size)\n",
    "\n",
    "# Processing data in chunks\n",
    "#for chunk in tqdm(chunk_iterator):\n",
    "#    chunk['language'] = chunk['comments'].apply(detect_language)\n",
    "#    chunk.to_csv(destination_file, \n",
    "#                 index=False, \n",
    "#                 mode='a', \n",
    "#                 header=not os.path.exists(destination_file))"
   ]
  },
  {
   "cell_type": "code",
   "execution_count": 34,
   "id": "234121c0",
   "metadata": {},
   "outputs": [
    {
     "data": {
      "text/html": [
       "<div>\n",
       "<style scoped>\n",
       "    .dataframe tbody tr th:only-of-type {\n",
       "        vertical-align: middle;\n",
       "    }\n",
       "\n",
       "    .dataframe tbody tr th {\n",
       "        vertical-align: top;\n",
       "    }\n",
       "\n",
       "    .dataframe thead th {\n",
       "        text-align: right;\n",
       "    }\n",
       "</style>\n",
       "<table border=\"1\" class=\"dataframe\">\n",
       "  <thead>\n",
       "    <tr style=\"text-align: right;\">\n",
       "      <th></th>\n",
       "      <th>index</th>\n",
       "      <th>comments</th>\n",
       "      <th>language</th>\n",
       "    </tr>\n",
       "  </thead>\n",
       "  <tbody>\n",
       "    <tr>\n",
       "      <th>1000</th>\n",
       "      <td>23</td>\n",
       "      <td>A well equipt, clean unit in an ideal location...</td>\n",
       "      <td>en</td>\n",
       "    </tr>\n",
       "    <tr>\n",
       "      <th>1001</th>\n",
       "      <td>23</td>\n",
       "      <td>Great place!</td>\n",
       "      <td>en</td>\n",
       "    </tr>\n",
       "    <tr>\n",
       "      <th>1002</th>\n",
       "      <td>23</td>\n",
       "      <td>Joao and his colleagues are all very kind and ...</td>\n",
       "      <td>en</td>\n",
       "    </tr>\n",
       "    <tr>\n",
       "      <th>1003</th>\n",
       "      <td>23</td>\n",
       "      <td>L'appartement est très bien. L'agence est top ...</td>\n",
       "      <td>fr</td>\n",
       "    </tr>\n",
       "    <tr>\n",
       "      <th>1004</th>\n",
       "      <td>23</td>\n",
       "      <td>1ère visite de Lisbonne: le logement est situé...</td>\n",
       "      <td>fr</td>\n",
       "    </tr>\n",
       "    <tr>\n",
       "      <th>...</th>\n",
       "      <td>...</td>\n",
       "      <td>...</td>\n",
       "      <td>...</td>\n",
       "    </tr>\n",
       "    <tr>\n",
       "      <th>1105</th>\n",
       "      <td>24</td>\n",
       "      <td>Newly, well located, fully equipped and clean ...</td>\n",
       "      <td>en</td>\n",
       "    </tr>\n",
       "    <tr>\n",
       "      <th>1106</th>\n",
       "      <td>24</td>\n",
       "      <td>Very nice place! Great location, very helpful ...</td>\n",
       "      <td>en</td>\n",
       "    </tr>\n",
       "    <tr>\n",
       "      <th>1107</th>\n",
       "      <td>24</td>\n",
       "      <td>The appartement was pretty and of good taste o...</td>\n",
       "      <td>en</td>\n",
       "    </tr>\n",
       "    <tr>\n",
       "      <th>1108</th>\n",
       "      <td>24</td>\n",
       "      <td>Wonderful little apartment in a beautiful city!</td>\n",
       "      <td>en</td>\n",
       "    </tr>\n",
       "    <tr>\n",
       "      <th>1109</th>\n",
       "      <td>24</td>\n",
       "      <td>Marce, es una gran anfitriona muy preocupada p...</td>\n",
       "      <td>es</td>\n",
       "    </tr>\n",
       "  </tbody>\n",
       "</table>\n",
       "<p>110 rows × 3 columns</p>\n",
       "</div>"
      ],
      "text/plain": [
       "      index                                           comments language\n",
       "1000     23  A well equipt, clean unit in an ideal location...       en\n",
       "1001     23                                       Great place!       en\n",
       "1002     23  Joao and his colleagues are all very kind and ...       en\n",
       "1003     23  L'appartement est très bien. L'agence est top ...       fr\n",
       "1004     23  1ère visite de Lisbonne: le logement est situé...       fr\n",
       "...     ...                                                ...      ...\n",
       "1105     24  Newly, well located, fully equipped and clean ...       en\n",
       "1106     24  Very nice place! Great location, very helpful ...       en\n",
       "1107     24  The appartement was pretty and of good taste o...       en\n",
       "1108     24    Wonderful little apartment in a beautiful city!       en\n",
       "1109     24  Marce, es una gran anfitriona muy preocupada p...       es\n",
       "\n",
       "[110 rows x 3 columns]"
      ]
     },
     "execution_count": 34,
     "metadata": {},
     "output_type": "execute_result"
    }
   ],
   "source": [
    "reviews_df_train = pd.read_csv('reviews_with_language.csv')\n",
    "reviews_df_train.iloc[1000:1110, :]"
   ]
  },
  {
   "cell_type": "code",
   "execution_count": 35,
   "id": "5120ca19",
   "metadata": {},
   "outputs": [
    {
     "data": {
      "image/png": "[encoded data removed]",
      "text/plain": [
       "<Figure size 640x480 with 1 Axes>"
      ]
     },
     "metadata": {},
     "output_type": "display_data"
    }
   ],
   "source": [
    "freq = pd.Series(reviews_df_train['language']).value_counts()\n",
    "\n",
    "x_labels = freq.index[0:20]\n",
    "values = freq[:20]\n",
    "plt.bar(x_labels, values, align='center', alpha=0.5)\n",
    "#plt.xticks(values, x_labels)\n",
    "plt.ylabel('Frequencies')\n",
    "plt.title('Words')\n",
    "plt.xticks(rotation=90)\n",
    "plt.show()"
   ]
  },
  {
   "cell_type": "markdown",
   "id": "053a2a7f",
   "metadata": {},
   "source": [
    "<hr>\n",
    "<a class=\"anchor\" id=\"datapreprocessing\">\n",
    "    \n",
    "# 3. Data Preprocessing\n",
    "    \n",
    "</a>"
   ]
  },
  {
   "cell_type": "markdown",
   "id": "a4b2857f",
   "metadata": {},
   "source": [
    "Defining a function to do the data Preprocessing for each column"
   ]
  },
  {
   "cell_type": "code",
   "execution_count": 109,
   "id": "5c37dcc1",
   "metadata": {},
   "outputs": [],
   "source": [
    "def clean(text_list, lemmatize, stemmer):\n",
    "    \n",
    "    updates = []\n",
    "    text_list.fillna('', inplace=True)\n",
    "    for j in tqdm(text_list):\n",
    "        \n",
    "        text = j\n",
    "        \n",
    "        # Lowercase Text\n",
    "        text = text.lower()\n",
    "                \n",
    "        # Remove Numerical data and puctuation\n",
    "        text = re.sub(\"[^a-zA-Z]\",\" \", text )\n",
    "        # [^&] - Returns a match for any character EXCEPT &.\n",
    "        # a-zA-Z - Returns a match for any character alphabetically between a and z, lower case or upper case.\n",
    "        \n",
    "        # Remove Stopwords\n",
    "        stop_english = set(stopwords.words('english'))\n",
    "        stop_portuguese = set(stopwords.words('portuguese'))\n",
    "        text = \" \".join([word for word in text.split() if word not in stop_english])\n",
    "        text = \" \".join([word for word in text.split() if word not in stop_portuguese])\n",
    "        \n",
    "        # Remove all 'br', 'b' and 'x'\n",
    "        remove = ['br', 'b', 'x']\n",
    "        text = \" \".join([word for word in text.split() if word not in remove])\n",
    "        \n",
    "        # Remove Emoji\n",
    "        text = \" \".join([word for word in text.split() if pd.notna(word)])\n",
    "        \n",
    "        # Lemmatize\n",
    "        lemma = WordNetLemmatizer()\n",
    "        if lemmatize:\n",
    "            text = \" \".join(lemma.lemmatize(word) for word in text.split())\n",
    "        \n",
    "        # Stemming\n",
    "        stemmer_english = SnowballStemmer('english')\n",
    "        stemmer_portuguese = SnowballStemmer('portuguese')\n",
    "        if stemmer:\n",
    "            text = \" \".join(stemmer_english.stem(word) for word in text.split())\n",
    "            text = \" \".join(stemmer_portuguese.stem(word) for word in text.split())\n",
    "                      \n",
    "        updates.append(text)\n",
    "        \n",
    "    return updates"
   ]
  },
  {
   "cell_type": "markdown",
   "id": "77bb4e8f",
   "metadata": {},
   "source": [
    "**Description**"
   ]
  },
  {
   "cell_type": "code",
   "execution_count": 61,
   "id": "25cbd0ce",
   "metadata": {},
   "outputs": [
    {
     "name": "stderr",
     "output_type": "stream",
     "text": [
      "100%|██████████| 24992/24992 [01:20<00:00, 311.51it/s]\n"
     ]
    }
   ],
   "source": [
    "updates_desc = clean(airbnb_df_train['description'], lemmatize = True, stemmer = True)"
   ]
  },
  {
   "cell_type": "code",
   "execution_count": 62,
   "id": "892b92bd",
   "metadata": {},
   "outputs": [
    {
     "data": {
      "image/png": "[encoded data removed]",
      "text/plain": [
       "<Figure size 640x480 with 1 Axes>"
      ]
     },
     "metadata": {},
     "output_type": "display_data"
    }
   ],
   "source": [
    "# create a list with all words in airbnb_df_train['description']\n",
    "all_words_desc_proc = ' '.join(updates_desc).split()\n",
    "\n",
    "# The frequency of each word\n",
    "freq_desc_proc = pd.Series(all_words_desc_proc).value_counts()\n",
    "\n",
    "# A bar plot with the top 35 words, for 'host_about' column\n",
    "x_labels = freq_desc_proc.index[0:40]\n",
    "values = freq_desc_proc[:40]\n",
    "plt.bar(x_labels, values, align='center', alpha=0.5, color = 'grey')\n",
    "plt.xticks(x_labels)\n",
    "plt.ylabel('Frequencies')\n",
    "plt.title('Words')\n",
    "plt.xticks(rotation=90)\n",
    "plt.show()"
   ]
  },
  {
   "cell_type": "code",
   "execution_count": 63,
   "id": "289e5a86",
   "metadata": {},
   "outputs": [
    {
     "data": {
      "text/plain": [
       "14733"
      ]
     },
     "execution_count": 63,
     "metadata": {},
     "output_type": "execute_result"
    }
   ],
   "source": [
    "unique_words_desc_proc = sorted(set(all_words_desc_proc))\n",
    "len(unique_words_desc_proc)"
   ]
  },
  {
   "cell_type": "code",
   "execution_count": 64,
   "id": "c63b7fb4",
   "metadata": {},
   "outputs": [
    {
     "data": {
      "text/plain": [
       "1648726"
      ]
     },
     "execution_count": 64,
     "metadata": {},
     "output_type": "execute_result"
    }
   ],
   "source": [
    "len(all_words_desc)"
   ]
  },
  {
   "cell_type": "markdown",
   "id": "c45258c1",
   "metadata": {},
   "source": [
    "<div class=\"alert alert-block alert-success\">\n",
    "Before the data preprocessing, we had 1.648.726 unique words after we reduced it to 14.733 words."
   ]
  },
  {
   "cell_type": "markdown",
   "id": "9cf5759e",
   "metadata": {},
   "source": [
    "The list of unique words in the Description"
   ]
  },
  {
   "cell_type": "code",
   "execution_count": 65,
   "id": "d367ba98",
   "metadata": {},
   "outputs": [
    {
     "name": "stdout",
     "output_type": "stream",
     "text": [
      "['aanwezig', 'ab', 'aba', 'abad', 'abaiss', 'abaix', 'abaj', 'aban', 'abandon', 'abarrac', 'abast', 'abbaubar', 'abelh', 'abelheir', 'aben', 'abend', 'abenteur', 'aber', 'abert', 'abertur', 'abgehend', 'abgeht', 'abgeschliffen', 'abgeschlossen', 'abh', 'abholung', 'abid', 'abient', 'abil', 'abklappern', 'abl', 'abli', 'abnb', 'aboard', 'abod', 'abond', 'abonn', 'abordag', 'abou', 'abound', 'abr', 'abra', 'abrac', 'abrangent', 'abre', 'abrig', 'abril', 'abrir', 'abroad', 'abrunheir', 'abschalten', 'abseit', 'absenc', 'absens', 'absolu', 'absolut', 'absolutament', 'absorb', 'absorv', 'abster', 'abstract', 'absurd', 'abund', 'abus', 'abut', 'ac', 'aca', 'acab', 'acabamentosapart', 'acac', 'acad', 'academ', 'acapulc', 'acas', 'acc', 'acced', 'acceess', 'accent', 'accentu', 'accep', 'accept', 'acces', 'accesor', 'access', 'accessib', 'accessibilit', 'accessibl', 'accessor', 'accesst', 'accid', 'acclaim', 'acco', 'accom', 'accommod', 'accommodat', 'accomod', 'accompan', 'accomplish', 'accord', 'accordin', 'account', 'accoutr', 'accredit', 'accueil', 'accueill', 'accueilleron', 'accueillon', 'accumul', 'accur', 'accurac', 'ace', 'acean', 'aced', 'acedem', 'aceit', 'aceitam', 'acentu', 'acert', 'aces', 'acess', 'acessibildad', 'acessibilidad', 'acessivel', 'ach', 'acha', 'achad', 'achiev', 'achitektur', 'achtertuin', 'achtung', 'acient', 'acim', 'acknowledg', 'aclam', 'aco', 'acogedor', 'acolh', 'acolhedor', 'acomed', 'acommod', 'acomocadt', 'acomod', 'acomp', 'acompanh', 'aconcheg', 'aconchegant', 'acondicion', 'aconselh', 'aconselham', 'acont', 'acontec', 'acord', 'acostum', 'acoust', 'acoustiqu', 'acqu', 'acquaint', 'acr', 'acredit', 'acresc', 'acrescent', 'across', 'act', 'action', 'activ', 'actividad', 'activit', 'acto', 'actor', 'actua', 'actual', 'acumod', 'acumul', 'acupunc', 'acupunctur', 'ad', 'ada', 'adagi', 'adamastor', 'adan', 'adapt', 'adaptet', 'adaptor', 'adasm', 'add', 'addi', 'addicion', 'addicional', 'addicon', 'addict', 'addit', 'additi', 'addition', 'address', 'ade', 'adeg', 'adeir', 'adel', 'adelin', 'adem', 'adema', 'adenium', 'adept', 'adequ', 'ader', 'adeus', 'adher', 'adi', 'adicion', 'adiciona', 'adicionalment', 'adit', 'adjac', 'adjacent', 'adjoin', 'adjust', 'admi', 'administr', 'admir', 'admirez', 'admit', 'adn', 'adnar', 'ado', 'adonn', 'adop', 'adopt', 'ador', 'adoram', 'adoravel', 'adormec', 'adorn', 'adoron', 'adot', 'adquir', 'adrag', 'adress', 'adri', 'adrienn', 'adsl', 'adult', 'advanc', 'advantag', 'adventur', 'advert', 'advic', 'advis', 'aeg', 'aem', 'aerat', 'aerial', 'aerobus', 'aerodrom', 'aeropor', 'aeroport', 'aeroportolisbo', 'aeropot', 'aesthet', 'aexcelent', 'af', 'afam', 'afar', 'afast', 'afet', 'afetividad', 'aff', 'affa', 'affect', 'affich', 'affluent', 'afford', 'afgewerkt', 'aficcion', 'aficion', 'afield', 'afin', 'afloat', 'afons', 'aford', 'aforement', 'afrani', 'afresh', 'afric', 'african', 'aft', 'aftermath', 'afternoon', 'aftertnoon', 'afterward', 'afterword', 'ag', 'again', 'agapit', 'age', 'agem', 'agenc', 'agend', 'agent', 'aggreg', 'agit', 'aglom', 'ago', 'agor', 'agost', 'agr', 'agra', 'agrad', 'agradavel', 'agradec', 'agradecem', 'agre', 'agreeabl', 'agreement', 'agreg', 'agricol', 'agricultor', 'agricultur', 'agrobi', 'agronom', 'agrotur', 'agu', 'agualv', 'aguard', 'aguardam', 'aguarel', 'agud', 'agui', 'ah', 'ahaid', 'ahead', 'ahem', 'ai', 'aid', 'aidnatur', 'aim', 'aiment', 'aimez', 'aind', 'ains', 'aiport', 'air', 'airbag', 'airbnb', 'airc', 'aircon', 'aircondiciona', 'aircondit', 'aircondition', 'airdry', 'airflow', 'airfry', 'airon', 'airoport', 'airp', 'airplan', 'airplay', 'airport', 'airportt', 'airstr', 'ais', 'aisl', 'ajardin', 'ajud', 'ajug', 'ajul', 'ajust', 'akadem', 'akas', 'aktivit', 'aktuel', 'al', 'alac', 'alago', 'alam', 'alamed', 'alarm', 'albarraqu', 'alberg', 'albert', 'album', 'alc', 'alcabidech', 'alcan', 'alcanc', 'alcant', 'alcantr', 'alcatr', 'alchohol', 'alcob', 'alcohol', 'alcool', 'alcov', 'ald', 'alde', 'aldeament', 'aldi', 'ale', 'alecrim', 'alegr', 'alem', 'alement', 'alenc', 'alenqu', 'alentej', 'alentejan', 'alentour', 'alerg', 'alex', 'alexandr', 'alexandrin', 'alf', 'alfacinh', 'alfaiat', 'alfam', 'alfamaviertel', 'alfastay', 'alfazem', 'alflam', 'alfornel', 'alfra', 'alfragid', 'alfred', 'alfresc', 'alg', 'algarv', 'algo', 'algod', 'algodi', 'algu', 'alguien', 'algum', 'algun', 'alhandr', 'alhe', 'ali', 'alibab', 'alic', 'aliciant', 'align', 'alik', 'aliment', 'alimenta', 'alison', 'alitl', 'aliv', 'aljezur', 'alkanet', 'alkoven', 'alkovenschlafzimm', 'all', 'allein', 'alleinreisend', 'allem', 'allemand', 'allen', 'allend', 'allerg', 'allergen', 'alley', 'alleyway', 'allez', 'alli', 'alliant', 'allo', 'alloc', 'allot', 'allow', 'allspic', 'alltag', 'allthough', 'allud', 'allur', 'allus', 'allway', 'alma', 'almad', 'almadopac', 'almagr', 'almalus', 'alme', 'almedin', 'almirant', 'almo', 'almoc', 'almocag', 'almof', 'almond', 'almost', 'almotac', 'alo', 'alocala', 'aloft', 'alog', 'aloh', 'aloj', 'alojamant', 'alojamient', 'alom', 'alon', 'along', 'alongsid', 'alor', 'alot', 'alow', 'aloys', 'alpendr', 'alqueid', 'alquil', 'alquim', 'alre', 'alread', 'alrread', 'also', 'alt', 'alta', 'altant', 'altar', 'altbau', 'alten', 'alter', 'alteram', 'altern', 'although', 'althought', 'alti', 'altic', 'altid', 'altitud', 'alto', 'altough', 'altstadt', 'altstadtapart', 'altstadthaus', 'altstadtlag', 'altstadtlagen', 'altstadtviertel', 'altstadtwohnung', 'altstadtzentrum', 'altur', 'alug', 'alugam', 'alugu', 'aluguel', 'aluj', 'alum', 'aluminium', 'alvalad', 'alvar', 'alvid', 'alvit', 'alvo', 'alway', 'ama', 'amac', 'amador', 'amaiz', 'amal', 'amaliastudi', 'amam', 'amanh', 'amanhec', 'amant', 'amar', 'amarel', 'amarelinh', 'amarotrain', 'amateur', 'amatric', 'amaz', 'amazin', 'amazon', 'amba', 'ambass', 'ambassad', 'ambi', 'ambianc', 'ambienc', 'ambient', 'ambit', 'ambo', 'ameixoeir', 'amen', 'amendoeir', 'amendoim', 'amenet', 'amenidad', 'amenit', 'ament', 'american', 'ami', 'amic', 'amid', 'amidst', 'amig', 'amin', 'amirant', 'amiss', 'amist', 'ammen', 'amnest', 'amo', 'amobl', 'among', 'amongst', 'amor', 'amora', 'amoreir', 'amount', 'amour', 'amoureux', 'amourxox', 'amov', 'amp', 'amphitheatr', 'ampl', 'ampla', 'ampli', 'amplitud', 'amplo', 'amuebl', 'amus', 'an', 'ana', 'analyst', 'anan', 'anbietet', 'ancestor', 'ancestr', 'anchor', 'anciant', 'ancien', 'ancient', 'anclan', 'and', 'anda', 'andaim', 'andam', 'andand', 'andar', 'andcomput', 'andd', 'ander', 'anderen', 'andersen', 'andif', 'ando', 'andorinh', 'andr', 'andra', 'andrad', 'andresen', 'andressen', 'andrew', 'andro', 'android', 'andthisisr', 'ane', 'anet', 'anex', 'anfallend', 'anfitr', 'anfrag', 'ang', 'angefertigten', 'angel', 'angelin', 'angenehm', 'angenehmen', 'angeschlossen', 'angl', 'angla', 'angol', 'angul', 'anim', 'anima', 'animaux', 'anin', 'anit', 'aniv', 'anjo', 'anjus', 'ankunft', 'anlag', 'anlaufpunkt', 'anleg', 'anliegerstr', 'anmachen', 'anmietung', 'ann', 'anna', 'annat', 'annehmlichkeiten', 'annex', 'anniversar', 'anno', 'annonc', 'announc', 'annual', 'ano', 'anonim', 'anoth', 'anre', 'anschli', 'anschliessend', 'anschluss', 'anslutn', 'answer', 'ant', 'antar', 'antec', 'antechamb', 'antecip', 'antepass', 'anterior', 'anteroom', 'anth', 'anthem', 'anther', 'anthon', 'anti', 'antic', 'anticip', 'anticorr', 'antig', 'antigament', 'antigen', 'antigu', 'antiguidad', 'antik', 'antiken', 'antiqu', 'antiquar', 'antiquarian', 'antoni', 'antoninh', 'antun', 'anua', 'anunc', 'anunci', 'anwesen', 'anybod', 'anymor', 'anyon', 'anyth', 'anytim', 'anyway', 'anywher', 'aond', 'aotocarr', 'aoustand', 'ap', 'apa', 'apagu', 'apaixon', 'apaixonant', 'apanh', 'apar', 'aparelh', 'apart', 'apartamentfor', 'apartemnt', 'aparthotel', 'apartm', 'apartmanet', 'apartmen', 'apartment', 'apartmenth', 'apartments', 'apartmentth', 'apartmentwith', 'apartr', 'apat', 'ape', 'apeadeir', 'apedestrian', 'apel', 'apen', 'aper', 'aperit', 'aperitif', 'apes', 'apetec', 'apetrech', 'api', 'aplainc', 'aplic', 'apo', 'apoi', 'apol', 'apolin', 'apollon', 'apolog', 'apolon', 'apont', 'aposent', 'apotek', 'app', 'appar', 'apparatuur', 'apparel', 'appart', 'appartmen', 'appartment', 'appe', 'appeal', 'appel', 'appet', 'appl', 'applaic', 'appletv', 'appli', 'applian', 'applianc', 'applic', 'applicab', 'applienc', 'appliqu', 'appoint', 'apport', 'appr', 'apprec', 'apprentic', 'approach', 'appropr', 'approv', 'approx', 'approxim', 'approximat', 'appt', 'appuy', 'apr', 'apraz', 'aprec', 'aprend', 'apresent', 'apresentam', 'apricot', 'april', 'aprk', 'apron', 'apropr', 'apropri', 'aprov', 'aprovech', 'aprovechen', 'aproveit', 'aprox', 'aproxim', 'aproximadament', 'aprt', 'aprtment', 'apt', 'apto', 'aqu', 'aquaduct', 'aquarium', 'aquat', 'aquec', 'aqueced', 'aquecedor', 'aqueduct', 'aquedut', 'aquip', 'ar', 'ara', 'arab', 'arabesqu', 'arar', 'arbeitsbereich', 'arbnb', 'arbor', 'arboriz', 'arbr', 'arc', 'arca', 'arcad', 'arch', 'archaeolog', 'archaic', 'archeir', 'archell', 'archi', 'archichetur', 'architec', 'architect', 'architecton', 'architectur', 'architektonisch', 'architektur', 'architekturensembl', 'archway', 'arcitectur', 'arco', 'are', 'area', 'areal', 'areeir', 'arej', 'arelh', 'aren', 'arent', 'areobus', 'argentin', 'arguabl', 'ari', 'arisen', 'aristocrac', 'aristocrat', 'aristocratiqu', 'ariston', 'arm', 'arma', 'arman', 'armand', 'armari', 'armaz', 'armazen', 'armcha', 'armi', 'armo', 'armon', 'arna', 'arom', 'aromat', 'aron', 'aros', 'arou', 'aroud', 'around', 'aroung', 'arq', 'arqueol', 'arquitect', 'arquitectur', 'arquitet', 'arquitetur', 'arr', 'arrab', 'arrak', 'arrang', 'arranj', 'array', 'arrec', 'arredor', 'arrefec', 'arreir', 'arrend', 'arrepend', 'arri', 'arriag', 'arrib', 'arrifan', 'arrisc', 'arriv', 'arrivez', 'arro', 'arroi', 'arroio', 'arrondiss', 'arround', 'arruament', 'arrud', 'arrum', 'art', 'artdec', 'artefact', 'artemid', 'artemis', 'arter', 'artesan', 'artesana', 'artesanat', 'artfact', 'arti', 'articl', 'articul', 'artifact', 'artificialment', 'artig', 'artisan', 'artisanat', 'artist', 'artsi', 'artvill', 'artwork', 'artzi', 'arvor', 'as', 'asa', 'asambl', 'ascend', 'ascens', 'ascenseur', 'ascensor', 'ascent', 'asces', 'ash', 'ashion', 'ashtray', 'asi', 'asian', 'asid', 'ask', 'askin', 'asleep', 'asp', 'aspec', 'aspect', 'aspectacul', 'aspet', 'asphalt', 'aspir', 'ass', 'assad', 'assafor', 'assegur', 'asseguram', 'assei', 'assembl', 'assemelh', 'assent', 'assept', 'asset', 'assign', 'assim', 'assin', 'assinal', 'assinatur', 'assist', 'asso', 'assoc', 'assort', 'assouv', 'assum', 'assun', 'assur', 'astern', 'asthmat', 'astonish', 'astra', 'astral', 'astronom', 'aswel', 'asymmetr', 'atala', 'atalh', 'ate', 'atel', 'ateliersurf', 'atellit', 'atemoy', 'atempadament', 'aten', 'atenc', 'atenca', 'atencion', 'atend', 'atent', 'ateur', 'athlet', 'athmosf', 'athmosph', 'atic', 'atip', 'atitud', 'atividad', 'atl', 'atlant', 'atlanticview', 'atlantik', 'atlantikk', 'atlantiqu', 'atm', 'atmosf', 'atmospeh', 'atmospehr', 'atmosph', 'ato', 'atoalh', 'atop', 'atr', 'atra', 'atrac', 'atraccion', 'atract', 'atractt', 'atraent', 'atras', 'atrat', 'atrav', 'atravess', 'atrevet', 'atribu', 'atrium', 'atsmosph', 'att', 'attach', 'attempt', 'attenant', 'attend', 'attendon', 'attent', 'attest', 'attic', 'attik', 'attir', 'attitud', 'attrac', 'attract', 'attractif', 'attraktiv', 'attribut', 'atua', 'atual', 'atualiz', 'atualment', 'atyp', 'atypiqu', 'au', 'auch', 'auchan', 'aucun', 'audi', 'audiovisu', 'auf', 'aufenthalt', 'aufenthaltsraum', 'auffrischen', 'aufpr', 'auftanken', 'aufwachen', 'aufwendig', 'aufzug', 'aufzuladen', 'aug', 'august', 'aujourd', 'aul', 'aum', 'aument', 'aunt', 'aur', 'aurez', 'auror', 'ausblick', 'ausblicken', 'ausfl', 'ausgang', 'ausgangslag', 'ausgangspunkt', 'ausgebaut', 'ausgef', 'ausgestatet', 'ausgestatt', 'ausgestattet', 'ausgestatteten', 'ausgesucht', 'ausgew', 'ausgezeichnet', 'ausgezeichneten', 'ausleihen', 'auslicken', 'ausreichend', 'auss', 'aussenbereich', 'aussentrepp', 'aussicht', 'aussit', 'ausstattung', 'ausstrahlung', 'austin', 'austr', 'austral', 'auszeit', 'ausziehb', 'aut', 'autant', 'autent', 'autenticidad', 'auteur', 'authent', 'authenticit', 'authentiqu', 'authentisch', 'authentischen', 'author', 'authorit', 'autob', 'autobus', 'autoc', 'autocaravan', 'autocarr', 'autodrom', 'autoestr', 'autom', 'automat', 'automaticament', 'automatisch', 'autominuten', 'automobil', 'autonom', 'autor', 'autoridad', 'autorit', 'autoriz', 'autorizaca', 'autour', 'autoverkehr', 'autr', 'autumn', 'aux', 'auxiliar', 'av', 'ava', 'avaiabl', 'avail', 'availab', 'availabil', 'availabl', 'aval', 'avan', 'avant', 'avaradg', 'ave', 'avec', 'avellin', 'aven', 'avenc', 'aventur', 'avenu', 'aver', 'averag', 'avez', 'avi', 'aviat', 'avid', 'avieir', 'avil', 'avis', 'avist', 'avo', 'avoc', 'avoid', 'avoisinant', 'avon', 'avril', 'avstand', 'aw', 'awa', 'await', 'awak', 'awaken', 'awar', 'award', 'awat', 'away', 'awe', 'awesom', 'awn', 'awoken', 'awsom', 'ax', 'axi', 'az', 'azafam', 'azambuj', 'azamor', 'azarujinh', 'azeit', 'azenh', 'azeved', 'azienk', 'azo', 'azor', 'azu', 'azul', 'azuleij', 'azulej', 'ba', 'bab', 'babyb', 'babysint', 'babysit', 'babysitt', 'bacalh', 'bacalhau', 'bacalho', 'bacalhoeir', 'bachelor', 'bachelorett', 'back', 'backdoor', 'backdrop', 'backgarden', 'background', 'backofen', 'backpack', 'backsid', 'backsplash', 'backy', 'backyard', 'bacoban', 'bacon', 'bact', 'bacur', 'bad', 'badebuchten', 'badeort', 'badestr', 'badewann', 'badewannen', 'badezimm', 'badezimmern', 'badk', 'badminton', 'badroom', 'badt', 'badu', 'baech', 'baed', 'baedern', 'bafureir', 'bag', 'bagag', 'bagagen', 'bagatel', 'baggag', 'bagless', 'bagpack', 'bah', 'baham', 'bahnhof', 'bahtroom', 'bai', 'baign', 'baigno', 'bail', 'bain', 'bair', 'bairr', 'bairrist', 'bairroalt', 'bairrol', 'bairrr', 'baix', 'bak', 'baker', 'bal', 'balanc', 'balayett', 'balc', 'balcom', 'balcon', 'balconett', 'balconn', 'balconnet', 'baldaquin', 'baleal', 'baliz', 'balkon', 'balkonterrass', 'ball', 'ballad', 'ballet', 'balm', 'baln', 'balnear', 'balo', 'baloney', 'bambo', 'bambus', 'ban', 'banan', 'banc', 'band', 'bandstand', 'bandwidth', 'bangalow', 'banh', 'banheir', 'bank', 'bankrupt', 'banquet', 'banquett', 'banz', 'banza', 'baob', 'bar', 'barat', 'barb', 'barbacu', 'barbadinh', 'barbarian', 'barbec', 'barbecu', 'barbequ', 'barbeuk', 'barc', 'barcaren', 'barcelon', 'bardz', 'barefoot', 'barg', 'bargain', 'bari', 'barn', 'barnett', 'baron', 'baroqu', 'barr', 'barrac', 'barreir', 'barrel', 'barri', 'barril', 'barroc', 'barros', 'bartolom', 'barulh', 'barzinh', 'bas', 'basalt', 'basement', 'basic', 'basicament', 'basil', 'basilik', 'basiliqu', 'basin', 'bask', 'basket', 'basketbal', 'basquet', 'bast', 'bastant', 'bastion', 'bat', 'batalh', 'batedeir', 'bater', 'bath', 'bathhous', 'bathr', 'bathro', 'bathrob', 'bathrom', 'bathroom', 'bathroomt', 'bathroon', 'bathrooom', 'batht', 'bathtub', 'batiment', 'batist', 'battant', 'batter', 'bau', 'baujahr', 'baum', 'baumhaus', 'bauw', 'bav', 'bax', 'bay', 'bayleaf', 'bb', 'bbc', 'bbq', 'bbqs', 'bco', 'bcool', 'bcstay', 'bd', 'bdr', 'bdrm', 'bdrms', 'bdsm', 'be', 'bea', 'beac', 'beach', 'beachbreak', 'beachcru', 'beachfront', 'beachin', 'beachom', 'beachous', 'beachten', 'beachtour', 'bead', 'beam', 'bean', 'beanbag', 'bear', 'beat', 'beaten', 'beatiful', 'beatriz', 'beatut', 'beau', 'beaucoup', 'beaut', 'beautician', 'beautiest', 'beautif', 'beautifu', 'beautiful', 'beautifuland', 'beautifulstudi', 'beauyt', 'beb', 'bec', 'bech', 'becom', 'bed', 'bedarf', 'bedazzl', 'bedcloth', 'bedcouch', 'bedd', 'bedden', 'bedhroom', 'bedingt', 'bedlinen', 'bedlinnen', 'bedr', 'bedrm', 'bedro', 'bedrock', 'bedrom', 'bedroom', 'bedroomapart', 'bedroomin', 'bedroomsal', 'bedroomsh', 'bedroon', 'bedrrom', 'bedsheet', 'bedsid', 'bedsof', 'bedtim', 'bee', 'beed', 'beedroom', 'beer', 'beetwen', 'bef', 'befinden', 'befindet', 'befor', 'beforehand', 'beg', 'began', 'begehb', 'begeistern', 'beggin', 'begin', 'beginn', 'begr', 'beguil', 'beguin', 'behav', 'behavior', 'behaviour', 'beheizt', 'beherbergen', 'behind', 'behold', 'bei', 'beid', 'beiden', 'beifahrersitz', 'beig', 'beij', 'beim', 'beinhaltet', 'beir', 'bekannten', 'bekommen', 'bel', 'belcon', 'belegung', 'belen', 'beleuchtung', 'belez', 'belfr', 'belg', 'belgian', 'belgium', 'belich', 'beliebt', 'beliebten', 'belief', 'believ', 'belisim', 'bell', 'bellevu', 'bellez', 'bellisim', 'bellissim', 'bellow', 'beln', 'belong', 'belongin', 'belour', 'belov', 'belv', 'belved', 'bem', 'bemalt', 'bempost', 'ben', 'bench', 'beneat', 'beneath', 'benedict', 'benedit', 'benefic', 'benefit', 'benevol', 'benfic', 'bengal', 'benguel', 'benirr', 'bens', 'bent', 'benutzt', 'benv', 'benvenut', 'beourguest', 'bequ', 'bequemen', 'ber', 'beral', 'berard', 'berc', 'berdach', 'berechnet', 'bereich', 'bereiken', 'bereit', 'berg', 'bergement', 'bergen', 'bergigen', 'berhaupt', 'berhinaus', 'berlegt', 'berleng', 'berliegenden', 'berlin', 'berlind', 'bern', 'bernachtest', 'bernard', 'bernardim', 'bernardin', 'beroom', 'berr', 'berrascht', 'bert', 'berth', 'bertrand', 'berw', 'beryl', 'beschikba', 'beschikt', 'besid', 'besitz', 'besitzerin', 'besitzern', 'besitzt', 'besoin', 'besond', 'besonderen', 'bespok', 'best', 'besteck', 'besteht', 'besten', 'bestfriend', 'besthomestay', 'bestimmt', 'besuch', 'bet', 'beteween', 'bethleh', 'bethroom', 'betr', 'betritt', 'betrittst', 'bett', 'betten', 'bettsof', 'bettw', 'bettzimm', 'betw', 'betwen', 'beuat', 'beuatiful', 'beut', 'bev', 'beverag', 'bew', 'bewohn', 'bewohnern', 'beyond', 'beziehen', 'bezogen', 'bi', 'bianc', 'bias', 'biberstein', 'bibliotec', 'biblioth', 'bibliothek', 'bic', 'bicam', 'bich', 'bichinhodasviagen', 'bicicl', 'biciclet', 'bicilclet', 'bicud', 'bicycl', 'bid', 'bidet', 'bien', 'bient', 'bienv', 'bienven', 'bienvenu', 'bienvenus', 'bieten', 'bietet', 'big', 'bigg', 'biggest', 'bigod', 'bij', 'bik', 'bikelan', 'biken', 'bikeway', 'bil', 'bild', 'bilden', 'bildet', 'bilh', 'bilhet', 'bill', 'billiard', 'bilres', 'bimin', 'bin', 'bing', 'binnen', 'bio', 'biol', 'biolog', 'biologist', 'biomb', 'biosf', 'bird', 'birdwatch', 'birr', 'birth', 'birthday', 'birthplac', 'bisc', 'biscuit', 'bist', 'bistr', 'bit', 'bitt', 'bival', 'bl', 'black', 'blackbird', 'blackout', 'blacon', 'blanc', 'blanch', 'bland', 'blank', 'blanket', 'blanquet', 'blast', 'blau', 'blaz', 'blcon', 'bldg', 'ble', 'bleach', 'bleiben', 'bleibt', 'bleisur', 'blend', 'bler', 'bles', 'bless', 'bleu', 'bli', 'blic', 'blick', 'blicken', 'blickgesch', 'blind', 'blink', 'bliss', 'blo', 'block', 'blog', 'blond', 'blondel', 'blood', 'bloom', 'bloqu', 'bloquei', 'blow', 'blown', 'blu', 'blueground', 'blueray', 'bluetooht', 'bluetooth', 'bluewanderlust', 'blumen', 'blumenbeet', 'blush', 'bmyguest', 'bnb', 'bo', 'boa', 'boar', 'board', 'boardg', 'boardwalk', 'boast', 'boat', 'boaventur', 'boavist', 'boc', 'bock', 'boconcept', 'bod', 'bodentief', 'bodyboard', 'bodywork', 'boh', 'bohem', 'bohemian', 'boi', 'boil', 'boir', 'boist', 'bojador', 'bol', 'bolach', 'bold', 'boletim', 'boletin', 'bolh', 'bollywood', 'bolt', 'bom', 'bomb', 'bombard', 'bombarr', 'bombeir', 'bomgust', 'bon', 'bond', 'bonf', 'bonheur', 'bonit', 'bonn', 'bonus', 'boo', 'book', 'bookabl', 'bookc', 'bookin', 'booklet', 'bookshelf', 'bookshop', 'bookstor', 'boom', 'boost', 'booth', 'bor', 'borardwalk', 'bord', 'bordal', 'bordall', 'bordeaux', 'bordur', 'borg', 'born', 'borough', 'borrow', 'bos', 'bosc', 'bosch', 'bosqu', 'boss', 'bost', 'bosu', 'bot', 'botan', 'botaniqu', 'both', 'botij', 'botinac', 'bottenv', 'bottl', 'bottom', 'boubl', 'boudh', 'boug', 'bougainvill', 'bought', 'bouillo', 'boul', 'boulanger', 'bould', 'boulevard', 'bounc', 'bound', 'boundar', 'bount', 'bourdain', 'bourgeo', 'bout', 'bouteill', 'boutiqu', 'boven', 'bow', 'bowl', 'box', 'boy', 'boyfriend', 'bp', 'bpi', 'bq', 'bra', 'brac', 'brag', 'bragan', 'brak', 'branc', 'branch', 'brand', 'brandnew', 'brasil', 'brasileir', 'brass', 'brasser', 'brauchst', 'braucht', 'braun', 'brav', 'brazil', 'brazilian', 'bre', 'breach', 'breackfast', 'bread', 'break', 'breakag', 'breakaway', 'breakfast', 'breakfeast', 'breakfest', 'breakout', 'breath', 'breathless', 'breathtak', 'breed', 'breez', 'breit', 'breiten', 'brel', 'bres', 'brev', 'brew', 'brewer', 'breyn', 'bri', 'bric', 'brick', 'brickwork', 'bridg', 'brief', 'brig', 'brigen', 'brigh', 'bright', 'brighten', 'brightest', 'brigth', 'brilh', 'brilhant', 'briliant', 'brilliant', 'brim', 'brinc', 'brincadeir', 'brind', 'bring', 'bringen', 'brinqued', 'bris', 'brit', 'british', 'bro', 'broad', 'broadband', 'broadcast', 'brochur', 'brok', 'bronz', 'bros', 'broth', 'brotschneidemaschin', 'brought', 'brow', 'brown', 'brownston', 'brows', 'brqgwnfi', 'bruit', 'brun', 'brunch', 'brut', 'brya', 'bsche', 'bsches', 'bse', 'bt', 'bth', 'btt', 'btw', 'bu', 'bua', 'bubbl', 'buc', 'bucel', 'buch', 'buchol', 'buchten', 'buchu', 'buchungen', 'bucket', 'bucol', 'bud', 'buddh', 'budget', 'budh', 'budhh', 'budzen', 'buen', 'buenisim', 'buff', 'buffet', 'buganv', 'bugget', 'bugi', 'bui', 'buid', 'buil', 'build', 'buildin', 'buildng', 'buildu', 'builid', 'built', 'buis', 'buisn', 'buitenkeuken', 'buk', 'bul', 'bulb', 'buld', 'bulg', 'bulk', 'bull', 'bullet', 'bulletin', 'bullr', 'bun', 'bunch', 'bundl', 'bungalow', 'bunk', 'bunkb', 'bunt', 'bunten', 'burberr', 'bureau', 'burg', 'burganlag', 'burgh', 'burgund', 'burlap', 'burlesqu', 'burlington', 'burn', 'burnay', 'burr', 'burst', 'bus', 'busc', 'buscan', 'bush', 'bushaltestell', 'busi', 'busiest', 'busin', 'businessman', 'busqu', 'buss', 'busstat', 'busstop', 'bustan', 'bustl', 'butch', 'butcher', 'butt', 'butterfl', 'button', 'buurt', 'buvant', 'buy', 'buzin', 'buzz', 'bycicl', 'bye', 'byen', 'byron', 'byseacl', 'bzw', 'c', 'ca', 'cab', 'caban', 'cabaz', 'cabeceir', 'cabel', 'cabeleir', 'cabeleireir', 'cabid', 'cabif', 'cabin', 'cabinet', 'cabinetr', 'cabl', 'cabletv', 'cabral', 'cac', 'cach', 'cachet', 'cachorr', 'cacif', 'cacilh', 'cacilheir', 'cactus', 'cad', 'cadap', 'cadav', 'cadeir', 'cadeirinh', 'cadel', 'cadelinh', 'caeir', 'caf', 'cafet', 'cafeteir', 'caff', 'caffein', 'caffetti', 'caffital', 'cag', 'cahi', 'cai', 'caiaqu', 'caipirinh', 'caisca', 'caiss', 'caix', 'cak', 'cal', 'calatr', 'calc', 'calcul', 'cald', 'caldeir', 'calefaca', 'calend', 'calhariz', 'calidad', 'californ', 'call', 'callejuel', 'calm', 'calmament', 'calmest', 'calor', 'calour', 'caloust', 'calv', 'calvari', 'calvin', 'cam', 'caman', 'camarat', 'cambalhot', 'camel', 'camell', 'cameron', 'camil', 'camill', 'caminh', 'caminhant', 'caminhinh', 'camp', 'campagn', 'campainh', 'campeonat', 'campervan', 'campestr', 'campism', 'campol', 'campolid', 'campor', 'campsit', 'campus', 'can', 'cana', 'canad', 'canal', 'canap', 'canast', 'cancel', 'candeeir', 'candl', 'candlelight', 'canec', 'caneir', 'canel', 'canet', 'canin', 'cannot', 'cano', 'canoag', 'canop', 'cant', 'cantilev', 'cantin', 'cantinh', 'canv', 'canyon', 'cao', 'caotic', 'cap', 'capabl', 'capac', 'capacidad', 'capacit', 'capar', 'capaz', 'capel', 'capicuamed', 'capit', 'capita', 'capital', 'capitolin', 'cappuccin', 'capricc', 'capsul', 'capt', 'captain', 'caption', 'captiv', 'captur', 'capuccin', 'capuch', 'caput', 'car', 'caracavel', 'caract', 'caracterist', 'caracteriz', 'caractherist', 'carag', 'caramel', 'carapauzinh', 'caratr', 'caravan', 'carb', 'carbon', 'carcavel', 'card', 'cardal', 'cardeal', 'cardi', 'cardos', 'carec', 'carefr', 'careful', 'careless', 'carg', 'carin', 'carinh', 'carinhosament', 'carism', 'carismat', 'carl', 'carm', 'carmelit', 'carmon', 'carn', 'carnat', 'carnav', 'carnaxid', 'carnid', 'carniv', 'carob', 'carolin', 'carp', 'carpark', 'carpent', 'carpentr', 'carpet', 'carpintar', 'carport', 'carr', 'carrasc', 'carreaux', 'carreg', 'carreir', 'carrelag', 'carriag', 'carrinh', 'carshop', 'cart', 'carti', 'cartoon', 'carv', 'carvalh', 'carvalheir', 'carvavel', 'carvel', 'carvoeir', 'cas', 'casa', 'casadafont', 'casadalaurentin', 'casadomap', 'casal', 'casaliberdadetour', 'casalinh', 'casament', 'casanin', 'casanov', 'casaren', 'casari', 'casc', 'casca', 'cascad', 'cascaishop', 'cascaisshop', 'cascat', 'caseir', 'cash', 'cashm', 'casica', 'casin', 'casinh', 'casinot', 'casit', 'caslt', 'casmpus', 'casot', 'casset', 'cassin', 'cast', 'castel', 'castelbel', 'castelinh', 'castell', 'castellan', 'castilh', 'castill', 'castl', 'castleinnlisbon', 'castr', 'casual', 'cat', 'catalog', 'catalogu', 'catamaran', 'catarin', 'catch', 'catedr', 'categor', 'catel', 'cath', 'cathedr', 'cathedral', 'cathol', 'cation', 'catit', 'cattl', 'cau', 'caught', 'caus', 'cautelosament', 'caution', 'cav', 'caval', 'cavalar', 'cavaleir', 'cavalier', 'cavalinh', 'cax', 'caz', 'cb', 'cbd', 'ccb', 'ccl', 'cctv', 'cd', 'cdc', 'ce', 'cean', 'ceas', 'cebol', 'cec', 'ced', 'ceel', 'ceg', 'cehk', 'cei', 'ceib', 'ceil', 'ceill', 'cel', 'celalr', 'celeb', 'celebr', 'celebridad', 'celeir', 'celest', 'cell', 'cellphon', 'cellul', 'cement', 'cemeter', 'cemment', 'cen', 'cent', 'centen', 'centena', 'centenar', 'centenarian', 'centenn', 'centeran', 'centhur', 'centim', 'centr', 'centra', 'central', 'centralh', 'centraliz', 'centralment', 'centralplaceflat', 'centric', 'centrum', 'centuar', 'centur', 'cepend', 'cer', 'ceram', 'ceranfeld', 'cerc', 'cercan', 'cereal', 'ceremon', 'cerr', 'cert', 'certain', 'certaint', 'certament', 'certez', 'certif', 'certific', 'certificacion', 'certitud', 'cerulean', 'cervej', 'cesarin', 'cessa', 'cest', 'cesteir', 'cet', 'cetr', 'cett', 'ceut', 'ceux', 'cfjte', 'ch', 'cha', 'chack', 'chacun', 'chafariz', 'chag', 'chain', 'chakr', 'chal', 'chaleir', 'chalet', 'chaleureux', 'challeng', 'challet', 'cham', 'chamam', 'chamb', 'chambr', 'chamin', 'champ', 'champagn', 'champalimaud', 'champion', 'championship', 'champo', 'chan', 'chanc', 'chandel', 'chanel', 'chang', 'changement', 'channel', 'chansalesay', 'chant', 'chantal', 'chaotic', 'chap', 'chapel', 'chapit', 'chapp', 'chapt', 'chaqu', 'char', 'charact', 'character', 'characterist', 'charcoal', 'charg', 'charism', 'charismat', 'charl', 'charlott', 'charm', 'charmant', 'charmeng', 'charment', 'charmimg', 'charmin', 'charmingloft', 'charmos', 'charnec', 'charriot', 'chart', 'chartreus', 'chas', 'chat', 'chateau', 'chatic', 'chatt', 'chaud', 'chauff', 'chauffag', 'chauffement', 'chauss', 'chav', 'che', 'cheap', 'cheapest', 'cheapl', 'chec', 'chech', 'check', 'checkerboard', 'checkin', 'checkinhom', 'checklist', 'checkout', 'cheer', 'chef', 'cheg', 'chegam', 'chegu', 'chei', 'cheir', 'chek', 'chekin', 'chekut', 'chel', 'chem', 'chemic', 'chemin', 'chemist', 'chen', 'chenbereich', 'chentischplatt', 'chenutensilien', 'chenzeil', 'cher', 'cherchez', 'cherish', 'chern', 'cherr', 'cherub', 'chervil', 'ches', 'chess', 'chest', 'chesterfield', 'cheur', 'chevet', 'cheveux', 'chevron', 'chewbacc', 'chez', 'chi', 'chic', 'chicc', 'chick', 'chicken', 'chid', 'chiil', 'chil', 'child', 'childhood', 'childr', 'children', 'chill', 'chillax', 'chillin', 'chilr', 'chimney', 'chin', 'chinatown', 'chinel', 'chip', 'chiqu', 'chiringuit', 'chirp', 'chlich', 'chlo', 'chlorin', 'cho', 'chocol', 'chof', 'choic', 'chois', 'choisissez', 'choix', 'chop', 'chormecast', 'chos', 'chosen', 'chour', 'christ', 'christian', 'christm', 'chrom', 'chromecast', 'chronolog', 'chste', 'chsten', 'chte', 'chten', 'chtet', 'chu', 'chunk', 'churasquer', 'church', 'churg', 'churrasc', 'churrasqu', 'churrasqueir', 'chuv', 'chuveir', 'ci', 'cia', 'ciad', 'cial', 'cialement', 'cialit', 'cian', 'cibel', 'cic', 'ciclism', 'ciclotur', 'ciclov', 'cid', 'cidad', 'cidadel', 'cidd', 'cie', 'cieb', 'ciel', 'cier', 'cierez', 'ciez', 'cigarett', 'cil', 'cilment', 'cim', 'ciment', 'cin', 'cinc', 'cinem', 'cinz', 'cio', 'cir', 'circ', 'circl', 'circuit', 'circul', 'circumnavig', 'circumst', 'circumv', 'circund', 'circundant', 'circus', 'cit', 'citadel', 'citizen', 'citroen', 'citron', 'citrus', 'citt', 'citu', 'cityscap', 'citytax', 'citytlif', 'ciudad', 'civic', 'ck', 'cke', 'ckeck', 'cken', 'cker', 'cks', 'cksservic', 'cksthek', 'ckziehen', 'cl', 'cla', 'clac', 'claim', 'clairag', 'clan', 'clandestin', 'clar', 'clarab', 'claridad', 'clarif', 'clarit', 'clas', 'class', 'classic', 'classif', 'classific', 'classil', 'claud', 'claus', 'clawfoot', 'cle', 'clean', 'cleanin', 'cleanl', 'cleans', 'clef', 'clel', 'clementin', 'clerk', 'cletin', 'clev', 'cli', 'clic', 'click', 'client', 'clif', 'cliff', 'clifftop', 'clim', 'climat', 'climatiz', 'climb', 'climben', 'cling', 'clinic', 'clipp', 'clo', 'cloakroom', 'clock', 'clockwork', 'clos', 'closeb', 'closest', 'closet', 'clot', 'cloth', 'clotheslin', 'clotheswash', 'cloud', 'club', 'clubb', 'clublord', 'clust', 'clycl', 'cm', 'cml', 'cmmafr', 'cmx', 'cn', 'cnbc', 'cnet', 'cnfortabl', 'cnic', 'cnn', 'co', 'coab', 'coach', 'coal', 'coalit', 'coast', 'coastal', 'coastlin', 'coat', 'cob', 'cobbl', 'cobbleston', 'cobert', 'cobertor', 'cobertur', 'cobr', 'cobram', 'cobran', 'coc', 'coch', 'cocin', 'cock', 'cockin', 'cockpit', 'cocktail', 'cocoon', 'cod', 'codiceir', 'codit', 'coelh', 'coeur', 'coexist', 'cof', 'coff', 'coffeehous', 'coffeemak', 'coffeeshop', 'coffeshop', 'cofff', 'cofr', 'cogwheel', 'coimbr', 'coin', 'cois', 'col', 'colabor', 'colac', 'colch', 'colchon', 'cold', 'colect', 'coleg', 'colegi', 'colgant', 'colh', 'colin', 'colis', 'coliseum', 'coliv', 'coll', 'collabor', 'collaborat', 'collaps', 'colleagu', 'collect', 'collector', 'colleg', 'collin', 'coloc', 'colocam', 'colomb', 'colon', 'colonn', 'color', 'colorspectrum', 'colour', 'colourful', 'colum', 'column', 'colun', 'com', 'comalm', 'comb', 'combat', 'combin', 'combinad', 'combl', 'combo', 'comboi', 'combr', 'comeback', 'comec', 'comedian', 'comedor', 'comemor', 'coment', 'comerc', 'comerci', 'comercia', 'comf', 'comfor', 'comfort', 'comfortabel', 'comfortabl', 'comfortablel', 'comfortbl', 'comfot', 'comft', 'comig', 'comm', 'command', 'commemor', 'commenc', 'comment', 'commenta', 'commentar', 'commerc', 'commerci', 'commerciaux', 'commit', 'commod', 'commodat', 'commodit', 'commom', 'common', 'commun', 'communal', 'communaut', 'communic', 'communion', 'communiqu', 'communit', 'communitar', 'communual', 'commut', 'comob', 'comod', 'comodidad', 'comodot', 'comp', 'compact', 'compan', 'companh', 'companion', 'compart', 'compartilh', 'compartill', 'compel', 'compens', 'compet', 'competit', 'compl', 'complain', 'complaint', 'compleet', 'complement', 'complementar', 'complet', 'completament', 'completan', 'completel', 'complex', 'complianc', 'compliant', 'complic', 'complicacion', 'complim', 'compliment', 'complimentar', 'complwt', 'compon', 'comport', 'composit', 'compost', 'compot', 'compound', 'compr', 'compreen', 'comprehens', 'compren', 'comprenez', 'compriment', 'comprom', 'comprometem', 'compromiss', 'comprov', 'comprovadament', 'compt', 'compulsor', 'comput', 'comtemporar', 'comud', 'comudidad', 'comum', 'comun', 'comunh', 'comunic', 'comunidad', 'comuniqu', 'comunit', 'comunitariament', 'comunn', 'con', 'conc', 'conceal', 'conceb', 'conceit', 'conceitu', 'conceiv', 'concelh', 'concentr', 'concept', 'concern', 'concert', 'conch', 'concierg', 'concil', 'concili', 'conclu', 'conclud', 'conclus', 'concoct', 'concret', 'concretament', 'cond', 'condess', 'condest', 'condestavel', 'condicion', 'condicon', 'condiment', 'condion', 'condit', 'condition', 'conditiona', 'conditionig', 'conditionn', 'condiz', 'condom', 'condomin', 'condomini', 'condominium', 'condominum', 'condu', 'conduc', 'conductor', 'conduz', 'conect', 'conex', 'conexion', 'conf', 'confec', 'confeccion', 'confecion', 'confect', 'confer', 'confian', 'confid', 'configur', 'confirm', 'confirmat', 'confluenc', 'confor', 'conform', 'conformon', 'conformt', 'confort', 'confortabl', 'confortablement', 'confortavel', 'confortavelment', 'confr', 'confucius', 'confus', 'cong', 'congel', 'congest', 'congress', 'conh', 'conhec', 'conjug', 'conjugu', 'conjunt', 'conjuntament', 'conn', 'connaiss', 'connect', 'connectd', 'conness', 'connexion', 'connosc', 'connu', 'conosc', 'conqu', 'conquist', 'cons', 'consacr', 'conscient', 'conscious', 'consecut', 'consegu', 'conseguim', 'conseil', 'conseillon', 'conselh', 'consent', 'consequ', 'conserv', 'conservat', 'conservator', 'conservatori', 'consid', 'consider', 'consig', 'consign', 'consist', 'consistent', 'consoant', 'consol', 'consommateur', 'consp', 'const', 'constanc', 'constant', 'constantin', 'constitu', 'constitucion', 'constitut', 'constraint', 'constru', 'construct', 'construim', 'construt', 'consuel', 'consult', 'consum', 'consumpt', 'cont', 'contac', 'contact', 'contactless', 'contador', 'contag', 'contagion', 'contain', 'contam', 'contamin', 'contat', 'contem', 'contempl', 'contempor', 'contemporain', 'contemporan', 'contemporaneidad', 'contemporar', 'contemporaril', 'conten', 'content', 'contentor', 'contient', 'contig', 'contin', 'continent', 'continu', 'continuam', 'continuum', 'contour', 'contr', 'contra', 'contract', 'contrapart', 'contrar', 'contrast', 'contrat', 'contreb', 'contribut', 'control', 'contru', 'contud', 'conutrysid', 'conv', 'convect', 'conven', 'convenien', 'convenient', 'convenientement', 'convent', 'conventinh', 'converg', 'convers', 'convert', 'convey', 'convid', 'convidam', 'conviendr', 'convient', 'convierten', 'convin', 'convinc', 'convit', 'conviv', 'convivial', 'convivialit', 'coo', 'coofeshop', 'cook', 'cookbook', 'cooktop', 'cookw', 'cool', 'coolest', 'coomfort', 'coonsegu', 'coop', 'coordin', 'cop', 'copain', 'copenhagen', 'copi', 'copin', 'coplet', 'coquet', 'cor', 'coral', 'coralin', 'corat', 'coraz', 'corcov', 'cordeir', 'cordo', 'cordon', 'corduroy', 'coriand', 'cork', 'corn', 'cornerston', 'cornic', 'coron', 'coronav', 'coronavirus', 'corp', 'corpor', 'corr', 'correct', 'corredor', 'correeir', 'correi', 'corren', 'corrent', 'correspond', 'correspondent', 'corret', 'corridor', 'corrupt', 'cort', 'cortes', 'cortin', 'cos', 'cosi', 'cosiest', 'cosin', 'cosm', 'cosmopolit', 'cosmopolitan', 'cost', 'costal', 'costeir', 'costum', 'cosyplac', 'cot', 'cotidian', 'coton', 'cott', 'cottag', 'cotton', 'cou', 'couceir', 'couch', 'couchag', 'couchsurf', 'couett', 'coul', 'could', 'couldnt', 'couleur', 'coulissant', 'coulo', 'coun', 'council', 'counfort', 'counstrysid', 'count', 'counterpoint', 'countertop', 'countess', 'countless', 'countr', 'countrysid', 'coup', 'coupl', 'coupon', 'cour', 'courant', 'cours', 'court', 'courtain', 'courtes', 'courtship', 'courtyard', 'courtyhard', 'cous', 'cousin', 'cout', 'coutant', 'coutinh', 'coutur', 'coutyard', 'couvent', 'couvert', 'couvr', 'couvrez', 'couvrirez', 'couz', 'cov', 'covent', 'cover', 'coverag', 'covet', 'covid', 'coviran', 'cow', 'cowhid', 'cowork', 'cox', 'coz', 'coziest', 'cozin', 'cozinh', 'cozinham', 'cozinheir', 'cozy', 'cozybedroomlisbon', 'cozylikehom', 'cozylisbon', 'cozz', 'cr', 'crack', 'crackl', 'craddl', 'cradl', 'craft', 'craftsman', 'craftswoman', 'cramp', 'cran', 'crann', 'crap', 'crash', 'crav', 'crawl', 'craz', 'cre', 'creak', 'creat', 'creation', 'creativ', 'creator', 'creatur', 'crebb', 'credit', 'crel', 'crem', 'cresc', 'cresmin', 'crew', 'crhistm', 'cri', 'crian', 'crianc', 'criatividad', 'crib', 'cricket', 'crimson', 'crin', 'cris', 'crisostom', 'crisp', 'crist', 'cristal', 'cristaleir', 'cristalin', 'cristian', 'cristin', 'cristm', 'cristov', 'crit', 'criterion', 'criteriosament', 'critic', 'crittal', 'crivain', 'cro', 'croak', 'crochet', 'crocker', 'croissant', 'crook', 'crop', 'croquett', 'cross', 'crossb', 'crossov', 'crossroad', 'croud', 'crow', 'crowd', 'crown', 'cru', 'crucer', 'crucifix', 'cruis', 'crumpl', 'cruz', 'cruzeir', 'cryb', 'crystal', 'ct', 'cter', 'cton', 'ctric', 'ctt', 'cu', 'cuand', 'cuart', 'cuat', 'cuatr', 'cub', 'cubboard', 'cubbord', 'cubert', 'cubicl', 'cubiert', 'cucus', 'cuddl', 'cuent', 'cuentan', 'cuf', 'cuid', 'cuidad', 'cuidador', 'cuidadosament', 'cuisin', 'cuisson', 'cuit', 'cuj', 'cul', 'culina', 'culinar', 'culmin', 'cultiv', 'cultu', 'cultur', 'cultura', 'culturalment', 'culturell', 'culturgest', 'cumin', 'cumplicidad', 'cumpr', 'cumprim', 'cumpriment', 'cumprirm', 'cumus', 'cun', 'cunh', 'cup', 'cupboard', 'cupp', 'cur', 'curat', 'curch', 'curfew', 'curi', 'curious', 'curit', 'curl', 'curr', 'current', 'curt', 'curtain', 'curv', 'cush', 'cushion', 'cusp', 'cust', 'custard', 'custom', 'cut', 'cutiv', 'cutler', 'cuttelar', 'cuttler', 'cvswcsmqwt', 'cybq', 'cycl', 'cycleway', 'cykelavst', 'cylind', 'cynthi', 'cypress', 'czon', 'd', 'daaz', 'dab', 'dach', 'dachgeschoss', 'dachterass', 'dachterrass', 'dad', 'daelhor', 'daf', 'dagai', 'dagen', 'dah', 'dahinterliegend', 'dai', 'daikin', 'daikon', 'dail', 'dair', 'dal', 'dala', 'dalm', 'dalton', 'dam', 'dama', 'damag', 'damascen', 'damit', 'damp', 'dan', 'danc', 'dand', 'daneben', 'dangl', 'daniel', 'danific', 'danish', 'dann', 'danon', 'dappl', 'daqu', 'daquel', 'daquil', 'dar', 'daran', 'darauf', 'darem', 'darf', 'darin', 'dark', 'darken', 'darksid', 'dart', 'darth', 'darunt', 'daryl', 'das', 'dat', 'datab', 'datant', 'dauert', 'daught', 'daugt', 'dav', 'davon', 'dawn', 'day', 'dayb', 'daybreak', 'daydr', 'daylif', 'daylight', 'daytim', 'dazu', 'dazzl', 'de', 'dea', 'dead', 'deadl', 'deadlin', 'deal', 'dear', 'death', 'debaix', 'debut', 'dec', 'decad', 'decadent', 'decc', 'decemb', 'decept', 'decid', 'deck', 'deckcha', 'deckenstuck', 'decl', 'declin', 'deconstruct', 'decor', 'decoracion', 'decoram', 'decorat', 'decorati', 'decoret', 'decorr', 'decr', 'decret', 'ded', 'dedic', 'deep', 'deepl', 'deer', 'defenet', 'defens', 'defensor', 'deffinet', 'defiant', 'defic', 'defin', 'definit', 'definitivament', 'defrost', 'degr', 'degraus', 'degust', 'dehor', 'dehumidif', 'dei', 'dein', 'deinen', 'deit', 'deix', 'deixam', 'dej', 'dekoriert', 'del', 'delay', 'deleit', 'deleitart', 'delg', 'delic', 'delicac', 'delicad', 'delicaf', 'delicatessen', 'deliciosament', 'deligh', 'delight', 'delimit', 'deliv', 'deliver', 'deloitt', 'delt', 'delux', 'dem', 'dema', 'deman', 'demand', 'demanderon', 'demasi', 'demol', 'demolish', 'demolit', 'demonstr', 'demor', 'demur', 'den', 'denen', 'dennoch', 'denomin', 'denot', 'dens', 'densit', 'dental', 'dentist', 'dentr', 'deo', 'deolind', 'dep', 'depart', 'departur', 'depend', 'dependig', 'deposit', 'depth', 'depu', 'der', 'deren', 'deriv', 'derni', 'derr', 'des', 'desaf', 'desafi', 'desafiant', 'desafin', 'desafog', 'desat', 'desativ', 'desc', 'descan', 'descans', 'descarregu', 'descart', 'descend', 'descentraliz', 'descobert', 'descobr', 'desconect', 'desconhec', 'descont', 'descontr', 'descontra', 'descr', 'describ', 'descript', 'descubr', 'descur', 'desd', 'desdobr', 'desej', 'desejam', 'desenh', 'desenv', 'desenvolv', 'desert', 'deserv', 'desfru', 'desfrut', 'deshalb', 'desig', 'design', 'designadament', 'designerhand', 'designklassik', 'designklassikern', 'designst', 'desin', 'desinf', 'desinfec', 'desinfect', 'desinfectant', 'desinfet', 'desinfetam', 'desinfetant', 'desk', 'desktop', 'deslig', 'desloc', 'deslonbrant', 'desloqu', 'deslumbr', 'deslumbrant', 'desmaquilhant', 'desnecess', 'desol', 'despej', 'despens', 'desperd', 'despes', 'despit', 'desport', 'despu', 'desrespeit', 'dess', 'dest', 'destac', 'destacam', 'destaqu', 'destin', 'destint', 'destroy', 'desvantag', 'det', 'detach', 'detail', 'detalh', 'detch', 'detect', 'detector', 'deterg', 'detergent', 'detr', 'dettail', 'deus', 'deutsch', 'deutschen', 'deutschland', 'deux', 'deuxi', 'dev', 'devant', 'devast', 'develop', 'devenu', 'deviat', 'devic', 'devid', 'devidament', 'devolv', 'devot', 'dext', 'dez', 'dezasset', 'dezembr', 'dg', 'di', 'dia', 'dialogu', 'diamet', 'diamond', 'dian', 'diant', 'dianteir', 'diar', 'diari', 'diariament', 'diat', 'diatement', 'dic', 'dich', 'dick', 'dicken', 'dicor', 'diddl', 'die', 'diem', 'dies', 'diesel', 'diesen', 'diet', 'dif', 'difer', 'diferen', 'diferenc', 'diferent', 'diff', 'different', 'difficil', 'difficult', 'dificuldad', 'dificult', 'dig', 'digicod', 'digit', 'digitalbox', 'dign', 'dilect', 'dilemm', 'dilm', 'dilut', 'dimanch', 'dimen', 'dimens', 'diminu', 'dimm', 'din', 'ding', 'dinheir', 'dinigroom', 'dinin', 'diningplac', 'diningroom', 'diningterrac', 'diniz', 'dinn', 'dinnerroom', 'dinnig', 'dinopark', 'dinoparqu', 'dinosaur', 'dinossaur', 'dio', 'dip', 'dir', 'direc', 'direct', 'directament', 'director', 'directr', 'direit', 'direkt', 'direkten', 'diret', 'diretament', 'dirig', 'dirksen', 'dirt', 'dis', 'disabl', 'disapp', 'disappoint', 'disc', 'discard', 'discern', 'disclaim', 'disconnect', 'discotec', 'discothequ', 'discount', 'discov', 'discover', 'discr', 'discreet', 'discret', 'discrimin', 'disctrict', 'discut', 'disfrut', 'disgu', 'dish', 'dishmachin', 'dishw', 'dishwach', 'dishwah', 'dishwash', 'disinfect', 'disloc', 'disney', 'disp', 'dispen', 'dispens', 'dispensor', 'display', 'dispom', 'dispon', 'dispond', 'disponibilidad', 'disponibiliz', 'disponibilizam', 'disponiv', 'disponivel', 'dispor', 'dispos', 'disposerez', 'disposez', 'disposit', 'dispost', 'disrespect', 'diss', 'dissabor', 'dissemin', 'dist', 'distan', 'distanc', 'distant', 'distict', 'distin', 'distinc', 'distinct', 'distingu', 'distinguish', 'distint', 'distract', 'distribu', 'distribut', 'distributor', 'distric', 'district', 'distrit', 'disturb', 'dit', 'diurn', 'div', 'divan', 'divers', 'diversen', 'diversidad', 'diversif', 'diversific', 'divert', 'divid', 'divin', 'divirt', 'divorc', 'dix', 'dixon', 'diy', 'diz', 'dj', 'dla', 'dlich', 'dobl', 'dobr', 'doc', 'doch', 'dock', 'doctor', 'document', 'documentar', 'dodatkow', 'doen', 'dog', 'doi', 'doivent', 'dolb', 'dolc', 'dold', 'doll', 'dollhous', 'dom', 'domain', 'domest', 'domestiqu', 'domestiv', 'domet', 'domin', 'doming', 'domot', 'don', 'donat', 'donc', 'dond', 'donkey', 'donn', 'donnant', 'donnent', 'donneront', 'donnon', 'dont', 'door', 'doorbel', 'doorknob', 'doorman', 'doorstep', 'doorsteptransport', 'doorway', 'doppelbett', 'doppelbetten', 'doppelmatratz', 'doppelwaschbeck', 'doppelzimm', 'dorc', 'dorf', 'dorfkirch', 'dorm', 'dormit', 'dormitor', 'dormitori', 'dort', 'dos', 'dosmour', 'dossel', 'dossi', 'dost', 'dostop', 'dot', 'dotorel', 'dou', 'douard', 'doub', 'doubl', 'doubld', 'doubleb', 'doubleroom', 'doubt', 'douceur', 'douch', 'douillet', 'doul', 'doupl', 'dour', 'dourador', 'doux', 'dow', 'down', 'downhil', 'download', 'downsid', 'downsiz', 'downsta', 'downt', 'downtonw', 'downtown', 'dowsta', 'dowtow', 'dowtown', 'dozen', 'dp', 'dplu', 'dr', 'draft', 'drag', 'drain', 'dral', 'dram', 'dramat', 'drap', 'drastic', 'drau', 'draw', 'drawn', 'dre', 'dream', 'dreamhous', 'dreamt', 'drehb', 'drenc', 'drench', 'dress', 'dressmak', 'dri', 'drink', 'drip', 'dritt', 'dritten', 'driv', 'driven', 'driveway', 'drizzl', 'drog', 'drom', 'drop', 'dropoff', 'dropout', 'druck', 'drug', 'drugstor', 'drum', 'drupl', 'drye', 'dryer', 'dsl', 'dt', 'dtchen', 'dto', 'du', 'dua', 'dual', 'duart', 'dub', 'dubl', 'ducat', 'duch', 'duchess', 'duck', 'duction', 'due', 'duir', 'duisant', 'duit', 'duk', 'dul', 'dulc', 'dulpex', 'dum', 'dun', 'dunlop', 'duo', 'dupl', 'duplex', 'duqu', 'duques', 'dur', 'durant', 'durat', 'durch', 'durchdacht', 'durchflutet', 'durchgangsverkehr', 'durin', 'durm', 'dusch', 'duschbad', 'duschen', 'duschwann', 'dusk', 'dustbin', 'dut', 'dutch', 'dutt', 'duv', 'duvet', 'dv', 'dvd', 'dw', 'dwa', 'dwell', 'dwom', 'dynam', 'dynamiqu', 'dyson', 'dzi', 'e', 'ea', 'eac', 'eachoth', 'eag', 'eagl', 'eam', 'eamig', 'ear', 'earl', 'earli', 'earliest', 'earn', 'earplug', 'earth', 'earthenw', 'earthquak', 'eartig', 'eartquak', 'eas', 'easi', 'easiest', 'easil', 'easisl', 'easl', 'east', 'eastern', 'eastward', 'easyg', 'eat', 'eater', 'eatin', 'eatividad', 'eau', 'eav', 'eben', 'ebenerdig', 'ebenfal', 'ebens', 'ec', 'eccentr', 'ecclect', 'ecen', 'echo', 'echt', 'eck', 'ecl', 'eclect', 'eclectic', 'eclet', 'eco', 'ecol', 'ecolab', 'ecolog', 'ecologist', 'econ', 'econatur', 'econom', 'economat', 'ecorespons', 'ecovilag', 'ecovillag', 'ecr', 'ecran', 'ect', 'ectric', 'ecuador', 'ed', 'eden', 'edf', 'edg', 'edif', 'edific', 'edifici', 'edison', 'edj', 'edouard', 'edp', 'edr', 'edredon', 'eduard', 'educ', 'edutain', 'edutainmont', 'edward', 'een', 'eenpersoonsbedden', 'eetk', 'efam', 'efectu', 'efeit', 'efetu', 'effect', 'effet', 'effic', 'effort', 'effortless', 'eficient', 'eg', 'ega', 'egal', 'ege', 'eget', 'egg', 'eglis', 'egrand', 'egyptian', 'ehemaligen', 'ei', 'eiderdown', 'eiffel', 'eigen', 'eigenen', 'eight', 'eighteen', 'eighteenth', 'eighth', 'eignet', 'ein', 'einbauk', 'einbauschr', 'einen', 'einfach', 'einfl', 'eingang', 'eingangsbereich', 'eingangst', 'eingangstor', 'eingerichtet', 'einheimischen', 'einkaufsm', 'einladend', 'einmal', 'einmalig', 'einrichtung', 'eins', 'einsamen', 'einschlafen', 'einzelbett', 'einzelbetten', 'einzelmatratz', 'einzeln', 'einzelst', 'einzelzimm', 'einzigartig', 'einzub', 'eir', 'eit', 'eith', 'eix', 'el', 'elabor', 'elan', 'elav', 'elder', 'ele', 'elec', 'elect', 'electr', 'electricidad', 'electrodom', 'electrodomest', 'electron', 'eleg', 'elegant', 'elegantement', 'elektr', 'elektrisch', 'elektroherd', 'element', 'elementar', 'eleph', 'eletr', 'eletroc', 'eletrodom', 'elev', 'elevatorthat', 'eleven', 'elevetor', 'elevtor', 'eli', 'elimin', 'elis', 'elit', 'elka', 'ell', 'elletr', 'ello', 'elopag', 'els', 'eltern', 'elus', 'elvador', 'elyse', 'email', 'eman', 'emb', 'embaix', 'embaj', 'embalag', 'embarc', 'embark', 'embas', 'embass', 'embed', 'embelez', 'embell', 'embellish', 'embl', 'emblem', 'emblemat', 'embod', 'embor', 'embrac', 'embrenh', 'embroid', 'embroider', 'embut', 'eme', 'emel', 'emend', 'emer', 'emerald', 'emerg', 'emers', 'emigr', 'emin', 'emiss', 'emit', 'emjoy', 'emma', 'emmen', 'emo', 'emocionant', 'emot', 'empa', 'empark', 'empenh', 'empfang', 'empfehlen', 'empfehlung', 'emphas', 'empir', 'emplac', 'employ', 'empr', 'empreend', 'empreg', 'empres', 'empti', 'en', 'enabl', 'enbereich', 'enbereichen', 'encant', 'encapsul', 'encarn', 'enceint', 'encerr', 'enchant', 'enchem', 'encher', 'enchid', 'enclav', 'enclos', 'enclosur', 'encomend', 'encompass', 'encontr', 'encontra', 'encontram', 'encor', 'encost', 'encount', 'encourag', 'encuentr', 'encuentran', 'end', 'endeavor', 'endecken', 'ender', 'endless', 'endow', 'endpre', 'endreinigu', 'endreinigung', 'endroit', 'endulg', 'endur', 'ene', 'energ', 'energet', 'energiespeich', 'enfant', 'enfas', 'enfilad', 'enfin', 'enforc', 'enform', 'engag', 'engageon', 'engarraf', 'engel', 'engendr', 'engenh', 'engin', 'england', 'englisch', 'english', 'engom', 'engomador', 'engr', 'engrac', 'engrav', 'enhanc', 'enj', 'enjoin', 'enjoy', 'enjoyab', 'enjoycasasdoforn', 'enjoylisbon', 'enjoyt', 'enjoyth', 'enlarg', 'enlight', 'enlighten', 'enliven', 'enorm', 'enou', 'enoug', 'enough', 'enought', 'enouth', 'enqu', 'enquadr', 'enquant', 'enquir', 'enregistr', 'enrich', 'enriquecedor', 'enrol', 'ensac', 'ensai', 'ense', 'enseit', 'ensembl', 'ensin', 'ensoalheir', 'ensolar', 'ensoleil', 'ensu', 'ensuit', 'ensur', 'ent', 'entail', 'entangl', 'entant', 'entardec', 'entdecken', 'entdeckt', 'entend', 'entendr', 'enter', 'enternet', 'enterpr', 'enterta', 'entertain', 'entfernt', 'entfernung', 'entfliehen', 'entha', 'enthalten', 'enthral', 'enthusiast', 'enti', 'entic', 'entidad', 'entir', 'entiret', 'entit', 'entitl', 'entnehmen', 'entorn', 'entour', 'entr', 'entra', 'entrad', 'entram', 'entran', 'entranc', 'entrand', 'entrar', 'entrecamp', 'entreg', 'entregu', 'entrem', 'entrepp', 'entrepr', 'entrepreneur', 'entretant', 'entreten', 'entretien', 'entrez', 'entri', 'entrou', 'entryway', 'entspann', 'entspannen', 'entspannend', 'entspannt', 'entspannten', 'entsprechend', 'entstanden', 'entstehen', 'entusiasmant', 'entwed', 'env', 'envelop', 'envent', 'enverniz', 'enverra', 'envi', 'enviabl', 'envior', 'envir', 'environ', 'environm', 'environment', 'environmnet', 'environn', 'environnant', 'envis', 'envo', 'envolt', 'envolv', 'envolvent', 'enwrap', 'enya', 'eo', 'epark', 'epi', 'epic', 'epicent', 'epicentr', 'epid', 'epiphan', 'epiphani', 'episod', 'epitom', 'epoc', 'epoch', 'epop', 'epoqu', 'eq', 'eqquip', 'equ', 'equador', 'equal', 'equestr', 'equestrian', 'equil', 'equiopop', 'equip', 'equipad', 'equipamen', 'equipd', 'equipement', 'equipet', 'equipp', 'equipt', 'equit', 'equival', 'equp', 'er', 'era', 'erasmus', 'erbaut', 'erdem', 'erdgesch', 'erdgeschoss', 'erect', 'erf', 'erfahrung', 'erfahrungen', 'erfrischungen', 'ergew', 'ergon', 'ergonom', 'ergu', 'erh', 'erhalb', 'erhoben', 'eric', 'ericeir', 'ericeirasurfnest', 'erleben', 'erm', 'ernest', 'ero', 'erot', 'erreichb', 'erreichen', 'erreichst', 'erreicht', 'erson', 'ersten', 'erster', 'erstklassig', 'erstklassigen', 'erstmal', 'erwach', 'erwachs', 'erwachsen', 'erwachsenen', 'erwarten', 'erwartet', 'es', 'esa', 'esantin', 'esc', 'escad', 'escadinh', 'escal', 'escap', 'escapad', 'escapadel', 'escapadinh', 'escapadinha', 'escapat', 'escarp', 'escass', 'escept', 'escol', 'escolh', 'escon', 'escond', 'escoot', 'escorreg', 'escrev', 'escrit', 'escritor', 'escrivan', 'escrivaninh', 'escultur', 'escur', 'escurinh', 'esht', 'esp', 'espa', 'espac', 'espaci', 'espagnol', 'espalh', 'espanh', 'espanhol', 'espanol', 'esparg', 'espec', 'especia', 'especialidad', 'especializ', 'especialment', 'especific', 'especificament', 'espect', 'espectacul', 'espelh', 'esper', 'esperam', 'esperan', 'esperanc', 'espergu', 'espess', 'espetacul', 'espinh', 'espirit', 'espiritualidad', 'espl', 'esplan', 'esplanad', 'esplendor', 'espregu', 'espreit', 'espremedor', 'espress', 'esprit', 'espum', 'espumant', 'esq', 'esqu', 'esquadr', 'esquec', 'esquent', 'esquerd', 'esquil', 'esquin', 'esquisit', 'essay', 'essbereich', 'essembl', 'essen', 'essenc', 'essencia', 'essent', 'essplatz', 'esstisch', 'esszimm', 'esszimmerbereich', 'est', 'esta', 'estabelec', 'establec', 'establish', 'estac', 'estaca', 'estacin', 'estacion', 'estad', 'estadi', 'estanc', 'estancion', 'estand', 'estant', 'estar', 'estarem', 'estarm', 'estat', 'estef', 'estefan', 'estel', 'estend', 'estev', 'esteva', 'esth', 'estil', 'estim', 'estipul', 'estiv', 'estoj', 'estor', 'estoril', 'estoy', 'estrad', 'estrangeir', 'estrat', 'estre', 'estreit', 'estreitinh', 'estrel', 'estrell', 'estremadur', 'estremament', 'estremoz', 'estritament', 'estrutur', 'estu', 'estua', 'estuar', 'estud', 'estudant', 'estudi', 'estuf', 'estup', 'estuqu', 'et', 'eta', 'etag', 'etagen', 'etagenbett', 'etagenbetten', 'etant', 'etap', 'etc', 'etcc', 'etch', 'ethernet', 'ethnic', 'ethno', 'etiquett', 'etrain', 'ett', 'etwa', 'eua', 'eucalyptus', 'euch', 'eug', 'eunic', 'eur', 'eurasian', 'euren', 'europ', 'european', 'eurov', 'eux', 'euzel', 'ev', 'eva', 'evad', 'evalu', 'evam', 'eve', 'eveb', 'even', 'evenin', 'event', 'eventu', 'eventualment', 'eventuel', 'ever', 'everhth', 'everith', 'everlast', 'everth', 'evertyth', 'everybedroom', 'everybod', 'everyday', 'everymoorn', 'everyon', 'everyonemeet', 'everyt', 'everyth', 'everythin', 'everytim', 'everyw', 'everywh', 'eveyday', 'eveyrday', 'eveyth', 'eviajant', 'evict', 'evid', 'evident', 'evil', 'evit', 'evmg', 'evoc', 'evok', 'evolv', 'evolvent', 'evryth', 'ewdyp', 'ex', 'exact', 'exactament', 'exager', 'exampl', 'exat', 'exatament', 'exaus', 'exaust', 'exaustor', 'exautor', 'exc', 'excclent', 'excecion', 'exceciona', 'exced', 'exceed', 'excel', 'excelent', 'excelentement', 'excellent', 'excentr', 'excep', 'excepcion', 'except', 'exceptionnel', 'exceptionnell', 'excerc', 'excess', 'excet', 'exchang', 'excit', 'excitant', 'exclu', 'exclud', 'exclus', 'exclusif', 'exclusivament', 'exclusividad', 'exclusivl', 'excurs', 'exe', 'execpt', 'execut', 'exem', 'exempl', 'exempt', 'exerc', 'exhal', 'exhaust', 'exhibit', 'exi', 'exib', 'exig', 'exigent', 'exilibr', 'exist', 'existen', 'existent', 'exit', 'exklus', 'exlibr', 'exot', 'exotiqu', 'exp', 'expan', 'expand', 'expans', 'expatri', 'expect', 'expens', 'exper', 'experienc', 'experiment', 'expert', 'expet', 'expetacul', 'expl', 'explain', 'explaind', 'explan', 'explic', 'explicitament', 'expliqu', 'exploit', 'explor', 'explos', 'expo', 'exponiert', 'expor', 'expos', 'exposit', 'expost', 'exposur', 'express', 'expressbus', 'expressl', 'exquisit', 'ext', 'exten', 'extend', 'extens', 'extent', 'exter', 'exteri', 'exterior', 'exterm', 'extern', 'extinct', 'extinguish', 'extint', 'extintor', 'extr', 'extra', 'extract', 'extractor', 'extraordin', 'extraordina', 'extraordinar', 'extraordinaril', 'extraplan', 'extrem', 'extremament', 'extremum', 'exub', 'exuberant', 'exud', 'exzellent', 'eye', 'ezinh', 'f', 'fa', 'fab', 'fabol', 'fabric', 'fabul', 'fabuleux', 'fac', 'facad', 'facebk', 'facet', 'facett', 'fach', 'fachad', 'facil', 'facili', 'facilidad', 'facilit', 'facilment', 'facin', 'facit', 'faclit', 'fact', 'factor', 'factur', 'facult', 'fad', 'fadist', 'fadoflat', 'fahrminuten', 'fahrradtr', 'fahrradverleih', 'fai', 'faian', 'fail', 'fair', 'fairway', 'fairytail', 'fairytal', 'faison', 'fait', 'faith', 'fak', 'fal', 'falam', 'falc', 'falco', 'falcon', 'falh', 'fall', 'fallen', 'fallow', 'falt', 'falu', 'fam', 'famal', 'fameux', 'famil', 'famili', 'familial', 'familiar', 'familien', 'familienbesitz', 'familiy', 'famill', 'famos', 'famous', 'famsmart', 'fan', 'fanat', 'fanc', 'fanciest', 'fanqueir', 'fant', 'fantas', 'fantast', 'fantastiqu', 'fantastisch', 'fantastischen', 'fantastisk', 'faq', 'far', 'faraway', 'farben', 'farbenfroh', 'farbenfrohen', 'farem', 'farinh', 'farm', 'farmac', 'farmhous', 'farnient', 'farol', 'fascin', 'fascinant', 'fashion', 'fasin', 'fast', 'fastest', 'fat', 'fath', 'fatim', 'fatteuil', 'faucet', 'faun', 'faunafloralisbo', 'faut', 'fauteuil', 'fav', 'favor', 'favorec', 'favorit', 'favour', 'favourit', 'fax', 'faz', 'fazem', 'fb', 'fc', 'fe', 'fea', 'fear', 'feasibl', 'feast', 'feat', 'feath', 'featur', 'featuresan', 'feb', 'februar', 'fech', 'fechadur', 'fecham', 'fed', 'fee', 'feed', 'feedback', 'feel', 'feet', 'feg', 'fein', 'feir', 'feit', 'feld', 'feldweg', 'felix', 'feliz', 'fell', 'fellow', 'felt', 'femal', 'femm', 'fen', 'fenc', 'feng', 'fenomen', 'fenst', 'fensterfront', 'fenstern', 'fer', 'ferel', 'ferienapart', 'feriendomizil', 'ferienhaus', 'ferienwohnung', 'ferm', 'fermium', 'fern', 'fernand', 'fernandin', 'fernseh', 'fernsteuerung', 'feront', 'ferr', 'ferragen', 'ferramentasp', 'ferreir', 'ferret', 'ferrov', 'ferrovia', 'ferroviari', 'ferryboat', 'ferskvaremark', 'fervent', 'fesseln', 'fest', 'festej', 'festiv', 'festividad', 'fet', 'fetur', 'feuerstell', 'feux', 'fevereir', 'few', 'fferreir', 'fi', 'fiador', 'fiartil', 'fiat', 'fib', 'fibb', 'fiberopt', 'fibr', 'fic', 'ficam', 'ficiant', 'fiction', 'field', 'fietsen', 'fiew', 'fifht', 'fift', 'fifteen', 'fifth', 'fig', 'fight', 'figu', 'figueir', 'figur', 'figurin', 'fihish', 'fijn', 'fil', 'filant', 'filh', 'filigr', 'filip', 'fill', 'filll', 'film', 'filt', 'filtr', 'fim', 'fin', 'fina', 'final', 'finalidad', 'finaliz', 'finalment', 'finament', 'financ', 'finch', 'find', 'finden', 'findest', 'findet', 'finest', 'finicul', 'finish', 'finisterr', 'finl', 'finland', 'finnish', 'fint', 'fio', 'fion', 'fip', 'fiqu', 'fir', 'firefl', 'firepit', 'fireplac', 'firewood', 'firework', 'firm', 'first', 'firt', 'fiscal', 'fisch', 'fischerstrand', 'fischtopf', 'fish', 'fisherman', 'fishermanbeach', 'fishmong', 'fishwif', 'fisic', 'fist', 'fistral', 'fit', 'fitnesstudi', 'fiv', 'fix', 'fixtur', 'fiz', 'fl', 'fla', 'flag', 'flagston', 'flam', 'flamant', 'flammen', 'flank', 'flankiert', 'flar', 'flash', 'flashlight', 'flask', 'flat', 'flatmat', 'flatscreen', 'flatscreentv', 'flavor', 'flavour', 'flaw', 'flawless', 'fle', 'fleamarket', 'fleec', 'flem', 'fleur', 'fleurent', 'fleuv', 'flex', 'flexib', 'flexibilidad', 'flexibl', 'fli', 'flick', 'fliesenverzierungen', 'fligh', 'flight', 'flip', 'flipp', 'flithg', 'flo', 'float', 'flock', 'flood', 'floor', 'floorboard', 'floorplan', 'flop', 'flor', 'flora', 'floral', 'florest', 'floresta', 'floret', 'florist', 'flott', 'flour', 'flourish', 'flow', 'flower', 'flowersand', 'flu', 'fluent', 'fluentement', 'fluff', 'flughafen', 'flur', 'flussblick', 'flutt', 'flutuant', 'fluvia', 'fluvial', 'flybridg', 'flyplassen', 'fo', 'foam', 'foc', 'focad', 'focus', 'foen', 'fof', 'fog', 'foga', 'foi', 'fold', 'foldabl', 'foldout', 'folg', 'folhet', 'foliag', 'folk', 'folklor', 'follow', 'fomit', 'fon', 'fonctionn', 'fonctionnalit', 'fonctionnel', 'fonctionnell', 'fond', 'fondat', 'fondo', 'fondu', 'font', 'fontain', 'fontainh', 'fontan', 'fontanel', 'fonteireir', 'foo', 'food', 'fool', 'foor', 'foosbal', 'foot', 'footbal', 'footboard', 'foothil', 'footprint', 'footstep', 'for', 'foral', 'foran', 'forb', 'forbidden', 'forbiden', 'forc', 'foreign', 'forest', 'forestr', 'forev', 'forfait', 'forfeit', 'forg', 'forgec', 'forget', 'forgett', 'forgot', 'forgoten', 'forgotten', 'fork', 'form', 'formal', 'forman', 'format', 'forment', 'formid', 'formidavelment', 'formos', 'formul', 'forn', 'fornec', 'fornecem', 'forr', 'fort', 'fortal', 'fortement', 'forth', 'fortif', 'fortress', 'fortun', 'forum', 'forward', 'fot', 'fotbal', 'fotbol', 'fotel', 'fotocopi', 'fotograf', 'fou', 'found', 'foundat', 'fountain', 'four', 'fourn', 'fournisson', 'fournit', 'fournitur', 'fourteen', 'fourth', 'fox', 'foxhol', 'foy', 'foz', 'fr', 'fra', 'frac', 'fraction', 'frad', 'fraganc', 'fragil', 'fragment', 'fragr', 'fragranc', 'fragrant', 'fram', 'framework', 'fran', 'franc', 'franca', 'frances', 'franch', 'francisc', 'franqueir', 'franz', 'frasc', 'frau', 'fre', 'frech', 'freder', 'freedom', 'freel', 'freell', 'freestand', 'freeview', 'freewif', 'freez', 'fregues', 'frei', 'freien', 'freiheit', 'freilegen', 'freistehenden', 'freix', 'freixial', 'fremm', 'french', 'frenchbalcon', 'frenet', 'frent', 'frequ', 'frequenc', 'frequent', 'frequentement', 'fres', 'fresc', 'frescur', 'fresh', 'freshen', 'freshest', 'freu', 'freuen', 'freund', 'freunden', 'freundlich', 'freundlichen', 'freut', 'frez', 'fri', 'fric', 'frich', 'friday', 'fridg', 'fridgefrez', 'fridget', 'friedlichen', 'frien', 'friend', 'friendl', 'frifgorif', 'frig', 'frigd', 'frigida', 'frigob', 'frigor', 'frigorif', 'fring', 'friogorif', 'frisch', 'frist', 'friteus', 'frizz', 'fro', 'frog', 'froidg', 'froiss', 'fron', 'fronh', 'front', 'frontal', 'fronteir', 'frontlin', 'frost', 'fru', 'frugal', 'fruit', 'fruiti', 'frut', 'ft', 'fte', 'ftth', 'fu', 'fuel', 'fuer', 'fug', 'ful', 'fulfil', 'full', 'fullest', 'fullfil', 'fulll', 'fum', 'fumador', 'fumant', 'fumeur', 'fun', 'func', 'funcion', 'funciona', 'funcionalidad', 'funct', 'functi', 'function', 'functionn', 'fund', 'fundament', 'fundec', 'fundus', 'funicul', 'funicula', 'funileir', 'funk', 'funktion', 'funktioniert', 'funn', 'fur', 'furbish', 'furfil', 'furn', 'furnak', 'furnish', 'furnitur', 'furr', 'fursnish', 'furt', 'furthermor', 'fus', 'fusion', 'fuss', 'fussn', 'futebol', 'futon', 'futsal', 'futur', 'futurist', 'fyi', 'g', 'ga', 'gabbl', 'gabl', 'gabriell', 'gadget', 'gag', 'gaggenau', 'gaid', 'gain', 'gaiol', 'gaivot', 'gal', 'galam', 'galardo', 'galax', 'galeg', 'galement', 'galer', 'galhard', 'galinh', 'galiz', 'galler', 'galley', 'galp', 'galv', 'gam', 'gamesroom', 'gamm', 'ganc', 'gandairinh', 'gandarinh', 'gandr', 'ganh', 'gant', 'ganz', 'ganzen', 'gap', 'gar', 'garag', 'garaget', 'garaj', 'garant', 'garantidament', 'garantim', 'garbag', 'garc', 'gard', 'gardant', 'garden', 'gardenhous', 'gardenpark', 'gardensid', 'garderob', 'garf', 'garraf', 'garret', 'garrett', 'garten', 'gartenm', 'gartenplatz', 'gartenterrass', 'gas', 'gaskoch', 'gasolin', 'gasp', 'gast', 'gasten', 'gastgeb', 'gastr', 'gastron', 'gastronim', 'gastronom', 'gat', 'gatekeep', 'gateway', 'gath', 'gatinh', 'gav', 'gavet', 'gavinh', 'gay', 'gaz', 'gazeb', 'gazin', 'gb', 'gblick', 'gdzi', 'ge', 'geait', 'gear', 'geb', 'gebliebenen', 'gee', 'geeig', 'geeignet', 'geekiest', 'geen', 'gefahrlosen', 'gefallen', 'gefliest', 'gefrierfach', 'gefrierkombin', 'gefrierschrank', 'gegen', 'gegenden', 'geh', 'gehegt', 'gehel', 'gehminuten', 'gehn', 'geht', 'gehweit', 'gel', 'geladeir', 'gelangt', 'gelat', 'geldautomaten', 'gelebt', 'gelegen', 'gelegenen', 'geleir', 'gelingen', 'gell', 'gelt', 'gelten', 'gelungen', 'gelungenen', 'gem', 'gemakken', 'gemauert', 'gemeenschappelijk', 'gemeind', 'gemeins', 'gemeinschaftspool', 'gemeinschaftsr', 'gemeinschaftsraum', 'gemin', 'gen', 'genau', 'genaus', 'gend', 'gener', 'general', 'generaliz', 'generat', 'genericament', 'generous', 'genes', 'genhet', 'genial', 'geniessen', 'genius', 'genoeg', 'genr', 'gent', 'gentil', 'gentl', 'gentleman', 'gentrif', 'genu', 'genug', 'genuin', 'genuinament', 'genutzt', 'geod', 'geograf', 'geograph', 'geol', 'georg', 'geotherm', 'geparkt', 'gepflegt', 'gepflegten', 'ger', 'gera', 'geral', 'geralment', 'gerichten', 'german', 'gern', 'gertrud', 'gesamt', 'gesamtpr', 'gesamtwohnfl', 'gesch', 'geschicht', 'geschirr', 'geschirrsp', 'geschliffen', 'geschlossen', 'geschmackvol', 'geschmackvoll', 'geschnitten', 'geselligen', 'gess', 'gest', 'gestaltet', 'gestalteten', 'gestaltung', 'gestellt', 'gestur', 'get', 'getaway', 'getrennt', 'gett', 'geweckt', 'gewonnen', 'gf', 'ghz', 'gi', 'gia', 'giacomett', 'giant', 'gibt', 'gic', 'gicament', 'gid', 'giestal', 'gift', 'gig', 'gigabit', 'gigant', 'gigen', 'gigkeit', 'gil', 'gild', 'gillet', 'gimn', 'gimnasi', 'gin', 'ging', 'ginginh', 'ginjinh', 'gio', 'gion', 'giorn', 'giqu', 'gir', 'giraff', 'girassol', 'girat', 'girl', 'girlfriend', 'gisel', 'giv', 'given', 'gl', 'glab', 'glad', 'glamor', 'glamour', 'glamp', 'glanc', 'glas', 'glass', 'glast', 'glaz', 'gle', 'gled', 'gleich', 'gleichen', 'glement', 'gler', 'glich', 'glichen', 'glichkeit', 'glichkeiten', 'glicht', 'glid', 'gliedert', 'glimps', 'glipms', 'glis', 'glissez', 'glisten', 'glitt', 'glo', 'glob', 'global', 'glor', 'glorious', 'gloss', 'glourious', 'glov', 'glovesfor', 'glow', 'gls', 'glu', 'glub', 'glubenkian', 'glubenkien', 'gluten', 'gn', 'gne', 'go', 'goa', 'goal', 'goat', 'goed', 'goggl', 'goj', 'gold', 'golden', 'goldenst', 'goldfinch', 'goleg', 'golf', 'gom', 'gon', 'gong', 'gonn', 'gont', 'gonzal', 'good', 'goodnight', 'goof', 'googl', 'googlemap', 'goolgl', 'goood', 'goos', 'gor', 'gorcer', 'gorett', 'gorg', 'gorgeous', 'gorill', 'gors', 'gost', 'gostam', 'gostos', 'got', 'gothic', 'gourmet', 'gout', 'gouv', 'govern', 'goz', 'gpl', 'gps', 'gr', 'gra', 'grab', 'grac', 'gracieus', 'gracinh', 'gracious', 'grad', 'graduat', 'graf', 'graffit', 'grain', 'gralhador', 'gralit', 'gramophon', 'gran', 'grand', 'grandell', 'grandess', 'grandest', 'grandeur', 'grandfath', 'grandi', 'grandm', 'grandmoth', 'grandp', 'granit', 'grann', 'grant', 'grap', 'grapefruit', 'graphic', 'gras', 'grasp', 'grass', 'grasscloth', 'grasshopp', 'grat', 'gratisparkpl', 'gratitud', 'gratu', 'gratuit', 'gratuitament', 'graus', 'gray', 'grayscal', 'graz', 'gre', 'greaaat', 'great', 'greatest', 'green', 'greener', 'greengroc', 'greenhous', 'greenlin', 'greenstreet', 'greenwich', 'greet', 'grelh', 'grelhador', 'grew', 'grey', 'greyhound', 'grid', 'gril', 'grill', 'grillen', 'grillm', 'grillstell', 'grim', 'grimp', 'grind', 'grindston', 'gro', 'groc', 'grocer', 'grocerystor', 'grond', 'gross', 'grossar', 'grosser', 'grossur', 'grossz', 'grot', 'ground', 'groundfloor', 'groundlfoor', 'group', 'grov', 'grow', 'grown', 'grownup', 'growth', 'gruenen', 'grundfl', 'grundst', 'grup', 'gruppen', 'grut', 'gstation', 'gt', 'gu', 'gua', 'guadian', 'guamel', 'guarant', 'guard', 'guardam', 'guarden', 'gublbenkian', 'gucc', 'gue', 'guerr', 'guess', 'guest', 'guesthous', 'guestplaz', 'guestread', 'guestroom', 'guethous', 'gui', 'guid', 'guidanc', 'guidebook', 'guidelin', 'guilh', 'guillotin', 'guilt', 'guim', 'guimard', 'guin', 'guinch', 'guinean', 'guinh', 'guit', 'gul', 'gulbenkian', 'gulbenkianmuseum', 'gulbenkien', 'guldenkian', 'gulet', 'gung', 'gunich', 'guo', 'gush', 'gust', 'gustant', 'gustav', 'gut', 'guten', 'guy', 'gwsm', 'gy', 'gym', 'gymn', 'gymnasium', 'gymnast', 'gypsum', 'h', 'ha', 'hab', 'haben', 'habilidad', 'habilit', 'habit', 'habitabilidad', 'habitac', 'habitacion', 'habitaciona', 'habitant', 'habitat', 'habiton', 'habitu', 'habitualment', 'habl', 'habt', 'hac', 'hacerl', 'hafen', 'hahah', 'hahn', 'hai', 'hair', 'haird', 'hairdr', 'hairdress', 'hairdry', 'hal', 'halben', 'halcyon', 'half', 'halfcell', 'halfway', 'hall', 'hallmark', 'hallway', 'halogen', 'halt', 'halten', 'ham', 'hamburg', 'hamburgu', 'hamm', 'hamman', 'hammock', 'hampton', 'han', 'hand', 'handbereik', 'handcraft', 'handgekn', 'handicap', 'handicraft', 'handl', 'handmad', 'handpick', 'handrail', 'handsom', 'handt', 'handwork', 'handycraft', 'hang', 'hangout', 'hannah', 'hap', 'happ', 'happen', 'happi', 'happil', 'happn', 'happyguest', 'har', 'harass', 'harbor', 'harbour', 'hard', 'hardest', 'hardw', 'hardwood', 'harm', 'harmon', 'harmoni', 'harmoniosament', 'harsh', 'hart', 'harvest', 'harz', 'has', 'hassl', 'hast', 'hat', 'hatch', 'hath', 'haunt', 'haupthaus', 'haus', 'hausd', 'hauseck', 'hauseingang', 'haust', 'hauswirtschaftsraum', 'haut', 'hauteur', 'hav', 'havent', 'havr', 'hawa', 'hawk', 'hazard', 'hbo', 'hcc', 'hci', 'hd', 'hdmi', 'hdtv', 'hea', 'head', 'headboard', 'headquart', 'headroom', 'heaitng', 'heal', 'healt', 'health', 'healthc', 'healthi', 'heap', 'hear', 'heard', 'heart', 'heartbeat', 'heartfelt', 'hearth', 'hearthquak', 'heartland', 'heartwarm', 'heat', 'heatabl', 'heath', 'heatin', 'heav', 'heaven', 'heb', 'hebt', 'hech', 'heck', 'heckbett', 'heckgarag', 'hect', 'hectic', 'hector', 'hedg', 'heeft', 'heel', 'heerlijk', 'hegieniz', 'heigh', 'height', 'heirloom', 'heizen', 'heizkosten', 'heizung', 'hej', 'hel', 'held', 'helen', 'helicopt', 'heliodor', 'hell', 'helmut', 'help', 'helpful', 'helth', 'hem', 'hen', 'henc', 'henner', 'henriqu', 'hepunkt', 'her', 'herat', 'herb', 'herbal', 'herbalif', 'herbicid', 'herd', 'heritag', 'hermitag', 'hermos', 'herringbon', 'herrlich', 'herrlichen', 'herrscht', 'herum', 'herunt', 'hervorragend', 'herzen', 'herzlich', 'hesit', 'hesitad', 'hest', 'het', 'heteronym', 'heur', 'heureux', 'hey', 'hh', 'hi', 'hibiscus', 'hicul', 'hid', 'hidden', 'hideaway', 'hiden', 'hideout', 'hidr', 'hidraul', 'hidromasag', 'hidromass', 'hidromassag', 'hier', 'hieronymit', 'hif', 'hifen', 'hig', 'high', 'highcha', 'higherfloor', 'highest', 'highlight', 'highsp', 'hight', 'highway', 'higien', 'higieniz', 'higth', 'higthest', 'higway', 'hik', 'hil', 'hilfsbereit', 'hill', 'hillhous', 'hillsid', 'hilltop', 'himmel', 'hin', 'hinaus', 'hinduism', 'hing', 'hinguck', 'hint', 'hinten', 'hintereinand', 'hinteren', 'hinterhof', 'hinterland', 'hinweisen', 'hip', 'hipermarket', 'hipermerc', 'hipism', 'hipoalergen', 'hipodrom', 'hipp', 'hippest', 'hippodrom', 'hipst', 'hir', 'hirt', 'hist', 'histo', 'histor', 'historiqu', 'historisch', 'historischen', 'hit', 'hithert', 'hitt', 'hiv', 'hl', 'hle', 'hlen', 'hler', 'hlfach', 'hlmaschin', 'hlschr', 'hlschrank', 'hlte', 'hmte', 'hmtem', 'hmten', 'hncsm', 'hnlich', 'ho', 'hob', 'hobb', 'hobbit', 'hochbett', 'hocheben', 'hochh', 'hochparterr', 'hochwertig', 'hochwertigen', 'hock', 'hockey', 'hof', 'hog', 'hoh', 'hohen', 'hoist', 'hoj', 'hol', 'hold', 'holen', 'holiday', 'holidaybreak', 'holidayhous', 'holidaymak', 'holist', 'holliday', 'hollow', 'hollyday', 'hollywoodstyl', 'holm', 'holyday', 'holz', 'holzb', 'holzdeck', 'holzofen', 'holzpavillon', 'holzplatform', 'holzterrass', 'hom', 'homeb', 'homeboat', 'homeconnect', 'homecook', 'homegrown', 'homeit', 'homeland', 'homelik', 'homemad', 'homen', 'homenag', 'homesh', 'homesick', 'homestay', 'hometown', 'homework', 'homey', 'homeysuit', 'honest', 'honey', 'honeymoon', 'honor', 'honr', 'hood', 'hoop', 'hoost', 'hop', 'hopp', 'hopu', 'hor', 'horari', 'horizon', 'horizont', 'horn', 'hors', 'horseback', 'hort', 'hortenc', 'hortens', 'hos', 'hosped', 'hospedag', 'hospedaj', 'hospedam', 'hospit', 'hospita', 'hospital', 'hospitalidad', 'host', 'hostal', 'hostel', 'hostess', 'hot', 'hotbird', 'hotel', 'hoteleir', 'hotplat', 'hotpoint', 'hotspot', 'hott', 'hottest', 'hou', 'hour', 'hous', 'household', 'housekeep', 'housepl', 'houset', 'hoven', 'howev', 'howl', 'hr', 'hrend', 'hrt', 'hst', 'html', 'http', 'hu', 'hub', 'hubbett', 'hubbub', 'huddl', 'hue', 'huesped', 'huffington', 'hug', 'hui', 'huisdieren', 'huisk', 'hull', 'hum', 'human', 'humanidad', 'humbert', 'humbl', 'humid', 'humil', 'hummingbird', 'humor', 'hund', 'hunder', 'hundert', 'hundr', 'hundread', 'hungarian', 'hungr', 'hunt', 'hurt', 'hus', 'husband', 'huset', 'huskyhund', 'hussl', 'husstl', 'hustl', 'hut', 'huzzl', 'hve', 'hventil', 'hydr', 'hydraul', 'hydro', 'hydroalcohol', 'hydromass', 'hydromassag', 'hygg', 'hygi', 'hygien', 'hymn', 'hype', 'hyper', 'hypermarch', 'hypermarket', 'hypoallergen', 'hystor', 'hz', 'ia', 'iad', 'ian', 'iberian', 'ibiz', 'ic', 'ice', 'icebox', 'icebreak', 'ich', 'ici', 'icon', 'iconinc', 'id', 'ida', 'idad', 'ide', 'idea', 'ideaal', 'ideal', 'idealiz', 'idealment', 'idealn', 'idel', 'ident', 'identidad', 'identif', 'identiqu', 'idock', 'idos', 'idyl', 'idyllisch', 'ie', 'ig', 'igesp', 'ighti', 'igjennom', 'igles', 'iglo', 'ignor', 'igrej', 'igu', 'igua', 'igual', 'igualment', 'ih', 'iha', 'ihnen', 'ihr', 'ihrem', 'ihren', 'ihrer', 'ii', 'iii', 'ik', 'ike', 'il', 'ilda', 'ile', 'ilha', 'ilimit', 'ill', 'illeg', 'illumin', 'illustr', 'ilumin', 'iluminac', 'iluminist', 'ilustr', 'im', 'imac', 'imacul', 'imag', 'imagin', 'imaginar', 'imbat', 'imed', 'imediat', 'imediatament', 'imens', 'imensid', 'imers', 'imessag', 'imform', 'imigrant', 'imm', 'immacul', 'immed', 'immens', 'immer', 'immers', 'immerw', 'immeubl', 'immigr', 'imovel', 'impa', 'impact', 'impar', 'impass', 'impec', 'impecc', 'imper', 'imperd', 'imperfect', 'imperson', 'implant', 'implem', 'implement', 'impli', 'implic', 'impo', 'impon', 'imponent', 'import', 'important', 'impos', 'imposs', 'impost', 'impr', 'impren', 'impres', 'imprescind', 'impress', 'impressionant', 'impressor', 'improv', 'in', 'inaccess', 'inappropr', 'inaugur', 'inbu', 'inbuild', 'inbuilt', 'inc', 'incant', 'incarn', 'incas', 'incent', 'incentr', 'inch', 'incin', 'incit', 'incl', 'inclin', 'inclu', 'includ', 'includin', 'includu', 'inclus', 'inclusiv', 'inclusivament', 'inclut', 'incomb', 'incomod', 'incomp', 'inconfund', 'inconven', 'incorpor', 'incorr', 'incr', 'incre', 'incred', 'incredivel', 'incredivl', 'incribl', 'incrivel', 'incrivelment', 'incroy', 'incrust', 'incub', 'incur', 'incurs', 'ind', 'inde', 'indenpend', 'indeped', 'independ', 'independent', 'independentement', 'independient', 'indesit', 'indi', 'indian', 'indic', 'indiferent', 'indiff', 'indisch', 'indispen', 'indispens', 'indispon', 'indisponibilidad', 'individu', 'individua', 'individualment', 'individualreisend', 'individuel', 'individuell', 'indivud', 'indon', 'indoor', 'indu', 'induc', 'induct', 'indulg', 'industr', 'industriell', 'inequ', 'inerent', 'inesc', 'inesquec', 'inesquecivel', 'inevit', 'inexpens', 'inextric', 'inf', 'infam', 'infant', 'infantil', 'infec', 'infect', 'infelizment', 'inferior', 'infern', 'infin', 'infinidad', 'infinit', 'infl', 'inflat', 'influ', 'influenc', 'influent', 'info', 'inform', 'informam', 'informasjon', 'infra', 'infraestrutur', 'infrastructur', 'infring', 'infront', 'infus', 'ing', 'ingen', 'ingericht', 'ingl', 'inglesinh', 'ingr', 'ingred', 'ingredient', 'inhabit', 'inhal', 'inherit', 'inic', 'inici', 'inicialment', 'inid', 'inigu', 'inimagin', 'ininterrupt', 'init', 'inject', 'inkl', 'inklus', 'inlaid', 'inland', 'inlx', 'inmejor', 'inmitten', 'inn', 'inneneinrichtung', 'innenhof', 'innenland', 'innenraum', 'innentrepp', 'inner', 'innerhalb', 'innkeep', 'innloc', 'innov', 'innum', 'inoguraca', 'inom', 'inoubl', 'inov', 'inox', 'inquilin', 'inquillin', 'inquir', 'insan', 'insbesond', 'inser', 'insert', 'insgesamt', 'insi', 'insid', 'insight', 'insinu', 'insist', 'insonor', 'insonoriz', 'inspect', 'inspir', 'inspiracion', 'inst', 'insta', 'instagr', 'instal', 'instanc', 'instant', 'instead', 'instinct', 'institu', 'institut', 'instru', 'instruct', 'instrument', 'insufl', 'insuit', 'insul', 'insur', 'int', 'intact', 'intal', 'intang', 'intedent', 'integr', 'integralment', 'integrert', 'integridad', 'inteir', 'inteirament', 'inteligent', 'intellectu', 'intellectuel', 'intellig', 'intempor', 'inten', 'intend', 'intendent', 'intens', 'intensidad', 'intent', 'inter', 'interact', 'interag', 'intercom', 'interconnect', 'intercontinent', 'interdit', 'interenet', 'interess', 'interessant', 'interessanterw', 'interest', 'interf', 'interfac', 'interior', 'interiorment', 'interlig', 'interm', 'intermach', 'intermarch', 'intermed', 'intern', 'internacion', 'internaciona', 'internacionalment', 'internation', 'international', 'internet', 'internett', 'internetzugang', 'internship', 'interrupteur', 'intersect', 'interspers', 'intertwin', 'interurban', 'interv', 'interven', 'intervenct', 'intervent', 'intim', 'intimac', 'intimidad', 'intimit', 'intir', 'intitul', 'intol', 'intric', 'intrigu', 'intro', 'introduc', 'introduct', 'intstruct', 'intuit', 'inum', 'inumer', 'inund', 'inva', 'invad', 'invas', 'invent', 'inver', 'invern', 'inversament', 'inversor', 'invert', 'invest', 'investor', 'invi', 'invigor', 'invit', 'inviton', 'invoic', 'invok', 'involv', 'io', 'iod', 'iodin', 'iodiz', 'iodum', 'iog', 'ion', 'ip', 'ipad', 'iphon', 'ipo', 'ipod', 'ippar', 'iptv', 'ir', 'ira', 'iran', 'ireland', 'ireless', 'irem', 'irglux', 'irish', 'irland', 'iron', 'irregul', 'irresist', 'irrev', 'irritant', 'irt', 'isab', 'isabel', 'isabelfoguet', 'iscem', 'isct', 'isec', 'iseg', 'isent', 'isg', 'isidor', 'isir', 'isla', 'island', 'ismail', 'isnot', 'isnt', 'isol', 'isot', 'issu', 'ist', 'ital', 'italiain', 'italian', 'italienn', 'itec', 'item', 'iten', 'itin', 'itinerar', 'itqb', 'itv', 'iur', 'iv', 'iva', 'iven', 'ivor', 'ix', 'j', 'ja', 'jac', 'jacarand', 'jaccuzz', 'jachthafen', 'jack', 'jacket', 'jacob', 'jacqu', 'jacuz', 'jacuzz', 'jad', 'jahr', 'jahren', 'jahreszeit', 'jahrhundert', 'jak', 'jam', 'jama', 'jamb', 'jamor', 'jan', 'janeir', 'janel', 'jant', 'januar', 'japan', 'japon', 'japones', 'jar', 'jard', 'jardim', 'jardin', 'jardinet', 'jarr', 'jasmim', 'jasmin', 'jat', 'jaun', 'jaunt', 'jazz', 'jbl', 'je', 'jean', 'jed', 'jeden', 'jederzeit', 'jedoch', 'jen', 'jer', 'jeronim', 'jeronym', 'jest', 'jesus', 'jet', 'jetabl', 'jetsett', 'jeun', 'jeux', 'jeweil', 'jewel', 'jeweller', 'jewelr', 'jewish', 'jezelf', 'jh', 'jimm', 'jitsu', 'jiu', 'jjuic', 'jo', 'joa', 'joalh', 'joan', 'joaquim', 'job', 'joe', 'jog', 'joggen', 'joi', 'joignabl', 'join', 'joinabl', 'joint', 'jok', 'jol', 'joliment', 'jor', 'jord', 'jorg', 'jorgin', 'jos', 'josef', 'joseph', 'jostl', 'jou', 'jouet', 'jour', 'journ', 'journalist', 'journant', 'journerez', 'journey', 'jourromantiqu', 'jov', 'joven', 'joy', 'joyeux', 'joyful', 'ju', 'judgement', 'judic', 'jug', 'juic', 'juicemak', 'juicepress', 'juiceven', 'jul', 'julh', 'julia', 'julian', 'juliet', 'juliett', 'julliet', 'jumb', 'jump', 'jun', 'juncal', 'junction', 'jung', 'jungl', 'junh', 'junior', 'junqueir', 'junt', 'juntament', 'jupit', 'jur', 'jurass', 'jus', 'jusqu', 'just', 'justic', 'jut', 'juxtap', 'juz', 'jym', 'k', 'kabel', 'kabelfernsehen', 'kaf', 'kaffeemaschin', 'kahaka', 'kahau', 'kai', 'kal', 'kalan', 'kalath', 'kalor', 'kam', 'kamin', 'kaminzimm', 'kanap', 'kann', 'kannst', 'kapit', 'kapok', 'kaputt', 'karaok', 'karten', 'kastruimt', 'katedr', 'kattl', 'katz', 'kaum', 'kayak', 'ke', 'keen', 'keep', 'keil', 'kein', 'keinen', 'keka', 'kell', 'kennen', 'kept', 'ket', 'ketll', 'kett', 'kettel', 'kettl', 'keuken', 'key', 'keyboard', 'keybox', 'keyless', 'keypad', 'kg', 'ki', 'kichen', 'kichtenett', 'kick', 'kickback', 'kictchen', 'kicthen', 'kicthenet', 'kid', 'kidney', 'kiln', 'kiloment', 'kilomet', 'kilometerlangen', 'kilometr', 'kin', 'kind', 'kinderbad', 'kinderbett', 'kinderen', 'kinderfreundlichen', 'kindergarten', 'kindern', 'kinderrutsch', 'kinderspielplatz', 'kinesiolog', 'kinet', 'king', 'kingb', 'kingsiz', 'kiosk', 'kirch', 'kirsten', 'kiss', 'kit', 'kitc', 'kitcehn', 'kitch', 'kitcheen', 'kitchen', 'kitchenaid', 'kitchenentt', 'kitchenet', 'kitchenett', 'kitchenettt', 'kitchennet', 'kitchennett', 'kitchenthat', 'kitchenv', 'kitchenw', 'kitchinet', 'kitchinett', 'kitchinnett', 'kitchnet', 'kitchnett', 'kitchnnet', 'kitcken', 'kitcnett', 'kitesurf', 'kithcenet', 'kithchen', 'kitnet', 'kitsch', 'kitt', 'kitten', 'kixeh', 'kj', 'klaren', 'klassischen', 'klavi', 'kle', 'kleiderschrank', 'klein', 'kleinen', 'klimaanlag', 'klimaanlagen', 'klippen', 'klm', 'klosteranlag', 'klostergarten', 'km', 'kne', 'kni', 'knickknack', 'knif', 'knight', 'knob', 'knott', 'know', 'knowledg', 'known', 'ko', 'kochab', 'kochasz', 'kochen', 'kochinsel', 'kologisch', 'kombin', 'komfort', 'komfortabel', 'komfortablen', 'komm', 'kommen', 'kommt', 'komplett', 'konnten', 'kontaktperson', 'kontrast', 'kook', 'kool', 'kor', 'kosten', 'kostenfr', 'kostenl', 'kostenlosen', 'kr', 'kreativ', 'kreuzfahrtschiff', 'krup', 'kt', 'ktchen', 'kubb', 'kuchn', 'kuech', 'kuehlen', 'kultur', 'kun', 'kundalin', 'kunstkam', 'kunt', 'kurz', 'kuschelig', 'kvm', 'kw', 'kwh', 'kyte', 'l', 'la', 'lab', 'label', 'labor', 'labour', 'labrador', 'labyrinth', 'labyrinthin', 'lac', 'laci', 'lack', 'lackierung', 'lacqu', 'lad', 'ladd', 'laden', 'ladr', 'ladraeverytuesfay', 'laerk', 'lag', 'lago', 'lagoon', 'lagost', 'laid', 'laidback', 'laiss', 'laissez', 'laj', 'lak', 'lam', 'lambert', 'lameg', 'lamin', 'lamp', 'lampen', 'lan', 'lanc', 'lanch', 'land', 'landblick', 'landhaus', 'landhausstil', 'landlin', 'landlord', 'landmark', 'landmass', 'landscap', 'landschaft', 'landstr', 'lang', 'langen', 'languag', 'lant', 'lantern', 'lap', 'lapisc', 'lapp', 'lapt', 'laptop', 'lar', 'laranj', 'laranjeir', 'lareir', 'larg', 'largest', 'largur', 'larr', 'las', 'lassen', 'last', 'lat', 'latenc', 'latest', 'lateur', 'latex', 'latin', 'latt', 'laudr', 'laugh', 'laught', 'launch', 'laund', 'launderett', 'laundr', 'laundrett', 'laundromat', 'laurentin', 'lav', 'lavab', 'lavadeir', 'lavador', 'lavag', 'lavamil', 'lavand', 'lavash', 'lavat', 'lavator', 'lavavajill', 'lavda', 'lavend', 'lavish', 'lavo', 'lavr', 'law', 'lawn', 'lay', 'layout', 'laz', 'lazar', 'lcd', 'lcool', 'lda', 'lder', 'le', 'lea', 'lead', 'leadership', 'leaf', 'leaflet', 'leagu', 'leak', 'leakag', 'lean', 'learn', 'learningship', 'leas', 'least', 'leath', 'leav', 'leavdor', 'leben', 'lebensmittelgesch', 'lebr', 'lec', 'leck', 'lecteur', 'lectricit', 'lectriqu', 'lectrom', 'lectur', 'led', 'lederdoppelbett', 'ledersof', 'lee', 'leer', 'left', 'leg', 'lega', 'legac', 'legal', 'legalment', 'legend', 'legendar', 'legisl', 'legitim', 'legum', 'lei', 'leiblich', 'leicht', 'leilighet', 'leiligheten', 'leisur', 'leit', 'leitor', 'leitung', 'leitur', 'lem', 'lembr', 'lemon', 'lemonn', 'len', 'lencastr', 'lenco', 'lend', 'lenght', 'length', 'lenh', 'leon', 'leonor', 'ler', 'lernen', 'lesen', 'leson', 'lession', 'lesson', 'lest', 'let', 'letsgotocasca', 'lett', 'letzten', 'leur', 'leut', 'lev', 'levant', 'level', 'levi', 'lexim', 'lexus', 'leyland', 'lez', 'lg', 'lgbt', 'lgbtqi', 'lhas', 'li', 'lia', 'liabil', 'liabondesignap', 'liar', 'lib', 'libelul', 'liber', 'liberad', 'liberd', 'liberdad', 'libert', 'libertad', 'libon', 'libr', 'librar', 'lic', 'licen', 'licenc', 'licens', 'licht', 'lichtdurchflutet', 'lichtenstein', 'licor', 'lid', 'lidl', 'lie', 'lieb', 'lieben', 'liebevol', 'lieblingsstr', 'liegewi', 'liegt', 'lieu', 'lieux', 'lif', 'lifeless', 'lifestyl', 'lifetim', 'lift', 'lig', 'ligbad', 'ligeir', 'ligg', 'ligh', 'lighlt', 'light', 'lightcornerhous', 'lighten', 'lightest', 'lightf', 'lightful', 'lighthous', 'lightlif', 'lightn', 'lightsom', 'lign', 'ligrar', 'ligt', 'ligth', 'ligu', 'lik', 'likew', 'lil', 'lim', 'limelight', 'limeston', 'limi', 'limin', 'limit', 'limitat', 'limitless', 'limoeir', 'limp', 'limpez', 'limpiez', 'limpinh', 'limt', 'lin', 'lincoln', 'lind', 'lindissim', 'linen', 'lineup', 'ling', 'lingt', 'linguag', 'lingual', 'linh', 'link', 'linnen', 'lio', 'lion', 'liorat', 'lioz', 'lip', 'liqu', 'liquid', 'liquidific', 'liquor', 'lir', 'lisandr', 'lisb', 'lisbo', 'lisboabo', 'lisboad', 'lisboaet', 'lisboan', 'lisboet', 'lisbom', 'lisbon', 'lisbonaccommod', 'lisboncmanag', 'lisbonens', 'lisbonian', 'lisbonit', 'lisbonluxhom', 'lisbonn', 'lisbonnn', 'lisez', 'lisnav', 'lisnon', 'lison', 'lissabon', 'lissabonaufenthalt', 'lissabonn', 'list', 'listen', 'lit', 'liter', 'literal', 'literalment', 'literar', 'literatur', 'lithic', 'litl', 'litll', 'litor', 'litr', 'litt', 'littel', 'litteral', 'littl', 'littor', 'liv', 'livabl', 'liveabl', 'livel', 'liveliest', 'livin', 'livingroom', 'livinin', 'livon', 'livr', 'livrament', 'livrement', 'livrordeclamac', 'livroreclamac', 'lix', 'lizandr', 'lja', 'ljmonad', 'lkommen', 'llbeutel', 'lle', 'lleg', 'llen', 'ller', 'llt', 'lm', 'lmaschin', 'ln', 'lo', 'loacaliz', 'load', 'loan', 'lob', 'lobb', 'lobst', 'loc', 'loca', 'local', 'localidad', 'localion', 'localiz', 'localizaca', 'locast', 'locat', 'locata', 'locaux', 'loceat', 'lock', 'lockab', 'lockabl', 'lockbox', 'lockdown', 'locken', 'locom', 'loctaion', 'lodg', 'loew', 'loft', 'log', 'logal', 'logement', 'logg', 'login', 'logist', 'logradour', 'loi', 'loin', 'lois', 'loj', 'loll', 'lomb', 'lombard', 'lombavian', 'lon', 'london', 'londr', 'lonel', 'long', 'longboard', 'longcha', 'longest', 'longitudin', 'longterm', 'longtim', 'longu', 'lonic', 'loo', 'look', 'lookout', 'loom', 'loos', 'loosen', 'loquat', 'lor', 'lord', 'loren', 'loret', 'lorsqu', 'los', 'loss', 'lost', 'lot', 'lotacion', 'lotf', 'lotion', 'lotus', 'lou', 'louc', 'loud', 'loul', 'loung', 'loungin', 'loungu', 'lour', 'loureir', 'lourel', 'louren', 'lourenc', 'lourinh', 'lous', 'louv', 'lov', 'lovag', 'lovel', 'loveliest', 'lovelisbon', 'lovell', 'lovelystay', 'loveseat', 'lovey', 'low', 'lowcost', 'lowerfloorapart', 'lowest', 'loyal', 'lr', 'lrh', 'lt', 'lter', 'ltest', 'ltig', 'ltigend', 'ltim', 'ltipl', 'ltst', 'lu', 'lua', 'luar', 'lub', 'luc', 'luchthaven', 'lucian', 'lucien', 'luck', 'luckil', 'ludic', 'lug', 'lugagg', 'luggag', 'lugn', 'lui', 'luis', 'luiz', 'luj', 'lujosament', 'lull', 'lum', 'lumi', 'lumin', 'lumina', 'lumineus', 'lumineux', 'luminosiad', 'luminosidad', 'luminosit', 'lun', 'lunch', 'lund', 'lung', 'lupit', 'lur', 'lus', 'luscious', 'lush', 'lusitan', 'lusitanian', 'lusofil', 'lut', 'luv', 'lux', 'luxemburg', 'luxueux', 'luxuos', 'luxuosament', 'luxur', 'luxuri', 'luxus', 'luxusduschen', 'luz', 'luzeir', 'luzi', 'lv', 'lvar', 'lvor', 'lvpremi', 'lx', 'lxbestsuit', 'lxfactor', 'lxtownhous', 'lyc', 'lydl', 'lye', 'lys', 'm', 'maat', 'mac', 'macau', 'mach', 'machadinh', 'machen', 'machin', 'machineand', 'machiner', 'macht', 'macrobiot', 'mad', 'madalen', 'madec', 'madeir', 'madgrago', 'madonn', 'madr', 'madrago', 'madredeus', 'madrid', 'madrug', 'mae', 'mafr', 'mafrens', 'mag', 'magasin', 'magazin', 'magent', 'magg', 'magic', 'magiez', 'magimix', 'magiqu', 'magn', 'magnet', 'magnif', 'magnific', 'magnifiqu', 'magnus', 'magoit', 'maguy', 'mahagonibett', 'mahlzeiten', 'mahogan', 'mai', 'maid', 'mail', 'mailbox', 'mailman', 'main', 'mainhous', 'mainland', 'mainlin', 'mainroom', 'mainsqu', 'mainstr', 'maint', 'maintain', 'maintan', 'mainten', 'maior', 'maioritariament', 'maison', 'maisonett', 'maisonnett', 'maiz', 'maj', 'majest', 'majestosament', 'major', 'majord', 'mak', 'makeov', 'makeuproom', 'makin', 'mal', 'malab', 'maldiv', 'malerisch', 'malerischen', 'malgr', 'mall', 'malowniczeg', 'malv', 'malvar', 'malveir', 'maman', 'mamed', 'man', 'mana', 'manag', 'manch', 'mand', 'mandal', 'mandat', 'mandator', 'maneir', 'maneuv', 'mang', 'manger', 'manh', 'manicur', 'manifest', 'maniqu', 'mann', 'manor', 'manquez', 'mans', 'mansard', 'mansion', 'mant', 'manteig', 'mantivem', 'manual', 'manualment', 'manuel', 'manuelin', 'manufactur', 'manus', 'manuten', 'map', 'mapl', 'mappl', 'maq', 'maquiat', 'maquin', 'maquinez', 'mar', 'marachel', 'marathon', 'maraton', 'maravilh', 'maravilhosament', 'maravill', 'marbl', 'marbr', 'marc', 'marcant', 'marceneir', 'march', 'marchal', 'marches', 'mard', 'marech', 'mares', 'marg', 'margar', 'margen', 'margin', 'mari', 'mariag', 'marialv', 'marienburg', 'marient', 'marin', 'marinh', 'marionet', 'marionett', 'maris', 'marisc', 'marisqueir', 'maritim', 'mariz', 'mark', 'markenarmaturen', 'market', 'marketplac', 'markettim', 'markt', 'marku', 'marmorbrunnen', 'marmostufen', 'marqu', 'marr', 'marrec', 'marriag', 'marriott', 'marroc', 'marrocc', 'marroquin', 'marshal', 'marsitu', 'mart', 'marteleir', 'martim', 'martin', 'martinh', 'marulh', 'marvel', 'marvil', 'masc', 'mashabl', 'mashin', 'mask', 'masonr', 'masqu', 'mass', 'massag', 'massagen', 'massagestuhl', 'massant', 'massif', 'massim', 'massiv', 'mast', 'masterbedroom', 'mastercard', 'masterpiec', 'mastl', 'mastr', 'mat', 'matadour', 'matbutikk', 'match', 'matchless', 'matel', 'mater', 'materia', 'mateus', 'matild', 'matin', 'matinh', 'matiqu', 'matr', 'matratz', 'matress', 'matrimon', 'matrimoni', 'matrimonial', 'matt', 'mattr', 'mattrass', 'mattress', 'matur', 'mau', 'maul', 'maur', 'mauresqu', 'maverick', 'max', 'maxim', 'maximalbelegung', 'maximiz', 'maximum', 'maximun', 'maxin', 'may', 'mayb', 'mayor', 'maz', 'mb', 'mbar', 'mbit', 'mbo', 'mbps', 'mbt', 'mcdonald', 'mclaren', 'me', 'mea', 'mead', 'meal', 'mean', 'meand', 'meaning', 'meant', 'meantim', 'meanwhil', 'measeur', 'measur', 'meat', 'mec', 'mecc', 'mechan', 'med', 'medi', 'mediant', 'mediat', 'medic', 'medicin', 'mediev', 'medin', 'medit', 'mediterr', 'mediterranean', 'mediterranen', 'medium', 'mediumc', 'medl', 'meer', 'meerblick', 'meeresblick', 'meest', 'meet', 'meg', 'megabit', 'megabyt', 'mehr', 'mehran', 'mehrbettzimm', 'mehreren', 'mei', 'meig', 'meilleur', 'mein', 'meinwohnmobil', 'meisten', 'mejor', 'mel', 'melanchol', 'melhor', 'mell', 'mellow', 'melr', 'melt', 'mem', 'memb', 'membr', 'memor', 'memorabil', 'men', 'menaj', 'menant', 'mencion', 'menez', 'meng', 'menin', 'menor', 'mensag', 'mensagen', 'mensal', 'ment', 'menta', 'mental', 'mention', 'menu', 'meo', 'mer', 'merament', 'merc', 'mercat', 'mercean', 'merced', 'merec', 'merend', 'merg', 'mergulh', 'meritelun', 'merlot', 'merveil', 'merveill', 'merveilleux', 'mes', 'mesinh', 'mesm', 'mesmer', 'mesquitel', 'mess', 'messag', 'mest', 'mestr', 'mesur', 'met', 'metad', 'metal', 'meteor', 'method', 'meticul', 'metr', 'metroc', 'metropol', 'metropolitan', 'metrost', 'metton', 'mettr', 'meubl', 'mew', 'mezanin', 'mezannin', 'mezz', 'mezzanin', 'mg', 'mi', 'mia', 'miasteczk', 'mic', 'mich', 'michael', 'michelin', 'micr', 'microclim', 'micrond', 'microond', 'microw', 'microwav', 'microwaw', 'mid', 'midcentur', 'middl', 'midl', 'midll', 'midnigh', 'midnight', 'midst', 'midway', 'miejsc', 'miel', 'mientr', 'mieszkan', 'mieten', 'mietern', 'mietparteien', 'mieux', 'might', 'miguel', 'mih', 'mik', 'mikowell', 'mikrowell', 'mil', 'mild', 'milit', 'militar', 'milk', 'mill', 'million', 'millston', 'millwork', 'mim', 'mimick', 'miminh', 'mimos', 'mimut', 'min', 'mind', 'mindblow', 'mindel', 'mindestbuchungszeitraum', 'mingl', 'minib', 'minierc', 'miniflat', 'minim', 'minimal', 'minimalist', 'minimarket', 'minimerc', 'minimiz', 'minimum', 'minipr', 'miniprec', 'miniramp', 'minist', 'ministr', 'minit', 'minivan', 'minst', 'mint', 'minu', 'minuit', 'minunt', 'minut', 'minuten', 'minutt', 'mio', 'mir', 'mirador', 'miradour', 'miradur', 'miraga', 'mirant', 'miro', 'mirror', 'mirtil', 'mis', 'mischung', 'misericord', 'mism', 'mismatch', 'miss', 'mission', 'mist', 'mistic', 'mistur', 'mit', 'mitbekommt', 'mitbenutzt', 'mitel', 'mitten', 'mittendrin', 'mittl', 'miu', 'mix', 'mixeur', 'mixtur', 'ml', 'mlich', 'mlo', 'mlroup', 'mm', 'mme', 'mn', 'mnt', 'mnts', 'mo', 'mob', 'mobil', 'mobilfunknetz', 'mobili', 'mobilidad', 'mobilit', 'moch', 'mod', 'modalidad', 'modament', 'model', 'moder', 'modern', 'modernen', 'modernest', 'modernidad', 'modernism', 'modernist', 'modernit', 'moderniz', 'modest', 'modif', 'modificat', 'modul', 'moebel', 'moed', 'moeglich', 'mog', 'moi', 'moin', 'moindr', 'moinh', 'moj', 'mok', 'mol', 'mold', 'moleir', 'molh', 'moll', 'molt', 'molton', 'mom', 'moment', 'mon', 'monast', 'monasteir', 'monaster', 'monasteri', 'mond', 'monday', 'mondeg', 'monesteir', 'monester', 'money', 'monic', 'monitor', 'monix', 'moniz', 'monk', 'monkey', 'monnet', 'monochrom', 'monochromat', 'monocl', 'monopol', 'monoton', 'monoxid', 'monsant', 'monsaraz', 'monserr', 'monserrat', 'monserv', 'mont', 'montagn', 'montain', 'montanh', 'montebel', 'monteir', 'montejunt', 'montez', 'month', 'montoit', 'montserrat', 'monumen', 'monument', 'monumet', 'mood', 'moon', 'moonlight', 'moonr', 'moor', 'moorish', 'moorland', 'moorn', 'moov', 'mop', 'mor', 'mora', 'morad', 'morador', 'moram', 'morand', 'moreov', 'morerov', 'morgen', 'morn', 'morocc', 'moroccan', 'mort', 'mortgag', 'mos', 'mosaic', 'mosaikfliesen', 'moscavid', 'mosquit', 'most', 'mostard', 'mosteir', 'mostr', 'mot', 'moth', 'motif', 'motiv', 'motocicl', 'motor', 'motorbik', 'motorcycl', 'motorhom', 'motorsailor', 'motorway', 'mott', 'moucharabieh', 'moucho', 'mould', 'moulin', 'moulur', 'mound', 'mount', 'mountabl', 'mountain', 'mountainbik', 'mountainbiken', 'mountin', 'mour', 'mourar', 'mourish', 'moust', 'moustach', 'moustiqua', 'mouth', 'mov', 'movement', 'moviment', 'moyen', 'moyenn', 'mp', 'mpar', 'mpbs', 'mpdern', 'mq', 'mr', 'mst', 'mt', 'mtb', 'mtr', 'mtrs', 'mu', 'muc', 'much', 'mucif', 'mud', 'mudan', 'muebl', 'mug', 'muit', 'muj', 'mulh', 'mult', 'multibanc', 'multichannel', 'multicolor', 'multicultur', 'multicultura', 'multiculturt', 'multid', 'multifacet', 'multifamil', 'multifuncion', 'multifunct', 'multilingu', 'multim', 'multimed', 'multipl', 'multipurp', 'multitud', 'multius', 'multizon', 'mum', 'mund', 'mundia', 'mundial', 'mundialment', 'munic', 'municip', 'municipi', 'muniz', 'mur', 'muraill', 'mural', 'muralh', 'murch', 'murph', 'murt', 'mus', 'muscatel', 'museen', 'museu', 'museum', 'museus', 'mushroom', 'music', 'musica', 'musician', 'musiqu', 'muslim', 'must', 'mustard', 'mut', 'mutual', 'muy', 'mx', 'myapart', 'myauchan', 'mypac', 'myplac', 'myriad', 'myster', 'mystic', 'mytax', 'myth', 'mythic', 'mythiqu', 'n', 'naar', 'nab', 'nabij', 'nac', 'nach', 'nachbarh', 'nachbarschaft', 'nachd', 'nacht', 'nacion', 'naciona', 'nacionalidad', 'nad', 'naeh', 'nag', 'nageln', 'nagement', 'nah', 'nahegelegenen', 'naissanc', 'nak', 'nal', 'nalgun', 'nalu', 'nam', 'namen', 'namor', 'nao', 'nap', 'napkin', 'naquel', 'narrow', 'narrowboat', 'narrowest', 'nasc', 'nascent', 'nasciment', 'nass', 'nast', 'nat', 'natal', 'nath', 'nati', 'nation', 'nationalist', 'nativ', 'natur', 'natura', 'natural', 'naturalment', 'naturel', 'naturell', 'natut', 'naus', 'nautic', 'nautilus', 'nav', 'naval', 'navegant', 'navett', 'navi', 'navig', 'naz', 'nazareth', 'nb', 'nc', 'nci', 'ncial', 'ncip', 'ncpe', 'nd', 'nda', 'ndchen', 'nde', 'nden', 'nder', 'ndi', 'ndid', 'ndig', 'ndlich', 'ndo', 'ndung', 'ne', 'nea', 'neab', 'near', 'nearb', 'nearest', 'neat', 'neben', 'nec', 'necesidad', 'necess', 'necessar', 'necessaril', 'necessariop', 'necessidad', 'necessit', 'nedenfor', 'nee', 'need', 'neflix', 'neg', 'negat', 'neghborhood', 'neglect', 'negoc', 'negot', 'negr', 'nehmen', 'neiberhood', 'neibourhood', 'neibourhoud', 'neig', 'neigboorhood', 'neigborhod', 'neigborhood', 'neigborwood', 'neigbourhood', 'neigbowood', 'neigh', 'neighbdorhood', 'neighberhood', 'neighbohood', 'neighboor', 'neighboord', 'neighboorhood', 'neighboorhoud', 'neighboorwood', 'neighbor', 'neighborh', 'neighborhod', 'neighborhood', 'neighborshood', 'neighborwood', 'neighbour', 'neighbourg', 'neighbourgood', 'neighbourhod', 'neighbourhood', 'neighbourhoodof', 'neighhood', 'neighorhood', 'neighourhood', 'neightborhood', 'neill', 'neirborhood', 'neith', 'nel', 'nelson', 'nen', 'nenhum', 'nent', 'neo', 'neocl', 'neoclass', 'neolith', 'nepal', 'nepet', 'ner', 'nerg', 'nergiqu', 'nescaf', 'nesh', 'nesp', 'nespereir', 'nespr', 'nespress', 'nespresss', 'ness', 'nesspres', 'nest', 'nestl', 'net', 'netflix', 'nett', 'netten', 'nettoy', 'nettoyag', 'network', 'neu', 'neudel', 'neuf', 'neutral', 'neuv', 'neuz', 'nev', 'nevertheless', 'new', 'newcom', 'newest', 'newl', 'newlig', 'newman', 'news', 'newsag', 'newspap', 'newton', 'nexpress', 'next', 'nextdoor', 'nf', 'nfc', 'nfte', 'nften', 'ng', 'ngavst', 'ngematt', 'ngen', 'nger', 'nglichen', 'ngrem', 'ngste', 'nheed', 'ni', 'nia', 'nibus', 'nic', 'nicest', 'nich', 'nicht', 'nickn', 'nicol', 'nid', 'nie', 'nieghbor', 'nient', 'nieslig', 'niet', 'nieuw', 'nig', 'nigell', 'nigh', 'nighborhood', 'nighbourhood', 'nighfun', 'nighlif', 'night', 'nightclub', 'nightilif', 'nightl', 'nightlif', 'nightm', 'nightspot', 'nightstand', 'nigrum', 'nigth', 'nigthlif', 'nim', 'nin', 'nineteenth', 'ning', 'ningen', 'ningu', 'ninh', 'nint', 'nio', 'nior', 'nirvan', 'nit', 'niv', 'niveau', 'niveaux', 'nivel', 'nken', 'nkte', 'nl', 'nlich', 'nlichen', 'nlig', 'nnen', 'nnt', 'noah', 'nobel', 'nobil', 'nobl', 'noblest', 'nobod', 'nobr', 'nobrez', 'noch', 'nocturn', 'nod', 'nodig', 'nog', 'noguch', 'noi', 'noir', 'nois', 'noiseless', 'noisiest', 'noit', 'nom', 'nomad', 'nombreus', 'nombreux', 'nomeadament', 'nomin', 'non', 'nonlimit', 'nook', 'noon', 'nord', 'nordic', 'norm', 'norma', 'normal', 'normalerw', 'normalidad', 'normalment', 'norr', 'nort', 'north', 'northeast', 'northern', 'northwest', 'nos', 'nosotr', 'nostalg', 'not', 'notabl', 'notch', 'notebook', 'noth', 'notic', 'notif', 'notor', 'notoriet', 'notorius', 'notr', 'noturn', 'nourr', 'nous', 'noutr', 'nouveau', 'nouvel', 'nouvell', 'nov', 'novament', 'noveau', 'novel', 'novelist', 'novemb', 'novembr', 'now', 'nowaday', 'nowh', 'noy', 'nozzl', 'nqu', 'nr', 'nschen', 'nscht', 'nsert', 'nsi', 'nsint', 'nsit', 'nste', 'nsten', 'nsul', 'nt', 'nta', 'ntar', 'ntat', 'nte', 'ntic', 'ntim', 'ntra', 'ntric', 'nu', 'nua', 'nuanc', 'nuestr', 'nuev', 'nuisanc', 'nuissanc', 'nuit', 'null', 'num', 'numb', 'numer', 'nun', 'nunc', 'nur', 'nurser', 'nurtur', 'nut', 'nutmeg', 'nutr', 'nutricion', 'nutz', 'nutzen', 'nutzung', 'nuven', 'ny', 'nya', 'nye', 'nyrenoverad', 'oa', 'oad', 'oak', 'oaktr', 'oas', 'ob', 'obedec', 'oben', 'oberen', 'oberhalb', 'obersten', 'obey', 'obid', 'object', 'objet', 'oblig', 'obligator', 'obra', 'obrig', 'obrigat', 'obrigatoriament', 'obrigatoriedad', 'observ', 'observator', 'obsess', 'obst', 'obstacl', 'obstb', 'obtain', 'obvious', 'obwohl', 'oc', 'oca', 'ocas', 'ocasion', 'ocat', 'occas', 'occasion', 'occasional', 'occhard', 'occident', 'occup', 'occur', 'oce', 'ocean', 'oceanar', 'oceanari', 'oceanarium', 'oceanfascin', 'oceanfront', 'oceantimeout', 'oceanu', 'oceanview', 'ocen', 'och', 'ochr', 'oci', 'ocident', 'ocorr', 'ocr', 'oct', 'octob', 'octobr', 'ocup', 'ocupant', 'ocur', 'od', 'oder', 'odin', 'odincamp', 'odivel', 'odo', 'odrinh', 'odyssey', 'oe', 'oecan', 'oeil', 'oeir', 'oeirasgolf', 'oequip', 'oest', 'ofcasca', 'ofer', 'oferec', 'oferecem', 'ofert', 'offbeat', 'offcial', 'offe', 'offen', 'offenen', 'offer', 'offersopportun', 'offert', 'offic', 'offr', 'offrent', 'offrir', 'offron', 'offset', 'offshor', 'ofic', 'oficin', 'ofrec', 'ofrecem', 'oft', 'often', 'og', 'ogiv', 'oh', 'ohn', 'oi', 'oil', 'oiseaux', 'oit', 'oitav', 'ok', 'ol', 'ola', 'olabel', 'olai', 'olal', 'olar', 'old', 'older', 'oldest', 'oldschool', 'oldstyl', 'oldtown', 'oleandr', 'olga', 'olhad', 'olhand', 'olho', 'olisip', 'olissip', 'olissipp', 'oliv', 'oliva', 'oliveir', 'oliveirinh', 'olivet', 'olvid', 'olymp', 'olympo', 'om', 'ombr', 'omgivels', 'omog', 'omplet', 'on', 'ona', 'onart', 'onc', 'oncolog', 'ond', 'onda', 'one', 'oneof', 'oneself', 'ongo', 'oni', 'onibus', 'onl', 'onlin', 'onni', 'onsit', 'ont', 'onto', 'onward', 'onyri', 'ook', 'oon', 'ooz', 'op', 'opal', 'opcion', 'opcional', 'ope', 'open', 'openba', 'openf', 'openspac', 'oper', 'operatin', 'opinion', 'oport', 'oportun', 'oportunidad', 'opost', 'opphold', 'oppo', 'opportun', 'opposit', 'opt', 'optar', 'optic', 'optim', 'optimiz', 'optimum', 'option', 'optiqu', 'opul', 'orang', 'oranger', 'oraz', 'orc', 'orchard', 'orchestr', 'orchid', 'ord', 'ordem', 'order', 'ordinar', 'org', 'organ', 'organic', 'organiz', 'orginal', 'ori', 'orient', 'orientiert', 'orig', 'origam', 'origen', 'origin', 'origina', 'original', 'originalen', 'originalidad', 'originalit', 'originalment', 'originalstuck', 'originellen', 'orign', 'oriv', 'orla', 'orland', 'ornament', 'ornamental', 'ornat', 'orqu', 'ort', 'orthopaed', 'orthoped', 'ortop', 'ortschaft', 'os', 'osa', 'osb', 'oscar', 'oscill', 'osi', 'osir', 'oso', 'osobnych', 'ost', 'ostbalkon', 'ot', 'ota', 'otalment', 'oth', 'other', 'otherw', 'otplat', 'otra', 'ottoman', 'ouest', 'our', 'ouriceir', 'ouriqu', 'out', 'outback', 'outbreak', 'outbuild', 'outcom', 'outcrop', 'outd', 'outdo', 'outdoor', 'outdoorbereich', 'outdoors', 'outeir', 'outfit', 'outg', 'outing', 'outlast', 'outlet', 'outlin', 'outmost', 'outpost', 'outr', 'outror', 'outset', 'outsid', 'outsit', 'outskirt', 'outstand', 'outstandig', 'outubr', 'ouv', 'ouvert', 'ouvr', 'ouvrant', 'ouvrent', 'ov', 'ove', 'oven', 'overal', 'overb', 'overc', 'overcom', 'overcrowd', 'overhang', 'overhaul', 'overhead', 'overlap', 'overload', 'overlook', 'overlookin', 'overnight', 'overs', 'overseen', 'overtak', 'overtop', 'overview', 'overwhelm', 'ow', 'owen', 'ower', 'owl', 'own', 'owner', 'ownmad', 'oxford', 'oyster', 'ozinh', 'ozon', 'ozoniz', 'p', 'pa', 'paar', 'pac', 'pacat', 'pachuch', 'pacif', 'pack', 'packag', 'pacot', 'pad', 'paddelsurf', 'paddl', 'paddlesurf', 'padeir', 'padel', 'padll', 'padlock', 'padr', 'padroeir', 'padu', 'paell', 'pag', 'pagament', 'pai', 'paid', 'paiement', 'paimog', 'pain', 'painel', 'paint', 'paintbal', 'pair', 'paisag', 'paisagen', 'paisibl', 'paiv', 'paix', 'pakistan', 'pal', 'pala', 'palac', 'palacet', 'palaci', 'palacian', 'palai', 'palast', 'palasthof', 'palat', 'palazz', 'palc', 'palett', 'palh', 'palhacan', 'palheir', 'pali', 'palli', 'palm', 'palmeir', 'palmel', 'palmen', 'palmilh', 'palmtr', 'palpabl', 'pam', 'pamel', 'pamp', 'pamphlet', 'pampilheir', 'pan', 'pananson', 'panason', 'panc', 'pand', 'pandem', 'panel', 'panic', 'panin', 'panor', 'panoram', 'panoramablick', 'panoramafenst', 'panoramiqu', 'panoramisch', 'pant', 'pantea', 'panteon', 'panth', 'pantheon', 'pantr', 'pap', 'papagai', 'papel', 'papi', 'papoil', 'par', 'para', 'paraben', 'parad', 'paradisiac', 'parag', 'paragen', 'paraglid', 'paralel', 'parallel', 'parapent', 'parasol', 'parateur', 'parc', 'parceir', 'parcel', 'parcial', 'parcialment', 'parcour', 'parda', 'parec', 'pared', 'parej', 'parent', 'parfait', 'parish', 'parisian', 'parisien', 'parisin', 'park', 'parkeament', 'parkeerplaat', 'parken', 'parkeren', 'parket', 'parkin', 'parkland', 'parkm', 'parkpl', 'parkplaetz', 'parkplatz', 'parlament', 'parlant', 'parliament', 'parliamentar', 'parlon', 'parlor', 'parlour', 'parooz', 'parq', 'parqu', 'parqueament', 'parquet', 'parreir', 'parreirinh', 'parsley', 'part', 'partag', 'parterr', 'partial', 'particip', 'particul', 'particularment', 'partilh', 'partilham', 'partit', 'partment', 'partn', 'partnership', 'partout', 'partridg', 'partular', 'partyg', 'pas', 'pasion', 'pass', 'passad', 'passadeir', 'passag', 'passageir', 'passagen', 'passageway', 'passant', 'passap', 'passaport', 'passar', 'passarinh', 'passei', 'passeng', 'passent', 'passeport', 'passersb', 'passion', 'passionn', 'passport', 'password', 'past', 'pastel', 'pasteleir', 'paster', 'pastor', 'pastr', 'pat', 'patac', 'patch', 'patchoul', 'patchwork', 'patei', 'patent', 'path', 'patheon', 'pathway', 'pati', 'patienc', 'patin', 'patisser', 'patr', 'patrim', 'patrimon', 'patrol', 'patron', 'patrz', 'pattern', 'paul', 'paus', 'pav', 'pavement', 'pavilh', 'pavilion', 'paviment', 'pax', 'pay', 'payabl', 'payant', 'payment', 'paypal', 'pays', 'paysag', 'paz', 'pc', 'pcr', 'pdj', 'pe', 'pea', 'peac', 'peaceful', 'peach', 'peacock', 'peak', 'peapl', 'pear', 'pearl', 'peasant', 'peaton', 'pebbl', 'pecula', 'peculi', 'ped', 'pedest', 'pedestr', 'pedestrian', 'pediatr', 'pedicur', 'pedim', 'pedirem', 'pedon', 'pedona', 'pedr', 'pedreir', 'peek', 'peg', 'pegman', 'peix', 'pel', 'pelican', 'pellet', 'pelletsheizung', 'pelotur', 'pelud', 'pelzig', 'pen', 'penabuquel', 'penaferrim', 'penafiel', 'penal', 'penalt', 'pend', 'pendanc', 'pendant', 'pender', 'pened', 'penh', 'penich', 'peninh', 'pens', 'pensam', 'pensament', 'pent', 'pentax', 'penthous', 'peo', 'peol', 'peolp', 'peopl', 'pepl', 'pepp', 'pequ', 'pequen', 'pequinh', 'per', 'peral', 'peralt', 'perant', 'perc', 'percal', 'perceiv', 'percentag', 'perch', 'percol', 'percorr', 'percul', 'percurs', 'perd', 'perdiz', 'perdut', 'pereir', 'perf', 'perfec', 'perfect', 'perfectament', 'perfeir', 'perfeit', 'perfeitament', 'perfekt', 'perfekten', 'perfetc', 'perfil', 'perform', 'performin', 'perfth', 'perfum', 'pergol', 'pergunt', 'perhap', 'peril', 'perimetr', 'period', 'perk', 'perm', 'permacultur', 'perman', 'permanec', 'permeat', 'permet', 'permett', 'permettr', 'permiss', 'permit', 'permiten', 'permitim', 'permitt', 'pern', 'pernoit', 'perpect', 'perpendicul', 'pers', 'persev', 'persian', 'persist', 'person', 'personag', 'personal', 'personalidad', 'personaliz', 'personen', 'personn', 'personnel', 'perspect', 'perspex', 'pert', 'perten', 'pertenc', 'pertencent', 'pertinh', 'perturb', 'perus', 'pervad', 'pes', 'pesc', 'pescador', 'pesk', 'pess', 'pesso', 'pessoal', 'pessoalment', 'pestan', 'pesticid', 'pet', 'petal', 'petisc', 'petit', 'petrav', 'petrol', 'peu', 'peupl', 'peut', 'peuvent', 'pezorr', 'pfann', 'pfter', 'ph', 'pha', 'phanteon', 'phar', 'pharm', 'pharmac', 'phas', 'phd', 'phenomen', 'phil', 'philip', 'philipp', 'phillip', 'philosoph', 'phon', 'phonolog', 'phot', 'photocop', 'photog', 'photograf', 'photograph', 'phras', 'physal', 'physic', 'pi', 'pia', 'pian', 'piar', 'piazz', 'pic', 'pica', 'picadeir', 'picador', 'picament', 'picer', 'pick', 'pickup', 'picnic', 'pico', 'picot', 'pictoresqu', 'pictur', 'picturesqu', 'pid', 'pie', 'piec', 'pier', 'pierd', 'pierr', 'pietr', 'pig', 'pil', 'pilat', 'pilgrim', 'pilgrimag', 'pill', 'pillor', 'pillow', 'pilot', 'pilow', 'piment', 'pimm', 'pimpant', 'pin', 'pinc', 'pincel', 'pinch', 'pinewood', 'ping', 'pingod', 'pinh', 'pinhal', 'pinheir', 'pinienholzb', 'pink', 'pinnacl', 'pinsch', 'pint', 'pinteus', 'pintor', 'pintur', 'pio', 'pion', 'pip', 'pipoc', 'piqueniqu', 'piric', 'piriquit', 'pis', 'piscat', 'piscin', 'pist', 'pit', 'pitoresc', 'pitoresqu', 'pitouresc', 'pittoresqu', 'pituresqu', 'pizz', 'pl', 'pla', 'plac', 'placard', 'placement', 'placett', 'plafond', 'plag', 'plain', 'plais', 'plan', 'planch', 'planeament', 'planej', 'planet', 'plank', 'plant', 'plantat', 'plaq', 'plaqu', 'plasm', 'plast', 'plasterwork', 'plastic', 'plat', 'plataform', 'platform', 'platz', 'plaudit', 'play', 'playgarden', 'playgr', 'playground', 'playhous', 'playroom', 'playstat', 'playwright', 'plaz', 'ple', 'pleas', 'pleasant', 'pleasantest', 'pleaseant', 'pleasent', 'pleasu', 'pleasur', 'plein', 'pleinement', 'plek', 'plen', 'plenitud', 'plent', 'plenum', 'plesur', 'plethor', 'plex', 'pli', 'pliant', 'plot', 'pls', 'plug', 'plum', 'plumb', 'plumber', 'plung', 'plus', 'plush', 'plusieur', 'plywood', 'plz', 'pm', 'pmto', 'po', 'poc', 'pocket', 'pod', 'podem', 'podera', 'poderem', 'podium', 'podr', 'poem', 'poent', 'poet', 'poetic', 'poetr', 'poi', 'poia', 'poign', 'poilu', 'poin', 'point', 'poiri', 'pois', 'pojedynczym', 'pok', 'pokestop', 'pokojach', 'pokoju', 'pol', 'polaroid', 'poleg', 'polg', 'polib', 'poliban', 'polic', 'polish', 'polit', 'politeam', 'politecn', 'politician', 'poll', 'pollut', 'poltron', 'polu', 'polyest', 'polygon', 'pom', 'pomb', 'pombal', 'pombalian', 'pombalin', 'pomblin', 'pomembnih', 'pompadour', 'ponadt', 'pond', 'pong', 'pont', 'ponteon', 'poo', 'pool', 'poolanlag', 'poolcuzz', 'poolgr', 'poolh', 'poolsid', 'poolvill', 'poor', 'pop', 'popcorn', 'popu', 'popul', 'popula', 'poqu', 'por', 'porcelain', 'porcelan', 'porch', 'pork', 'pormenor', 'porqu', 'port', 'portabl', 'portal', 'portant', 'portatil', 'porteir', 'portel', 'portfoli', 'portgu', 'porthol', 'portic', 'portim', 'portion', 'portoaltocottag', 'portobell', 'portogall', 'portrait', 'portray', 'portu', 'portug', 'portuga', 'portugal', 'portugiesisch', 'portugiesischen', 'portugu', 'portugues', 'pos', 'posez', 'posh', 'posibl', 'posit', 'positivenomad', 'positon', 'poss', 'possam', 'possess', 'possib', 'possibil', 'possibilidad', 'possibilit', 'possibiliy', 'possibilt', 'possibl', 'possivel', 'possu', 'post', 'postal', 'postcard', 'postcod', 'posterior', 'posteriorment', 'postgrad', 'postman', 'postmodern', 'postw', 'pot', 'potabl', 'potag', 'potencialidad', 'potent', 'pott', 'potter', 'potugu', 'pou', 'pouc', 'pouf', 'poulail', 'poultr', 'pound', 'poup', 'pour', 'pourra', 'pourrez', 'pourriez', 'pourront', 'pous', 'poutr', 'pouvant', 'pouvez', 'pouvo', 'pouvon', 'pov', 'povo', 'pow', 'powd', 'ppint', 'ppl', 'pquq', 'pr', 'pra', 'prac', 'pracet', 'pracinh', 'practic', 'prad', 'pragan', 'praiaazenh', 'praiagrand', 'praktischen', 'pranch', 'prat', 'prateleir', 'pratic', 'praticament', 'praticant', 'praticidad', 'pratiqu', 'pray', 'praz', 'prazer', 'pre', 'preal', 'prec', 'precaut', 'preci', 'precios', 'preciosidad', 'precious', 'precis', 'precisam', 'predat', 'predi', 'predomin', 'preench', 'preencherm', 'pref', 'prefect', 'prefectur', 'prefer', 'preferenc', 'preferim', 'preisnachlass', 'preiswert', 'prem', 'premi', 'premium', 'prend', 'prendr', 'prenez', 'preocup', 'preocupacion', 'preocupam', 'prep', 'prepa', 'prepar', 'preprost', 'pres', 'prescis', 'prescrib', 'presen', 'presenc', 'present', 'preserv', 'presevam', 'presid', 'presidenc', 'president', 'presqu', 'press', 'pressur', 'prest', 'prestam', 'prestat', 'prestig', 'prestigi', 'prestigieux', 'presunt', 'pretend', 'pretendem', 'prett', 'prettiest', 'preuv', 'prev', 'prevail', 'prevalec', 'preven', 'prevent', 'previament', 'preview', 'previlegi', 'previligi', 'previous', 'previst', 'prez', 'prezam', 'pri', 'priavat', 'pric', 'pricac', 'priceless', 'pricey', 'pricipa', 'prid', 'priest', 'prim', 'primam', 'primar', 'primaril', 'primav', 'primeir', 'primevid', 'primog', 'primord', 'primordia', 'princ', 'princep', 'princess', 'princip', 'principa', 'principal', 'principalment', 'principaux', 'principl', 'print', 'prior', 'prioridad', 'priorit', 'pris', 'pristin', 'pritkz', 'pritz', 'priv', 'privac', 'privacidad', 'privat', 'privaten', 'privatif', 'privay', 'privec', 'priveligi', 'privet', 'privil', 'priviledg', 'privileg', 'privilegi', 'privilegiert', 'privilleg', 'privit', 'privt', 'prix', 'priz', 'pro', 'probabl', 'probl', 'problabl', 'problem', 'proced', 'procedur', 'proceed', 'process', 'processor', 'processus', 'proch', 'procur', 'procuram', 'produ', 'produc', 'product', 'produit', 'produt', 'produtor', 'produz', 'proemin', 'prof', 'professi', 'profession', 'professionn', 'professionnell', 'professor', 'profil', 'profission', 'profissiona', 'profit', 'profiterez', 'profitez', 'profondeur', 'profund', 'profundidad', 'progr', 'program', 'programm', 'progress', 'proh', 'prohibit', 'proib', 'project', 'projector', 'projekt', 'projet', 'projetam', 'prol', 'prolong', 'prom', 'promenad', 'promenor', 'promess', 'promet', 'prometem', 'promett', 'promin', 'promocod', 'promot', 'promov', 'prompt', 'pron', 'pront', 'proof', 'prop', 'propag', 'propert', 'propertu', 'propiedad', 'proporcion', 'proporcionarm', 'proport', 'propos', 'propositadament', 'proposon', 'propost', 'propr', 'propri', 'propriedad', 'propriet', 'proprietari', 'proriet', 'prosecc', 'prosp', 'prospect', 'prossegu', 'prostym', 'prot', 'protec', 'protect', 'protector', 'proteg', 'protetor', 'protocol', 'proud', 'prov', 'proveit', 'proven', 'provenc', 'proverb', 'proverbi', 'provid', 'providenc', 'providenciam', 'provoc', 'provok', 'proxim', 'proximidad', 'proximidadad', 'proximit', 'prun', 'prvac', 'prx', 'przep', 'przestronn', 'przi', 'psi', 'psul', 'pt', 'pte', 'ptic', 'ptim', 'pub', 'pubic', 'publ', 'public', 'publicit', 'publish', 'puc', 'pud', 'pued', 'puent', 'puert', 'puf', 'puff', 'pui', 'puisqu', 'puissiez', 'pull', 'pullout', 'pullov', 'puls', 'pump', 'punch', 'punctuat', 'punk', 'pupil', 'puppet', 'pur', 'purch', 'purest', 'purif', 'purit', 'purp', 'purpl', 'purr', 'pursuit', 'puru', 'push', 'put', 'puzzl', 'pvt', 'px', 'pyre', 'pyrex', 'pyrmont', 'q', 'qeen', 'qeuip', 'qi', 'qm', 'qto', 'qtos', 'qu', 'qua', 'quad', 'quadr', 'quadrat', 'quadratmet', 'quadrupl', 'quadruplex', 'quaint', 'quaintest', 'quaisqu', 'quak', 'qual', 'qualidad', 'qualit', 'qualitativ', 'qualqu', 'quand', 'quant', 'quantidad', 'quar', 'quarantin', 'quarr', 'quarryman', 'quart', 'quarti', 'quartz', 'quas', 'quasem', 'quatr', 'que', 'quebr', 'qued', 'queen', 'queensiz', 'queij', 'queir', 'quel', 'quell', 'quelqu', 'queluz', 'quemment', 'quenn', 'quent', 'quentinh', 'quer', 'quercus', 'querem', 'quest', 'question', 'questr', 'queu', 'qui', 'quick', 'quicksilv', 'quid', 'quien', 'quierligen', 'quiet', 'quietest', 'quietud', 'quil', 'quilibr', 'quilt', 'quim', 'quin', 'quint', 'quintadacondec', 'quintadamarinh', 'quintal', 'quintessent', 'quintinh', 'quiosqu', 'quip', 'quipement', 'quirk', 'quis', 'quit', 'quiv', 'quo', 'quot', 'quotidian', 'r', 'ra', 'rabbit', 'rac', 'racetrack', 'rack', 'racket', 'raclett', 'racont', 'rad', 'radi', 'radianc', 'radiant', 'radiat', 'radiateur', 'radic', 'radiogr', 'radios', 'radious', 'radius', 'rafael', 'raff', 'raffin', 'rafiq', 'rag', 'rai', 'raid', 'rail', 'railroad', 'railway', 'raimund', 'rain', 'rainbow', 'rainfal', 'rainforest', 'rainh', 'rair', 'rais', 'ral', 'ralement', 'ram', 'ramalh', 'rambl', 'raminh', 'ramir', 'ramp', 'rampart', 'ran', 'rand', 'random', 'rang', 'rangement', 'rank', 'rant', 'rapel', 'raph', 'raphaelit', 'rapid', 'rapidament', 'rappel', 'rapport', 'rar', 'rarit', 'rat', 'rateur', 'rath', 'rati', 'ration', 'rattan', 'ratur', 'raul', 'raum', 'raumklim', 'rav', 'ravingweeknd', 'raviss', 'ravissant', 'raw', 'ray', 'rayn', 'rayon', 'rayonn', 'raz', 'rc', 'rchen', 'rci', 'rcit', 'rd', 'rdc', 'rden', 'rdgkeiten', 'rdi', 'rdigkeiten', 'rdsbruk', 're', 'rea', 'reabilit', 'reabr', 'reac', 'reach', 'reachabl', 'read', 'real', 'realidad', 'realisiert', 'realism', 'realit', 'realiz', 'reall', 'realment', 'ream', 'rear', 'reason', 'reasonab', 'rebach', 'rebal', 'rebat', 'rebelv', 'rebent', 'rebirth', 'rebol', 'reboleir', 'reboot', 'reborn', 'rebuil', 'rebuild', 'rebuilt', 'rec', 'recant', 'recarreg', 'recat', 'receb', 'recebem', 'receberm', 'receipt', 'receiv', 'recent', 'recentement', 'recentr', 'recep', 'recept', 'recess', 'recevo', 'recevrez', 'recharg', 'rechei', 'recherchez', 'recht', 'recicl', 'reciclag', 'recident', 'recint', 'recip', 'reclaim', 'reclam', 'reclin', 'recogn', 'recogniz', 'recoin', 'recolh', 'recollect', 'recom', 'recomend', 'recomendacion', 'recomendam', 'recomm', 'recommand', 'recommend', 'reconcil', 'reconhec', 'reconnect', 'reconnu', 'reconsid', 'reconstru', 'reconstruct', 'reconvert', 'record', 'recorr', 'recov', 'recover', 'recreat', 'recrei', 'recri', 'rectangul', 'rectif', 'recuerd', 'recup', 'recuper', 'recurs', 'recus', 'recycl', 'red', 'reddish', 'redecor', 'redescobr', 'redesign', 'redevelop', 'redirect', 'redistribu', 'redlin', 'redon', 'redond', 'redor', 'reduc', 'reduct', 'reduz', 'reef', 'reembol', 'reenerg', 'ref', 'refait', 'refaz', 'refeic', 'refer', 'referenc', 'referent', 'referr', 'refin', 'refit', 'refl', 'reflect', 'reflex', 'refor', 'reform', 'refrain', 'refresc', 'refrescant', 'refresh', 'refreshen', 'refrig', 'refriger', 'refuel', 'refug', 'refugi', 'refund', 'refurb', 'refurbinish', 'refurbish', 'refurn', 'refurnish', 'reg', 'regal', 'regaleir', 'regard', 'regardless', 'regatt', 'regener', 'regenwalddusch', 'regg', 'regim', 'region', 'regist', 'registr', 'regorg', 'regr', 'regress', 'regret', 'regueir', 'regueng', 'regul', 'rehabilit', 'rehauss', 'reheat', 'rei', 'reichend', 'reign', 'reih', 'reimagin', 'rein', 'reind', 'reinfor', 'reinforc', 'reinigungsservic', 'reinvent', 'reis', 'rej', 'rejoindr', 'rejuven', 'rejuvenescedor', 'reknown', 'rekonstruiert', 'rel', 'relacion', 'relajant', 'relajars', 'relat', 'relationship', 'relativament', 'relax', 'relaxant', 'relaxen', 'relembr', 'relev', 'reliabl', 'relic', 'relief', 'relig', 'religi', 'religion', 'reliqu', 'relish', 'reliv', 'relv', 'rem', 'remad', 'remain', 'remark', 'remedi', 'rememb', 'rement', 'remind', 'reminisc', 'remnant', 'remodel', 'remodul', 'remoinh', 'remonc', 'remont', 'remot', 'remotament', 'remov', 'removem', 'rempl', 'ren', 'renaiss', 'renault', 'rencontr', 'rend', 'rendez', 'rendr', 'renew', 'renforc', 'renk', 'rennov', 'renom', 'renomm', 'renounc', 'renouvel', 'renov', 'renovatedd', 'renovet', 'renoviert', 'renovierten', 'renow', 'renown', 'renseign', 'rent', 'rentabl', 'rental', 'rentin', 'rentr', 'reo', 'reopen', 'rep', 'repa', 'repar', 'repass', 'repassag', 'repeat', 'repetit', 'repit', 'replac', 'replant', 'replenish', 'replet', 'replic', 'repoint', 'repor', 'report', 'repous', 'repr', 'reprendr', 'represent', 'reproduc', 'republ', 'republican', 'reput', 'requ', 'requalific', 'requer', 'request', 'requint', 'requintadament', 'requird', 'requisit', 'rer', 'res', 'reschedul', 'rescu', 'research', 'resembl', 'reserv', 'reservat', 'reservati', 'reservo', 'reset', 'resguard', 'resid', 'residenc', 'resident', 'residu', 'residua', 'resign', 'resist', 'resistent', 'resolv', 'resolvem', 'reson', 'resort', 'resourc', 'resp', 'respect', 'respectueux', 'respeit', 'respeitam', 'respet', 'respir', 'resplend', 'respon', 'respond', 'respons', 'responsabilidad', 'responsabiliz', 'responsabilizam', 'responsibl', 'respost', 'resquest', 'ressan', 'ressourcez', 'rest', 'restant', 'restaraunt', 'restau', 'restaur', 'restauran', 'restaurant', 'restaurantl', 'restaurateur', 'restaurieren', 'restauriert', 'restaurierten', 'restel', 'restful', 'restirct', 'reston', 'restor', 'restr', 'restricc', 'restrict', 'restrit', 'restroom', 'resttr', 'restu', 'restuarant', 'restur', 'restyl', 'result', 'ret', 'retail', 'retain', 'retant', 'retaur', 'rethought', 'retir', 'retorn', 'retour', 'retr', 'retract', 'retractil', 'retreat', 'retrofit', 'rett', 'retur', 'return', 'reun', 'reunion', 'reunit', 'reus', 'reusabl', 'reut', 'reutiliz', 'rev', 'revamp', 'reveal', 'revel', 'revenu', 'revers', 'revert', 'revest', 'reviendrez', 'review', 'revigorant', 'revisit', 'revist', 'revit', 'revital', 'revitaliz', 'reviv', 'revivalist', 'revivez', 'revivr', 'revolut', 'revolutionar', 'reward', 'rey', 'rez', 'rgen', 'rgol', 'rgriff', 'rhet', 'rheten', 'rhythm', 'ri', 'ria', 'riaux', 'rib', 'ribam', 'ribatej', 'ribeir', 'ribeirinh', 'ric', 'ricain', 'ricard', 'ricci', 'rich', 'richest', 'richtig', 'rid', 'ridg', 'rie', 'rienc', 'riesigen', 'rieu', 'rieur', 'rif', 'rig', 'righ', 'right', 'rigol', 'rigor', 'rigorosament', 'rigourosl', 'rigth', 'rincho', 'ring', 'rins', 'rio', 'riod', 'riot', 'rip', 'ris', 'risc', 'risk', 'risott', 'rit', 'ritabl', 'ritif', 'ritm', 'ritual', 'ritz', 'riv', 'riverain', 'riverbank', 'riverfront', 'riversid', 'riverview', 'rivet', 'rivi', 'rivieir', 'riz', 'rjan', 'rketrommel', 'rkten', 'rlden', 'rli', 'rlich', 'rm', 'rme', 'rmic', 'rmicament', 'rmor', 'rna', 'rnaat', 'rnal', 'rnet', 'ro', 'road', 'roadsid', 'roadtrip', 'roam', 'roar', 'roast', 'rob', 'robert', 'robotiz', 'robust', 'roc', 'roch', 'rock', 'rococ', 'rod', 'rodov', 'rodrigu', 'rodrom', 'rodzin', 'roff', 'roft', 'roi', 'roken', 'rol', 'roll', 'rollaway', 'rom', 'romain', 'roman', 'romanc', 'romant', 'romantic', 'romantiqu', 'romantisch', 'romantischen', 'romantism', 'romat', 'romeir', 'rommen', 'ron', 'ronald', 'rond', 'roo', 'roof', 'roofterrac', 'rooftop', 'room', 'roommat', 'roompick', 'roon', 'roooftop', 'roost', 'root', 'rootop', 'rop', 'roport', 'roqu', 'ros', 'rosari', 'rosemar', 'roshbin', 'rosi', 'rosinh', 'ross', 'rossi', 'rost', 'rot', 'rotamnt', 'rotat', 'roteir', 'rotin', 'rotund', 'roug', 'rough', 'roulant', 'round', 'roundabout', 'roundtrip', 'roup', 'roupeir', 'rout', 'routin', 'roux', 'rouxin', 'row', 'rox', 'roy', 'royal', 'royalt', 'rozi', 'rozk', 'rrac', 'rre', 'rreservat', 'rriv', 'rrom', 'rst', 'rsta', 'rt', 'rten', 'rti', 'rtir', 'ru', 'rua', 'rub', 'rubb', 'rubbish', 'rue', 'ruel', 'ruell', 'rufin', 'rug', 'rugb', 'ruh', 'ruhig', 'ruhigen', 'ruhiglag', 'ruhigsten', 'rui', 'ruid', 'ruidos', 'ruim', 'ruimt', 'ruin', 'ruiv', 'rul', 'rum', 'rumor', 'run', 'runden', 'runn', 'runt', 'runway', 'rup', 'rupp', 'rura', 'rural', 'ruralidad', 'rush', 'russian', 'rustgevend', 'rustic', 'rustig', 'rustiqu', 'rustl', 'rutin', 'rutsch', 'rvar', 'rver', 'rvor', 'ry', 'rythm', 'rze', 'rzu', 's', 'sa', 'sab', 'sabem', 'sabo', 'sabonet', 'sabor', 'saboreir', 'sabot', 'sac', 'sacav', 'sachen', 'sachez', 'sachverstand', 'sacolinh', 'sacr', 'sacrif', 'sad', 'saf', 'safar', 'safaruj', 'safebox', 'safeguard', 'safest', 'safet', 'saffron', 'saftpress', 'sag', 'sagaip', 'sagu', 'sai', 'saib', 'said', 'sail', 'sailboat', 'sailor', 'saind', 'saint', 'sair', 'saison', 'sak', 'sal', 'sala', 'salad', 'salamand', 'salamandr', 'sald', 'saldan', 'saldanh', 'salet', 'salg', 'salgadeir', 'salin', 'salinh', 'salitr', 'sall', 'sallon', 'salo', 'saloi', 'salon', 'saloon', 'salt', 'saltwat', 'salud', 'salut', 'salvador', 'salvag', 'salzwasserpool', 'sam', 'samarr', 'samed', 'sampedr', 'sampl', 'samsung', 'samt', 'samtidigt', 'san', 'sanctuar', 'sand', 'sandr', 'sandstrand', 'sanduicheir', 'sandwich', 'sandwicheir', 'sanft', 'sangr', 'sanguinh', 'saniert', 'sanierten', 'sanierung', 'sanit', 'sanitar', 'sanitarium', 'sant', 'santan', 'santiag', 'santin', 'santis', 'santu', 'sanyt', 'sao', 'sapador', 'sapat', 'sapateir', 'sapph', 'sar', 'saraiv', 'saramag', 'sardin', 'sardinh', 'sardinheir', 'sarradinh', 'sash', 'sat', 'satelit', 'satellit', 'saterday', 'satin', 'sation', 'satisf', 'satisfact', 'satisfactor', 'satisfaz', 'sattelit', 'satur', 'saturday', 'saturdayth', 'saturnin', 'satyr', 'saub', 'saucepan', 'saud', 'saudad', 'sauf', 'saun', 'saur', 'sauront', 'sav', 'savo', 'savor', 'savour', 'saw', 'say', 'sayin', 'sbe', 'sbic', 'sc', 'scaffold', 'scal', 'scam', 'scand', 'scandinavian', 'scann', 'scap', 'scar', 'scarc', 'scarcit', 'scasca', 'scatt', 'scen', 'scenari', 'scenarium', 'scener', 'scenic', 'scent', 'sch', 'schafherd', 'schakel', 'schatten', 'schau', 'schaukel', 'schaut', 'sche', 'schedul', 'scheint', 'schem', 'schen', 'schengen', 'scheservic', 'schicken', 'schieferfliesen', 'schiff', 'schiffen', 'schitterend', 'schlaf', 'schlafbereich', 'schlafcouch', 'schlafen', 'schlafpl', 'schlafr', 'schlafraum', 'schlafsof', 'schlafz', 'schlafzimm', 'schlafzimmern', 'schmal', 'schmalen', 'schmuckst', 'schnell', 'schock', 'schoenen', 'schol', 'schon', 'school', 'schr', 'schreibtisch', 'schreibwarenladen', 'schritten', 'schwarzen', 'schwimmbad', 'scienc', 'scientist', 'scim', 'scoot', 'scor', 'scorch', 'scottish', 'scr', 'scrabbl', 'scrap', 'scratch', 'scre', 'screen', 'screentv', 'script', 'scroll', 'scrupul', 'scub', 'sculler', 'sculpt', 'sculptor', 'sculptur', 'sd', 'sdb', 'sea', 'seabreez', 'seafood', 'seafront', 'seagul', 'seal', 'seamless', 'seamstress', 'sean', 'seaprat', 'sear', 'search', 'seascap', 'seashor', 'seasid', 'season', 'seat', 'seatin', 'seaview', 'seawal', 'seawalk', 'seaward', 'seazon', 'seb', 'sebast', 'sebastia', 'sebastian', 'sebau', 'sec', 'secador', 'secag', 'sech', 'secho', 'sechsten', 'seclud', 'seclus', 'secon', 'second', 'secondar', 'secound', 'secret', 'secretar', 'section', 'sector', 'secu', 'secul', 'secund', 'secundar', 'secur', 'seduc', 'seduct', 'sedutor', 'see', 'seed', 'seeet', 'seek', 'seel', 'seem', 'seen', 'seet', 'sef', 'seg', 'segred', 'segu', 'seguint', 'segund', 'segur', 'segurament', 'seguran', 'seguranc', 'seguridad', 'sehen', 'sehensw', 'sehr', 'sei', 'seid', 'seif', 'seight', 'sein', 'seinen', 'seit', 'seitenblick', 'seitenstr', 'seitenstrass', 'seitentrakt', 'seitlich', 'seixal', 'seiz', 'sejour', 'sel', 'selb', 'selben', 'selbst', 'selbstverst', 'seldom', 'selec', 'select', 'selecti', 'self', 'selflov', 'sell', 'selon', 'selten', 'seltenheitswert', 'selvagen', 'sem', 'semain', 'seman', 'semelhan', 'semidetach', 'sempr', 'sen', 'senc', 'sencill', 'sencillez', 'send', 'sendern', 'senh', 'senhor', 'senhoria', 'senior', 'sennior', 'sens', 'sensacion', 'sensat', 'sensit', 'sensivelment', 'sensor', 'sensuous', 'sent', 'sentenc', 'sentim', 'sentiment', 'sentirez', 'sentirt', 'sentr', 'sentrum', 'sep', 'separ', 'separadament', 'separat', 'separaten', 'sept', 'septemb', 'septembr', 'sequ', 'sequenc', 'ser', 'sera', 'seren', 'serenidad', 'serez', 'serf', 'serious', 'seront', 'serp', 'serpent', 'serr', 'serum', 'serv', 'servant', 'servat', 'servent', 'servez', 'servic', 'servici', 'servid', 'serviett', 'servim', 'serviss', 'sesimbr', 'sess', 'session', 'sest', 'set', 'setea', 'setembr', 'sett', 'settl', 'setup', 'seul', 'seulement', 'sev', 'seven', 'sevent', 'seventeenth', 'seventh', 'sew', 'sex', 'sext', 'sexual', 'sey', 'sf', 'sff', 'sgar', 'sh', 'shabb', 'shad', 'shadow', 'shak', 'shal', 'shall', 'shallow', 'shaman', 'shambal', 'shamp', 'shampo', 'shant', 'shap', 'shar', 'sharp', 'she', 'shed', 'shedul', 'sheep', 'sheet', 'sheil', 'shelf', 'shell', 'shellfish', 'shelt', 'shent', 'sher', 'sheraton', 'sheridan', 'sherlock', 'shi', 'shiadu', 'shield', 'shift', 'shimm', 'shin', 'shinn', 'ship', 'shipyard', 'sho', 'shoemak', 'shoestr', 'shoop', 'shop', 'shopkeep', 'shopp', 'shoppin', 'shopping', 'shoppingcent', 'shor', 'shorelin', 'short', 'shortag', 'shortlist', 'shot', 'shoul', 'should', 'shout', 'show', 'showc', 'showerhead', 'shown', 'shre', 'shrimp', 'shrub', 'shrug', 'shu', 'shutdown', 'shutl', 'shutll', 'shutt', 'shuttl', 'si', 'sia', 'sibgroung', 'sibirisk', 'sibl', 'sic', 'sich', 'sicheren', 'sichern', 'sicht', 'sick', 'sid', 'siddharth', 'sideboard', 'sidelin', 'sidenc', 'sident', 'sidentiel', 'sidewalk', 'sie', 'sieben', 'sieht', 'siemen', 'siempr', 'siend', 'sierr', 'siest', 'sig', 'sighs', 'sight', 'sighths', 'sights', 'sigl', 'sign', 'signal', 'signatur', 'signif', 'signific', 'signpost', 'sigths', 'sil', 'silberk', 'silenc', 'silenci', 'silent', 'sileston', 'silk', 'silv', 'silveir', 'silver', 'silverw', 'sim', 'simb', 'simbios', 'simil', 'simp', 'simpat', 'simpatizant', 'simpl', 'simplecidad', 'simplement', 'simplesment', 'simplic', 'simplicidad', 'simplif', 'simplifiqu', 'simplist', 'simul', 'simult', 'simultan', 'simultaneament', 'sin', 'sinal', 'sinc', 'sind', 'sinfect', 'sing', 'singel', 'singl', 'singlul', 'singul', 'sink', 'sinlight', 'sint', 'sinton', 'sintr', 'sintral', 'sintraloc', 'sintrens', 'sio', 'sip', 'sir', 'sirant', 'sisch', 'sischen', 'sist', 'sistanc', 'sistem', 'sit', 'siti', 'sitt', 'situ', 'situad', 'situat', 'sitzbalkon', 'sitzeck', 'sitzecken', 'sitzen', 'sitzgruppen', 'sitzt', 'six', 'sixt', 'sixteen', 'sixth', 'siz', 'sizabl', 'sizeabl', 'sk', 'skat', 'skateboard', 'skatepark', 'sketch', 'skew', 'ski', 'skill', 'skin', 'skip', 'skipp', 'skull', 'skupin', 'sky', 'skye', 'skylight', 'skylin', 'skylit', 'skyloft', 'skype', 'sl', 'slaapk', 'slack', 'slam', 'slang', 'slant', 'slat', 'slav', 'sle', 'sleek', 'sleep', 'slic', 'slid', 'slight', 'slik', 'slim', 'slip', 'slipp', 'slipper', 'slop', 'slot', 'slow', 'slowl', 'sm', 'sma', 'smack', 'smal', 'small', 'smallest', 'smart', 'smartish', 'smartlock', 'smartphon', 'smarttv', 'smartv', 'sme', 'smeg', 'smell', 'smil', 'smo', 'smok', 'smokin', 'smoll', 'smook', 'smooth', 'smt', 'snack', 'snail', 'sneack', 'sneak', 'snel', 'snell', 'snipp', 'sno', 'snok', 'snook', 'snooz', 'snorkel', 'snow', 'snowboard', 'snug', 'snuggl', 'soa', 'soak', 'soalh', 'soalheir', 'soap', 'soar', 'sob', 'soberan', 'soberb', 'sobr', 'sobral', 'sobreir', 'sobrelot', 'sobretud', 'sobreviv', 'sobriet', 'sobrinh', 'soc', 'socc', 'soceg', 'socia', 'sociabl', 'social', 'socializ', 'socialment', 'societ', 'socket', 'socorr', 'sod', 'sodr', 'sof', 'sofab', 'sofaeck', 'soff', 'sofh', 'sofist', 'sofistic', 'sofisticadament', 'sofit', 'sofr', 'soft', 'softboard', 'soften', 'softw', 'sog', 'soh', 'soign', 'soin', 'soir', 'soit', 'sol', 'sola', 'solareng', 'solarium', 'solarpanel', 'solarzellen', 'sold', 'soleil', 'solen', 'solicit', 'solicitam', 'solid', 'solinc', 'solit', 'solita', 'solitar', 'solnascent', 'soloppgang', 'solteir', 'solu', 'solument', 'solut', 'solv', 'som', 'sombr', 'somebod', 'someday', 'somehow', 'soment', 'someon', 'someth', 'sometim', 'somewh', 'somewhat', 'somit', 'somm', 'sommeil', 'sommi', 'son', 'sondr', 'sonec', 'song', 'sonh', 'sonn', 'sonnen', 'sonnenbad', 'sonnenbaden', 'sonnendurchfluteten', 'sonnenlicht', 'sonnenliegen', 'sonnenschirm', 'sonnenterrass', 'sonnig', 'sonntag', 'sonor', 'sonst', 'sont', 'soon', 'sooth', 'sop', 'soph', 'sophist', 'soquiet', 'sorgen', 'sorgf', 'sorgfalt', 'sorgt', 'sorian', 'sorr', 'sorround', 'sort', 'sortez', 'soss', 'sosseg', 'sot', 'sou', 'soub', 'souc', 'soucion', 'souffl', 'sought', 'souhait', 'souhaitez', 'soul', 'souless', 'soulsurf', 'sound', 'soundb', 'soundproof', 'soundsyst', 'soundtrack', 'soup', 'souplex', 'sourc', 'sourround', 'sous', 'sout', 'souterrain', 'south', 'southbeach', 'southeast', 'southern', 'southsid', 'southwest', 'souven', 'sov', 'soverom', 'soverommet', 'sow', 'sowohl', 'soy', 'soyez', 'sozdaet', 'sozinh', 'sp', 'spa', 'spac', 'spaceous', 'spaceship', 'spaci', 'spacieus', 'spacieux', 'spacious', 'spaciu', 'spaguett', 'spain', 'span', 'spanish', 'spar', 'spark', 'sparkl', 'spars', 'spartan', 'spatious', 'spazi', 'spaziergang', 'spca', 'spe', 'speacill', 'speacious', 'speak', 'spearhead', 'spec', 'special', 'specialist', 'specialt', 'specif', 'specimen', 'specious', 'spectacl', 'spectacul', 'spectacula', 'sped', 'speed', 'speedtest', 'speisezimm', 'spektakul', 'spenc', 'spend', 'spent', 'sper', 'spheric', 'spi', 'spic', 'spielen', 'spielplatz', 'spill', 'spin', 'spinel', 'spir', 'spiral', 'spirit', 'spiritu', 'spisested', 'spit', 'splash', 'splendid', 'splendor', 'splendour', 'split', 'spm', 'spoil', 'spoilt', 'spok', 'spoken', 'spong', 'sponsor', 'sport', 'sportiv', 'sporttv', 'spot', 'spotif', 'spotless', 'spotlight', 'sprachkenntniss', 'sprawl', 'spray', 'spread', 'spricht', 'spring', 'springboard', 'sprinkl', 'sprit', 'sprung', 'sq', 'sqft', 'sqm', 'sqrm', 'squ', 'squa', 'squaremetr', 'squash', 'squed', 'squeez', 'squr', 'sr', 'sra', 'sred', 'srt', 'ss', 'ssar', 'sse', 'ssel', 'ssem', 'ssen', 'sseren', 'ssic', 'ssig', 'ssim', 'sst', 'st', 'sta', 'staan', 'stabil', 'stabl', 'stadium', 'stadt', 'stadterkundungen', 'stadthaus', 'stadtrundfahrt', 'staf', 'staff', 'stag', 'stain', 'stainless', 'stairc', 'stairway', 'stairwel', 'stamen', 'stamp', 'stan', 'stand', 'standalon', 'standard', 'standart', 'standout', 'standup', 'stant', 'stantard', 'star', 'starboard', 'starck', 'starfish', 'stargaz', 'stark', 'starr', 'start', 'startet', 'starw', 'starway', 'stat', 'statel', 'statement', 'statesman', 'statin', 'station', 'stationar', 'stationer', 'stationn', 'statu', 'status', 'stauraum', 'stay', 'staycat', 'staydirect', 'staysaf', 'ste', 'stead', 'steak', 'steal', 'steckdosen', 'steel', 'steep', 'steepl', 'steet', 'stehaus', 'stehen', 'steht', 'steil', 'steilk', 'stell', 'stellen', 'sten', 'step', 'stepaway', 'stephen', 'ster', 'steril', 'sterilium', 'stern', 'sternenhimmel', 'stes', 'stew', 'stezimm', 'sti', 'stic', 'stick', 'stien', 'stil', 'still', 'stilsich', 'stilvol', 'stilvoll', 'stilvollen', 'stimmung', 'stipul', 'sto', 'stock', 'stockag', 'stockwerk', 'stok', 'stolen', 'stomp', 'ston', 'stonework', 'stood', 'stool', 'stoop', 'stop', 'stopov', 'stor', 'storag', 'storeroom', 'storey', 'storic', 'stormtroop', 'stort', 'stov', 'stoven', 'stovetop', 'stoyac', 'str', 'stra', 'strad', 'straend', 'straigh', 'straight', 'strain', 'strand', 'stranden', 'strandn', 'strandort', 'strang', 'strat', 'strateg', 'stration', 'straw', 'strawberr', 'stray', 'stre', 'streamlin', 'strech', 'streckt', 'streeet', 'street', 'streetc', 'streetscap', 'streetsmart', 'strelitz', 'strend', 'strenght', 'strength', 'stress', 'stretch', 'stri', 'stric', 'strict', 'strid', 'strik', 'string', 'strip', 'striv', 'strok', 'stroll', 'strom', 'stron', 'strong', 'strongest', 'structur', 'struggl', 'sts', 'stucc', 'stuckmarmorw', 'stud', 'studen', 'student', 'studi', 'stuff', 'stun', 'stunn', 'stunnig', 'stunnish', 'sturd', 'styl', 'style', 'stylec', 'stylisch', 'stylish', 'stylist', 'su', 'suav', 'sub', 'subcav', 'subj', 'subjec', 'subject', 'sublet', 'sublim', 'submerg', 'submers', 'submit', 'subscrib', 'subscript', 'subsequ', 'substant', 'substitu', 'subt', 'subterr', 'subterran', 'subtil', 'subtl', 'subtlet', 'suburb', 'suburban', 'subway', 'succeed', 'success', 'sucess', 'such', 'suchen', 'sud', 'suel', 'suff', 'suffic', 'suficient', 'sug', 'sugerim', 'sugest', 'suggest', 'sui', 'suit', 'suitabl', 'suitablefor', 'suitc', 'suitepacoarc', 'suivr', 'suj', 'sujeit', 'sujet', 'sul', 'sum', 'summ', 'summar', 'summer', 'summerish', 'summit', 'sumptuous', 'sun', 'sunb', 'sunbath', 'suncha', 'sunday', 'sundeck', 'sundown', 'sunfast', 'sunflow', 'sung', 'sunlight', 'sunlit', 'sunn', 'sunni', 'sunr', 'sunroom', 'sunset', 'sunshin', 'sunston', 'suntan', 'suntouch', 'sunumbrell', 'sup', 'superb', 'superbl', 'superf', 'superfast', 'superfastwif', 'superfic', 'superhost', 'superieur', 'superintim', 'superior', 'superk', 'superm', 'supermach', 'supermakert', 'supermaket', 'supermarch', 'supermarcket', 'supermarhrket', 'supermark', 'supermarket', 'supermarkt', 'supermec', 'supermerc', 'supermermarket', 'supermodern', 'superp', 'supersch', 'superstit', 'supertub', 'superv', 'supervision', 'supimp', 'suplement', 'suport', 'supp', 'suppermarket', 'suppl', 'supplement', 'supplementar', 'suppli', 'support', 'suppress', 'supr', 'suprem', 'sur', 'surc', 'surcharg', 'surf', 'surfabl', 'surfac', 'surfb', 'surfboard', 'surfcamp', 'surfdud', 'surfen', 'surferparad', 'surfg', 'surfhous', 'surfib', 'surfin', 'surfist', 'surfmater', 'surfplanken', 'surfplats', 'surfschool', 'surfschul', 'surfshool', 'surfspot', 'surfst', 'surfstr', 'surfstrand', 'surft', 'surfutrustn', 'surfvill', 'surg', 'surgeon', 'surgharg', 'suround', 'surplomb', 'surpr', 'surpreend', 'surprendr', 'surrend', 'surrond', 'surroud', 'surround', 'surtout', 'surveil', 'surviv', 'survivor', 'sus', 'susan', 'sush', 'suspend', 'suspendu', 'suspens', 'suspir', 'susta', 'sustain', 'sustent', 'sustentabilidad', 'suuuuuurrrrrrrfffffff', 'suv', 'suzann', 'svc', 'sw', 'swallow', 'swan', 'sway', 'swe', 'sweat', 'sweden', 'swedish', 'sweep', 'sweet', 'sweetest', 'sweethom', 'swell', 'swelt', 'swept', 'swerv', 'swift', 'swim', 'swimingpool', 'swimmimg', 'swimmingpool', 'swin', 'swing', 'swinnerton', 'switch', 'swoop', 'symbi', 'symbios', 'symbol', 'sympa', 'sympath', 'sympathet', 'sympathiqu', 'sync', 'synonym', 'synthet', 'sypialn', 'sys', 'syst', 'system', 'systemat', 'szumu', 't', 'ta', 'tab', 'tabac', 'tabakgesch', 'tabanc', 'tabel', 'tabern', 'tabl', 'tablet', 'tablew', 'tabliss', 'tabucch', 'tabuleir', 'tach', 'tactil', 'tafel', 'tag', 'tageslichtbad', 'tagu', 'tagus', 'taguspark', 'tagusriv', 'tai', 'tail', 'tailor', 'tainh', 'taip', 'tair', 'tait', 'taj', 'tajus', 'tak', 'takeaway', 'taken', 'takeway', 'tal', 'talent', 'talh', 'talk', 'tall', 'tallest', 'tam', 'tamanh', 'tamariz', 'tamaz', 'tamb', 'tambien', 'tan', 'tand', 'tandj', 'tank', 'tanner', 'tanqu', 'tant', 'tap', 'tapet', 'tar', 'taras', 'tarasu', 'tard', 'tardi', 'tardiv', 'tardoz', 'taref', 'target', 'targus', 'tarif', 'tarrec', 'tart', 'tasc', 'task', 'tast', 'tasteful', 'tat', 'tation', 'tav', 'tavern', 'tax', 'taxist', 'taxon', 'taxpay', 'tb', 'tba', 'td', 'te', 'tea', 'teabag', 'teach', 'teahupo', 'teak', 'teal', 'team', 'teapot', 'tear', 'tearoom', 'teas', 'teath', 'teatr', 'teau', 'tec', 'tech', 'technal', 'technic', 'technician', 'techniqu', 'technolog', 'teckel', 'tecl', 'tecnic', 'tecnolog', 'tect', 'tee', 'teen', 'teenag', 'tegenstel', 'tegu', 'tei', 'teil', 'teilt', 'teilw', 'tej', 'tejobuch', 'tejobucht', 'tejofluss', 'tejom', 'tel', 'telecabin', 'telef', 'telefon', 'telephon', 'teletrabaj', 'teletrabalh', 'telev', 'televisa', 'televisor', 'telework', 'telh', 'telhal', 'telheir', 'tell', 'tem', 'tement', 'temp', 'temperatur', 'templ', 'tempor', 'tempora', 'temporar', 'temporariament', 'temporaril', 'tempt', 'tempur', 'ten', 'tenant', 'tend', 'tendag', 'tendanc', 'tendez', 'tendr', 'tendu', 'tenem', 'tenh', 'tenn', 'tenor', 'tent', 'tentat', 'tenth', 'teo', 'teofil', 'teot', 'teppich', 'ter', 'terac', 'terass', 'terceir', 'terez', 'terezinh', 'term', 'termin', 'termoacumul', 'terr', 'terrac', 'terracot', 'terracott', 'terrain', 'terramot', 'terranc', 'terrapin', 'terrass', 'terrassen', 'terrassenm', 'terrassenzimm', 'terraz', 'terreir', 'terreirinh', 'terren', 'terribl', 'terrif', 'territ', 'territor', 'terrug', 'terug', 'terugtrekken', 'tesl', 'tesour', 'test', 'testament', 'testimon', 'tet', 'tex', 'text', 'textil', 'textur', 'th', 'tha', 'thank', 'the', 'theat', 'theatr', 'theatric', 'thecathedr', 'theen', 'theft', 'thehous', 'them', 'themat', 'themwith', 'thenself', 'thepark', 'thepart', 'ther', 'therap', 'therapeut', 'therapist', 'thereb', 'therefor', 'therm', 'thermal', 'thermic', 'thermiqu', 'thermomix', 'thes', 'thesunland', 'thetagus', 'thetej', 'thfloor', 'thi', 'thiamin', 'thick', 'thief', 'thin', 'thing', 'think', 'third', 'thirt', 'thirteen', 'tho', 'thorn', 'thorough', 'thou', 'thoug', 'though', 'thought', 'thounhous', 'thousand', 'thr', 'thre', 'thread', 'threat', 'thrill', 'thriv', 'thro', 'thron', 'throug', 'through', 'throughout', 'throw', 'thru', 'thrush', 'thsi', 'thursday', 'thus', 'thypic', 'ti', 'tia', 'tiag', 'tic', 'tick', 'ticket', 'tid', 'tidal', 'tie', 'tief', 'tiefgarag', 'tiefk', 'tiemp', 'tien', 'tiend', 'tienen', 'tier', 'tig', 'tigel', 'tight', 'tigt', 'tigus', 'tijol', 'tijoleir', 'til', 'tilework', 'till', 'tilt', 'tim', 'timb', 'timeless', 'timent', 'timeout', 'timesh', 'timorens', 'tin', 'ting', 'tiniest', 'tint', 'tio', 'tip', 'tipic', 'tipicament', 'tipolog', 'tips', 'tipyc', 'tiqu', 'tir', 'tired', 'tiresom', 'tisch', 'tiss', 'tisser', 'tissu', 'tit', 'titl', 'tiv', 'tivol', 'tlich', 'tlichen', 'tmt', 'tnfq', 'toa', 'toad', 'toal', 'toalet', 'toalh', 'toast', 'toat', 'tob', 'tobacc', 'tobacconist', 'tobel', 'toben', 'toc', 'tod', 'todav', 'today', 'toddl', 'toegestaan', 'tof', 'togeth', 'toghet', 'toght', 'togstasjon', 'toi', 'toient', 'toil', 'toilet', 'toiletr', 'toilett', 'toillet', 'toit', 'tojeir', 'tol', 'told', 'toled', 'tolet', 'toll', 'tollen', 'tom', 'tomam', 'tomat', 'tomb', 'tombado', 'tombadoir', 'tomett', 'ton', 'tonalidad', 'tonic', 'tonn', 'took', 'tool', 'toop', 'tooth', 'toothbrush', 'toothpast', 'top', 'topf', 'topfloor', 'topic', 'topnotch', 'topograph', 'topp', 'toqu', 'tor', 'toreinfahrt', 'torel', 'tork', 'torn', 'tornan', 'tornass', 'torr', 'torradeir', 'torrem', 'tos', 'tost', 'tostadeir', 'tosteir', 'tot', 'tota', 'totaal', 'total', 'totalement', 'totalidad', 'totaliz', 'totalment', 'totament', 'tottal', 'tou', 'touc', 'toucador', 'touch', 'touchabl', 'toujour', 'tour', 'tourism', 'tourismusinform', 'tourist', 'touristiqu', 'tournement', 'tourquo', 'tous', 'tout', 'toutefo', 'tov', 'tow', 'toward', 'towel', 'towl', 'towm', 'town', 'townhal', 'townhous', 'toy', 'toyland', 'tr', 'tra', 'trabalh', 'trabalham', 'trac', 'track', 'trackpad', 'trad', 'tradewind', 'tradicion', 'tradiciona', 'tradicionalment', 'tradidion', 'tradion', 'tradit', 'traditicion', 'traditionalshop', 'traditionel', 'traditionell', 'traditionellen', 'traditionnel', 'traditionnell', 'traditionstr', 'traduz', 'traf', 'traffic', 'traffick', 'trafic', 'trag', 'trail', 'traim', 'train', 'trainrid', 'trainstat', 'trait', 'traject', 'trajet', 'tram', 'tramc', 'tramhaltestell', 'tramlin', 'trampolim', 'trampolin', 'tramstop', 'tramway', 'tran', 'tranc', 'tranf', 'tranport', 'tranquil', 'tranquilament', 'tranquilidad', 'tranquiliz', 'tranquill', 'tranquillit', 'transat', 'transf', 'transform', 'transit', 'translat', 'transluc', 'transmiss', 'transmit', 'transp', 'transparent', 'transport', 'transportan', 'transportant', 'transportat', 'transporteit', 'transtorn', 'tranv', 'trap', 'tras', 'traseir', 'trash', 'trasport', 'trat', 'tratador', 'tratam', 'tratament', 'tratass', 'traum', 'traumblick', 'traumhaft', 'traumhaften', 'trav', 'travail', 'travaux', 'travel', 'travelcod', 'travelcot', 'travers', 'travess', 'travesseir', 'tray', 'traz', 'tre', 'tread', 'treasur', 'treat', 'treatment', 'treelin', 'treetop', 'treiben', 'trein', 'trek', 'trekk', 'trem', 'tremend', 'tren', 'trend', 'trendiest', 'treng', 'trepp', 'treppenhaus', 'tres', 'tress', 'tri', 'trial', 'triangl', 'tribun', 'tribut', 'tric', 'tricicl', 'trick', 'trig', 'trigueir', 'trilh', 'trilich', 'trim', 'trindad', 'trinkwass', 'trint', 'trip', 'tripadvisor', 'tripl', 'triplex', 'tripp', 'triumphal', 'trivelig', 'tro', 'troc', 'trocam', 'trolley', 'trombet', 'tromp', 'trop', 'troph', 'tropic', 'troquet', 'tros', 'trotinet', 'trotzd', 'troubl', 'troublesom', 'trough', 'troughout', 'trouv', 'trouvent', 'trouverez', 'trouvez', 'troy', 'tru', 'trubel', 'truck', 'truel', 'truest', 'trul', 'trull', 'trundl', 'trunk', 'trust', 'trustworth', 'truth', 'trx', 'tschert', 'tsunam', 'tte', 'tub', 'tubul', 'tuc', 'tuck', 'tud', 'tudiant', 'tuesday', 'tuft', 'tuin', 'tuk', 'tul', 'tumbl', 'tun', 'tunel', 'tunnel', 'tur', 'turb', 'turbin', 'turc', 'turism', 'turist', 'turistiz', 'turisum', 'turkey', 'turkish', 'turmoil', 'turn', 'turomr', 'turq', 'turquo', 'turret', 'tus', 'tuscan', 'tuy', 'tv', 'tvbut', 'tvcab', 'tvcabl', 'tvoll', 'tw', 'twe', 'twelfth', 'twelv', 'twent', 'twentieth', 'twic', 'twin', 'twirl', 'twist', 'two', 'twobedroom', 'twon', 'twooden', 'tx', 'ty', 'typ', 'type', 'typhoon', 'typi', 'typic', 'typical', 'typiqu', 'typisch', 'typischen', 'typolog', 'tze', 'tzlich', 'tzlichen', 'tzte', 'u', 'uau', 'ubbo', 'uber', 'ubic', 'ubicac', 'ubiquit', 'ucar', 'ucen', 'ude', 'udi', 'ue', 'ueberallhin', 'uf', 'ufigen', 'uft', 'uhd', 'uhr', 'uk', 'ukelel', 'ul', 'uldin', 'ule', 'ulgueir', 'ultim', 'ultra', 'ultrafast', 'ultram', 'ultramodern', 'ultrapass', 'uma', 'umbreir', 'umbrell', 'ume', 'umen', 'umgeben', 'umgebung', 'umgeklappt', 'umig', 'umigen', 'umkleideraum', 'umliegend', 'umsetzen', 'umweltfreundlich', 'un', 'una', 'unaid', 'unauthor', 'unavail', 'unbeat', 'unbeliev', 'unbeschwerten', 'unborn', 'uncertain', 'uncertaint', 'unchang', 'uncharacterist', 'unclutt', 'uncommon', 'unconvent', 'uncork', 'uncov', 'uncrowd', 'und', 'undamag', 'undefin', 'underb', 'underdog', 'underestim', 'underfloor', 'underg', 'undergon', 'undergound', 'undergr', 'underground', 'underlay', 'underneath', 'underst', 'understand', 'understood', 'undertak', 'undertaken', 'underw', 'undiscov', 'undisturb', 'undoubt', 'undress', 'une', 'uneingeschr', 'unendlich', 'unequ', 'unesc', 'uneven', 'unexpect', 'unfold', 'unforget', 'unforgetal', 'unforgett', 'unfortun', 'ungest', 'unheimlich', 'uni', 'unic', 'unicament', 'unid', 'unidad', 'uniek', 'uniform', 'uninterrupt', 'union', 'uniq', 'uniqu', 'unit', 'univers', 'universidad', 'universit', 'universt', 'unknown', 'unl', 'unleash', 'unless', 'unlik', 'unlimit', 'unlock', 'unmatch', 'unmiss', 'unmistak', 'unmittelb', 'unnecessar', 'uno', 'unobstruct', 'unobtrus', 'unpack', 'unparallel', 'unple', 'unplug', 'unpreced', 'unpredict', 'unpretent', 'unravel', 'unrecogniz', 'unregist', 'unrestrict', 'unrival', 'unscheinb', 'unser', 'unseren', 'unspoil', 'unspoilt', 'unsuit', 'unt', 'untam', 'unten', 'untensil', 'unter', 'unterbauschr', 'untergebracht', 'unterhaltung', 'unterk', 'unterkunft', 'unterschiedlich', 'unterstreichen', 'unterteilt', 'unterweg', 'until', 'unto', 'untouch', 'unusu', 'unveil', 'unweit', 'unwind', 'up', 'upairport', 'upbeat', 'upcom', 'upcycl', 'updat', 'uper', 'upgrad', 'uphil', 'upholst', 'upland', 'upload', 'upmarket', 'upon', 'upp', 'upper', 'upscal', 'upsid', 'upsta', 'upto', 'uptown', 'ur', 'urbain', 'urban', 'urbaniz', 'ure', 'urgenc', 'url', 'urlaub', 'urlaubsdomizil', 'urlaubstag', 'ursa', 'urspr', 'us', 'usa', 'usabl', 'usad', 'usag', 'usam', 'usand', 'usar', 'usb', 'uschen', 'uschepegel', 'use', 'useful', 'usem', 'user', 'usern', 'uso', 'usserst', 'ustensil', 'ustri', 'usu', 'usual', 'usufru', 'usufrut', 'usufu', 'usw', 'ut', 'uten', 'utensil', 'utensili', 'utensilien', 'utic', 'util', 'utilidad', 'utilitarian', 'utiliz', 'utilz', 'utluft', 'utmost', 'utsikt', 'utter', 'uvc', 'uvr', 'uw', 'uxiqt', 'v', 'va', 'vacacion', 'vacanc', 'vacant', 'vacanz', 'vacat', 'vacation', 'vaccin', 'vacin', 'vacuum', 'vad', 'vafaboundvan', 'vag', 'vagaboundvan', 'vai', 'vaissel', 'vaissell', 'vajill', 'vakantiehu', 'vakantiewon', 'vakr', 'val', 'valcon', 'valencian', 'valent', 'valentin', 'valer', 'valey', 'valid', 'vall', 'valley', 'valmit', 'valmor', 'valor', 'valoriz', 'valsassin', 'valu', 'valuabl', 'vam', 'van', 'vanbox', 'vanit', 'vanlif', 'vantag', 'vantagen', 'vapeur', 'vapor', 'var', 'vara', 'varal', 'varand', 'varandim', 'vardagsrummet', 'vari', 'variad', 'variat', 'variedad', 'variet', 'varin', 'varinh', 'various', 'varnish', 'vas', 'vasc', 'vaskemaskin', 'vasqu', 'vast', 'vateur', 'vault', 'vaz', 'vc', 'ved', 'vedr', 'veg', 'vegan', 'vegat', 'veget', 'vegetabel', 'vegetarian', 'vegg', 'vehicl', 'vei', 'veic', 'veicul', 'veiw', 'vej', 'vel', 'veleir', 'velh', 'velhinh', 'velkommen', 'velment', 'veloc', 'velocidad', 'velour', 'velux', 'velvet', 'vem', 'ven', 'venant', 'venc', 'vend', 'vendor', 'vendred', 'venetian', 'venez', 'venezian', 'venh', 'venon', 'vent', 'ventail', 'ventan', 'ventil', 'ventilac', 'ventilateur', 'ventoinh', 'ventur', 'venu', 'ver', 'veran', 'verand', 'verb', 'verbind', 'verblijfplaatsen', 'verbrauch', 'verbringen', 'verbunden', 'verd', 'verdad', 'verdadeir', 'verdadeirament', 'verdant', 'verdejant', 'verdur', 'verf', 'verg', 'verif', 'verific', 'verifiqu', 'verkehr', 'verkleidet', 'verm', 'vermelh', 'vermietet', 'vern', 'verr', 'verrouil', 'vers', 'versac', 'versaill', 'versatil', 'verschiedenen', 'versetzt', 'versibl', 'version', 'versitil', 'versorgt', 'versorgung', 'vert', 'verteilt', 'vertent', 'vertic', 'veru', 'verursachen', 'veruy', 'vervo', 'verweilen', 'verzichten', 'vesp', 'vest', 'vestig', 'veterinar', 'vew', 'vez', 'vh', 'vi', 'via', 'viabl', 'viag', 'viagen', 'viaj', 'viajant', 'viallagi', 'vialong', 'vian', 'viatur', 'vib', 'vibey', 'vibr', 'vibranc', 'vibrant', 'vibrat', 'vicent', 'vicentin', 'viceroy', 'vicin', 'victorian', 'vid', 'vidal', 'videir', 'vidinh', 'vidr', 'vie', 'vieill', 'vieir', 'viel', 'vielen', 'viend', 'viendront', 'viennent', 'vient', 'vier', 'viertel', 'vieux', 'view', 'viewabl', 'viewoint', 'viewpoint', 'viewpont', 'vig', 'vigi', 'vigil', 'vigilant', 'vignobl', 'vigor', 'vihl', 'vii', 'vil', 'vilag', 'vilagg', 'vilhen', 'vill', 'villag', 'villaggi', 'villen', 'vim', 'vimeir', 'vin', 'vinag', 'vinagr', 'vincent', 'vind', 'vindt', 'vindu', 'vineg', 'vineyard', 'vinh', 'vinhed', 'vinil', 'vint', 'vintag', 'vinyard', 'vinyl', 'vio', 'viol', 'violat', 'violet', 'vip', 'vir', 'viral', 'virgin', 'virtual', 'virtud', 'virucid', 'virus', 'vis', 'visa', 'viscoelast', 'viscond', 'viscount', 'viscountess', 'viseir', 'visibl', 'visigoth', 'visinh', 'vision', 'visit', 'visitam', 'visitant', 'visiteur', 'visitng', 'visitor', 'visiv', 'vist', 'vistos', 'visual', 'visualiz', 'vit', 'vitalidad', 'vitamin', 'viterb', 'vitivin', 'vitor', 'vitr', 'vitrag', 'vitroc', 'vitt', 'viuv', 'viv', 'vivant', 'vivem', 'vivement', 'vivenc', 'vivend', 'vivent', 'vivid', 'vivr', 'vivrez', 'viw', 'vizinh', 'vizinhan', 'vke', 'vlakbij', 'vloerverwarm', 'vlt', 'voa', 'voand', 'voc', 'vocal', 'vodafon', 'vogelgezwitsch', 'vogu', 'voi', 'voic', 'voir', 'voisinag', 'voit', 'voitur', 'voksn', 'volcan', 'volet', 'volkswagen', 'voll', 'volley', 'volleybal', 'vollst', 'vollstaendig', 'volt', 'voltaaomund', 'voltam', 'volu', 'volum', 'volumineux', 'volunt', 'voluptu', 'vom', 'von', 'voneinand', 'vont', 'vontad', 'voo', 'voor', 'voorzien', 'vor', 'vorall', 'vorb', 'vorbeiziehen', 'vord', 'vordach', 'vorderen', 'vorhanden', 'vorhang', 'vorn', 'voss', 'vot', 'votr', 'vou', 'vouc', 'vouch', 'voulu', 'vous', 'vox', 'voy', 'voyag', 'voyageur', 'voz', 'vra', 'vraiment', 'vrbo', 'vrienden', 'vrma', 'vseh', 'vso', 'vu', 'vue', 'vuelt', 'vuitton', 'vw', 'vxi', 'w', 'wa', 'waar', 'waeld', 'wagen', 'wah', 'wahl', 'wahr', 'wahrzeichen', 'wait', 'wak', 'wakeup', 'wal', 'walk', 'walkabl', 'walkaround', 'walkfrom', 'walkig', 'walkin', 'walkink', 'walkt', 'walkway', 'wall', 'wallk', 'wallpap', 'walnut', 'wand', 'wanderfreund', 'wanderlust', 'wandern', 'wandkacheln', 'wandl', 'wandlampen', 'wandreifen', 'wann', 'wannab', 'want', 'war', 'warbl', 'ward', 'wardobr', 'wardr', 'wardrob', 'wardrobl', 'wardroob', 'warehous', 'warm', 'warmingfloor', 'warmth', 'warmwasserversorg', 'warn', 'waschbecken', 'waschmaschin', 'waschraum', 'wash', 'washbasin', 'washcloth', 'washin', 'washingmachin', 'washington', 'washok', 'washroom', 'washstat', 'wasmachin', 'wasnt', 'wass', 'wasserfilt', 'wassersport', 'wassertank', 'wast', 'wasteland', 'wat', 'watch', 'waterfal', 'waterfron', 'waterfront', 'watermil', 'watersport', 'watertap', 'watson', 'watt', 'wav', 'way', 'waz', 'wc', 'wcds', 'wcs', 'weak', 'weal', 'wealth', 'wear', 'weath', 'web', 'websit', 'websummit', 'wed', 'wednesday', 'wee', 'weeck', 'weed', 'week', 'weekday', 'weekend', 'weel', 'weg', 'wegen', 'wei', 'weich', 'weight', 'weil', 'wein', 'weit', 'weitblick', 'weiten', 'weiteren', 'weiterhin', 'weitl', 'weiw', 'wel', 'welc', 'welch', 'welcom', 'welcomehom', 'welf', 'well', 'wellb', 'wellcom', 'wellen', 'wellington', 'welt', 'wenig', 'wenigen', 'wenn', 'went', 'werden', 'wes', 'west', 'western', 'westernmost', 'westk', 'westward', 'wet', 'wetsuit', 'wfh', 'wfi', 'wh', 'whal', 'whash', 'what', 'whatev', 'whatsapp', 'whatsoev', 'whatsupp', 'whe', 'wheat', 'wheath', 'wheel', 'wheelch', 'wheelcha', 'wheez', 'whenev', 'wher', 'whereb', 'wherev', 'wheth', 'whi', 'whichev', 'whil', 'whilst', 'whims', 'whimsic', 'whip', 'whirlbadewann', 'whirlpool', 'whirpool', 'whisp', 'whistl', 'whit', 'whiteboard', 'whiten', 'whitewash', 'whith', 'whithout', 'whitin', 'whoev', 'whol', 'wholesal', 'wholesom', 'whop', 'whos', 'wi', 'wich', 'wichtigen', 'wichtigsten', 'wick', 'wid', 'wideb', 'widescreen', 'widest', 'widok', 'width', 'wie', 'wied', 'wies', 'wiew', 'wif', 'wih', 'wiht', 'wii', 'wiith', 'wijk', 'wil', 'wild', 'wilden', 'wildlif', 'wilkin', 'will', 'willing', 'willkommen', 'win', 'wind', 'windm', 'windmil', 'windon', 'window', 'windowless', 'windowpan', 'windowsil', 'windsurf', 'wineb', 'winer', 'wing', 'wingback', 'winkel', 'winn', 'wint', 'wintergarten', 'wir', 'wird', 'wireless', 'wirell', 'wirklich', 'wirl', 'wirless', 'wirst', 'wis', 'wisdom', 'wish', 'wissen', 'wist', 'wit', 'witch', 'with', 'withdraw', 'within', 'withinin', 'without', 'withstood', 'withstov', 'withterrac', 'witn', 'wlan', 'wlk', 'wn', 'wo', 'wochenenden', 'wochent', 'wochentag', 'wodden', 'wohlf', 'wohn', 'wohnambient', 'wohnbereich', 'wohnblock', 'wohnen', 'wohnhaus', 'wohnk', 'wohnkomfort', 'wohnlich', 'wohnmobil', 'wohnraum', 'wohnt', 'wohnung', 'wohnungen', 'wohnungsschl', 'wohnviertel', 'wohnzimm', 'wohzimm', 'wok', 'woken', 'wold', 'wolf', 'wolh', 'woman', 'won', 'wond', 'wonderful', 'wondr', 'woningen', 'wont', 'wood', 'woodcraft', 'woodeen', 'wooden', 'woodenlodg', 'woodland', 'woodpeck', 'woodwork', 'woof', 'wool', 'woonoppervlak', 'wor', 'word', 'worden', 'work', 'workahol', 'workat', 'workdesk', 'workin', 'workout', 'workplac', 'workshop', 'workspac', 'workstat', 'worktop', 'world', 'worldsurfreserv', 'worldwid', 'worr', 'worship', 'worst', 'worth', 'would', 'wound', 'woven', 'wow', 'wrack', 'wrap', 'wraparound', 'wrinkl', 'writ', 'written', 'wrong', 'wrot', 'wrought', 'wsch', 'wschodniej', 'wsr', 'wszystkich', 'wth', 'wtih', 'wtl', 'wts', 'wunderb', 'wundersch', 'wundervollen', 'wurd', 'www', 'wygodn', 'wyjazd', 'wykrusab', 'wypos', 'wzg', 'xadrez', 'xan', 'xasal', 'xbox', 'xi', 'xia', 'xiaom', 'xic', 'xii', 'xim', 'ximidad', 'xir', 'xix', 'xixth', 'xjjanjv', 'xl', 'xmas', 'xon', 'xte', 'xtuw', 'xv', 'xvi', 'xvicentur', 'xvii', 'xviii', 'xviiith', 'xviiqu', 'xviith', 'xx', 'xxi', 'xxl', 'xxlhl', 'xxv', 'xxxx', 'xxxxxxxx', 'y', 'ya', 'yacht', 'yamah', 'yard', 'yatch', 'ye', 'yea', 'yeah', 'year', 'yeasr', 'yellow', 'yelow', 'yes', 'yescap', 'yesterday', 'yestery', 'yet', 'yhe', 'yin', 'yo', 'yog', 'yoghurt', 'yol', 'yon', 'yor', 'york', 'yorksh', 'you', 'youg', 'young', 'youngest', 'youngst', 'your', 'yourt', 'youth', 'youtu', 'youtub', 'ypical', 'yr', 'ytterlig', 'yu', 'yuk', 'yum', 'yumm', 'yuo', 'z', 'za', 'zach', 'zachod', 'zachodniej', 'zack', 'zahlreich', 'zahlreichen', 'zair', 'zaledw', 'zambeachous', 'zambuj', 'zambujeir', 'zanuss', 'zar', 'zarpan', 'ze', 'zee', 'zeigen', 'zeigt', 'zeit', 'zeitg', 'zel', 'zeld', 'zen', 'zenith', 'zenspirit', 'zentral', 'zentralen', 'zentralheizung', 'zentrum', 'zeph', 'zer', 'zi', 'zia', 'ziehen', 'zigg', 'zijn', 'zimm', 'zimmerdecken', 'zimmern', 'zinh', 'zio', 'ziplin', 'zis', 'zitten', 'znajduj', 'zoek', 'zon', 'zoo', 'zool', 'zoolog', 'zoom', 'zu', 'zubereiten', 'zud', 'zugang', 'zuhaus', 'zum', 'zur', 'zusammen', 'zusammengeschoben', 'zusammenschieben', 'zusatzbett', 'zuschlag', 'zuverl', 'zuz', 'zuzab', 'zwe', 'zweckm', 'zweifell', 'zweigeschossig', 'zweimal', 'zweit', 'zweiten', 'zwembad', 'zwischen', 'zwitschern']\n"
     ]
    }
   ],
   "source": [
    "print(unique_words_desc_proc)"
   ]
  },
  {
   "cell_type": "markdown",
   "id": "e52ae264",
   "metadata": {},
   "source": [
    "<div class=\"alert alert-block alert-danger\"> \n",
    "We still have many words with the same meaning because we have different language like Lisbon:\n",
    "'lisbo', 'lisboabo', 'lisboad', 'lisboaet', 'lisboan', 'lisboet', 'lisbom', 'lisbon', 'lisbonaccommod', 'lisboncmanag', \n",
    "'lisbonens', 'lisbonian', 'lisbonit', 'lisbonluxhom', 'lisbonn', 'lisbonnn'"
   ]
  },
  {
   "cell_type": "markdown",
   "id": "08ca0012",
   "metadata": {},
   "source": [
    "**host_about**"
   ]
  },
  {
   "cell_type": "code",
   "execution_count": 66,
   "id": "7a1fd009",
   "metadata": {},
   "outputs": [
    {
     "name": "stderr",
     "output_type": "stream",
     "text": [
      "100%|██████████| 24992/24992 [00:50<00:00, 491.11it/s]\n"
     ]
    }
   ],
   "source": [
    "updates_host = clean(airbnb_df_train['host_about'], lemmatize = True, stemmer = True)"
   ]
  },
  {
   "cell_type": "code",
   "execution_count": 67,
   "id": "21e2ba94",
   "metadata": {},
   "outputs": [
    {
     "data": {
      "image/png": "[encoded data removed]",
      "text/plain": [
       "<Figure size 640x480 with 1 Axes>"
      ]
     },
     "metadata": {},
     "output_type": "display_data"
    }
   ],
   "source": [
    "# create a list with all words in airbnb_df_train['host_about']\n",
    "all_words_host_proc = ' '.join(updates_host).split()\n",
    "\n",
    "# The frequency of each word\n",
    "freq_host_proc = pd.Series(all_words_host_proc).value_counts()\n",
    "\n",
    "# A bar plot with the top 35 words, for 'host_about' column\n",
    "x_labels = freq_host_proc.index[0:40]\n",
    "values = freq_host_proc[:40]\n",
    "plt.bar(x_labels, values, align='center', alpha=0.5, color = 'grey')\n",
    "plt.xticks(x_labels)\n",
    "plt.ylabel('Frequencies')\n",
    "plt.title('Words')\n",
    "plt.xticks(rotation=90)\n",
    "plt.show()"
   ]
  },
  {
   "cell_type": "code",
   "execution_count": 68,
   "id": "61d106e4",
   "metadata": {},
   "outputs": [
    {
     "data": {
      "text/plain": [
       "10912"
      ]
     },
     "execution_count": 68,
     "metadata": {},
     "output_type": "execute_result"
    }
   ],
   "source": [
    "unique_words_host = sorted(set(all_words_host_proc))\n",
    "len(unique_words_host)"
   ]
  },
  {
   "cell_type": "code",
   "execution_count": 69,
   "id": "597de9a0",
   "metadata": {},
   "outputs": [
    {
     "data": {
      "text/plain": [
       "931865"
      ]
     },
     "execution_count": 69,
     "metadata": {},
     "output_type": "execute_result"
    }
   ],
   "source": [
    "len(all_words_host)"
   ]
  },
  {
   "cell_type": "markdown",
   "id": "4f73db0c",
   "metadata": {},
   "source": [
    "<div class=\"alert alert-block alert-success\">\n",
    "For hosts_about, before the data preprocessing, we had 931.865 unique words after we reduced it to 10.912 words."
   ]
  },
  {
   "cell_type": "markdown",
   "id": "67029d20",
   "metadata": {},
   "source": [
    "Update our data frame with the new text preprocessed"
   ]
  },
  {
   "cell_type": "code",
   "execution_count": 87,
   "id": "cef1331e",
   "metadata": {},
   "outputs": [
    {
     "data": {
      "text/html": [
       "<div>\n",
       "<style scoped>\n",
       "    .dataframe tbody tr th:only-of-type {\n",
       "        vertical-align: middle;\n",
       "    }\n",
       "\n",
       "    .dataframe tbody tr th {\n",
       "        vertical-align: top;\n",
       "    }\n",
       "\n",
       "    .dataframe thead th {\n",
       "        text-align: right;\n",
       "    }\n",
       "</style>\n",
       "<table border=\"1\" class=\"dataframe\">\n",
       "  <thead>\n",
       "    <tr style=\"text-align: right;\">\n",
       "      <th></th>\n",
       "      <th>index</th>\n",
       "      <th>description</th>\n",
       "      <th>host_about</th>\n",
       "      <th>unlisted</th>\n",
       "      <th>language_description</th>\n",
       "      <th>language_host_about</th>\n",
       "    </tr>\n",
       "  </thead>\n",
       "  <tbody>\n",
       "    <tr>\n",
       "      <th>0</th>\n",
       "      <td>1</td>\n",
       "      <td>shar mix room hostel shar bathroom locat right...</td>\n",
       "      <td>aloj local registr al</td>\n",
       "      <td>0</td>\n",
       "      <td>en</td>\n",
       "      <td>pt</td>\n",
       "    </tr>\n",
       "    <tr>\n",
       "      <th>1</th>\n",
       "      <td>2</td>\n",
       "      <td>espa fic pert parqu eduard vii saldanh estefan...</td>\n",
       "      <td>friend host tri alway around need anyth though...</td>\n",
       "      <td>1</td>\n",
       "      <td>pt</td>\n",
       "      <td>en</td>\n",
       "    </tr>\n",
       "    <tr>\n",
       "      <th>2</th>\n",
       "      <td>3</td>\n",
       "      <td>traf hous coz famili vill facil need relax com...</td>\n",
       "      <td>social person lik communic read travel lik cin...</td>\n",
       "      <td>1</td>\n",
       "      <td>en</td>\n",
       "      <td>en</td>\n",
       "    </tr>\n",
       "    <tr>\n",
       "      <th>3</th>\n",
       "      <td>4</td>\n",
       "      <td>apart charmos chi larg carm travess trindad es...</td>\n",
       "      <td>hell portugu lov meet peopl around word mayb o...</td>\n",
       "      <td>0</td>\n",
       "      <td>pt</td>\n",
       "      <td>en</td>\n",
       "    </tr>\n",
       "    <tr>\n",
       "      <th>4</th>\n",
       "      <td>5</td>\n",
       "      <td>jol appart en bordur mer min pie la plag vue m...</td>\n",
       "      <td>nous somm une famill avec deux enfant et an no...</td>\n",
       "      <td>0</td>\n",
       "      <td>fr</td>\n",
       "      <td>fr</td>\n",
       "    </tr>\n",
       "    <tr>\n",
       "      <th>...</th>\n",
       "      <td>...</td>\n",
       "      <td>...</td>\n",
       "      <td>...</td>\n",
       "      <td>...</td>\n",
       "      <td>...</td>\n",
       "      <td>...</td>\n",
       "    </tr>\n",
       "    <tr>\n",
       "      <th>24987</th>\n",
       "      <td>12492</td>\n",
       "      <td>cat bairr alto coz apart lisbon cit cent one t...</td>\n",
       "      <td>travel one favorit hobb alread visit sev count...</td>\n",
       "      <td>0</td>\n",
       "      <td>en</td>\n",
       "      <td>en</td>\n",
       "    </tr>\n",
       "    <tr>\n",
       "      <th>24988</th>\n",
       "      <td>12493</td>\n",
       "      <td>beaut locat heart lisbon histor cent near one ...</td>\n",
       "      <td>found travel enthusiast lik bnbird want connec...</td>\n",
       "      <td>0</td>\n",
       "      <td>en</td>\n",
       "      <td>en</td>\n",
       "    </tr>\n",
       "    <tr>\n",
       "      <th>24989</th>\n",
       "      <td>12494</td>\n",
       "      <td>enjoy breakfast sleek kitchen freestand knott ...</td>\n",
       "      <td>portug lov danc travel pleasur welcom amaz lisbon</td>\n",
       "      <td>0</td>\n",
       "      <td>en</td>\n",
       "      <td>en</td>\n",
       "    </tr>\n",
       "    <tr>\n",
       "      <th>24990</th>\n",
       "      <td>12495</td>\n",
       "      <td>terr eir cas camp rod rvor frut conv descans b...</td>\n",
       "      <td>famil gostam viaj receb amig pra camp sol sal</td>\n",
       "      <td>1</td>\n",
       "      <td>pt</td>\n",
       "      <td>pt</td>\n",
       "    </tr>\n",
       "    <tr>\n",
       "      <th>24991</th>\n",
       "      <td>12496</td>\n",
       "      <td>brandnew apart combin eleg charm excel locat n...</td>\n",
       "      <td>german portugu coupl passion travel design apa...</td>\n",
       "      <td>1</td>\n",
       "      <td>en</td>\n",
       "      <td>en</td>\n",
       "    </tr>\n",
       "  </tbody>\n",
       "</table>\n",
       "<p>24992 rows × 6 columns</p>\n",
       "</div>"
      ],
      "text/plain": [
       "       index                                        description  \\\n",
       "0          1  shar mix room hostel shar bathroom locat right...   \n",
       "1          2  espa fic pert parqu eduard vii saldanh estefan...   \n",
       "2          3  traf hous coz famili vill facil need relax com...   \n",
       "3          4  apart charmos chi larg carm travess trindad es...   \n",
       "4          5  jol appart en bordur mer min pie la plag vue m...   \n",
       "...      ...                                                ...   \n",
       "24987  12492  cat bairr alto coz apart lisbon cit cent one t...   \n",
       "24988  12493  beaut locat heart lisbon histor cent near one ...   \n",
       "24989  12494  enjoy breakfast sleek kitchen freestand knott ...   \n",
       "24990  12495  terr eir cas camp rod rvor frut conv descans b...   \n",
       "24991  12496  brandnew apart combin eleg charm excel locat n...   \n",
       "\n",
       "                                              host_about  unlisted  \\\n",
       "0                                  aloj local registr al         0   \n",
       "1      friend host tri alway around need anyth though...         1   \n",
       "2      social person lik communic read travel lik cin...         1   \n",
       "3      hell portugu lov meet peopl around word mayb o...         0   \n",
       "4      nous somm une famill avec deux enfant et an no...         0   \n",
       "...                                                  ...       ...   \n",
       "24987  travel one favorit hobb alread visit sev count...         0   \n",
       "24988  found travel enthusiast lik bnbird want connec...         0   \n",
       "24989  portug lov danc travel pleasur welcom amaz lisbon         0   \n",
       "24990      famil gostam viaj receb amig pra camp sol sal         1   \n",
       "24991  german portugu coupl passion travel design apa...         1   \n",
       "\n",
       "      language_description language_host_about  \n",
       "0                       en                  pt  \n",
       "1                       pt                  en  \n",
       "2                       en                  en  \n",
       "3                       pt                  en  \n",
       "4                       fr                  fr  \n",
       "...                    ...                 ...  \n",
       "24987                   en                  en  \n",
       "24988                   en                  en  \n",
       "24989                   en                  en  \n",
       "24990                   pt                  pt  \n",
       "24991                   en                  en  \n",
       "\n",
       "[24992 rows x 6 columns]"
      ]
     },
     "execution_count": 87,
     "metadata": {},
     "output_type": "execute_result"
    }
   ],
   "source": [
    "airbnb_df_train = airbnb_df_train.drop(['word_count_description'], axis=1)\n",
    "airbnb_df_train = airbnb_df_train.drop(['word_count_host_about'], axis=1)\n",
    "airbnb_df_train.update(pd.DataFrame({\"description\": updates_desc}))\n",
    "airbnb_df_train.update(pd.DataFrame({\"host_about\": updates_host}))\n",
    "airbnb_df_train"
   ]
  },
  {
   "cell_type": "markdown",
   "id": "ec23812f",
   "metadata": {},
   "source": [
    "**Comments**"
   ]
  },
  {
   "cell_type": "code",
   "execution_count": 73,
   "id": "0adbdfce",
   "metadata": {},
   "outputs": [
    {
     "name": "stderr",
     "output_type": "stream",
     "text": [
      "100%|██████████| 1442804/1442804 [38:04<00:00, 631.70it/s]\n"
     ]
    }
   ],
   "source": [
    "updates_comments = clean(reviews_df_train['comments'], lemmatize = True, stemmer = True)"
   ]
  },
  {
   "cell_type": "code",
   "execution_count": 74,
   "id": "2cf28dcf",
   "metadata": {},
   "outputs": [
    {
     "data": {
      "image/png": "[encoded data removed]",
      "text/plain": [
       "<Figure size 640x480 with 1 Axes>"
      ]
     },
     "metadata": {},
     "output_type": "display_data"
    }
   ],
   "source": [
    "# create a list with all words in reviews_df_train['comments']\n",
    "all_words_comments = ' '.join(updates_comments).split()\n",
    "\n",
    "# The frequency of each word\n",
    "freq_comments = pd.Series(all_words_comments).value_counts()\n",
    "\n",
    "# A bar plot with the top 35 words, for 'comments' column\n",
    "x_labels = freq_comments.index[0:40]\n",
    "values = freq_comments[:40]\n",
    "plt.bar(x_labels, values, align='center', alpha=0.5, color = 'grey')\n",
    "plt.xticks(x_labels)\n",
    "plt.ylabel('Frequencies')\n",
    "plt.title('Words')\n",
    "plt.xticks(rotation=90)\n",
    "plt.show()"
   ]
  },
  {
   "cell_type": "code",
   "execution_count": 75,
   "id": "2b6c28a3",
   "metadata": {},
   "outputs": [
    {
     "data": {
      "text/plain": [
       "121733"
      ]
     },
     "execution_count": 75,
     "metadata": {},
     "output_type": "execute_result"
    }
   ],
   "source": [
    "unique_words_comments = sorted(set(all_words_comments))\n",
    "len(unique_words_comments)"
   ]
  },
  {
   "cell_type": "code",
   "execution_count": 78,
   "id": "07515af2",
   "metadata": {},
   "outputs": [
    {
     "data": {
      "text/plain": [
       "43131836"
      ]
     },
     "execution_count": 78,
     "metadata": {},
     "output_type": "execute_result"
    }
   ],
   "source": [
    "len(all_words_comments)"
   ]
  },
  {
   "cell_type": "markdown",
   "id": "7f81f36b",
   "metadata": {},
   "source": [
    "<div class=\"alert alert-block alert-success\">\n",
    "For comments, before the data preprocessing, we had 43.131.836 unique words after we reduced it to 121.733 words."
   ]
  },
  {
   "cell_type": "markdown",
   "id": "3822d271",
   "metadata": {},
   "source": [
    "Update our data frame with the new text preprocessed"
   ]
  },
  {
   "cell_type": "code",
   "execution_count": 80,
   "id": "6b7229d5",
   "metadata": {},
   "outputs": [
    {
     "data": {
      "text/html": [
       "<div>\n",
       "<style scoped>\n",
       "    .dataframe tbody tr th:only-of-type {\n",
       "        vertical-align: middle;\n",
       "    }\n",
       "\n",
       "    .dataframe tbody tr th {\n",
       "        vertical-align: top;\n",
       "    }\n",
       "\n",
       "    .dataframe thead th {\n",
       "        text-align: right;\n",
       "    }\n",
       "</style>\n",
       "<table border=\"1\" class=\"dataframe\">\n",
       "  <thead>\n",
       "    <tr style=\"text-align: right;\">\n",
       "      <th></th>\n",
       "      <th>index</th>\n",
       "      <th>comments</th>\n",
       "      <th>language</th>\n",
       "    </tr>\n",
       "  </thead>\n",
       "  <tbody>\n",
       "    <tr>\n",
       "      <th>0</th>\n",
       "      <td>1</td>\n",
       "      <td>shar mix room hostel shar bathroom locat right...</td>\n",
       "      <td>en</td>\n",
       "    </tr>\n",
       "    <tr>\n",
       "      <th>1</th>\n",
       "      <td>1</td>\n",
       "      <td>espa fic pert parqu eduard vii saldanh estefan...</td>\n",
       "      <td>so</td>\n",
       "    </tr>\n",
       "    <tr>\n",
       "      <th>2</th>\n",
       "      <td>1</td>\n",
       "      <td>traf hous coz famili vill facil need relax com...</td>\n",
       "      <td>en</td>\n",
       "    </tr>\n",
       "    <tr>\n",
       "      <th>3</th>\n",
       "      <td>1</td>\n",
       "      <td>apart charmos chi larg carm travess trindad es...</td>\n",
       "      <td>de</td>\n",
       "    </tr>\n",
       "    <tr>\n",
       "      <th>4</th>\n",
       "      <td>1</td>\n",
       "      <td>jol appart en bordur mer min pie la plag vue m...</td>\n",
       "      <td>en</td>\n",
       "    </tr>\n",
       "    <tr>\n",
       "      <th>...</th>\n",
       "      <td>...</td>\n",
       "      <td>...</td>\n",
       "      <td>...</td>\n",
       "    </tr>\n",
       "    <tr>\n",
       "      <th>1442799</th>\n",
       "      <td>12494</td>\n",
       "      <td>We had a good time, the apartment has a great ...</td>\n",
       "      <td>en</td>\n",
       "    </tr>\n",
       "    <tr>\n",
       "      <th>1442800</th>\n",
       "      <td>12494</td>\n",
       "      <td>Great apartment in very central location. The ...</td>\n",
       "      <td>en</td>\n",
       "    </tr>\n",
       "    <tr>\n",
       "      <th>1442801</th>\n",
       "      <td>12494</td>\n",
       "      <td>We are Airbnb Super Hosts too, so trust me, Li...</td>\n",
       "      <td>en</td>\n",
       "    </tr>\n",
       "    <tr>\n",
       "      <th>1442802</th>\n",
       "      <td>12494</td>\n",
       "      <td>We had a lovely stay at this apartment. Sofia ...</td>\n",
       "      <td>en</td>\n",
       "    </tr>\n",
       "    <tr>\n",
       "      <th>1442803</th>\n",
       "      <td>12494</td>\n",
       "      <td>Clean, very good position, easy checkin, the p...</td>\n",
       "      <td>en</td>\n",
       "    </tr>\n",
       "  </tbody>\n",
       "</table>\n",
       "<p>1442804 rows × 3 columns</p>\n",
       "</div>"
      ],
      "text/plain": [
       "         index                                           comments language\n",
       "0            1  shar mix room hostel shar bathroom locat right...       en\n",
       "1            1  espa fic pert parqu eduard vii saldanh estefan...       so\n",
       "2            1  traf hous coz famili vill facil need relax com...       en\n",
       "3            1  apart charmos chi larg carm travess trindad es...       de\n",
       "4            1  jol appart en bordur mer min pie la plag vue m...       en\n",
       "...        ...                                                ...      ...\n",
       "1442799  12494  We had a good time, the apartment has a great ...       en\n",
       "1442800  12494  Great apartment in very central location. The ...       en\n",
       "1442801  12494  We are Airbnb Super Hosts too, so trust me, Li...       en\n",
       "1442802  12494  We had a lovely stay at this apartment. Sofia ...       en\n",
       "1442803  12494  Clean, very good position, easy checkin, the p...       en\n",
       "\n",
       "[1442804 rows x 3 columns]"
      ]
     },
     "execution_count": 80,
     "metadata": {},
     "output_type": "execute_result"
    }
   ],
   "source": [
    "reviews_df_train.update(pd.DataFrame({\"comments\": updates_desc}))\n",
    "reviews_df_train"
   ]
  },
  {
   "cell_type": "code",
   "execution_count": 81,
   "id": "e3dbb6d6",
   "metadata": {},
   "outputs": [
    {
     "data": {
      "text/html": [
       "<div>\n",
       "<style scoped>\n",
       "    .dataframe tbody tr th:only-of-type {\n",
       "        vertical-align: middle;\n",
       "    }\n",
       "\n",
       "    .dataframe tbody tr th {\n",
       "        vertical-align: top;\n",
       "    }\n",
       "\n",
       "    .dataframe thead th {\n",
       "        text-align: right;\n",
       "    }\n",
       "</style>\n",
       "<table border=\"1\" class=\"dataframe\">\n",
       "  <thead>\n",
       "    <tr style=\"text-align: right;\">\n",
       "      <th></th>\n",
       "      <th>index</th>\n",
       "      <th>unique_languages_count</th>\n",
       "      <th>total_comments_count</th>\n",
       "    </tr>\n",
       "  </thead>\n",
       "  <tbody>\n",
       "    <tr>\n",
       "      <th>0</th>\n",
       "      <td>1</td>\n",
       "      <td>8</td>\n",
       "      <td>100</td>\n",
       "    </tr>\n",
       "    <tr>\n",
       "      <th>1</th>\n",
       "      <td>5</td>\n",
       "      <td>6</td>\n",
       "      <td>82</td>\n",
       "    </tr>\n",
       "    <tr>\n",
       "      <th>2</th>\n",
       "      <td>8</td>\n",
       "      <td>8</td>\n",
       "      <td>336</td>\n",
       "    </tr>\n",
       "    <tr>\n",
       "      <th>3</th>\n",
       "      <td>9</td>\n",
       "      <td>6</td>\n",
       "      <td>64</td>\n",
       "    </tr>\n",
       "    <tr>\n",
       "      <th>4</th>\n",
       "      <td>10</td>\n",
       "      <td>3</td>\n",
       "      <td>26</td>\n",
       "    </tr>\n",
       "    <tr>\n",
       "      <th>...</th>\n",
       "      <td>...</td>\n",
       "      <td>...</td>\n",
       "      <td>...</td>\n",
       "    </tr>\n",
       "    <tr>\n",
       "      <th>8461</th>\n",
       "      <td>12490</td>\n",
       "      <td>9</td>\n",
       "      <td>64</td>\n",
       "    </tr>\n",
       "    <tr>\n",
       "      <th>8462</th>\n",
       "      <td>12491</td>\n",
       "      <td>4</td>\n",
       "      <td>20</td>\n",
       "    </tr>\n",
       "    <tr>\n",
       "      <th>8463</th>\n",
       "      <td>12492</td>\n",
       "      <td>9</td>\n",
       "      <td>624</td>\n",
       "    </tr>\n",
       "    <tr>\n",
       "      <th>8464</th>\n",
       "      <td>12493</td>\n",
       "      <td>5</td>\n",
       "      <td>70</td>\n",
       "    </tr>\n",
       "    <tr>\n",
       "      <th>8465</th>\n",
       "      <td>12494</td>\n",
       "      <td>10</td>\n",
       "      <td>414</td>\n",
       "    </tr>\n",
       "  </tbody>\n",
       "</table>\n",
       "<p>8466 rows × 3 columns</p>\n",
       "</div>"
      ],
      "text/plain": [
       "      index  unique_languages_count  total_comments_count\n",
       "0         1                       8                   100\n",
       "1         5                       6                    82\n",
       "2         8                       8                   336\n",
       "3         9                       6                    64\n",
       "4        10                       3                    26\n",
       "...     ...                     ...                   ...\n",
       "8461  12490                       9                    64\n",
       "8462  12491                       4                    20\n",
       "8463  12492                       9                   624\n",
       "8464  12493                       5                    70\n",
       "8465  12494                      10                   414\n",
       "\n",
       "[8466 rows x 3 columns]"
      ]
     },
     "execution_count": 81,
     "metadata": {},
     "output_type": "execute_result"
    }
   ],
   "source": [
    "reviews_df_train['comments'] = reviews_df_train['comments'].astype('string')\n",
    "reviews_df_train = reviews_df_train.dropna()\n",
    "\n",
    "grouped = reviews_df_train.groupby(['index', 'language']).agg({'comments': 'count'})\n",
    "grouped = grouped.reset_index()\n",
    "final_grouped = grouped.groupby('index').agg({'language': 'nunique', 'comments': 'sum'})\n",
    "final_grouped = final_grouped.reset_index()\n",
    "\n",
    "# rename the columns to the desired names\n",
    "final_grouped.columns = ['index', 'unique_languages_count', 'total_comments_count']\n",
    "final_grouped"
   ]
  },
  {
   "cell_type": "code",
   "execution_count": 84,
   "id": "1631e29c",
   "metadata": {},
   "outputs": [
    {
     "data": {
      "text/html": [
       "<div>\n",
       "<style scoped>\n",
       "    .dataframe tbody tr th:only-of-type {\n",
       "        vertical-align: middle;\n",
       "    }\n",
       "\n",
       "    .dataframe tbody tr th {\n",
       "        vertical-align: top;\n",
       "    }\n",
       "\n",
       "    .dataframe thead th {\n",
       "        text-align: right;\n",
       "    }\n",
       "</style>\n",
       "<table border=\"1\" class=\"dataframe\">\n",
       "  <thead>\n",
       "    <tr style=\"text-align: right;\">\n",
       "      <th></th>\n",
       "      <th>index</th>\n",
       "      <th>eng_comment_count</th>\n",
       "      <th>eng_reviews_merged</th>\n",
       "    </tr>\n",
       "  </thead>\n",
       "  <tbody>\n",
       "    <tr>\n",
       "      <th>0</th>\n",
       "      <td>1</td>\n",
       "      <td>60</td>\n",
       "      <td>shar mix room hostel shar bathroom locat right...</td>\n",
       "    </tr>\n",
       "    <tr>\n",
       "      <th>1</th>\n",
       "      <td>5</td>\n",
       "      <td>34</td>\n",
       "      <td>bom dia refurbish full equip tradit resident n...</td>\n",
       "    </tr>\n",
       "    <tr>\n",
       "      <th>2</th>\n",
       "      <td>8</td>\n",
       "      <td>290</td>\n",
       "      <td>desfrut son natur fic nest espa nic licens num...</td>\n",
       "    </tr>\n",
       "    <tr>\n",
       "      <th>3</th>\n",
       "      <td>9</td>\n",
       "      <td>32</td>\n",
       "      <td>oceanarium situat ocean front view atlant loca...</td>\n",
       "    </tr>\n",
       "    <tr>\n",
       "      <th>4</th>\n",
       "      <td>10</td>\n",
       "      <td>22</td>\n",
       "      <td>central hill apart compan apart cit cent ambit...</td>\n",
       "    </tr>\n",
       "    <tr>\n",
       "      <th>...</th>\n",
       "      <td>...</td>\n",
       "      <td>...</td>\n",
       "      <td>...</td>\n",
       "    </tr>\n",
       "    <tr>\n",
       "      <th>8295</th>\n",
       "      <td>12490</td>\n",
       "      <td>28</td>\n",
       "      <td>Excellent very well equiped apartment! Thank y...</td>\n",
       "    </tr>\n",
       "    <tr>\n",
       "      <th>8296</th>\n",
       "      <td>12491</td>\n",
       "      <td>14</td>\n",
       "      <td>I am so happy to found this accomodation near ...</td>\n",
       "    </tr>\n",
       "    <tr>\n",
       "      <th>8297</th>\n",
       "      <td>12492</td>\n",
       "      <td>424</td>\n",
       "      <td>We were very happy to find this place. The com...</td>\n",
       "    </tr>\n",
       "    <tr>\n",
       "      <th>8298</th>\n",
       "      <td>12493</td>\n",
       "      <td>54</td>\n",
       "      <td>Nice place, nice location, easy communication!...</td>\n",
       "    </tr>\n",
       "    <tr>\n",
       "      <th>8299</th>\n",
       "      <td>12494</td>\n",
       "      <td>314</td>\n",
       "      <td>We had a very lovely stay in Lisbon.The apartm...</td>\n",
       "    </tr>\n",
       "  </tbody>\n",
       "</table>\n",
       "<p>8300 rows × 3 columns</p>\n",
       "</div>"
      ],
      "text/plain": [
       "      index  eng_comment_count  \\\n",
       "0         1                 60   \n",
       "1         5                 34   \n",
       "2         8                290   \n",
       "3         9                 32   \n",
       "4        10                 22   \n",
       "...     ...                ...   \n",
       "8295  12490                 28   \n",
       "8296  12491                 14   \n",
       "8297  12492                424   \n",
       "8298  12493                 54   \n",
       "8299  12494                314   \n",
       "\n",
       "                                     eng_reviews_merged  \n",
       "0     shar mix room hostel shar bathroom locat right...  \n",
       "1     bom dia refurbish full equip tradit resident n...  \n",
       "2     desfrut son natur fic nest espa nic licens num...  \n",
       "3     oceanarium situat ocean front view atlant loca...  \n",
       "4     central hill apart compan apart cit cent ambit...  \n",
       "...                                                 ...  \n",
       "8295  Excellent very well equiped apartment! Thank y...  \n",
       "8296  I am so happy to found this accomodation near ...  \n",
       "8297  We were very happy to find this place. The com...  \n",
       "8298  Nice place, nice location, easy communication!...  \n",
       "8299  We had a very lovely stay in Lisbon.The apartm...  \n",
       "\n",
       "[8300 rows x 3 columns]"
      ]
     },
     "execution_count": 84,
     "metadata": {},
     "output_type": "execute_result"
    }
   ],
   "source": [
    "# English reviews\n",
    "\n",
    "reviews_df_eng = reviews_df_train[(reviews_df_train['language']=='en')]\n",
    "\n",
    "grouped_eng = reviews_df_eng.groupby(['index']).agg({'comments': ['count', ' '.join]})\n",
    "grouped_eng.columns = ['_'.join(col).strip() for col in grouped_eng.columns.values]\n",
    "grouped_eng = grouped_eng.reset_index()\n",
    "\n",
    "# Rename the columns of the DataFrame\n",
    "grouped_eng.columns = ['index', 'eng_comment_count', 'eng_reviews_merged']\n",
    "grouped_eng"
   ]
  },
  {
   "cell_type": "code",
   "execution_count": 85,
   "id": "ef7661a3",
   "metadata": {},
   "outputs": [
    {
     "data": {
      "text/html": [
       "<div>\n",
       "<style scoped>\n",
       "    .dataframe tbody tr th:only-of-type {\n",
       "        vertical-align: middle;\n",
       "    }\n",
       "\n",
       "    .dataframe tbody tr th {\n",
       "        vertical-align: top;\n",
       "    }\n",
       "\n",
       "    .dataframe thead th {\n",
       "        text-align: right;\n",
       "    }\n",
       "</style>\n",
       "<table border=\"1\" class=\"dataframe\">\n",
       "  <thead>\n",
       "    <tr style=\"text-align: right;\">\n",
       "      <th></th>\n",
       "      <th>index</th>\n",
       "      <th>unique_languages_count</th>\n",
       "      <th>total_comments_count</th>\n",
       "      <th>eng_comment_count</th>\n",
       "      <th>eng_reviews_merged</th>\n",
       "    </tr>\n",
       "  </thead>\n",
       "  <tbody>\n",
       "    <tr>\n",
       "      <th>0</th>\n",
       "      <td>1</td>\n",
       "      <td>8</td>\n",
       "      <td>100</td>\n",
       "      <td>60.0</td>\n",
       "      <td>shar mix room hostel shar bathroom locat right...</td>\n",
       "    </tr>\n",
       "    <tr>\n",
       "      <th>1</th>\n",
       "      <td>5</td>\n",
       "      <td>6</td>\n",
       "      <td>82</td>\n",
       "      <td>34.0</td>\n",
       "      <td>bom dia refurbish full equip tradit resident n...</td>\n",
       "    </tr>\n",
       "    <tr>\n",
       "      <th>2</th>\n",
       "      <td>8</td>\n",
       "      <td>8</td>\n",
       "      <td>336</td>\n",
       "      <td>290.0</td>\n",
       "      <td>desfrut son natur fic nest espa nic licens num...</td>\n",
       "    </tr>\n",
       "    <tr>\n",
       "      <th>3</th>\n",
       "      <td>9</td>\n",
       "      <td>6</td>\n",
       "      <td>64</td>\n",
       "      <td>32.0</td>\n",
       "      <td>oceanarium situat ocean front view atlant loca...</td>\n",
       "    </tr>\n",
       "    <tr>\n",
       "      <th>4</th>\n",
       "      <td>10</td>\n",
       "      <td>3</td>\n",
       "      <td>26</td>\n",
       "      <td>22.0</td>\n",
       "      <td>central hill apart compan apart cit cent ambit...</td>\n",
       "    </tr>\n",
       "    <tr>\n",
       "      <th>...</th>\n",
       "      <td>...</td>\n",
       "      <td>...</td>\n",
       "      <td>...</td>\n",
       "      <td>...</td>\n",
       "      <td>...</td>\n",
       "    </tr>\n",
       "    <tr>\n",
       "      <th>8461</th>\n",
       "      <td>12490</td>\n",
       "      <td>9</td>\n",
       "      <td>64</td>\n",
       "      <td>28.0</td>\n",
       "      <td>Excellent very well equiped apartment! Thank y...</td>\n",
       "    </tr>\n",
       "    <tr>\n",
       "      <th>8462</th>\n",
       "      <td>12491</td>\n",
       "      <td>4</td>\n",
       "      <td>20</td>\n",
       "      <td>14.0</td>\n",
       "      <td>I am so happy to found this accomodation near ...</td>\n",
       "    </tr>\n",
       "    <tr>\n",
       "      <th>8463</th>\n",
       "      <td>12492</td>\n",
       "      <td>9</td>\n",
       "      <td>624</td>\n",
       "      <td>424.0</td>\n",
       "      <td>We were very happy to find this place. The com...</td>\n",
       "    </tr>\n",
       "    <tr>\n",
       "      <th>8464</th>\n",
       "      <td>12493</td>\n",
       "      <td>5</td>\n",
       "      <td>70</td>\n",
       "      <td>54.0</td>\n",
       "      <td>Nice place, nice location, easy communication!...</td>\n",
       "    </tr>\n",
       "    <tr>\n",
       "      <th>8465</th>\n",
       "      <td>12494</td>\n",
       "      <td>10</td>\n",
       "      <td>414</td>\n",
       "      <td>314.0</td>\n",
       "      <td>We had a very lovely stay in Lisbon.The apartm...</td>\n",
       "    </tr>\n",
       "  </tbody>\n",
       "</table>\n",
       "<p>8466 rows × 5 columns</p>\n",
       "</div>"
      ],
      "text/plain": [
       "      index  unique_languages_count  total_comments_count  eng_comment_count  \\\n",
       "0         1                       8                   100               60.0   \n",
       "1         5                       6                    82               34.0   \n",
       "2         8                       8                   336              290.0   \n",
       "3         9                       6                    64               32.0   \n",
       "4        10                       3                    26               22.0   \n",
       "...     ...                     ...                   ...                ...   \n",
       "8461  12490                       9                    64               28.0   \n",
       "8462  12491                       4                    20               14.0   \n",
       "8463  12492                       9                   624              424.0   \n",
       "8464  12493                       5                    70               54.0   \n",
       "8465  12494                      10                   414              314.0   \n",
       "\n",
       "                                     eng_reviews_merged  \n",
       "0     shar mix room hostel shar bathroom locat right...  \n",
       "1     bom dia refurbish full equip tradit resident n...  \n",
       "2     desfrut son natur fic nest espa nic licens num...  \n",
       "3     oceanarium situat ocean front view atlant loca...  \n",
       "4     central hill apart compan apart cit cent ambit...  \n",
       "...                                                 ...  \n",
       "8461  Excellent very well equiped apartment! Thank y...  \n",
       "8462  I am so happy to found this accomodation near ...  \n",
       "8463  We were very happy to find this place. The com...  \n",
       "8464  Nice place, nice location, easy communication!...  \n",
       "8465  We had a very lovely stay in Lisbon.The apartm...  \n",
       "\n",
       "[8466 rows x 5 columns]"
      ]
     },
     "execution_count": 85,
     "metadata": {},
     "output_type": "execute_result"
    }
   ],
   "source": [
    "merged_reviews = pd.merge(final_grouped, grouped_eng, on='index', how='left')\n",
    "merged_reviews"
   ]
  },
  {
   "cell_type": "code",
   "execution_count": 138,
   "id": "789c8e08",
   "metadata": {},
   "outputs": [
    {
     "data": {
      "text/html": [
       "<div>\n",
       "<style scoped>\n",
       "    .dataframe tbody tr th:only-of-type {\n",
       "        vertical-align: middle;\n",
       "    }\n",
       "\n",
       "    .dataframe tbody tr th {\n",
       "        vertical-align: top;\n",
       "    }\n",
       "\n",
       "    .dataframe thead th {\n",
       "        text-align: right;\n",
       "    }\n",
       "</style>\n",
       "<table border=\"1\" class=\"dataframe\">\n",
       "  <thead>\n",
       "    <tr style=\"text-align: right;\">\n",
       "      <th></th>\n",
       "      <th>index</th>\n",
       "      <th>description</th>\n",
       "      <th>host_about</th>\n",
       "      <th>unlisted</th>\n",
       "      <th>language_description</th>\n",
       "      <th>language_host_about</th>\n",
       "      <th>unique_languages_count</th>\n",
       "      <th>total_comments_count</th>\n",
       "      <th>eng_comment_count</th>\n",
       "      <th>eng_reviews_merged</th>\n",
       "    </tr>\n",
       "  </thead>\n",
       "  <tbody>\n",
       "    <tr>\n",
       "      <th>0</th>\n",
       "      <td>1</td>\n",
       "      <td>shar mix room hostel shar bathroom locat right...</td>\n",
       "      <td>aloj local registr al</td>\n",
       "      <td>0</td>\n",
       "      <td>en</td>\n",
       "      <td>pt</td>\n",
       "      <td>8.0</td>\n",
       "      <td>100.0</td>\n",
       "      <td>60.0</td>\n",
       "      <td>shar mix room hostel shar bathroom locat right...</td>\n",
       "    </tr>\n",
       "    <tr>\n",
       "      <th>1</th>\n",
       "      <td>2</td>\n",
       "      <td>espa fic pert parqu eduard vii saldanh estefan...</td>\n",
       "      <td>friend host tri alway around need anyth though...</td>\n",
       "      <td>1</td>\n",
       "      <td>pt</td>\n",
       "      <td>en</td>\n",
       "      <td>NaN</td>\n",
       "      <td>NaN</td>\n",
       "      <td>NaN</td>\n",
       "      <td>&lt;NA&gt;</td>\n",
       "    </tr>\n",
       "    <tr>\n",
       "      <th>2</th>\n",
       "      <td>3</td>\n",
       "      <td>traf hous coz famili vill facil need relax com...</td>\n",
       "      <td>social person lik communic read travel lik cin...</td>\n",
       "      <td>1</td>\n",
       "      <td>en</td>\n",
       "      <td>en</td>\n",
       "      <td>NaN</td>\n",
       "      <td>NaN</td>\n",
       "      <td>NaN</td>\n",
       "      <td>&lt;NA&gt;</td>\n",
       "    </tr>\n",
       "    <tr>\n",
       "      <th>3</th>\n",
       "      <td>4</td>\n",
       "      <td>apart charmos chi larg carm travess trindad es...</td>\n",
       "      <td>hell portugu lov meet peopl around word mayb o...</td>\n",
       "      <td>0</td>\n",
       "      <td>pt</td>\n",
       "      <td>en</td>\n",
       "      <td>NaN</td>\n",
       "      <td>NaN</td>\n",
       "      <td>NaN</td>\n",
       "      <td>&lt;NA&gt;</td>\n",
       "    </tr>\n",
       "    <tr>\n",
       "      <th>4</th>\n",
       "      <td>5</td>\n",
       "      <td>jol appart en bordur mer min pie la plag vue m...</td>\n",
       "      <td>nous somm une famill avec deux enfant et an no...</td>\n",
       "      <td>0</td>\n",
       "      <td>fr</td>\n",
       "      <td>fr</td>\n",
       "      <td>6.0</td>\n",
       "      <td>82.0</td>\n",
       "      <td>34.0</td>\n",
       "      <td>bom dia refurbish full equip tradit resident n...</td>\n",
       "    </tr>\n",
       "  </tbody>\n",
       "</table>\n",
       "</div>"
      ],
      "text/plain": [
       "   index                                        description  \\\n",
       "0      1  shar mix room hostel shar bathroom locat right...   \n",
       "1      2  espa fic pert parqu eduard vii saldanh estefan...   \n",
       "2      3  traf hous coz famili vill facil need relax com...   \n",
       "3      4  apart charmos chi larg carm travess trindad es...   \n",
       "4      5  jol appart en bordur mer min pie la plag vue m...   \n",
       "\n",
       "                                          host_about  unlisted  \\\n",
       "0                              aloj local registr al         0   \n",
       "1  friend host tri alway around need anyth though...         1   \n",
       "2  social person lik communic read travel lik cin...         1   \n",
       "3  hell portugu lov meet peopl around word mayb o...         0   \n",
       "4  nous somm une famill avec deux enfant et an no...         0   \n",
       "\n",
       "  language_description language_host_about  unique_languages_count  \\\n",
       "0                   en                  pt                     8.0   \n",
       "1                   pt                  en                     NaN   \n",
       "2                   en                  en                     NaN   \n",
       "3                   pt                  en                     NaN   \n",
       "4                   fr                  fr                     6.0   \n",
       "\n",
       "   total_comments_count  eng_comment_count  \\\n",
       "0                 100.0               60.0   \n",
       "1                   NaN                NaN   \n",
       "2                   NaN                NaN   \n",
       "3                   NaN                NaN   \n",
       "4                  82.0               34.0   \n",
       "\n",
       "                                  eng_reviews_merged  \n",
       "0  shar mix room hostel shar bathroom locat right...  \n",
       "1                                               <NA>  \n",
       "2                                               <NA>  \n",
       "3                                               <NA>  \n",
       "4  bom dia refurbish full equip tradit resident n...  "
      ]
     },
     "execution_count": 138,
     "metadata": {},
     "output_type": "execute_result"
    }
   ],
   "source": [
    "# Merging reviews to train_df\n",
    "train_df = pd.merge(airbnb_df_train, merged_reviews, on='index', how='left')\n",
    "train_df.head()"
   ]
  },
  {
   "cell_type": "code",
   "execution_count": 139,
   "id": "9961f63a",
   "metadata": {},
   "outputs": [
    {
     "data": {
      "text/html": [
       "<div>\n",
       "<style scoped>\n",
       "    .dataframe tbody tr th:only-of-type {\n",
       "        vertical-align: middle;\n",
       "    }\n",
       "\n",
       "    .dataframe tbody tr th {\n",
       "        vertical-align: top;\n",
       "    }\n",
       "\n",
       "    .dataframe thead th {\n",
       "        text-align: right;\n",
       "    }\n",
       "</style>\n",
       "<table border=\"1\" class=\"dataframe\">\n",
       "  <thead>\n",
       "    <tr style=\"text-align: right;\">\n",
       "      <th></th>\n",
       "      <th>index</th>\n",
       "      <th>description</th>\n",
       "      <th>host_about</th>\n",
       "      <th>unlisted</th>\n",
       "      <th>language_description</th>\n",
       "      <th>language_host_about</th>\n",
       "      <th>unique_languages_count</th>\n",
       "      <th>total_comments_count</th>\n",
       "      <th>eng_comment_count</th>\n",
       "      <th>eng_reviews_merged</th>\n",
       "    </tr>\n",
       "  </thead>\n",
       "  <tbody>\n",
       "    <tr>\n",
       "      <th>0</th>\n",
       "      <td>1</td>\n",
       "      <td>shar mix room hostel shar bathroom locat right...</td>\n",
       "      <td>aloj local registr al</td>\n",
       "      <td>0</td>\n",
       "      <td>en</td>\n",
       "      <td>pt</td>\n",
       "      <td>0.259259</td>\n",
       "      <td>0.041809</td>\n",
       "      <td>0.040194</td>\n",
       "      <td>shar mix room hostel shar bathroom locat right...</td>\n",
       "    </tr>\n",
       "    <tr>\n",
       "      <th>1</th>\n",
       "      <td>2</td>\n",
       "      <td>espa fic pert parqu eduard vii saldanh estefan...</td>\n",
       "      <td>friend host tri alway around need anyth though...</td>\n",
       "      <td>1</td>\n",
       "      <td>pt</td>\n",
       "      <td>en</td>\n",
       "      <td>NaN</td>\n",
       "      <td>NaN</td>\n",
       "      <td>NaN</td>\n",
       "      <td>&lt;NA&gt;</td>\n",
       "    </tr>\n",
       "    <tr>\n",
       "      <th>2</th>\n",
       "      <td>3</td>\n",
       "      <td>traf hous coz famili vill facil need relax com...</td>\n",
       "      <td>social person lik communic read travel lik cin...</td>\n",
       "      <td>1</td>\n",
       "      <td>en</td>\n",
       "      <td>en</td>\n",
       "      <td>NaN</td>\n",
       "      <td>NaN</td>\n",
       "      <td>NaN</td>\n",
       "      <td>&lt;NA&gt;</td>\n",
       "    </tr>\n",
       "    <tr>\n",
       "      <th>3</th>\n",
       "      <td>4</td>\n",
       "      <td>apart charmos chi larg carm travess trindad es...</td>\n",
       "      <td>hell portugu lov meet peopl around word mayb o...</td>\n",
       "      <td>0</td>\n",
       "      <td>pt</td>\n",
       "      <td>en</td>\n",
       "      <td>NaN</td>\n",
       "      <td>NaN</td>\n",
       "      <td>NaN</td>\n",
       "      <td>&lt;NA&gt;</td>\n",
       "    </tr>\n",
       "    <tr>\n",
       "      <th>4</th>\n",
       "      <td>5</td>\n",
       "      <td>jol appart en bordur mer min pie la plag vue m...</td>\n",
       "      <td>nous somm une famill avec deux enfant et an no...</td>\n",
       "      <td>0</td>\n",
       "      <td>fr</td>\n",
       "      <td>fr</td>\n",
       "      <td>0.185185</td>\n",
       "      <td>0.034130</td>\n",
       "      <td>0.022176</td>\n",
       "      <td>bom dia refurbish full equip tradit resident n...</td>\n",
       "    </tr>\n",
       "  </tbody>\n",
       "</table>\n",
       "</div>"
      ],
      "text/plain": [
       "   index                                        description  \\\n",
       "0      1  shar mix room hostel shar bathroom locat right...   \n",
       "1      2  espa fic pert parqu eduard vii saldanh estefan...   \n",
       "2      3  traf hous coz famili vill facil need relax com...   \n",
       "3      4  apart charmos chi larg carm travess trindad es...   \n",
       "4      5  jol appart en bordur mer min pie la plag vue m...   \n",
       "\n",
       "                                          host_about  unlisted  \\\n",
       "0                              aloj local registr al         0   \n",
       "1  friend host tri alway around need anyth though...         1   \n",
       "2  social person lik communic read travel lik cin...         1   \n",
       "3  hell portugu lov meet peopl around word mayb o...         0   \n",
       "4  nous somm une famill avec deux enfant et an no...         0   \n",
       "\n",
       "  language_description language_host_about  unique_languages_count  \\\n",
       "0                   en                  pt                0.259259   \n",
       "1                   pt                  en                     NaN   \n",
       "2                   en                  en                     NaN   \n",
       "3                   pt                  en                     NaN   \n",
       "4                   fr                  fr                0.185185   \n",
       "\n",
       "   total_comments_count  eng_comment_count  \\\n",
       "0              0.041809           0.040194   \n",
       "1                   NaN                NaN   \n",
       "2                   NaN                NaN   \n",
       "3                   NaN                NaN   \n",
       "4              0.034130           0.022176   \n",
       "\n",
       "                                  eng_reviews_merged  \n",
       "0  shar mix room hostel shar bathroom locat right...  \n",
       "1                                               <NA>  \n",
       "2                                               <NA>  \n",
       "3                                               <NA>  \n",
       "4  bom dia refurbish full equip tradit resident n...  "
      ]
     },
     "execution_count": 139,
     "metadata": {},
     "output_type": "execute_result"
    }
   ],
   "source": [
    "# Scaling selected columns with MinMaxScaler\n",
    "scaler = MinMaxScaler()\n",
    "cols_to_scale = ['unique_languages_count', 'total_comments_count', 'eng_comment_count']\n",
    "train_df[cols_to_scale] = scaler.fit_transform(train_df[cols_to_scale])\n",
    "\n",
    "train_df.head()"
   ]
  },
  {
   "cell_type": "code",
   "execution_count": 164,
   "id": "05656c4a",
   "metadata": {},
   "outputs": [],
   "source": [
    "train_df['eng_reviews_merged'].fillna(value = '', inplace = True)"
   ]
  },
  {
   "cell_type": "markdown",
   "id": "621e16ba",
   "metadata": {},
   "source": [
    "<hr>\n",
    "<a class=\"anchor\" id=\"classificationmodels\">\n",
    "    \n",
    "# 4. Classification Models\n",
    "    \n",
    "</a>"
   ]
  },
  {
   "cell_type": "markdown",
   "id": "241b5c53",
   "metadata": {},
   "source": [
    "Split the dataset into train and validation and maintain the original format"
   ]
  },
  {
   "cell_type": "code",
   "execution_count": 143,
   "id": "1bb681ce",
   "metadata": {},
   "outputs": [],
   "source": [
    "train = train_df.sample(frac=0.8, random_state=1)\n",
    "validation = train_df.drop(train.index)"
   ]
  },
  {
   "cell_type": "markdown",
   "id": "e73880c9",
   "metadata": {},
   "source": [
    "Define the independent variable"
   ]
  },
  {
   "cell_type": "code",
   "execution_count": 144,
   "id": "fa6d7e0f",
   "metadata": {},
   "outputs": [
    {
     "data": {
      "text/plain": [
       "13517    apart locat heart lisbon baix district rd floo...\n",
       "10721    bright sunn studi complet refurbish one month ...\n",
       "16697    morad modern situ are branc lourinh capacidad ...\n",
       "17738    top floor reopen look plac quiet yet step away...\n",
       "18449    spread across floor minimalist spacious apart ...\n",
       "                               ...                        \n",
       "22349    littl doubl room ground floor build room doubl...\n",
       "12003    new furnitur sinc new bed new sofab cos retrea...\n",
       "24684    spacious apart condominium quint gandarinh two...\n",
       "13854    entir flat rent locat alfam histor part lisbon...\n",
       "20559    room suit spacious light well decor privat bat...\n",
       "Name: description, Length: 19994, dtype: object"
      ]
     },
     "execution_count": 144,
     "metadata": {},
     "output_type": "execute_result"
    }
   ],
   "source": [
    "x_train_1 = train['description']\n",
    "x_train_1"
   ]
  },
  {
   "cell_type": "code",
   "execution_count": 145,
   "id": "244823b8",
   "metadata": {},
   "outputs": [
    {
     "data": {
      "text/plain": [
       "13517    Sammuel's flat is really great, typical and pe...\n",
       "10721    Sylvie was really helpfull despite my late arr...\n",
       "16697    Excellent house for a really good price.The ho...\n",
       "17738    It was surely the best place to stay in Lisbon...\n",
       "18449    Water stopper is missing in the kitchen sink a...\n",
       "                               ...                        \n",
       "22349                                                     \n",
       "12003    The location of the apartment couldn't be bett...\n",
       "24684    Great location and an excellent choice for lar...\n",
       "13854    Paulo is very helpful and communicative person...\n",
       "20559    A good starting point to walk along and easily...\n",
       "Name: eng_reviews_merged, Length: 19994, dtype: string"
      ]
     },
     "execution_count": 145,
     "metadata": {},
     "output_type": "execute_result"
    }
   ],
   "source": [
    "x_train_2 = train['eng_reviews_merged']\n",
    "x_train_2"
   ]
  },
  {
   "cell_type": "code",
   "execution_count": 146,
   "id": "d16c38ed",
   "metadata": {},
   "outputs": [
    {
     "data": {
      "text/plain": [
       "14       spacious apart locat right cai sodr tak minut ...\n",
       "15       supr well locat histor build design famous pom...\n",
       "18       lov cas sobral locat littl villag sobral minut...\n",
       "20       import respons covid propert extend clean disi...\n",
       "27       apart constru localiz pis luzeir suit frent pr...\n",
       "                               ...                        \n",
       "24971    apart zon calm lisbo pr xim centr cidad ideal ...\n",
       "24974    cos one bedroom apart bord lap sant design dis...\n",
       "24976    spacious modern hous locat near magoit beach s...\n",
       "24982    apart cas du mar localiz ericeir ribeir ilha e...\n",
       "24990    terr eir cas camp rod rvor frut conv descans b...\n",
       "Name: description, Length: 4998, dtype: object"
      ]
     },
     "execution_count": 146,
     "metadata": {},
     "output_type": "execute_result"
    }
   ],
   "source": [
    "x_val_1 = validation['description']\n",
    "x_val_1"
   ]
  },
  {
   "cell_type": "code",
   "execution_count": 147,
   "id": "a8ce553b",
   "metadata": {},
   "outputs": [
    {
     "data": {
      "text/plain": [
       "14                                                        \n",
       "15       larg two bedroom apart near cit cent metr stat...\n",
       "18       journey begin moment decid go giv first step c...\n",
       "20                                                        \n",
       "27                                                        \n",
       "                               ...                        \n",
       "24971    Very tidy and lovely apartment equipped with e...\n",
       "24974    Nice apartment, well located in a quiet distri...\n",
       "24976                                                     \n",
       "24982    Great well equipped apartment, very clean and ...\n",
       "24990                                                     \n",
       "Name: eng_reviews_merged, Length: 4998, dtype: string"
      ]
     },
     "execution_count": 147,
     "metadata": {},
     "output_type": "execute_result"
    }
   ],
   "source": [
    "x_val_2 = validation['eng_reviews_merged']\n",
    "x_val_2"
   ]
  },
  {
   "cell_type": "markdown",
   "id": "6590a803",
   "metadata": {},
   "source": [
    "Define labels"
   ]
  },
  {
   "cell_type": "code",
   "execution_count": 148,
   "id": "77819b03",
   "metadata": {},
   "outputs": [
    {
     "data": {
      "text/plain": [
       "array([0, 0, 0, ..., 0, 0, 0], dtype=int64)"
      ]
     },
     "execution_count": 148,
     "metadata": {},
     "output_type": "execute_result"
    }
   ],
   "source": [
    "y_train = np.array(train['unlisted'])\n",
    "y_train"
   ]
  },
  {
   "cell_type": "code",
   "execution_count": 149,
   "id": "bd9dbec8",
   "metadata": {},
   "outputs": [
    {
     "data": {
      "text/plain": [
       "19994"
      ]
     },
     "execution_count": 149,
     "metadata": {},
     "output_type": "execute_result"
    }
   ],
   "source": [
    "len(y_train)"
   ]
  },
  {
   "cell_type": "code",
   "execution_count": 150,
   "id": "0d96ca76",
   "metadata": {},
   "outputs": [
    {
     "name": "stdout",
     "output_type": "stream",
     "text": [
      "0 occurs 14459 times (72.32%)\n",
      "1 occurs 5535 times (27.68%)\n"
     ]
    }
   ],
   "source": [
    "# get the unique values and their counts\n",
    "unique_values, counts = np.unique(y_train, return_counts=True)\n",
    "\n",
    "# calculate the percentage of each unique value\n",
    "total = len(y_train)\n",
    "percentages = counts / total * 100\n",
    "\n",
    "# print the unique values, their counts, and their percentages\n",
    "for i in range(len(unique_values)):\n",
    "    print(f\"{unique_values[i]} occurs {counts[i]} times ({percentages[i]:.2f}%)\")"
   ]
  },
  {
   "cell_type": "code",
   "execution_count": 151,
   "id": "bf7505f1",
   "metadata": {},
   "outputs": [
    {
     "data": {
      "text/plain": [
       "array([1, 0, 0, ..., 1, 0, 1], dtype=int64)"
      ]
     },
     "execution_count": 151,
     "metadata": {},
     "output_type": "execute_result"
    }
   ],
   "source": [
    "y_val = np.array(validation['unlisted'])\n",
    "y_val"
   ]
  },
  {
   "cell_type": "code",
   "execution_count": 152,
   "id": "f6c12759",
   "metadata": {},
   "outputs": [
    {
     "name": "stdout",
     "output_type": "stream",
     "text": [
      "0 occurs 3607 times (72.17%)\n",
      "1 occurs 1391 times (27.83%)\n"
     ]
    }
   ],
   "source": [
    "# get the unique values and their counts\n",
    "unique_values, counts = np.unique(y_val, return_counts=True)\n",
    "\n",
    "# calculate the percentage of each unique value\n",
    "total = len(y_val)\n",
    "percentages = counts / total * 100\n",
    "\n",
    "# print the unique values, their counts, and their percentages\n",
    "for i in range(len(unique_values)):\n",
    "    print(f\"{unique_values[i]} occurs {counts[i]} times ({percentages[i]:.2f}%)\")"
   ]
  },
  {
   "cell_type": "markdown",
   "id": "4567e2ff",
   "metadata": {},
   "source": [
    "<div class=\"alert alert-block alert-danger\"> \n",
    "The train and validation are both unbalanced but with the same proportion."
   ]
  },
  {
   "cell_type": "markdown",
   "id": "e77e2c2b",
   "metadata": {},
   "source": [
    "<hr>\n",
    "<a class=\"anchor\" id=\"bow\">\n",
    "    \n",
    "## 4.1. Define training features - Bag of Words (Bow)\n",
    "    \n",
    "</a>"
   ]
  },
  {
   "cell_type": "markdown",
   "id": "18aec58c",
   "metadata": {},
   "source": [
    "Create BoW from train corpus"
   ]
  },
  {
   "cell_type": "code",
   "execution_count": 155,
   "id": "43807b6c",
   "metadata": {},
   "outputs": [
    {
     "name": "stdout",
     "output_type": "stream",
     "text": [
      "(19994, 14483) (19994, 1000)\n"
     ]
    }
   ],
   "source": [
    "bow_desc = CountVectorizer(binary=True)     \n",
    "bow_reviews = CountVectorizer(binary=True, max_features=1000) \n",
    "\n",
    "X_train_1_bow = bow_desc.fit_transform(x_train_1)\n",
    "X_train_1_bow\n",
    "\n",
    "X_train_2_bow = bow_reviews.fit_transform(x_train_2)\n",
    "X_train_2_bow\n",
    "\n",
    "print(X_train_1_bow.shape, X_train_2_bow.shape)"
   ]
  },
  {
   "cell_type": "code",
   "execution_count": 167,
   "id": "cb70f79f",
   "metadata": {},
   "outputs": [
    {
     "data": {
      "text/plain": [
       "(19994, 15486)"
      ]
     },
     "execution_count": 167,
     "metadata": {},
     "output_type": "execute_result"
    }
   ],
   "source": [
    "\n",
    "n1 = X_train_1_bow.shape[1]\n",
    "n2 = X_train_2_bow.shape[1]\n",
    "n_additional = len(cols_to_scale)\n",
    "\n",
    "X_train_ext = np.zeros((X_train_1_bow.shape[0], n1 + n2 + n_additional))\n",
    "\n",
    "\n",
    "X_train_ext[:, :n1] = X_train_1_bow.toarray() # copy over TF-IDF for cleaned AirBnb description\n",
    "X_train_ext[:, n1:n1+n2] = X_train_2_bow.toarray() # copy over TF-IDF for cleaned English reviews\n",
    "X_train_ext[:, n1+n2:] = train[cols_to_scale].values # copy over the count columns\n",
    "\n",
    "X_train_ext = np.nan_to_num(X_train_ext, nan=0) # filling in empty values with zeroes\n",
    "\n",
    "X_train_ext.shape"
   ]
  },
  {
   "cell_type": "markdown",
   "id": "9ac0572c",
   "metadata": {},
   "source": [
    "For validation"
   ]
  },
  {
   "cell_type": "code",
   "execution_count": 180,
   "id": "7e5e64ea",
   "metadata": {},
   "outputs": [
    {
     "name": "stdout",
     "output_type": "stream",
     "text": [
      "(4998, 15486) (4998,)\n"
     ]
    }
   ],
   "source": [
    "X_val_1_bow = bow_desc.transform(validation[\"description\"])\n",
    "X_val_2_bow = bow_reviews.transform(validation[\"eng_reviews_merged\"])                            \n",
    "n1 = X_val_1_bow.shape[1]\n",
    "n2 = X_val_2_bow.shape[1]\n",
    "n_additional = len(cols_to_scale)\n",
    "\n",
    "X_val_ext = np.zeros((X_val_1_bow.shape[0], n1 + n2 + n_additional))\n",
    "X_val_ext[:, :n1] = X_val_1_bow.toarray()      # copy over TF-IDF for cleaned AirBnb description\n",
    "X_val_ext[:, n1:n1+n2] = X_val_2_bow.toarray() # copy over TF-IDF for cleaned English reviews\n",
    "X_val_ext[:, n1+n2:] = validation[cols_to_scale].values   # copy over the count columns\n",
    "\n",
    "X_val_ext = np.nan_to_num(X_val_ext, nan=0)   # filling in empty values with zeroes                                 \n",
    "\n",
    "y_val = np.array(validation['unlisted'])\n",
    "\n",
    "print(X_val_ext.shape, y_val.shape)"
   ]
  },
  {
   "cell_type": "code",
   "execution_count": 181,
   "id": "f625219c",
   "metadata": {},
   "outputs": [],
   "source": [
    "def plot_cm(confusion_matrix : np.array, \n",
    "            classnames : list):\n",
    "    \"\"\"\n",
    "    Function that creates a confusion matrix plot using the Wikipedia convention for the axis. \n",
    "    :param confusion_matrix: confusion matrix that will be plotted\n",
    "    :param classnames: labels of the classes\n",
    "    \n",
    "    Returns:\n",
    "        - Plot of the Confusion Matrix\n",
    "    \"\"\"\n",
    "    \n",
    "    confusionmatrix = confusion_matrix\n",
    "    class_names = classnames             \n",
    "\n",
    "    fig, ax = plt.subplots()\n",
    "    im = plt.imshow(confusionmatrix, cmap=plt.cm.cividis)\n",
    "    plt.colorbar()\n",
    "\n",
    "    # We want to show all ticks...\n",
    "    ax.set_xticks(np.arange(len(class_names)))\n",
    "    ax.set_yticks(np.arange(len(class_names)))\n",
    "    # ... and label them with the respective list entries\n",
    "    ax.set_xticklabels(class_names)\n",
    "    ax.set_yticklabels(class_names)\n",
    "\n",
    "    # Rotate the tick labels and set their alignment.\n",
    "    plt.setp(ax.get_xticklabels(), rotation=45, ha=\"right\",\n",
    "             rotation_mode=\"anchor\")\n",
    "\n",
    "    # Loop over data dimensions and create text annotations.\n",
    "    for i in range(len(class_names)):\n",
    "        for j in range(len(class_names)):\n",
    "            text = ax.text(j, i, confusionmatrix[i, j],\n",
    "                           ha=\"center\", va=\"center\", color=\"w\")\n",
    "\n",
    "    ax.set_title(\"Confusion Matrix\")\n",
    "    plt.xlabel('Targets')\n",
    "    plt.ylabel('Predictions')\n",
    "    plt.ylim(top=len(class_names)-0.5)  # adjust the top leaving bottom unchanged\n",
    "    plt.ylim(bottom=-0.5)  # adjust the bottom leaving top unchanged\n",
    "    return plt.show()"
   ]
  },
  {
   "cell_type": "markdown",
   "id": "58d38d97",
   "metadata": {},
   "source": [
    "<hr>\n",
    "<a class=\"anchor\" id=\"KNN\">\n",
    "    \n",
    "## 4.2. KNeighborsClassifier\n",
    "    \n",
    "</a>"
   ]
  },
  {
   "cell_type": "code",
   "execution_count": 185,
   "id": "9562753d",
   "metadata": {},
   "outputs": [],
   "source": [
    "labels = {\"Unlisted\":1, \"Listed\":0}"
   ]
  },
  {
   "cell_type": "code",
   "execution_count": 183,
   "id": "1b49c190",
   "metadata": {},
   "outputs": [
    {
     "name": "stdout",
     "output_type": "stream",
     "text": [
      "              precision    recall  f1-score   support\n",
      "\n",
      "    Unlisted       0.98      0.98      0.98      3599\n",
      "      Listed       0.94      0.94      0.94      1399\n",
      "\n",
      "    accuracy                           0.97      4998\n",
      "   macro avg       0.96      0.96      0.96      4998\n",
      "weighted avg       0.97      0.97      0.97      4998\n",
      "\n"
     ]
    },
    {
     "name": "stderr",
     "output_type": "stream",
     "text": [
      "C:\\Users\\katxi\\AppData\\Local\\Temp\\ipykernel_35336\\1314786959.py:39: UserWarning: Attempting to set identical bottom == top == 1.5 results in singular transformations; automatically expanding.\n",
      "  plt.ylim(top=len(class_names)-0.5)  # adjust the top leaving bottom unchanged\n"
     ]
    },
    {
     "data": {
      "image/png": "[encoded data removed]",
      "text/plain": [
       "<Figure size 640x480 with 2 Axes>"
      ]
     },
     "metadata": {},
     "output_type": "display_data"
    }
   ],
   "source": [
    "modelknn = KNeighborsClassifier(n_neighbors = 10, metric = 'cosine', weights = 'distance')\n",
    "\n",
    "modelknn.fit(X_train_ext,y_train)\n",
    "\n",
    "# Prediction\n",
    "y_pred_knn = modelknn.predict(X_val_ext)\n",
    "\n",
    "# Evaluation\n",
    "print(classification_report(y_pred_knn, y_val, target_names = labels.keys()))\n",
    "\n",
    "plot_cm(confusion_matrix(y_pred, y_val), labels.keys())"
   ]
  },
  {
   "cell_type": "markdown",
   "id": "e5ddec2f",
   "metadata": {},
   "source": [
    "<hr>\n",
    "<a class=\"anchor\" id=\"randomforest\">\n",
    "    \n",
    "## 4.3. Random Forest\n",
    "    \n",
    "</a>"
   ]
  },
  {
   "cell_type": "code",
   "execution_count": 179,
   "id": "ee608867",
   "metadata": {
    "scrolled": true
   },
   "outputs": [
    {
     "name": "stdout",
     "output_type": "stream",
     "text": [
      "              precision    recall  f1-score   support\n",
      "\n",
      "    Unlisted       0.97      0.98      0.98      3583\n",
      "      Listed       0.95      0.93      0.94      1415\n",
      "\n",
      "    accuracy                           0.97      4998\n",
      "   macro avg       0.96      0.96      0.96      4998\n",
      "weighted avg       0.97      0.97      0.97      4998\n",
      "\n"
     ]
    },
    {
     "name": "stderr",
     "output_type": "stream",
     "text": [
      "C:\\Users\\katxi\\AppData\\Local\\Temp\\ipykernel_35336\\1314786959.py:39: UserWarning: Attempting to set identical bottom == top == 1.5 results in singular transformations; automatically expanding.\n",
      "  plt.ylim(top=len(class_names)-0.5)  # adjust the top leaving bottom unchanged\n"
     ]
    },
    {
     "data": {
      "image/png": "[encoded data removed]",
      "text/plain": [
       "<Figure size 640x480 with 2 Axes>"
      ]
     },
     "metadata": {},
     "output_type": "display_data"
    }
   ],
   "source": [
    "model_forest = RandomForestClassifier(n_estimators=100, \n",
    "                                      class_weight={0: 0.7, 1: 0.3}, \n",
    "                                      random_state=42)\n",
    "\n",
    "model_forest.fit(X_train_ext, y_train)\n",
    "\n",
    "# Predicting\n",
    "y_pred = model_forest.predict(X_val_ext)\n",
    "\n",
    "# Evaluation\n",
    "print(classification_report(y_pred, y_val, target_names = labels.keys()))\n",
    "plot_cm(confusion_matrix(y_pred, y_val), labels.keys())"
   ]
  },
  {
   "cell_type": "code",
   "execution_count": null,
   "id": "5c5a66ed",
   "metadata": {},
   "outputs": [],
   "source": []
  }
 ],
 "metadata": {
  "kernelspec": {
   "display_name": "Python 3 (ipykernel)",
   "language": "python",
   "name": "python3"
  },
  "language_info": {
   "codemirror_mode": {
    "name": "ipython",
    "version": 3
   },
   "file_extension": ".py",
   "mimetype": "text/x-python",
   "name": "python",
   "nbconvert_exporter": "python",
   "pygments_lexer": "ipython3",
   "version": "3.9.13"
  }
 },
 "nbformat": 4,
 "nbformat_minor": 5
}
