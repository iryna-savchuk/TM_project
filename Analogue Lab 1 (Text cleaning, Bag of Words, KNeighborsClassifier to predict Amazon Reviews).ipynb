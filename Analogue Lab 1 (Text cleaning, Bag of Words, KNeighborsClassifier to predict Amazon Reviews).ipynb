{
 "cells": [
  {
   "cell_type": "code",
   "execution_count": 1,
   "metadata": {
    "tags": []
   },
   "outputs": [],
   "source": [
    "import pandas as pd\n",
    "import numpy as np\n",
    "import matplotlib.pyplot as plt\n",
    "\n",
    "import nltk\n",
    "from nltk.tokenize import word_tokenize\n",
    "from nltk.corpus import stopwords\n",
    "from nltk.stem import SnowballStemmer\n",
    "from nltk.stem.wordnet import WordNetLemmatizer\n",
    "\n",
    "import string\n",
    "import re\n",
    "from tqdm import tqdm\n",
    "\n",
    "from sklearn.model_selection import train_test_split\n",
    "from sklearn.feature_extraction.text import CountVectorizer\n",
    "from sklearn.neighbors import KNeighborsClassifier\n",
    "from sklearn.metrics import classification_report, confusion_matrix"
   ]
  },
  {
   "cell_type": "markdown",
   "metadata": {},
   "source": [
    "# Data Import"
   ]
  },
  {
   "cell_type": "code",
   "execution_count": 2,
   "metadata": {},
   "outputs": [],
   "source": [
    "df_train_raw = pd.read_excel('Project Corpora/train.xlsx')"
   ]
  },
  {
   "cell_type": "code",
   "execution_count": 3,
   "metadata": {},
   "outputs": [
    {
     "data": {
      "text/html": [
       "<div>\n",
       "<style scoped>\n",
       "    .dataframe tbody tr th:only-of-type {\n",
       "        vertical-align: middle;\n",
       "    }\n",
       "\n",
       "    .dataframe tbody tr th {\n",
       "        vertical-align: top;\n",
       "    }\n",
       "\n",
       "    .dataframe thead th {\n",
       "        text-align: right;\n",
       "    }\n",
       "</style>\n",
       "<table border=\"1\" class=\"dataframe\">\n",
       "  <thead>\n",
       "    <tr style=\"text-align: right;\">\n",
       "      <th></th>\n",
       "      <th>index</th>\n",
       "      <th>description</th>\n",
       "      <th>host_about</th>\n",
       "      <th>unlisted</th>\n",
       "    </tr>\n",
       "  </thead>\n",
       "  <tbody>\n",
       "    <tr>\n",
       "      <th>0</th>\n",
       "      <td>1</td>\n",
       "      <td>This is a shared mixed room in our hostel, wit...</td>\n",
       "      <td>Alojamento Local Registro: 20835/AL</td>\n",
       "      <td>0</td>\n",
       "    </tr>\n",
       "    <tr>\n",
       "      <th>1</th>\n",
       "      <td>2</td>\n",
       "      <td>O meu espaço fica perto de Parque Eduardo VII,...</td>\n",
       "      <td>I am friendly host, and I will try to always b...</td>\n",
       "      <td>1</td>\n",
       "    </tr>\n",
       "    <tr>\n",
       "      <th>2</th>\n",
       "      <td>3</td>\n",
       "      <td>Trafaria’s House is a cozy and familiar villa ...</td>\n",
       "      <td>I am a social person liking to communicate, re...</td>\n",
       "      <td>1</td>\n",
       "    </tr>\n",
       "    <tr>\n",
       "      <th>3</th>\n",
       "      <td>4</td>\n",
       "      <td>Apartamento Charmoso no Chiado, Entre o Largo ...</td>\n",
       "      <td>Hello!_x000D_\\nI m Portuguese and i love to me...</td>\n",
       "      <td>0</td>\n",
       "    </tr>\n",
       "    <tr>\n",
       "      <th>4</th>\n",
       "      <td>5</td>\n",
       "      <td>Joli appartement  en bordure de mer.&lt;br /&gt; 2 m...</td>\n",
       "      <td>Nous sommes une famille avec deux enfants de 1...</td>\n",
       "      <td>0</td>\n",
       "    </tr>\n",
       "  </tbody>\n",
       "</table>\n",
       "</div>"
      ],
      "text/plain": [
       "   index                                        description   \n",
       "0      1  This is a shared mixed room in our hostel, wit...  \\\n",
       "1      2  O meu espaço fica perto de Parque Eduardo VII,...   \n",
       "2      3  Trafaria’s House is a cozy and familiar villa ...   \n",
       "3      4  Apartamento Charmoso no Chiado, Entre o Largo ...   \n",
       "4      5  Joli appartement  en bordure de mer.<br /> 2 m...   \n",
       "\n",
       "                                          host_about  unlisted  \n",
       "0                Alojamento Local Registro: 20835/AL         0  \n",
       "1  I am friendly host, and I will try to always b...         1  \n",
       "2  I am a social person liking to communicate, re...         1  \n",
       "3  Hello!_x000D_\\nI m Portuguese and i love to me...         0  \n",
       "4  Nous sommes une famille avec deux enfants de 1...         0  "
      ]
     },
     "execution_count": 3,
     "metadata": {},
     "output_type": "execute_result"
    }
   ],
   "source": [
    "df_train_raw.head(5)"
   ]
  },
  {
   "cell_type": "markdown",
   "metadata": {},
   "source": [
    "# Exploratory Analysis"
   ]
  },
  {
   "cell_type": "code",
   "execution_count": 4,
   "metadata": {},
   "outputs": [
    {
     "data": {
      "text/plain": [
       "(12496, 4)"
      ]
     },
     "execution_count": 4,
     "metadata": {},
     "output_type": "execute_result"
    }
   ],
   "source": [
    "df_train_raw.shape"
   ]
  },
  {
   "cell_type": "code",
   "execution_count": 5,
   "metadata": {},
   "outputs": [
    {
     "name": "stdout",
     "output_type": "stream",
     "text": [
      "index          0\n",
      "description    0\n",
      "host_about     0\n",
      "unlisted       0\n",
      "dtype: int64\n"
     ]
    }
   ],
   "source": [
    "# Count the number of empty values in each column\n",
    "empty_counts = df_train_raw.isna().sum()\n",
    "print(empty_counts) "
   ]
  },
  {
   "cell_type": "code",
   "execution_count": 6,
   "metadata": {},
   "outputs": [
    {
     "data": {
      "text/plain": [
       "unlisted\n",
       "0    9033\n",
       "1    3463\n",
       "Name: count, dtype: int64"
      ]
     },
     "execution_count": 6,
     "metadata": {},
     "output_type": "execute_result"
    }
   ],
   "source": [
    "df_train_raw['unlisted'].value_counts()"
   ]
  },
  {
   "cell_type": "code",
   "execution_count": 7,
   "metadata": {},
   "outputs": [
    {
     "data": {
      "image/png": "[encoded data removed]",
      "text/plain": [
       "<Figure size 640x480 with 1 Axes>"
      ]
     },
     "metadata": {},
     "output_type": "display_data"
    }
   ],
   "source": [
    "#df_train['unlisted'].pie()  # Classes are imbalanced !!!\n",
    "# plot a pie chart for the 'count' column\n",
    "df_train_raw['unlisted'].value_counts().plot(kind='pie', \n",
    "                                             labels=df_train_raw['unlisted'].unique(), \n",
    "                                             autopct='%1.1f%%', \n",
    "                                             startangle=90)\n",
    "plt.axis('equal')\n",
    "plt.show()"
   ]
  },
  {
   "cell_type": "code",
   "execution_count": 8,
   "metadata": {},
   "outputs": [
    {
     "data": {
      "text/plain": [
       "count    12496.000000\n",
       "mean       814.679097\n",
       "std        282.124598\n",
       "min         12.000000\n",
       "25%        625.000000\n",
       "50%       1000.000000\n",
       "75%       1000.000000\n",
       "max       1000.000000\n",
       "Name: description, dtype: float64"
      ]
     },
     "execution_count": 8,
     "metadata": {},
     "output_type": "execute_result"
    }
   ],
   "source": [
    "df_train_raw['description'].str.len().describe()"
   ]
  },
  {
   "cell_type": "code",
   "execution_count": 9,
   "metadata": {},
   "outputs": [
    {
     "data": {
      "text/plain": [
       "count    12496.000000\n",
       "mean       439.562100\n",
       "std        486.270567\n",
       "min          1.000000\n",
       "25%        152.000000\n",
       "50%        325.000000\n",
       "75%        612.000000\n",
       "max       8683.000000\n",
       "Name: host_about, dtype: float64"
      ]
     },
     "execution_count": 9,
     "metadata": {},
     "output_type": "execute_result"
    }
   ],
   "source": [
    "df_train_raw['host_about'].str.len().describe()"
   ]
  },
  {
   "cell_type": "markdown",
   "metadata": {},
   "source": [
    "# Preprocesssing"
   ]
  },
  {
   "cell_type": "markdown",
   "metadata": {},
   "source": [
    "## Splitting data into Train and Validation"
   ]
  },
  {
   "cell_type": "code",
   "execution_count": 10,
   "metadata": {},
   "outputs": [
    {
     "data": {
      "text/html": [
       "<div>\n",
       "<style scoped>\n",
       "    .dataframe tbody tr th:only-of-type {\n",
       "        vertical-align: middle;\n",
       "    }\n",
       "\n",
       "    .dataframe tbody tr th {\n",
       "        vertical-align: top;\n",
       "    }\n",
       "\n",
       "    .dataframe thead th {\n",
       "        text-align: right;\n",
       "    }\n",
       "</style>\n",
       "<table border=\"1\" class=\"dataframe\">\n",
       "  <thead>\n",
       "    <tr style=\"text-align: right;\">\n",
       "      <th></th>\n",
       "      <th>index</th>\n",
       "      <th>description</th>\n",
       "      <th>host_about</th>\n",
       "      <th>unlisted</th>\n",
       "    </tr>\n",
       "  </thead>\n",
       "  <tbody>\n",
       "    <tr>\n",
       "      <th>0</th>\n",
       "      <td>1</td>\n",
       "      <td>This is a shared mixed room in our hostel, wit...</td>\n",
       "      <td>Alojamento Local Registro: 20835/AL</td>\n",
       "      <td>0</td>\n",
       "    </tr>\n",
       "    <tr>\n",
       "      <th>1</th>\n",
       "      <td>2</td>\n",
       "      <td>O meu espaço fica perto de Parque Eduardo VII,...</td>\n",
       "      <td>I am friendly host, and I will try to always b...</td>\n",
       "      <td>1</td>\n",
       "    </tr>\n",
       "    <tr>\n",
       "      <th>2</th>\n",
       "      <td>3</td>\n",
       "      <td>Trafaria’s House is a cozy and familiar villa ...</td>\n",
       "      <td>I am a social person liking to communicate, re...</td>\n",
       "      <td>1</td>\n",
       "    </tr>\n",
       "    <tr>\n",
       "      <th>3</th>\n",
       "      <td>4</td>\n",
       "      <td>Apartamento Charmoso no Chiado, Entre o Largo ...</td>\n",
       "      <td>Hello!_x000D_\\nI m Portuguese and i love to me...</td>\n",
       "      <td>0</td>\n",
       "    </tr>\n",
       "    <tr>\n",
       "      <th>4</th>\n",
       "      <td>5</td>\n",
       "      <td>Joli appartement  en bordure de mer.&lt;br /&gt; 2 m...</td>\n",
       "      <td>Nous sommes une famille avec deux enfants de 1...</td>\n",
       "      <td>0</td>\n",
       "    </tr>\n",
       "    <tr>\n",
       "      <th>...</th>\n",
       "      <td>...</td>\n",
       "      <td>...</td>\n",
       "      <td>...</td>\n",
       "      <td>...</td>\n",
       "    </tr>\n",
       "    <tr>\n",
       "      <th>12491</th>\n",
       "      <td>12492</td>\n",
       "      <td>CAT’S BY BAIRRO ALTO&lt;br /&gt;&lt;br /&gt;This cozy apar...</td>\n",
       "      <td>Travelling is one of my favorite hobbies. I've...</td>\n",
       "      <td>0</td>\n",
       "    </tr>\n",
       "    <tr>\n",
       "      <th>12492</th>\n",
       "      <td>12493</td>\n",
       "      <td>Beautifully located in the heart of Lisbon's h...</td>\n",
       "      <td>Founded by travel enthusiasts (just like you) ...</td>\n",
       "      <td>0</td>\n",
       "    </tr>\n",
       "    <tr>\n",
       "      <th>12493</th>\n",
       "      <td>12494</td>\n",
       "      <td>Enjoy breakfast in the sleek kitchen with its ...</td>\n",
       "      <td>I´m from Portugal and I love to dance and to t...</td>\n",
       "      <td>0</td>\n",
       "    </tr>\n",
       "    <tr>\n",
       "      <th>12494</th>\n",
       "      <td>12495</td>\n",
       "      <td>A Terra da Eira é uma casa de campo rodeada de...</td>\n",
       "      <td>Somos uma familia de 5. Gostamos de viajar e d...</td>\n",
       "      <td>1</td>\n",
       "    </tr>\n",
       "    <tr>\n",
       "      <th>12495</th>\n",
       "      <td>12496</td>\n",
       "      <td>This brandnew Apartment combines elegant charm...</td>\n",
       "      <td>We are a German-Portuguese couple with a Passi...</td>\n",
       "      <td>1</td>\n",
       "    </tr>\n",
       "  </tbody>\n",
       "</table>\n",
       "<p>12496 rows × 4 columns</p>\n",
       "</div>"
      ],
      "text/plain": [
       "       index                                        description   \n",
       "0          1  This is a shared mixed room in our hostel, wit...  \\\n",
       "1          2  O meu espaço fica perto de Parque Eduardo VII,...   \n",
       "2          3  Trafaria’s House is a cozy and familiar villa ...   \n",
       "3          4  Apartamento Charmoso no Chiado, Entre o Largo ...   \n",
       "4          5  Joli appartement  en bordure de mer.<br /> 2 m...   \n",
       "...      ...                                                ...   \n",
       "12491  12492  CAT’S BY BAIRRO ALTO<br /><br />This cozy apar...   \n",
       "12492  12493  Beautifully located in the heart of Lisbon's h...   \n",
       "12493  12494  Enjoy breakfast in the sleek kitchen with its ...   \n",
       "12494  12495  A Terra da Eira é uma casa de campo rodeada de...   \n",
       "12495  12496  This brandnew Apartment combines elegant charm...   \n",
       "\n",
       "                                              host_about  unlisted  \n",
       "0                    Alojamento Local Registro: 20835/AL         0  \n",
       "1      I am friendly host, and I will try to always b...         1  \n",
       "2      I am a social person liking to communicate, re...         1  \n",
       "3      Hello!_x000D_\\nI m Portuguese and i love to me...         0  \n",
       "4      Nous sommes une famille avec deux enfants de 1...         0  \n",
       "...                                                  ...       ...  \n",
       "12491  Travelling is one of my favorite hobbies. I've...         0  \n",
       "12492  Founded by travel enthusiasts (just like you) ...         0  \n",
       "12493  I´m from Portugal and I love to dance and to t...         0  \n",
       "12494  Somos uma familia de 5. Gostamos de viajar e d...         1  \n",
       "12495  We are a German-Portuguese couple with a Passi...         1  \n",
       "\n",
       "[12496 rows x 4 columns]"
      ]
     },
     "execution_count": 10,
     "metadata": {},
     "output_type": "execute_result"
    }
   ],
   "source": [
    "df_train_raw"
   ]
  },
  {
   "cell_type": "code",
   "execution_count": 11,
   "metadata": {},
   "outputs": [
    {
     "name": "stdout",
     "output_type": "stream",
     "text": [
      "Shapes of train_df (9996, 4)\n",
      "Shapes of val_df (2500, 4)\n"
     ]
    }
   ],
   "source": [
    "# Split the original train dataframe into training and validation sets\n",
    "train_df, val_df = train_test_split(df_train_raw, test_size=0.2, random_state=42, \n",
    "                                    stratify=df_train_raw['unlisted']) # using stratify, to keep classes proportion\n",
    "\n",
    "print('Shapes of train_df', train_df.shape)\n",
    "print('Shapes of val_df', val_df.shape)"
   ]
  },
  {
   "cell_type": "markdown",
   "metadata": {},
   "source": [
    "## Word Count"
   ]
  },
  {
   "cell_type": "code",
   "execution_count": 12,
   "metadata": {},
   "outputs": [
    {
     "data": {
      "text/html": [
       "<div>\n",
       "<style scoped>\n",
       "    .dataframe tbody tr th:only-of-type {\n",
       "        vertical-align: middle;\n",
       "    }\n",
       "\n",
       "    .dataframe tbody tr th {\n",
       "        vertical-align: top;\n",
       "    }\n",
       "\n",
       "    .dataframe thead th {\n",
       "        text-align: right;\n",
       "    }\n",
       "</style>\n",
       "<table border=\"1\" class=\"dataframe\">\n",
       "  <thead>\n",
       "    <tr style=\"text-align: right;\">\n",
       "      <th></th>\n",
       "      <th>index</th>\n",
       "      <th>description</th>\n",
       "      <th>host_about</th>\n",
       "      <th>unlisted</th>\n",
       "    </tr>\n",
       "  </thead>\n",
       "  <tbody>\n",
       "    <tr>\n",
       "      <th>7712</th>\n",
       "      <td>7713</td>\n",
       "      <td>This exclusive villa, located in a quiet pinew...</td>\n",
       "      <td>We are a couple with a big family and we love ...</td>\n",
       "      <td>0</td>\n",
       "    </tr>\n",
       "    <tr>\n",
       "      <th>11333</th>\n",
       "      <td>11334</td>\n",
       "      <td>Luna House B&amp;B is part of the Luna House Hub, ...</td>\n",
       "      <td>Luna House B&amp;B is part of the Luna House Hub, ...</td>\n",
       "      <td>1</td>\n",
       "    </tr>\n",
       "    <tr>\n",
       "      <th>3536</th>\n",
       "      <td>3537</td>\n",
       "      <td>Newly refurbished apartment with swimming pool...</td>\n",
       "      <td>World citizen looking forward to meet new peop...</td>\n",
       "      <td>0</td>\n",
       "    </tr>\n",
       "    <tr>\n",
       "      <th>4061</th>\n",
       "      <td>4062</td>\n",
       "      <td>Nice studio for two people with one bathroom a...</td>\n",
       "      <td>Hello, I’m Antonio and I want to welcome you i...</td>\n",
       "      <td>0</td>\n",
       "    </tr>\n",
       "    <tr>\n",
       "      <th>2742</th>\n",
       "      <td>2743</td>\n",
       "      <td>WHETHER FOR A SHORTER OR LONGER STAYS, I WANT ...</td>\n",
       "      <td>My name is Alexandre, I live in Lisbon and I l...</td>\n",
       "      <td>0</td>\n",
       "    </tr>\n",
       "  </tbody>\n",
       "</table>\n",
       "</div>"
      ],
      "text/plain": [
       "       index                                        description   \n",
       "7712    7713  This exclusive villa, located in a quiet pinew...  \\\n",
       "11333  11334  Luna House B&B is part of the Luna House Hub, ...   \n",
       "3536    3537  Newly refurbished apartment with swimming pool...   \n",
       "4061    4062  Nice studio for two people with one bathroom a...   \n",
       "2742    2743  WHETHER FOR A SHORTER OR LONGER STAYS, I WANT ...   \n",
       "\n",
       "                                              host_about  unlisted  \n",
       "7712   We are a couple with a big family and we love ...         0  \n",
       "11333  Luna House B&B is part of the Luna House Hub, ...         1  \n",
       "3536   World citizen looking forward to meet new peop...         0  \n",
       "4061   Hello, I’m Antonio and I want to welcome you i...         0  \n",
       "2742   My name is Alexandre, I live in Lisbon and I l...         0  "
      ]
     },
     "execution_count": 12,
     "metadata": {},
     "output_type": "execute_result"
    }
   ],
   "source": [
    "train_df.head()"
   ]
  },
  {
   "cell_type": "code",
   "execution_count": 13,
   "metadata": {},
   "outputs": [
    {
     "data": {
      "text/html": [
       "<div>\n",
       "<style scoped>\n",
       "    .dataframe tbody tr th:only-of-type {\n",
       "        vertical-align: middle;\n",
       "    }\n",
       "\n",
       "    .dataframe tbody tr th {\n",
       "        vertical-align: top;\n",
       "    }\n",
       "\n",
       "    .dataframe thead th {\n",
       "        text-align: right;\n",
       "    }\n",
       "</style>\n",
       "<table border=\"1\" class=\"dataframe\">\n",
       "  <thead>\n",
       "    <tr style=\"text-align: right;\">\n",
       "      <th></th>\n",
       "      <th>index</th>\n",
       "      <th>description</th>\n",
       "      <th>host_about</th>\n",
       "      <th>unlisted</th>\n",
       "      <th>word_count</th>\n",
       "    </tr>\n",
       "  </thead>\n",
       "  <tbody>\n",
       "    <tr>\n",
       "      <th>7712</th>\n",
       "      <td>7713</td>\n",
       "      <td>This exclusive villa, located in a quiet pinew...</td>\n",
       "      <td>We are a couple with a big family and we love ...</td>\n",
       "      <td>0</td>\n",
       "      <td>167</td>\n",
       "    </tr>\n",
       "    <tr>\n",
       "      <th>11333</th>\n",
       "      <td>11334</td>\n",
       "      <td>Luna House B&amp;B is part of the Luna House Hub, ...</td>\n",
       "      <td>Luna House B&amp;B is part of the Luna House Hub, ...</td>\n",
       "      <td>1</td>\n",
       "      <td>167</td>\n",
       "    </tr>\n",
       "    <tr>\n",
       "      <th>3536</th>\n",
       "      <td>3537</td>\n",
       "      <td>Newly refurbished apartment with swimming pool...</td>\n",
       "      <td>World citizen looking forward to meet new peop...</td>\n",
       "      <td>0</td>\n",
       "      <td>175</td>\n",
       "    </tr>\n",
       "    <tr>\n",
       "      <th>4061</th>\n",
       "      <td>4062</td>\n",
       "      <td>Nice studio for two people with one bathroom a...</td>\n",
       "      <td>Hello, I’m Antonio and I want to welcome you i...</td>\n",
       "      <td>0</td>\n",
       "      <td>164</td>\n",
       "    </tr>\n",
       "    <tr>\n",
       "      <th>2742</th>\n",
       "      <td>2743</td>\n",
       "      <td>WHETHER FOR A SHORTER OR LONGER STAYS, I WANT ...</td>\n",
       "      <td>My name is Alexandre, I live in Lisbon and I l...</td>\n",
       "      <td>0</td>\n",
       "      <td>170</td>\n",
       "    </tr>\n",
       "  </tbody>\n",
       "</table>\n",
       "</div>"
      ],
      "text/plain": [
       "       index                                        description   \n",
       "7712    7713  This exclusive villa, located in a quiet pinew...  \\\n",
       "11333  11334  Luna House B&B is part of the Luna House Hub, ...   \n",
       "3536    3537  Newly refurbished apartment with swimming pool...   \n",
       "4061    4062  Nice studio for two people with one bathroom a...   \n",
       "2742    2743  WHETHER FOR A SHORTER OR LONGER STAYS, I WANT ...   \n",
       "\n",
       "                                              host_about  unlisted  word_count  \n",
       "7712   We are a couple with a big family and we love ...         0         167  \n",
       "11333  Luna House B&B is part of the Luna House Hub, ...         1         167  \n",
       "3536   World citizen looking forward to meet new peop...         0         175  \n",
       "4061   Hello, I’m Antonio and I want to welcome you i...         0         164  \n",
       "2742   My name is Alexandre, I live in Lisbon and I l...         0         170  "
      ]
     },
     "execution_count": 13,
     "metadata": {},
     "output_type": "execute_result"
    }
   ],
   "source": [
    "# Fetch wordcount for each abstract\n",
    "train_df['word_count']  = train_df['description'].apply(lambda x: len(str(x).split(\" \")))\n",
    "#train_df[['description','word_count']].head()\n",
    "train_df.head()"
   ]
  },
  {
   "cell_type": "markdown",
   "metadata": {},
   "source": [
    "### Descriptive Statistics of word count"
   ]
  },
  {
   "cell_type": "code",
   "execution_count": 14,
   "metadata": {},
   "outputs": [
    {
     "data": {
      "text/plain": [
       "count    9996.000000\n",
       "mean      132.795018\n",
       "std        48.323208\n",
       "min         3.000000\n",
       "25%        99.000000\n",
       "50%       157.000000\n",
       "75%       167.000000\n",
       "max       210.000000\n",
       "Name: word_count, dtype: float64"
      ]
     },
     "execution_count": 14,
     "metadata": {},
     "output_type": "execute_result"
    }
   ],
   "source": [
    "train_df.word_count.describe()"
   ]
  },
  {
   "cell_type": "code",
   "execution_count": 15,
   "metadata": {},
   "outputs": [
    {
     "data": {
      "text/plain": [
       "<Axes: >"
      ]
     },
     "execution_count": 15,
     "metadata": {},
     "output_type": "execute_result"
    },
    {
     "data": {
      "image/png": "[encoded data removed]",
      "text/plain": [
       "<Figure size 640x480 with 1 Axes>"
      ]
     },
     "metadata": {},
     "output_type": "display_data"
    }
   ],
   "source": [
    "train_df['word_count'].hist()"
   ]
  },
  {
   "cell_type": "code",
   "execution_count": 16,
   "metadata": {},
   "outputs": [
    {
     "data": {
      "text/plain": [
       "the      50115\n",
       "and      43918\n",
       "a        40453\n",
       "/><br    27999\n",
       "to       24560\n",
       "of       24049\n",
       "in       22402\n",
       "with     21558\n",
       "is       19192\n",
       "de       11009\n",
       "Name: count, dtype: int64"
      ]
     },
     "execution_count": 16,
     "metadata": {},
     "output_type": "execute_result"
    }
   ],
   "source": [
    "all_words = ' '.join(train_df['description']).split()\n",
    "freq = pd.Series(all_words).value_counts()\n",
    "freq.sort_values(ascending=False)[0:10]"
   ]
  },
  {
   "cell_type": "code",
   "execution_count": 17,
   "metadata": {},
   "outputs": [
    {
     "data": {
      "text/plain": [
       "Index(['the', 'and', 'a', '/><br', 'to', 'of', 'in', 'with', 'is', 'de'], dtype='object')"
      ]
     },
     "execution_count": 17,
     "metadata": {},
     "output_type": "execute_result"
    }
   ],
   "source": [
    "freq.index[0:10]"
   ]
  },
  {
   "cell_type": "code",
   "execution_count": 18,
   "metadata": {},
   "outputs": [
    {
     "data": {
      "image/png": "[encoded data removed]",
      "text/plain": [
       "<Figure size 640x480 with 1 Axes>"
      ]
     },
     "metadata": {},
     "output_type": "display_data"
    }
   ],
   "source": [
    "x_labels = freq.index[0:10]\n",
    "values = freq[:10]\n",
    "plt.bar(x_labels, values, align='center', alpha=0.5)\n",
    "#plt.xticks(values, x_labels)\n",
    "plt.ylabel('Frequencies')\n",
    "plt.title('Words')\n",
    "plt.xticks(rotation=90)\n",
    "plt.show()"
   ]
  },
  {
   "cell_type": "markdown",
   "metadata": {},
   "source": [
    "## Preprocessing: cleaning, stemming, lemmatization"
   ]
  },
  {
   "cell_type": "code",
   "execution_count": 19,
   "metadata": {},
   "outputs": [],
   "source": [
    "stop = set(stopwords.words('english'))\n",
    "stemmer = SnowballStemmer('english')\n",
    "lemma = WordNetLemmatizer()"
   ]
  },
  {
   "cell_type": "code",
   "execution_count": 20,
   "metadata": {},
   "outputs": [],
   "source": [
    "def clean(text_list, lemmatize, stemmer):   \n",
    "    cleaned_text_list = []  \n",
    "    for j in tqdm(text_list): \n",
    "        text = j\n",
    "        \n",
    "        #LOWERCASE TEXT\n",
    "        text = text.lower()\n",
    "        \n",
    "        #REMOVE NUMERICAL DATA and PUNCTUATION\n",
    "        text = re.sub(\"[^a-zA-Z]\",\" \", text )\n",
    "        text = re.sub(\"br\", \"\", text)\n",
    "        \n",
    "        #REMOVE STOPWORDS\n",
    "        text = \" \".join([word for word in text.split() if word not in stop])\n",
    "        \n",
    "        #Lemmatize\n",
    "        if lemmatize:\n",
    "            text = \" \".join(lemma.lemmatize(word) for word in text.split())\n",
    "        \n",
    "        #Stemming\n",
    "        if stemmer:\n",
    "            text = \" \".join(stemmer.stem(word) for word in text.split())\n",
    "            \n",
    "        cleaned_text_list.append(text)        \n",
    "    return cleaned_text_list"
   ]
  },
  {
   "cell_type": "code",
   "execution_count": 21,
   "metadata": {},
   "outputs": [
    {
     "name": "stderr",
     "output_type": "stream",
     "text": [
      "100%|█████████████████████████████████████████████████████████████████| 9996/9996 [00:02<00:00, 4510.45it/s]\n"
     ]
    }
   ],
   "source": [
    "cleaned_text_list = clean(train_df['description'], lemmatize = True, stemmer = False)"
   ]
  },
  {
   "cell_type": "code",
   "execution_count": 22,
   "metadata": {},
   "outputs": [
    {
     "data": {
      "text/html": [
       "<div>\n",
       "<style scoped>\n",
       "    .dataframe tbody tr th:only-of-type {\n",
       "        vertical-align: middle;\n",
       "    }\n",
       "\n",
       "    .dataframe tbody tr th {\n",
       "        vertical-align: top;\n",
       "    }\n",
       "\n",
       "    .dataframe thead th {\n",
       "        text-align: right;\n",
       "    }\n",
       "</style>\n",
       "<table border=\"1\" class=\"dataframe\">\n",
       "  <thead>\n",
       "    <tr style=\"text-align: right;\">\n",
       "      <th></th>\n",
       "      <th>index</th>\n",
       "      <th>description</th>\n",
       "      <th>host_about</th>\n",
       "      <th>unlisted</th>\n",
       "      <th>word_count</th>\n",
       "      <th>cleaned_text_list</th>\n",
       "    </tr>\n",
       "  </thead>\n",
       "  <tbody>\n",
       "    <tr>\n",
       "      <th>7712</th>\n",
       "      <td>7713</td>\n",
       "      <td>This exclusive villa, located in a quiet pinew...</td>\n",
       "      <td>We are a couple with a big family and we love ...</td>\n",
       "      <td>0</td>\n",
       "      <td>167</td>\n",
       "      <td>exclusive villa located quiet pinewood area co...</td>\n",
       "    </tr>\n",
       "    <tr>\n",
       "      <th>11333</th>\n",
       "      <td>11334</td>\n",
       "      <td>Luna House B&amp;B is part of the Luna House Hub, ...</td>\n",
       "      <td>Luna House B&amp;B is part of the Luna House Hub, ...</td>\n",
       "      <td>1</td>\n",
       "      <td>167</td>\n",
       "      <td>luna house b b part luna house hub located clo...</td>\n",
       "    </tr>\n",
       "    <tr>\n",
       "      <th>3536</th>\n",
       "      <td>3537</td>\n",
       "      <td>Newly refurbished apartment with swimming pool...</td>\n",
       "      <td>World citizen looking forward to meet new peop...</td>\n",
       "      <td>0</td>\n",
       "      <td>175</td>\n",
       "      <td>newly refurbished apartment swimming pool stun...</td>\n",
       "    </tr>\n",
       "    <tr>\n",
       "      <th>4061</th>\n",
       "      <td>4062</td>\n",
       "      <td>Nice studio for two people with one bathroom a...</td>\n",
       "      <td>Hello, I’m Antonio and I want to welcome you i...</td>\n",
       "      <td>0</td>\n",
       "      <td>164</td>\n",
       "      <td>nice studio two people one bathroom compact ki...</td>\n",
       "    </tr>\n",
       "    <tr>\n",
       "      <th>2742</th>\n",
       "      <td>2743</td>\n",
       "      <td>WHETHER FOR A SHORTER OR LONGER STAYS, I WANT ...</td>\n",
       "      <td>My name is Alexandre, I live in Lisbon and I l...</td>\n",
       "      <td>0</td>\n",
       "      <td>170</td>\n",
       "      <td>whether shorter longer stay want offer solutio...</td>\n",
       "    </tr>\n",
       "    <tr>\n",
       "      <th>...</th>\n",
       "      <td>...</td>\n",
       "      <td>...</td>\n",
       "      <td>...</td>\n",
       "      <td>...</td>\n",
       "      <td>...</td>\n",
       "      <td>...</td>\n",
       "    </tr>\n",
       "    <tr>\n",
       "      <th>8455</th>\n",
       "      <td>8456</td>\n",
       "      <td>This small but cozy historic apartment complet...</td>\n",
       "      <td>We are a couple, born in Lisbon and we love li...</td>\n",
       "      <td>0</td>\n",
       "      <td>173</td>\n",
       "      <td>small cozy historic apartment completely renov...</td>\n",
       "    </tr>\n",
       "    <tr>\n",
       "      <th>1691</th>\n",
       "      <td>1692</td>\n",
       "      <td>Fantastic double room in a quiet apartment in ...</td>\n",
       "      <td>_x000D_\\nI´m a young enthusiastic music lover ...</td>\n",
       "      <td>0</td>\n",
       "      <td>131</td>\n",
       "      <td>fantastic double room quiet apartment lapa hou...</td>\n",
       "    </tr>\n",
       "    <tr>\n",
       "      <th>8385</th>\n",
       "      <td>8386</td>\n",
       "      <td>3 Bedrooms, 1 living and dining room, kitchen ...</td>\n",
       "      <td>Once upon a time there was just one house who ...</td>\n",
       "      <td>0</td>\n",
       "      <td>145</td>\n",
       "      <td>bedroom living dining room kitchen bathroom ca...</td>\n",
       "    </tr>\n",
       "    <tr>\n",
       "      <th>1500</th>\n",
       "      <td>1501</td>\n",
       "      <td>Situated on a prime location of Lisbon with hi...</td>\n",
       "      <td>Usually I say I’m “Alfacinha” (slang for Lisbo...</td>\n",
       "      <td>0</td>\n",
       "      <td>165</td>\n",
       "      <td>situated prime location lisbon historic buildi...</td>\n",
       "    </tr>\n",
       "    <tr>\n",
       "      <th>1736</th>\n",
       "      <td>1737</td>\n",
       "      <td>A garden and a terrace are available on-site a...</td>\n",
       "      <td>我是一名来自中国的朋友，广交世界好友，请大家多多指教,希望能给大家带来舒适,温暖,干净,整洁...</td>\n",
       "      <td>0</td>\n",
       "      <td>130</td>\n",
       "      <td>garden terrace available site heart ocean dulp...</td>\n",
       "    </tr>\n",
       "  </tbody>\n",
       "</table>\n",
       "<p>9996 rows × 6 columns</p>\n",
       "</div>"
      ],
      "text/plain": [
       "       index                                        description   \n",
       "7712    7713  This exclusive villa, located in a quiet pinew...  \\\n",
       "11333  11334  Luna House B&B is part of the Luna House Hub, ...   \n",
       "3536    3537  Newly refurbished apartment with swimming pool...   \n",
       "4061    4062  Nice studio for two people with one bathroom a...   \n",
       "2742    2743  WHETHER FOR A SHORTER OR LONGER STAYS, I WANT ...   \n",
       "...      ...                                                ...   \n",
       "8455    8456  This small but cozy historic apartment complet...   \n",
       "1691    1692  Fantastic double room in a quiet apartment in ...   \n",
       "8385    8386  3 Bedrooms, 1 living and dining room, kitchen ...   \n",
       "1500    1501  Situated on a prime location of Lisbon with hi...   \n",
       "1736    1737  A garden and a terrace are available on-site a...   \n",
       "\n",
       "                                              host_about  unlisted   \n",
       "7712   We are a couple with a big family and we love ...         0  \\\n",
       "11333  Luna House B&B is part of the Luna House Hub, ...         1   \n",
       "3536   World citizen looking forward to meet new peop...         0   \n",
       "4061   Hello, I’m Antonio and I want to welcome you i...         0   \n",
       "2742   My name is Alexandre, I live in Lisbon and I l...         0   \n",
       "...                                                  ...       ...   \n",
       "8455   We are a couple, born in Lisbon and we love li...         0   \n",
       "1691   _x000D_\\nI´m a young enthusiastic music lover ...         0   \n",
       "8385   Once upon a time there was just one house who ...         0   \n",
       "1500   Usually I say I’m “Alfacinha” (slang for Lisbo...         0   \n",
       "1736   我是一名来自中国的朋友，广交世界好友，请大家多多指教,希望能给大家带来舒适,温暖,干净,整洁...         0   \n",
       "\n",
       "       word_count                                  cleaned_text_list  \n",
       "7712          167  exclusive villa located quiet pinewood area co...  \n",
       "11333         167  luna house b b part luna house hub located clo...  \n",
       "3536          175  newly refurbished apartment swimming pool stun...  \n",
       "4061          164  nice studio two people one bathroom compact ki...  \n",
       "2742          170  whether shorter longer stay want offer solutio...  \n",
       "...           ...                                                ...  \n",
       "8455          173  small cozy historic apartment completely renov...  \n",
       "1691          131  fantastic double room quiet apartment lapa hou...  \n",
       "8385          145  bedroom living dining room kitchen bathroom ca...  \n",
       "1500          165  situated prime location lisbon historic buildi...  \n",
       "1736          130  garden terrace available site heart ocean dulp...  \n",
       "\n",
       "[9996 rows x 6 columns]"
      ]
     },
     "execution_count": 22,
     "metadata": {},
     "output_type": "execute_result"
    }
   ],
   "source": [
    "train_df['cleaned_text_list'] = cleaned_text_list\n",
    "train_df"
   ]
  },
  {
   "cell_type": "code",
   "execution_count": 23,
   "metadata": {},
   "outputs": [],
   "source": [
    "#def update_df(dataframe, list_updated):\n",
    "#    dataframe.update(pd.DataFrame({\"description\": list_updated}))\n",
    "    \n",
    "#x_train = x_train.drop(['word_count'], axis=1)\n",
    "#update_df(x_train, updates)\n",
    "#x_train"
   ]
  },
  {
   "cell_type": "markdown",
   "metadata": {
    "tags": []
   },
   "source": [
    "# Defining training features"
   ]
  },
  {
   "cell_type": "markdown",
   "metadata": {},
   "source": [
    "## Bag of Words (Bow)\n",
    "Each word is a feature. Our feature space is defined by our vocabulary. Documents/pieces of text will be represented as sparse vectors."
   ]
  },
  {
   "cell_type": "code",
   "execution_count": 24,
   "metadata": {},
   "outputs": [
    {
     "data": {
      "text/plain": [
       "<9996x20776 sparse matrix of type '<class 'numpy.int64'>'\n",
       "\twith 620776 stored elements in Compressed Sparse Row format>"
      ]
     },
     "execution_count": 24,
     "metadata": {},
     "output_type": "execute_result"
    }
   ],
   "source": [
    "bow = CountVectorizer(binary=True)\n",
    "x_train = bow.fit_transform(train_df[\"cleaned_text_list\"])\n",
    "x_train"
   ]
  },
  {
   "cell_type": "code",
   "execution_count": 25,
   "metadata": {},
   "outputs": [
    {
     "name": "stdout",
     "output_type": "stream",
     "text": [
      "[[0 0 0 ... 0 0 0]\n",
      " [0 0 0 ... 0 0 0]\n",
      " [0 0 0 ... 0 0 0]\n",
      " [0 0 0 ... 0 0 0]\n",
      " [0 0 0 ... 0 0 0]]\n"
     ]
    }
   ],
   "source": [
    "# To see the content of the built x_train matrix\n",
    "print(x_train.toarray()[:5])"
   ]
  },
  {
   "cell_type": "code",
   "execution_count": 26,
   "metadata": {},
   "outputs": [
    {
     "name": "stdout",
     "output_type": "stream",
     "text": [
      "['aa' 'aace' 'aangente' 'aanwezig' 'ab' 'aba' 'abaixo' 'abajo' 'abandoned'\n",
      " 'abarracadas' 'abbaubarere' 'abelhas' 'abelheira' 'aben' 'abend' 'abends'\n",
      " 'abenteurer' 'aber' 'aberta' 'abertas' 'aberto' 'abertos' 'abertura'\n",
      " 'abgehend' 'abgeht' 'abgeschliffene' 'abgeschlossene' 'abgeschlossenem'\n",
      " 'abh' 'abholung' 'abide' 'abiente' 'ability' 'abklappern' 'able' 'ables'\n",
      " 'ably' 'abnb' 'aboard' 'abode' 'abondance' 'abonnement' 'abordagem'\n",
      " 'abou' 'abound' 'abschalten' 'abseits' 'absence' 'absense' 'absolu']\n"
     ]
    }
   ],
   "source": [
    "feature_names = bow.get_feature_names_out()\n",
    "print(feature_names[:50])"
   ]
  },
  {
   "cell_type": "code",
   "execution_count": 27,
   "metadata": {},
   "outputs": [],
   "source": [
    "y_train = train_df['unlisted']"
   ]
  },
  {
   "cell_type": "markdown",
   "metadata": {},
   "source": [
    "# Train Classifier"
   ]
  },
  {
   "cell_type": "code",
   "execution_count": 28,
   "metadata": {},
   "outputs": [],
   "source": [
    "modelknn = KNeighborsClassifier(n_neighbors = 7, \n",
    "                                metric = 'cosine', \n",
    "                                weights = 'distance')"
   ]
  },
  {
   "cell_type": "code",
   "execution_count": 29,
   "metadata": {},
   "outputs": [
    {
     "data": {
      "text/html": [
       "<style>#sk-container-id-1 {color: black;background-color: white;}#sk-container-id-1 pre{padding: 0;}#sk-container-id-1 div.sk-toggleable {background-color: white;}#sk-container-id-1 label.sk-toggleable__label {cursor: pointer;display: block;width: 100%;margin-bottom: 0;padding: 0.3em;box-sizing: border-box;text-align: center;}#sk-container-id-1 label.sk-toggleable__label-arrow:before {content: \"▸\";float: left;margin-right: 0.25em;color: #696969;}#sk-container-id-1 label.sk-toggleable__label-arrow:hover:before {color: black;}#sk-container-id-1 div.sk-estimator:hover label.sk-toggleable__label-arrow:before {color: black;}#sk-container-id-1 div.sk-toggleable__content {max-height: 0;max-width: 0;overflow: hidden;text-align: left;background-color: #f0f8ff;}#sk-container-id-1 div.sk-toggleable__content pre {margin: 0.2em;color: black;border-radius: 0.25em;background-color: #f0f8ff;}#sk-container-id-1 input.sk-toggleable__control:checked~div.sk-toggleable__content {max-height: 200px;max-width: 100%;overflow: auto;}#sk-container-id-1 input.sk-toggleable__control:checked~label.sk-toggleable__label-arrow:before {content: \"▾\";}#sk-container-id-1 div.sk-estimator input.sk-toggleable__control:checked~label.sk-toggleable__label {background-color: #d4ebff;}#sk-container-id-1 div.sk-label input.sk-toggleable__control:checked~label.sk-toggleable__label {background-color: #d4ebff;}#sk-container-id-1 input.sk-hidden--visually {border: 0;clip: rect(1px 1px 1px 1px);clip: rect(1px, 1px, 1px, 1px);height: 1px;margin: -1px;overflow: hidden;padding: 0;position: absolute;width: 1px;}#sk-container-id-1 div.sk-estimator {font-family: monospace;background-color: #f0f8ff;border: 1px dotted black;border-radius: 0.25em;box-sizing: border-box;margin-bottom: 0.5em;}#sk-container-id-1 div.sk-estimator:hover {background-color: #d4ebff;}#sk-container-id-1 div.sk-parallel-item::after {content: \"\";width: 100%;border-bottom: 1px solid gray;flex-grow: 1;}#sk-container-id-1 div.sk-label:hover label.sk-toggleable__label {background-color: #d4ebff;}#sk-container-id-1 div.sk-serial::before {content: \"\";position: absolute;border-left: 1px solid gray;box-sizing: border-box;top: 0;bottom: 0;left: 50%;z-index: 0;}#sk-container-id-1 div.sk-serial {display: flex;flex-direction: column;align-items: center;background-color: white;padding-right: 0.2em;padding-left: 0.2em;position: relative;}#sk-container-id-1 div.sk-item {position: relative;z-index: 1;}#sk-container-id-1 div.sk-parallel {display: flex;align-items: stretch;justify-content: center;background-color: white;position: relative;}#sk-container-id-1 div.sk-item::before, #sk-container-id-1 div.sk-parallel-item::before {content: \"\";position: absolute;border-left: 1px solid gray;box-sizing: border-box;top: 0;bottom: 0;left: 50%;z-index: -1;}#sk-container-id-1 div.sk-parallel-item {display: flex;flex-direction: column;z-index: 1;position: relative;background-color: white;}#sk-container-id-1 div.sk-parallel-item:first-child::after {align-self: flex-end;width: 50%;}#sk-container-id-1 div.sk-parallel-item:last-child::after {align-self: flex-start;width: 50%;}#sk-container-id-1 div.sk-parallel-item:only-child::after {width: 0;}#sk-container-id-1 div.sk-dashed-wrapped {border: 1px dashed gray;margin: 0 0.4em 0.5em 0.4em;box-sizing: border-box;padding-bottom: 0.4em;background-color: white;}#sk-container-id-1 div.sk-label label {font-family: monospace;font-weight: bold;display: inline-block;line-height: 1.2em;}#sk-container-id-1 div.sk-label-container {text-align: center;}#sk-container-id-1 div.sk-container {/* jupyter's `normalize.less` sets `[hidden] { display: none; }` but bootstrap.min.css set `[hidden] { display: none !important; }` so we also need the `!important` here to be able to override the default hidden behavior on the sphinx rendered scikit-learn.org. See: https://github.com/scikit-learn/scikit-learn/issues/21755 */display: inline-block !important;position: relative;}#sk-container-id-1 div.sk-text-repr-fallback {display: none;}</style><div id=\"sk-container-id-1\" class=\"sk-top-container\"><div class=\"sk-text-repr-fallback\"><pre>KNeighborsClassifier(metric=&#x27;cosine&#x27;, n_neighbors=7, weights=&#x27;distance&#x27;)</pre><b>In a Jupyter environment, please rerun this cell to show the HTML representation or trust the notebook. <br />On GitHub, the HTML representation is unable to render, please try loading this page with nbviewer.org.</b></div><div class=\"sk-container\" hidden><div class=\"sk-item\"><div class=\"sk-estimator sk-toggleable\"><input class=\"sk-toggleable__control sk-hidden--visually\" id=\"sk-estimator-id-1\" type=\"checkbox\" checked><label for=\"sk-estimator-id-1\" class=\"sk-toggleable__label sk-toggleable__label-arrow\">KNeighborsClassifier</label><div class=\"sk-toggleable__content\"><pre>KNeighborsClassifier(metric=&#x27;cosine&#x27;, n_neighbors=7, weights=&#x27;distance&#x27;)</pre></div></div></div></div></div>"
      ],
      "text/plain": [
       "KNeighborsClassifier(metric='cosine', n_neighbors=7, weights='distance')"
      ]
     },
     "execution_count": 29,
     "metadata": {},
     "output_type": "execute_result"
    }
   ],
   "source": [
    "modelknn.fit(x_train, y_train)"
   ]
  },
  {
   "cell_type": "markdown",
   "metadata": {},
   "source": [
    "# Predict for Val corpus"
   ]
  },
  {
   "cell_type": "code",
   "execution_count": 30,
   "metadata": {},
   "outputs": [],
   "source": [
    "#update_df(x_val, clean(x_val['description'], lemmatize = True, stemmer = False))"
   ]
  },
  {
   "cell_type": "code",
   "execution_count": 31,
   "metadata": {},
   "outputs": [
    {
     "data": {
      "text/html": [
       "<div>\n",
       "<style scoped>\n",
       "    .dataframe tbody tr th:only-of-type {\n",
       "        vertical-align: middle;\n",
       "    }\n",
       "\n",
       "    .dataframe tbody tr th {\n",
       "        vertical-align: top;\n",
       "    }\n",
       "\n",
       "    .dataframe thead th {\n",
       "        text-align: right;\n",
       "    }\n",
       "</style>\n",
       "<table border=\"1\" class=\"dataframe\">\n",
       "  <thead>\n",
       "    <tr style=\"text-align: right;\">\n",
       "      <th></th>\n",
       "      <th>index</th>\n",
       "      <th>description</th>\n",
       "      <th>host_about</th>\n",
       "      <th>unlisted</th>\n",
       "    </tr>\n",
       "  </thead>\n",
       "  <tbody>\n",
       "    <tr>\n",
       "      <th>4768</th>\n",
       "      <td>4769</td>\n",
       "      <td>This charming apartment on the first floor of ...</td>\n",
       "      <td>Easygoing person, always ready to present the ...</td>\n",
       "      <td>0</td>\n",
       "    </tr>\n",
       "    <tr>\n",
       "      <th>4384</th>\n",
       "      <td>4385</td>\n",
       "      <td>Charming villa with a private pool and tennis ...</td>\n",
       "      <td>Allure Villas is your go-to spot for renting V...</td>\n",
       "      <td>1</td>\n",
       "    </tr>\n",
       "    <tr>\n",
       "      <th>11857</th>\n",
       "      <td>11858</td>\n",
       "      <td>One bedroom apartment inside a modern developm...</td>\n",
       "      <td>Hey, this is Goncalo and Miku, your hosts in L...</td>\n",
       "      <td>0</td>\n",
       "    </tr>\n",
       "    <tr>\n",
       "      <th>1281</th>\n",
       "      <td>1282</td>\n",
       "      <td>Apartment in the heart of the city, between Pr...</td>\n",
       "      <td>Hi!\\n\\nI'm Laura, I'm 32yo, and I live with my...</td>\n",
       "      <td>0</td>\n",
       "    </tr>\n",
       "    <tr>\n",
       "      <th>2133</th>\n",
       "      <td>2134</td>\n",
       "      <td>Amazing flat with two bedrooms in Restauradore...</td>\n",
       "      <td>We are Feels Like Home Holiday Rentals.\\nA com...</td>\n",
       "      <td>0</td>\n",
       "    </tr>\n",
       "    <tr>\n",
       "      <th>...</th>\n",
       "      <td>...</td>\n",
       "      <td>...</td>\n",
       "      <td>...</td>\n",
       "      <td>...</td>\n",
       "    </tr>\n",
       "    <tr>\n",
       "      <th>2648</th>\n",
       "      <td>2649</td>\n",
       "      <td>Set in a stunning seaside location, this luxur...</td>\n",
       "      <td>Going someplace new is always exciting. And wh...</td>\n",
       "      <td>0</td>\n",
       "    </tr>\n",
       "    <tr>\n",
       "      <th>9002</th>\n",
       "      <td>9003</td>\n",
       "      <td>The apartment in Lisbon has 2 bedrooms and has...</td>\n",
       "      <td>We are Feels Like Home Holiday Rentals.\\nA com...</td>\n",
       "      <td>0</td>\n",
       "    </tr>\n",
       "    <tr>\n",
       "      <th>8678</th>\n",
       "      <td>8679</td>\n",
       "      <td>Junto ao Palácio de S. Bento, e á assembleia d...</td>\n",
       "      <td>Olá sou o João, e estou á vossa espera para lh...</td>\n",
       "      <td>0</td>\n",
       "    </tr>\n",
       "    <tr>\n",
       "      <th>5770</th>\n",
       "      <td>5771</td>\n",
       "      <td>The apartment is very homely, and it was thoug...</td>\n",
       "      <td>Hi there!  We are The Mojo Team (MCPP Investme...</td>\n",
       "      <td>0</td>\n",
       "    </tr>\n",
       "    <tr>\n",
       "      <th>2758</th>\n",
       "      <td>2759</td>\n",
       "      <td>Barco na Marina de Cascais,  com salão e 2 Qua...</td>\n",
       "      <td>Navego desde os meus 14 Anos fui campeão nacio...</td>\n",
       "      <td>0</td>\n",
       "    </tr>\n",
       "  </tbody>\n",
       "</table>\n",
       "<p>2500 rows × 4 columns</p>\n",
       "</div>"
      ],
      "text/plain": [
       "       index                                        description   \n",
       "4768    4769  This charming apartment on the first floor of ...  \\\n",
       "4384    4385  Charming villa with a private pool and tennis ...   \n",
       "11857  11858  One bedroom apartment inside a modern developm...   \n",
       "1281    1282  Apartment in the heart of the city, between Pr...   \n",
       "2133    2134  Amazing flat with two bedrooms in Restauradore...   \n",
       "...      ...                                                ...   \n",
       "2648    2649  Set in a stunning seaside location, this luxur...   \n",
       "9002    9003  The apartment in Lisbon has 2 bedrooms and has...   \n",
       "8678    8679  Junto ao Palácio de S. Bento, e á assembleia d...   \n",
       "5770    5771  The apartment is very homely, and it was thoug...   \n",
       "2758    2759  Barco na Marina de Cascais,  com salão e 2 Qua...   \n",
       "\n",
       "                                              host_about  unlisted  \n",
       "4768   Easygoing person, always ready to present the ...         0  \n",
       "4384   Allure Villas is your go-to spot for renting V...         1  \n",
       "11857  Hey, this is Goncalo and Miku, your hosts in L...         0  \n",
       "1281   Hi!\\n\\nI'm Laura, I'm 32yo, and I live with my...         0  \n",
       "2133   We are Feels Like Home Holiday Rentals.\\nA com...         0  \n",
       "...                                                  ...       ...  \n",
       "2648   Going someplace new is always exciting. And wh...         0  \n",
       "9002   We are Feels Like Home Holiday Rentals.\\nA com...         0  \n",
       "8678   Olá sou o João, e estou á vossa espera para lh...         0  \n",
       "5770   Hi there!  We are The Mojo Team (MCPP Investme...         0  \n",
       "2758   Navego desde os meus 14 Anos fui campeão nacio...         0  \n",
       "\n",
       "[2500 rows x 4 columns]"
      ]
     },
     "execution_count": 31,
     "metadata": {},
     "output_type": "execute_result"
    }
   ],
   "source": [
    "val_df"
   ]
  },
  {
   "cell_type": "code",
   "execution_count": 32,
   "metadata": {},
   "outputs": [
    {
     "name": "stderr",
     "output_type": "stream",
     "text": [
      "100%|█████████████████████████████████████████████████████████████████| 2500/2500 [00:00<00:00, 6035.11it/s]\n"
     ]
    },
    {
     "data": {
      "text/html": [
       "<div>\n",
       "<style scoped>\n",
       "    .dataframe tbody tr th:only-of-type {\n",
       "        vertical-align: middle;\n",
       "    }\n",
       "\n",
       "    .dataframe tbody tr th {\n",
       "        vertical-align: top;\n",
       "    }\n",
       "\n",
       "    .dataframe thead th {\n",
       "        text-align: right;\n",
       "    }\n",
       "</style>\n",
       "<table border=\"1\" class=\"dataframe\">\n",
       "  <thead>\n",
       "    <tr style=\"text-align: right;\">\n",
       "      <th></th>\n",
       "      <th>index</th>\n",
       "      <th>description</th>\n",
       "      <th>host_about</th>\n",
       "      <th>unlisted</th>\n",
       "      <th>cleaned_text_list</th>\n",
       "    </tr>\n",
       "  </thead>\n",
       "  <tbody>\n",
       "    <tr>\n",
       "      <th>4768</th>\n",
       "      <td>4769</td>\n",
       "      <td>This charming apartment on the first floor of ...</td>\n",
       "      <td>Easygoing person, always ready to present the ...</td>\n",
       "      <td>0</td>\n",
       "      <td>charming apartment first floor typical cascais...</td>\n",
       "    </tr>\n",
       "    <tr>\n",
       "      <th>4384</th>\n",
       "      <td>4385</td>\n",
       "      <td>Charming villa with a private pool and tennis ...</td>\n",
       "      <td>Allure Villas is your go-to spot for renting V...</td>\n",
       "      <td>1</td>\n",
       "      <td>charming villa private pool tennis table withi...</td>\n",
       "    </tr>\n",
       "    <tr>\n",
       "      <th>11857</th>\n",
       "      <td>11858</td>\n",
       "      <td>One bedroom apartment inside a modern developm...</td>\n",
       "      <td>Hey, this is Goncalo and Miku, your hosts in L...</td>\n",
       "      <td>0</td>\n",
       "      <td>one bedroom apartment inside modern developmen...</td>\n",
       "    </tr>\n",
       "    <tr>\n",
       "      <th>1281</th>\n",
       "      <td>1282</td>\n",
       "      <td>Apartment in the heart of the city, between Pr...</td>\n",
       "      <td>Hi!\\n\\nI'm Laura, I'm 32yo, and I live with my...</td>\n",
       "      <td>0</td>\n",
       "      <td>apartment heart city pr ncipe real chiado bair...</td>\n",
       "    </tr>\n",
       "    <tr>\n",
       "      <th>2133</th>\n",
       "      <td>2134</td>\n",
       "      <td>Amazing flat with two bedrooms in Restauradore...</td>\n",
       "      <td>We are Feels Like Home Holiday Rentals.\\nA com...</td>\n",
       "      <td>0</td>\n",
       "      <td>amazing flat two bedroom restauradores lisbon ...</td>\n",
       "    </tr>\n",
       "  </tbody>\n",
       "</table>\n",
       "</div>"
      ],
      "text/plain": [
       "       index                                        description   \n",
       "4768    4769  This charming apartment on the first floor of ...  \\\n",
       "4384    4385  Charming villa with a private pool and tennis ...   \n",
       "11857  11858  One bedroom apartment inside a modern developm...   \n",
       "1281    1282  Apartment in the heart of the city, between Pr...   \n",
       "2133    2134  Amazing flat with two bedrooms in Restauradore...   \n",
       "\n",
       "                                              host_about  unlisted   \n",
       "4768   Easygoing person, always ready to present the ...         0  \\\n",
       "4384   Allure Villas is your go-to spot for renting V...         1   \n",
       "11857  Hey, this is Goncalo and Miku, your hosts in L...         0   \n",
       "1281   Hi!\\n\\nI'm Laura, I'm 32yo, and I live with my...         0   \n",
       "2133   We are Feels Like Home Holiday Rentals.\\nA com...         0   \n",
       "\n",
       "                                       cleaned_text_list  \n",
       "4768   charming apartment first floor typical cascais...  \n",
       "4384   charming villa private pool tennis table withi...  \n",
       "11857  one bedroom apartment inside modern developmen...  \n",
       "1281   apartment heart city pr ncipe real chiado bair...  \n",
       "2133   amazing flat two bedroom restauradores lisbon ...  "
      ]
     },
     "execution_count": 32,
     "metadata": {},
     "output_type": "execute_result"
    }
   ],
   "source": [
    "val_df['cleaned_text_list'] = clean(val_df['description'], lemmatize = True, stemmer = False)\n",
    "val_df.head()"
   ]
  },
  {
   "cell_type": "code",
   "execution_count": 33,
   "metadata": {},
   "outputs": [],
   "source": [
    "X_val = bow.transform(val_df['cleaned_text_list'])\n",
    "y_val = np.array(val_df['unlisted'])\n",
    "\n",
    "#X = df_train[['description']]\n",
    "#y = df_train['unlisted']"
   ]
  },
  {
   "cell_type": "code",
   "execution_count": 34,
   "metadata": {},
   "outputs": [],
   "source": [
    "y_pred = modelknn.predict(X_val)"
   ]
  },
  {
   "cell_type": "markdown",
   "metadata": {},
   "source": [
    "# Evaluate"
   ]
  },
  {
   "cell_type": "code",
   "execution_count": 35,
   "metadata": {},
   "outputs": [
    {
     "name": "stdout",
     "output_type": "stream",
     "text": [
      "              precision    recall  f1-score   support\n",
      "\n",
      "      listed       0.89      0.81      0.85      1991\n",
      "    unlisted       0.45      0.62      0.52       509\n",
      "\n",
      "    accuracy                           0.77      2500\n",
      "   macro avg       0.67      0.71      0.69      2500\n",
      "weighted avg       0.80      0.77      0.78      2500\n",
      "\n"
     ]
    }
   ],
   "source": [
    "labels = {\"listed\":0, \"unlisted\":1}\n",
    "print(classification_report(y_pred, y_val, target_names = labels.keys()))"
   ]
  },
  {
   "cell_type": "code",
   "execution_count": 36,
   "metadata": {},
   "outputs": [
    {
     "name": "stdout",
     "output_type": "stream",
     "text": [
      "              precision    recall  f1-score   support\n",
      "\n",
      "      listed       0.89      0.81      0.85      1991\n",
      "    unlisted       0.45      0.62      0.52       509\n",
      "\n",
      "    accuracy                           0.77      2500\n",
      "   macro avg       0.67      0.71      0.69      2500\n",
      "weighted avg       0.80      0.77      0.78      2500\n",
      "\n"
     ]
    }
   ],
   "source": [
    "labels = {\"listed\":0, \"unlisted\":1}\n",
    "print(classification_report(y_pred, y_val, target_names = labels.keys()))"
   ]
  },
  {
   "cell_type": "code",
   "execution_count": 37,
   "metadata": {},
   "outputs": [
    {
     "data": {
      "text/plain": [
       "array([[1613,  378],\n",
       "       [ 194,  315]])"
      ]
     },
     "execution_count": 37,
     "metadata": {},
     "output_type": "execute_result"
    }
   ],
   "source": [
    "confusion_matrix(y_pred, y_val)"
   ]
  },
  {
   "cell_type": "code",
   "execution_count": 38,
   "metadata": {},
   "outputs": [],
   "source": [
    "def plot_cm(confusion_matrix : np.array, \n",
    "            classnames : list):\n",
    "    \"\"\"\n",
    "    Function that creates a confusion matrix plot using the Wikipedia convention for the axis. \n",
    "    :param confusion_matrix: confusion matrix that will be plotted\n",
    "    :param classnames: labels of the classes\n",
    "    \n",
    "    Returns:\n",
    "        - Plot of the Confusion Matrix\n",
    "    \"\"\"\n",
    "    \n",
    "    confusionmatrix = confusion_matrix\n",
    "    class_names = classnames             \n",
    "\n",
    "    fig, ax = plt.subplots()\n",
    "    im = plt.imshow(confusionmatrix, cmap=plt.cm.cividis)\n",
    "    plt.colorbar()\n",
    "\n",
    "    # We want to show all ticks...\n",
    "    ax.set_xticks(np.arange(len(class_names)))\n",
    "    ax.set_yticks(np.arange(len(class_names)))\n",
    "    # ... and label them with the respective list entries\n",
    "    ax.set_xticklabels(class_names)\n",
    "    ax.set_yticklabels(class_names)\n",
    "\n",
    "    # Rotate the tick labels and set their alignment.\n",
    "    plt.setp(ax.get_xticklabels(), rotation=45, ha=\"right\",\n",
    "             rotation_mode=\"anchor\")\n",
    "\n",
    "    # Loop over data dimensions and create text annotations.\n",
    "    for i in range(len(class_names)):\n",
    "        for j in range(len(class_names)):\n",
    "            text = ax.text(j, i, confusionmatrix[i, j],\n",
    "                           ha=\"center\", va=\"center\", color=\"w\")\n",
    "\n",
    "    ax.set_title(\"Confusion Matrix\")\n",
    "    plt.xlabel('Targets')\n",
    "    plt.ylabel('Predictions')\n",
    "    #plt.ylim(top=len(class_names)-0.5)  # adjust the top leaving bottom unchanged\n",
    "    #plt.ylim(bottom=-0.5)  # adjust the bottom leaving top unchanged\n",
    "    return plt.show()"
   ]
  },
  {
   "cell_type": "code",
   "execution_count": 39,
   "metadata": {},
   "outputs": [
    {
     "data": {
      "image/png": "[encoded data removed]",
      "text/plain": [
       "<Figure size 640x480 with 2 Axes>"
      ]
     },
     "metadata": {},
     "output_type": "display_data"
    }
   ],
   "source": [
    "plot_cm(confusion_matrix(y_pred, y_val), labels.keys())"
   ]
  },
  {
   "cell_type": "code",
   "execution_count": null,
   "metadata": {},
   "outputs": [],
   "source": []
  }
 ],
 "metadata": {
  "kernelspec": {
   "display_name": ".tm_env",
   "language": "python",
   "name": ".tm_env"
  },
  "language_info": {
   "codemirror_mode": {
    "name": "ipython",
    "version": 3
   },
   "file_extension": ".py",
   "mimetype": "text/x-python",
   "name": "python",
   "nbconvert_exporter": "python",
   "pygments_lexer": "ipython3",
   "version": "3.10.4"
  }
 },
 "nbformat": 4,
 "nbformat_minor": 4
}
