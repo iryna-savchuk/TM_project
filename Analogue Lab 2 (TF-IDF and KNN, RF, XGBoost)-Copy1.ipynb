{
 "cells": [
  {
   "cell_type": "code",
   "execution_count": 1,
   "metadata": {
    "tags": []
   },
   "outputs": [],
   "source": [
    "import pandas as pd\n",
    "import numpy as np\n",
    "import matplotlib.pyplot as plt\n",
    "\n",
    "import nltk\n",
    "from nltk.tokenize import word_tokenize\n",
    "from nltk.corpus import stopwords\n",
    "from nltk.stem import SnowballStemmer\n",
    "from nltk.stem.wordnet import WordNetLemmatizer\n",
    "\n",
    "import string\n",
    "import re\n",
    "from tqdm import tqdm\n",
    "import demoji\n",
    "\n",
    "from sklearn.feature_extraction.text import TfidfVectorizer\n",
    "from sklearn.feature_extraction.text import CountVectorizer\n",
    "from sklearn.feature_extraction.text import HashingVectorizer\n",
    "from scipy.sparse import csr_matrix\n",
    "\n",
    "from sklearn.model_selection import train_test_split\n",
    "from sklearn.preprocessing import MinMaxScaler\n",
    "from sklearn.neighbors import KNeighborsClassifier\n",
    "from sklearn.metrics import classification_report, confusion_matrix"
   ]
  },
  {
   "cell_type": "markdown",
   "metadata": {},
   "source": [
    "# Data Import"
   ]
  },
  {
   "cell_type": "code",
   "execution_count": 2,
   "metadata": {},
   "outputs": [
    {
     "data": {
      "text/html": [
       "<div>\n",
       "<style scoped>\n",
       "    .dataframe tbody tr th:only-of-type {\n",
       "        vertical-align: middle;\n",
       "    }\n",
       "\n",
       "    .dataframe tbody tr th {\n",
       "        vertical-align: top;\n",
       "    }\n",
       "\n",
       "    .dataframe thead th {\n",
       "        text-align: right;\n",
       "    }\n",
       "</style>\n",
       "<table border=\"1\" class=\"dataframe\">\n",
       "  <thead>\n",
       "    <tr style=\"text-align: right;\">\n",
       "      <th></th>\n",
       "      <th>index</th>\n",
       "      <th>description</th>\n",
       "      <th>host_about</th>\n",
       "      <th>unlisted</th>\n",
       "      <th>description_language</th>\n",
       "      <th>host_about_language</th>\n",
       "      <th>description_english</th>\n",
       "    </tr>\n",
       "  </thead>\n",
       "  <tbody>\n",
       "    <tr>\n",
       "      <th>0</th>\n",
       "      <td>1</td>\n",
       "      <td>This is a shared mixed room in our hostel, wit...</td>\n",
       "      <td>Alojamento Local Registro: 20835/AL</td>\n",
       "      <td>0</td>\n",
       "      <td>en</td>\n",
       "      <td>pt</td>\n",
       "      <td>This is a shared mixed room in our hostel, wit...</td>\n",
       "    </tr>\n",
       "    <tr>\n",
       "      <th>1</th>\n",
       "      <td>2</td>\n",
       "      <td>O meu espaço fica perto de Parque Eduardo VII,...</td>\n",
       "      <td>I am friendly host, and I will try to always b...</td>\n",
       "      <td>1</td>\n",
       "      <td>pt</td>\n",
       "      <td>en</td>\n",
       "      <td>My space is close to Parque Eduardo VII, Salda...</td>\n",
       "    </tr>\n",
       "    <tr>\n",
       "      <th>2</th>\n",
       "      <td>3</td>\n",
       "      <td>Trafaria’s House is a cozy and familiar villa ...</td>\n",
       "      <td>I am a social person liking to communicate, re...</td>\n",
       "      <td>1</td>\n",
       "      <td>en</td>\n",
       "      <td>en</td>\n",
       "      <td>Trafaria’s House is a cozy and familiar villa ...</td>\n",
       "    </tr>\n",
       "    <tr>\n",
       "      <th>3</th>\n",
       "      <td>4</td>\n",
       "      <td>Apartamento Charmoso no Chiado, Entre o Largo ...</td>\n",
       "      <td>Hello!\\nI m Portuguese and i love to meet peop...</td>\n",
       "      <td>0</td>\n",
       "      <td>pt</td>\n",
       "      <td>en</td>\n",
       "      <td>Charming apartment in Chiado, Between the Farg...</td>\n",
       "    </tr>\n",
       "    <tr>\n",
       "      <th>4</th>\n",
       "      <td>5</td>\n",
       "      <td>Joli appartement  en bordure de mer.&lt;br /&gt; 2 m...</td>\n",
       "      <td>Nous sommes une famille avec deux enfants de 1...</td>\n",
       "      <td>0</td>\n",
       "      <td>fr</td>\n",
       "      <td>fr</td>\n",
       "      <td>Beautiful apartment on the beach.&lt;br /&gt; 2 min....</td>\n",
       "    </tr>\n",
       "  </tbody>\n",
       "</table>\n",
       "</div>"
      ],
      "text/plain": [
       "   index                                        description   \n",
       "0      1  This is a shared mixed room in our hostel, wit...  \\\n",
       "1      2  O meu espaço fica perto de Parque Eduardo VII,...   \n",
       "2      3  Trafaria’s House is a cozy and familiar villa ...   \n",
       "3      4  Apartamento Charmoso no Chiado, Entre o Largo ...   \n",
       "4      5  Joli appartement  en bordure de mer.<br /> 2 m...   \n",
       "\n",
       "                                          host_about  unlisted   \n",
       "0                Alojamento Local Registro: 20835/AL         0  \\\n",
       "1  I am friendly host, and I will try to always b...         1   \n",
       "2  I am a social person liking to communicate, re...         1   \n",
       "3  Hello!\\nI m Portuguese and i love to meet peop...         0   \n",
       "4  Nous sommes une famille avec deux enfants de 1...         0   \n",
       "\n",
       "  description_language host_about_language   \n",
       "0                   en                  pt  \\\n",
       "1                   pt                  en   \n",
       "2                   en                  en   \n",
       "3                   pt                  en   \n",
       "4                   fr                  fr   \n",
       "\n",
       "                                 description_english  \n",
       "0  This is a shared mixed room in our hostel, wit...  \n",
       "1  My space is close to Parque Eduardo VII, Salda...  \n",
       "2  Trafaria’s House is a cozy and familiar villa ...  \n",
       "3  Charming apartment in Chiado, Between the Farg...  \n",
       "4  Beautiful apartment on the beach.<br /> 2 min....  "
      ]
     },
     "execution_count": 2,
     "metadata": {},
     "output_type": "execute_result"
    }
   ],
   "source": [
    "#df_train_raw = pd.read_excel('Project Corpora/train.xlsx')\n",
    "df = pd.read_csv('output/train_with_translation.csv') # this is the result of translation of descriptions\n",
    "df.head(5)"
   ]
  },
  {
   "cell_type": "markdown",
   "metadata": {},
   "source": [
    "# Preprocesssing"
   ]
  },
  {
   "cell_type": "markdown",
   "metadata": {},
   "source": [
    "## Splitting data into Train and Validation"
   ]
  },
  {
   "cell_type": "code",
   "execution_count": 3,
   "metadata": {},
   "outputs": [
    {
     "name": "stdout",
     "output_type": "stream",
     "text": [
      "Shapes of train_df (9996, 7)\n",
      "Shapes of val_df (2500, 7)\n"
     ]
    }
   ],
   "source": [
    "# Split the original train dataframe into training and validation sets\n",
    "train_df, val_df = train_test_split(df, test_size=0.2, random_state=42, \n",
    "                                    stratify=df['unlisted']) # using stratify, to keep classes proportion\n",
    "\n",
    "print('Shapes of train_df', train_df.shape)\n",
    "print('Shapes of val_df', val_df.shape)"
   ]
  },
  {
   "cell_type": "markdown",
   "metadata": {},
   "source": [
    "## Preprocessing: cleaning, stemming, lemmatization"
   ]
  },
  {
   "cell_type": "code",
   "execution_count": 4,
   "metadata": {},
   "outputs": [],
   "source": [
    "stop = set(stopwords.words('english'))\n",
    "stem= SnowballStemmer('english')\n",
    "lemma = WordNetLemmatizer()"
   ]
  },
  {
   "cell_type": "code",
   "execution_count": 5,
   "metadata": {},
   "outputs": [],
   "source": [
    "def clean(text_list, lemmatize, stemmer):   \n",
    "    cleaned_text_list = []  \n",
    "    text_list.fillna('', inplace=True)\n",
    "    for text in tqdm(text_list):           \n",
    "        #LOWERCASE TEXT\n",
    "        text = text.lower()\n",
    "        \n",
    "        #Converting emoji to their description\n",
    "        text = demoji.replace_with_desc(text)\n",
    "\n",
    "        #REMOVE NUMERICAL DATA and PUNCTUATION\n",
    "        text = re.sub(\"[^a-zA-Z]\",\" \", text )\n",
    "        text = re.sub(\"br\", \"\", text)\n",
    "\n",
    "        #REMOVE STOPWORDS\n",
    "        text = \" \".join([word for word in text.split() if word not in stop])\n",
    "\n",
    "        #Lemmatize\n",
    "        if lemmatize:\n",
    "            text = \" \".join(lemma.lemmatize(word) for word in text.split())\n",
    "\n",
    "        #Stemming\n",
    "        if stemmer:\n",
    "            text = \" \".join(stem.stem(word) for word in text.split())\n",
    "\n",
    "        cleaned_text_list.append(text)        \n",
    "    return cleaned_text_list"
   ]
  },
  {
   "cell_type": "code",
   "execution_count": 6,
   "metadata": {},
   "outputs": [
    {
     "name": "stderr",
     "output_type": "stream",
     "text": [
      "100%|██████████████████████████████████████| 9996/9996 [00:28<00:00, 355.24it/s]\n"
     ]
    }
   ],
   "source": [
    "cleaned_text_list = clean(train_df['description_english'], lemmatize = True, stemmer = True)"
   ]
  },
  {
   "cell_type": "code",
   "execution_count": 7,
   "metadata": {},
   "outputs": [
    {
     "data": {
      "text/html": [
       "<div>\n",
       "<style scoped>\n",
       "    .dataframe tbody tr th:only-of-type {\n",
       "        vertical-align: middle;\n",
       "    }\n",
       "\n",
       "    .dataframe tbody tr th {\n",
       "        vertical-align: top;\n",
       "    }\n",
       "\n",
       "    .dataframe thead th {\n",
       "        text-align: right;\n",
       "    }\n",
       "</style>\n",
       "<table border=\"1\" class=\"dataframe\">\n",
       "  <thead>\n",
       "    <tr style=\"text-align: right;\">\n",
       "      <th></th>\n",
       "      <th>index</th>\n",
       "      <th>description</th>\n",
       "      <th>host_about</th>\n",
       "      <th>unlisted</th>\n",
       "      <th>description_language</th>\n",
       "      <th>host_about_language</th>\n",
       "      <th>description_english</th>\n",
       "      <th>cleaned_description</th>\n",
       "    </tr>\n",
       "  </thead>\n",
       "  <tbody>\n",
       "    <tr>\n",
       "      <th>7712</th>\n",
       "      <td>7713</td>\n",
       "      <td>This exclusive villa, located in a quiet pinew...</td>\n",
       "      <td>We are a couple with a big family and we love ...</td>\n",
       "      <td>0</td>\n",
       "      <td>en</td>\n",
       "      <td>en</td>\n",
       "      <td>This exclusive villa, located in a quiet pinew...</td>\n",
       "      <td>exclus villa locat quiet pinewood area complet...</td>\n",
       "    </tr>\n",
       "    <tr>\n",
       "      <th>11333</th>\n",
       "      <td>11334</td>\n",
       "      <td>Luna House B&amp;B is part of the Luna House Hub, ...</td>\n",
       "      <td>Luna House B&amp;B is part of the Luna House Hub, ...</td>\n",
       "      <td>1</td>\n",
       "      <td>en</td>\n",
       "      <td>en</td>\n",
       "      <td>Luna House B&amp;B is part of the Luna House Hub, ...</td>\n",
       "      <td>luna hous b b part luna hous hub locat close v...</td>\n",
       "    </tr>\n",
       "    <tr>\n",
       "      <th>3536</th>\n",
       "      <td>3537</td>\n",
       "      <td>Newly refurbished apartment with swimming pool...</td>\n",
       "      <td>World citizen looking forward to meet new peop...</td>\n",
       "      <td>0</td>\n",
       "      <td>en</td>\n",
       "      <td>en</td>\n",
       "      <td>Newly refurbished apartment with swimming pool...</td>\n",
       "      <td>newli refurbish apart swim pool stun view casa...</td>\n",
       "    </tr>\n",
       "  </tbody>\n",
       "</table>\n",
       "</div>"
      ],
      "text/plain": [
       "       index                                        description   \n",
       "7712    7713  This exclusive villa, located in a quiet pinew...  \\\n",
       "11333  11334  Luna House B&B is part of the Luna House Hub, ...   \n",
       "3536    3537  Newly refurbished apartment with swimming pool...   \n",
       "\n",
       "                                              host_about  unlisted   \n",
       "7712   We are a couple with a big family and we love ...         0  \\\n",
       "11333  Luna House B&B is part of the Luna House Hub, ...         1   \n",
       "3536   World citizen looking forward to meet new peop...         0   \n",
       "\n",
       "      description_language host_about_language   \n",
       "7712                    en                  en  \\\n",
       "11333                   en                  en   \n",
       "3536                    en                  en   \n",
       "\n",
       "                                     description_english   \n",
       "7712   This exclusive villa, located in a quiet pinew...  \\\n",
       "11333  Luna House B&B is part of the Luna House Hub, ...   \n",
       "3536   Newly refurbished apartment with swimming pool...   \n",
       "\n",
       "                                     cleaned_description  \n",
       "7712   exclus villa locat quiet pinewood area complet...  \n",
       "11333  luna hous b b part luna hous hub locat close v...  \n",
       "3536   newli refurbish apart swim pool stun view casa...  "
      ]
     },
     "execution_count": 7,
     "metadata": {},
     "output_type": "execute_result"
    }
   ],
   "source": [
    "train_df['cleaned_description'] = cleaned_text_list\n",
    "train_df.head(3)"
   ]
  },
  {
   "cell_type": "markdown",
   "metadata": {},
   "source": [
    "# Defining training features"
   ]
  },
  {
   "cell_type": "markdown",
   "metadata": {
    "tags": []
   },
   "source": [
    "## 1. Defining training features with TF-IDF"
   ]
  },
  {
   "cell_type": "code",
   "execution_count": 8,
   "metadata": {},
   "outputs": [
    {
     "data": {
      "text/plain": [
       "(9996, 12063)"
      ]
     },
     "execution_count": 8,
     "metadata": {},
     "output_type": "execute_result"
    }
   ],
   "source": [
    "tfidf = TfidfVectorizer()\n",
    "x_tfidf= tfidf.fit_transform(train_df[\"cleaned_description\"])\n",
    "x_tfidf = x_tfidf.toarray()\n",
    "x_tfidf.shape"
   ]
  },
  {
   "cell_type": "markdown",
   "metadata": {},
   "source": [
    "## 2. Defining training features with CountVectorizer"
   ]
  },
  {
   "cell_type": "code",
   "execution_count": 9,
   "metadata": {},
   "outputs": [
    {
     "data": {
      "text/plain": [
       "(9996, 183959)"
      ]
     },
     "execution_count": 9,
     "metadata": {},
     "output_type": "execute_result"
    }
   ],
   "source": [
    "count_vectorizer = CountVectorizer(ngram_range=(1,2))\n",
    "x_countvec = count_vectorizer.fit_transform(train_df[\"cleaned_description\"])\n",
    "x_countvec = x_countvec.toarray()\n",
    "x_countvec.shape"
   ]
  },
  {
   "cell_type": "markdown",
   "metadata": {},
   "source": [
    "## 3. Defining training features with HashVectorizer"
   ]
  },
  {
   "cell_type": "code",
   "execution_count": 10,
   "metadata": {},
   "outputs": [
    {
     "data": {
      "text/plain": [
       "(9996, 1024)"
      ]
     },
     "execution_count": 10,
     "metadata": {},
     "output_type": "execute_result"
    }
   ],
   "source": [
    "hash_vectorizer = HashingVectorizer(n_features=1024, norm = None)\n",
    "x_hash = hash_vectorizer.fit_transform(train_df[\"cleaned_description\"])\n",
    "x_hash = x_hash.toarray()\n",
    "x_hash.shape"
   ]
  },
  {
   "cell_type": "markdown",
   "metadata": {},
   "source": [
    "## 4. Defining training features with GloVe"
   ]
  },
  {
   "cell_type": "code",
   "execution_count": 11,
   "metadata": {},
   "outputs": [
    {
     "name": "stdout",
     "output_type": "stream",
     "text": [
      "Loaded 400000 words\n"
     ]
    }
   ],
   "source": [
    "import torch\n",
    "import torchtext.vocab as vocab\n",
    "\n",
    "dim = 100\n",
    "glove = vocab.GloVe(name='6B', dim=dim)\n",
    "print('Loaded {} words'.format(len(glove.itos)))"
   ]
  },
  {
   "cell_type": "code",
   "execution_count": 12,
   "metadata": {},
   "outputs": [],
   "source": [
    "def get_word_vector(word):\n",
    "    try:\n",
    "        vector = glove.vectors[glove.stoi[word]]\n",
    "    except KeyError:\n",
    "        vector = np.zeros(dim) # Word not found in glove, return a vector of zeros\n",
    "    return vector\n",
    "\n",
    "\n",
    "def get_sentence_vector(sentence):\n",
    "    if isinstance(sentence, str) and len(sentence)>0:\n",
    "        words = sentence.split()\n",
    "        #vectors = [get_word_vector(word) for word in words]   \n",
    "        # Convert the list of arrays into a single NumPy array\n",
    "        vectors = np.stack([get_word_vector(word) for word in words], axis=0)\n",
    "        return np.sum(vectors, axis=0)\n",
    "    else: \n",
    "        return np.zeros(dim)"
   ]
  },
  {
   "cell_type": "code",
   "execution_count": 13,
   "metadata": {},
   "outputs": [
    {
     "data": {
      "text/plain": [
       "(9996, 100)"
      ]
     },
     "execution_count": 13,
     "metadata": {},
     "output_type": "execute_result"
    }
   ],
   "source": [
    "x_glove = np.array([get_sentence_vector(text) for text in train_df[\"cleaned_description\"]])\n",
    "x_glove.shape"
   ]
  },
  {
   "cell_type": "markdown",
   "metadata": {},
   "source": [
    "## 5. Combining training features"
   ]
  },
  {
   "cell_type": "code",
   "execution_count": 14,
   "metadata": {},
   "outputs": [
    {
     "data": {
      "text/plain": [
       "(9996, 13187)"
      ]
     },
     "execution_count": 14,
     "metadata": {},
     "output_type": "execute_result"
    }
   ],
   "source": [
    "x_train = np.concatenate((x_tfidf, x_hash, x_glove), axis=1)\n",
    "x_train.shape"
   ]
  },
  {
   "cell_type": "markdown",
   "metadata": {},
   "source": [
    "# Defining training labels"
   ]
  },
  {
   "cell_type": "code",
   "execution_count": 15,
   "metadata": {},
   "outputs": [],
   "source": [
    "y_train = train_df['unlisted']"
   ]
  },
  {
   "cell_type": "markdown",
   "metadata": {},
   "source": [
    "# Train Classifier"
   ]
  },
  {
   "cell_type": "code",
   "execution_count": 16,
   "metadata": {},
   "outputs": [],
   "source": [
    "modelknn = KNeighborsClassifier(n_neighbors = 7, \n",
    "                                metric = 'cosine', \n",
    "                                weights = 'distance')"
   ]
  },
  {
   "cell_type": "code",
   "execution_count": 17,
   "metadata": {},
   "outputs": [
    {
     "data": {
      "text/html": [
       "<style>#sk-container-id-1 {color: black;background-color: white;}#sk-container-id-1 pre{padding: 0;}#sk-container-id-1 div.sk-toggleable {background-color: white;}#sk-container-id-1 label.sk-toggleable__label {cursor: pointer;display: block;width: 100%;margin-bottom: 0;padding: 0.3em;box-sizing: border-box;text-align: center;}#sk-container-id-1 label.sk-toggleable__label-arrow:before {content: \"▸\";float: left;margin-right: 0.25em;color: #696969;}#sk-container-id-1 label.sk-toggleable__label-arrow:hover:before {color: black;}#sk-container-id-1 div.sk-estimator:hover label.sk-toggleable__label-arrow:before {color: black;}#sk-container-id-1 div.sk-toggleable__content {max-height: 0;max-width: 0;overflow: hidden;text-align: left;background-color: #f0f8ff;}#sk-container-id-1 div.sk-toggleable__content pre {margin: 0.2em;color: black;border-radius: 0.25em;background-color: #f0f8ff;}#sk-container-id-1 input.sk-toggleable__control:checked~div.sk-toggleable__content {max-height: 200px;max-width: 100%;overflow: auto;}#sk-container-id-1 input.sk-toggleable__control:checked~label.sk-toggleable__label-arrow:before {content: \"▾\";}#sk-container-id-1 div.sk-estimator input.sk-toggleable__control:checked~label.sk-toggleable__label {background-color: #d4ebff;}#sk-container-id-1 div.sk-label input.sk-toggleable__control:checked~label.sk-toggleable__label {background-color: #d4ebff;}#sk-container-id-1 input.sk-hidden--visually {border: 0;clip: rect(1px 1px 1px 1px);clip: rect(1px, 1px, 1px, 1px);height: 1px;margin: -1px;overflow: hidden;padding: 0;position: absolute;width: 1px;}#sk-container-id-1 div.sk-estimator {font-family: monospace;background-color: #f0f8ff;border: 1px dotted black;border-radius: 0.25em;box-sizing: border-box;margin-bottom: 0.5em;}#sk-container-id-1 div.sk-estimator:hover {background-color: #d4ebff;}#sk-container-id-1 div.sk-parallel-item::after {content: \"\";width: 100%;border-bottom: 1px solid gray;flex-grow: 1;}#sk-container-id-1 div.sk-label:hover label.sk-toggleable__label {background-color: #d4ebff;}#sk-container-id-1 div.sk-serial::before {content: \"\";position: absolute;border-left: 1px solid gray;box-sizing: border-box;top: 0;bottom: 0;left: 50%;z-index: 0;}#sk-container-id-1 div.sk-serial {display: flex;flex-direction: column;align-items: center;background-color: white;padding-right: 0.2em;padding-left: 0.2em;position: relative;}#sk-container-id-1 div.sk-item {position: relative;z-index: 1;}#sk-container-id-1 div.sk-parallel {display: flex;align-items: stretch;justify-content: center;background-color: white;position: relative;}#sk-container-id-1 div.sk-item::before, #sk-container-id-1 div.sk-parallel-item::before {content: \"\";position: absolute;border-left: 1px solid gray;box-sizing: border-box;top: 0;bottom: 0;left: 50%;z-index: -1;}#sk-container-id-1 div.sk-parallel-item {display: flex;flex-direction: column;z-index: 1;position: relative;background-color: white;}#sk-container-id-1 div.sk-parallel-item:first-child::after {align-self: flex-end;width: 50%;}#sk-container-id-1 div.sk-parallel-item:last-child::after {align-self: flex-start;width: 50%;}#sk-container-id-1 div.sk-parallel-item:only-child::after {width: 0;}#sk-container-id-1 div.sk-dashed-wrapped {border: 1px dashed gray;margin: 0 0.4em 0.5em 0.4em;box-sizing: border-box;padding-bottom: 0.4em;background-color: white;}#sk-container-id-1 div.sk-label label {font-family: monospace;font-weight: bold;display: inline-block;line-height: 1.2em;}#sk-container-id-1 div.sk-label-container {text-align: center;}#sk-container-id-1 div.sk-container {/* jupyter's `normalize.less` sets `[hidden] { display: none; }` but bootstrap.min.css set `[hidden] { display: none !important; }` so we also need the `!important` here to be able to override the default hidden behavior on the sphinx rendered scikit-learn.org. See: https://github.com/scikit-learn/scikit-learn/issues/21755 */display: inline-block !important;position: relative;}#sk-container-id-1 div.sk-text-repr-fallback {display: none;}</style><div id=\"sk-container-id-1\" class=\"sk-top-container\"><div class=\"sk-text-repr-fallback\"><pre>KNeighborsClassifier(metric=&#x27;cosine&#x27;, n_neighbors=7, weights=&#x27;distance&#x27;)</pre><b>In a Jupyter environment, please rerun this cell to show the HTML representation or trust the notebook. <br />On GitHub, the HTML representation is unable to render, please try loading this page with nbviewer.org.</b></div><div class=\"sk-container\" hidden><div class=\"sk-item\"><div class=\"sk-estimator sk-toggleable\"><input class=\"sk-toggleable__control sk-hidden--visually\" id=\"sk-estimator-id-1\" type=\"checkbox\" checked><label for=\"sk-estimator-id-1\" class=\"sk-toggleable__label sk-toggleable__label-arrow\">KNeighborsClassifier</label><div class=\"sk-toggleable__content\"><pre>KNeighborsClassifier(metric=&#x27;cosine&#x27;, n_neighbors=7, weights=&#x27;distance&#x27;)</pre></div></div></div></div></div>"
      ],
      "text/plain": [
       "KNeighborsClassifier(metric='cosine', n_neighbors=7, weights='distance')"
      ]
     },
     "execution_count": 17,
     "metadata": {},
     "output_type": "execute_result"
    }
   ],
   "source": [
    "modelknn.fit(x_train, y_train)"
   ]
  },
  {
   "cell_type": "markdown",
   "metadata": {},
   "source": [
    "# Predict for Val corpus"
   ]
  },
  {
   "cell_type": "code",
   "execution_count": 18,
   "metadata": {},
   "outputs": [
    {
     "data": {
      "text/html": [
       "<div>\n",
       "<style scoped>\n",
       "    .dataframe tbody tr th:only-of-type {\n",
       "        vertical-align: middle;\n",
       "    }\n",
       "\n",
       "    .dataframe tbody tr th {\n",
       "        vertical-align: top;\n",
       "    }\n",
       "\n",
       "    .dataframe thead th {\n",
       "        text-align: right;\n",
       "    }\n",
       "</style>\n",
       "<table border=\"1\" class=\"dataframe\">\n",
       "  <thead>\n",
       "    <tr style=\"text-align: right;\">\n",
       "      <th></th>\n",
       "      <th>index</th>\n",
       "      <th>description</th>\n",
       "      <th>host_about</th>\n",
       "      <th>unlisted</th>\n",
       "      <th>description_language</th>\n",
       "      <th>host_about_language</th>\n",
       "      <th>description_english</th>\n",
       "    </tr>\n",
       "  </thead>\n",
       "  <tbody>\n",
       "    <tr>\n",
       "      <th>4768</th>\n",
       "      <td>4769</td>\n",
       "      <td>This charming apartment on the first floor of ...</td>\n",
       "      <td>Easygoing person, always ready to present the ...</td>\n",
       "      <td>0</td>\n",
       "      <td>en</td>\n",
       "      <td>en</td>\n",
       "      <td>This charming apartment on the first floor of ...</td>\n",
       "    </tr>\n",
       "    <tr>\n",
       "      <th>4384</th>\n",
       "      <td>4385</td>\n",
       "      <td>Charming villa with a private pool and tennis ...</td>\n",
       "      <td>Allure Villas is your go-to spot for renting V...</td>\n",
       "      <td>1</td>\n",
       "      <td>en</td>\n",
       "      <td>en</td>\n",
       "      <td>Charming villa with a private pool and tennis ...</td>\n",
       "    </tr>\n",
       "    <tr>\n",
       "      <th>11857</th>\n",
       "      <td>11858</td>\n",
       "      <td>One bedroom apartment inside a modern developm...</td>\n",
       "      <td>Hey, this is Goncalo and Miku, your hosts in L...</td>\n",
       "      <td>0</td>\n",
       "      <td>en</td>\n",
       "      <td>en</td>\n",
       "      <td>One bedroom apartment inside a modern developm...</td>\n",
       "    </tr>\n",
       "  </tbody>\n",
       "</table>\n",
       "</div>"
      ],
      "text/plain": [
       "       index                                        description   \n",
       "4768    4769  This charming apartment on the first floor of ...  \\\n",
       "4384    4385  Charming villa with a private pool and tennis ...   \n",
       "11857  11858  One bedroom apartment inside a modern developm...   \n",
       "\n",
       "                                              host_about  unlisted   \n",
       "4768   Easygoing person, always ready to present the ...         0  \\\n",
       "4384   Allure Villas is your go-to spot for renting V...         1   \n",
       "11857  Hey, this is Goncalo and Miku, your hosts in L...         0   \n",
       "\n",
       "      description_language host_about_language   \n",
       "4768                    en                  en  \\\n",
       "4384                    en                  en   \n",
       "11857                   en                  en   \n",
       "\n",
       "                                     description_english  \n",
       "4768   This charming apartment on the first floor of ...  \n",
       "4384   Charming villa with a private pool and tennis ...  \n",
       "11857  One bedroom apartment inside a modern developm...  "
      ]
     },
     "execution_count": 18,
     "metadata": {},
     "output_type": "execute_result"
    }
   ],
   "source": [
    "val_df.head(3)"
   ]
  },
  {
   "cell_type": "code",
   "execution_count": 19,
   "metadata": {},
   "outputs": [
    {
     "name": "stderr",
     "output_type": "stream",
     "text": [
      "100%|██████████████████████████████████████| 2500/2500 [00:06<00:00, 367.45it/s]\n"
     ]
    },
    {
     "data": {
      "text/html": [
       "<div>\n",
       "<style scoped>\n",
       "    .dataframe tbody tr th:only-of-type {\n",
       "        vertical-align: middle;\n",
       "    }\n",
       "\n",
       "    .dataframe tbody tr th {\n",
       "        vertical-align: top;\n",
       "    }\n",
       "\n",
       "    .dataframe thead th {\n",
       "        text-align: right;\n",
       "    }\n",
       "</style>\n",
       "<table border=\"1\" class=\"dataframe\">\n",
       "  <thead>\n",
       "    <tr style=\"text-align: right;\">\n",
       "      <th></th>\n",
       "      <th>index</th>\n",
       "      <th>description</th>\n",
       "      <th>host_about</th>\n",
       "      <th>unlisted</th>\n",
       "      <th>description_language</th>\n",
       "      <th>host_about_language</th>\n",
       "      <th>description_english</th>\n",
       "      <th>cleaned_description</th>\n",
       "    </tr>\n",
       "  </thead>\n",
       "  <tbody>\n",
       "    <tr>\n",
       "      <th>4768</th>\n",
       "      <td>4769</td>\n",
       "      <td>This charming apartment on the first floor of ...</td>\n",
       "      <td>Easygoing person, always ready to present the ...</td>\n",
       "      <td>0</td>\n",
       "      <td>en</td>\n",
       "      <td>en</td>\n",
       "      <td>This charming apartment on the first floor of ...</td>\n",
       "      <td>charm apart first floor typic cascai build loc...</td>\n",
       "    </tr>\n",
       "    <tr>\n",
       "      <th>4384</th>\n",
       "      <td>4385</td>\n",
       "      <td>Charming villa with a private pool and tennis ...</td>\n",
       "      <td>Allure Villas is your go-to spot for renting V...</td>\n",
       "      <td>1</td>\n",
       "      <td>en</td>\n",
       "      <td>en</td>\n",
       "      <td>Charming villa with a private pool and tennis ...</td>\n",
       "      <td>charm villa privat pool tenni tabl within walk...</td>\n",
       "    </tr>\n",
       "    <tr>\n",
       "      <th>11857</th>\n",
       "      <td>11858</td>\n",
       "      <td>One bedroom apartment inside a modern developm...</td>\n",
       "      <td>Hey, this is Goncalo and Miku, your hosts in L...</td>\n",
       "      <td>0</td>\n",
       "      <td>en</td>\n",
       "      <td>en</td>\n",
       "      <td>One bedroom apartment inside a modern developm...</td>\n",
       "      <td>one bedroom apart insid modern develop elev ig...</td>\n",
       "    </tr>\n",
       "    <tr>\n",
       "      <th>1281</th>\n",
       "      <td>1282</td>\n",
       "      <td>Apartment in the heart of the city, between Pr...</td>\n",
       "      <td>Hi!\\n\\nI'm Laura, I'm 32yo, and I live with my...</td>\n",
       "      <td>0</td>\n",
       "      <td>en</td>\n",
       "      <td>en</td>\n",
       "      <td>Apartment in the heart of the city, between Pr...</td>\n",
       "      <td>apart heart citi pr ncipe real chiado bairro a...</td>\n",
       "    </tr>\n",
       "    <tr>\n",
       "      <th>2133</th>\n",
       "      <td>2134</td>\n",
       "      <td>Amazing flat with two bedrooms in Restauradore...</td>\n",
       "      <td>We are Feels Like Home Holiday Rentals.\\nA com...</td>\n",
       "      <td>0</td>\n",
       "      <td>en</td>\n",
       "      <td>en</td>\n",
       "      <td>Amazing flat with two bedrooms in Restauradore...</td>\n",
       "      <td>amaz flat two bedroom restaurador lisbon b spa...</td>\n",
       "    </tr>\n",
       "  </tbody>\n",
       "</table>\n",
       "</div>"
      ],
      "text/plain": [
       "       index                                        description   \n",
       "4768    4769  This charming apartment on the first floor of ...  \\\n",
       "4384    4385  Charming villa with a private pool and tennis ...   \n",
       "11857  11858  One bedroom apartment inside a modern developm...   \n",
       "1281    1282  Apartment in the heart of the city, between Pr...   \n",
       "2133    2134  Amazing flat with two bedrooms in Restauradore...   \n",
       "\n",
       "                                              host_about  unlisted   \n",
       "4768   Easygoing person, always ready to present the ...         0  \\\n",
       "4384   Allure Villas is your go-to spot for renting V...         1   \n",
       "11857  Hey, this is Goncalo and Miku, your hosts in L...         0   \n",
       "1281   Hi!\\n\\nI'm Laura, I'm 32yo, and I live with my...         0   \n",
       "2133   We are Feels Like Home Holiday Rentals.\\nA com...         0   \n",
       "\n",
       "      description_language host_about_language   \n",
       "4768                    en                  en  \\\n",
       "4384                    en                  en   \n",
       "11857                   en                  en   \n",
       "1281                    en                  en   \n",
       "2133                    en                  en   \n",
       "\n",
       "                                     description_english   \n",
       "4768   This charming apartment on the first floor of ...  \\\n",
       "4384   Charming villa with a private pool and tennis ...   \n",
       "11857  One bedroom apartment inside a modern developm...   \n",
       "1281   Apartment in the heart of the city, between Pr...   \n",
       "2133   Amazing flat with two bedrooms in Restauradore...   \n",
       "\n",
       "                                     cleaned_description  \n",
       "4768   charm apart first floor typic cascai build loc...  \n",
       "4384   charm villa privat pool tenni tabl within walk...  \n",
       "11857  one bedroom apart insid modern develop elev ig...  \n",
       "1281   apart heart citi pr ncipe real chiado bairro a...  \n",
       "2133   amaz flat two bedroom restaurador lisbon b spa...  "
      ]
     },
     "execution_count": 19,
     "metadata": {},
     "output_type": "execute_result"
    }
   ],
   "source": [
    "val_df['cleaned_description'] = clean(val_df['description_english'], lemmatize = True, stemmer = True)\n",
    "val_df.head()"
   ]
  },
  {
   "cell_type": "code",
   "execution_count": 20,
   "metadata": {},
   "outputs": [],
   "source": [
    "x_val_tfidf= tfidf.transform(val_df[\"cleaned_description\"])\n",
    "x_val_tfidf = x_val_tfidf.toarray()\n",
    "\n",
    "x_val_countvec = count_vectorizer.transform(val_df[\"cleaned_description\"])\n",
    "x_val_countvec = x_val_countvec.toarray()\n",
    "\n",
    "x_val_hash = hash_vectorizer.transform(val_df[\"cleaned_description\"])\n",
    "x_val_hash = x_val_hash.toarray()\n",
    "\n",
    "x_val_glove = np.array([get_sentence_vector(text) for text in val_df[\"cleaned_description\"]])"
   ]
  },
  {
   "cell_type": "code",
   "execution_count": 21,
   "metadata": {},
   "outputs": [
    {
     "data": {
      "text/plain": [
       "(2500, 13187)"
      ]
     },
     "execution_count": 21,
     "metadata": {},
     "output_type": "execute_result"
    }
   ],
   "source": [
    "x_val = np.concatenate((x_val_tfidf, x_val_hash, x_val_glove), axis=1)\n",
    "x_val.shape"
   ]
  },
  {
   "cell_type": "code",
   "execution_count": 22,
   "metadata": {},
   "outputs": [],
   "source": [
    "y_val = np.array(val_df['unlisted'])\n",
    "\n",
    "#X = df_train[['description']]\n",
    "#y = df_train['unlisted']"
   ]
  },
  {
   "cell_type": "code",
   "execution_count": 23,
   "metadata": {},
   "outputs": [],
   "source": [
    "y_pred = modelknn.predict(x_val)"
   ]
  },
  {
   "cell_type": "markdown",
   "metadata": {},
   "source": [
    "# Evaluate"
   ]
  },
  {
   "cell_type": "code",
   "execution_count": 24,
   "metadata": {},
   "outputs": [],
   "source": [
    "def plot_cm(confusion_matrix : np.array, \n",
    "            classnames : list):\n",
    "    \"\"\"\n",
    "    Function that creates a confusion matrix plot using the Wikipedia convention for the axis. \n",
    "    :param confusion_matrix: confusion matrix that will be plotted\n",
    "    :param classnames: labels of the classes\n",
    "    \n",
    "    Returns:\n",
    "        - Plot of the Confusion Matrix\n",
    "    \"\"\"\n",
    "    \n",
    "    confusionmatrix = confusion_matrix\n",
    "    class_names = classnames             \n",
    "\n",
    "    fig, ax = plt.subplots()\n",
    "    im = plt.imshow(confusionmatrix, cmap=plt.cm.cividis)\n",
    "    plt.colorbar()\n",
    "\n",
    "    # We want to show all ticks...\n",
    "    ax.set_xticks(np.arange(len(class_names)))\n",
    "    ax.set_yticks(np.arange(len(class_names)))\n",
    "    # ... and label them with the respective list entries\n",
    "    ax.set_xticklabels(class_names)\n",
    "    ax.set_yticklabels(class_names)\n",
    "\n",
    "    # Rotate the tick labels and set their alignment.\n",
    "    plt.setp(ax.get_xticklabels(), rotation=45, ha=\"right\",\n",
    "             rotation_mode=\"anchor\")\n",
    "\n",
    "    # Loop over data dimensions and create text annotations.\n",
    "    for i in range(len(class_names)):\n",
    "        for j in range(len(class_names)):\n",
    "            text = ax.text(j, i, confusionmatrix[i, j],\n",
    "                           ha=\"center\", va=\"center\", color=\"w\")\n",
    "\n",
    "    ax.set_title(\"Confusion Matrix\")\n",
    "    plt.xlabel('Targets')\n",
    "    plt.ylabel('Predictions')\n",
    "    #plt.ylim(top=len(class_names)-0.5)  # adjust the top leaving bottom unchanged\n",
    "    #plt.ylim(bottom=-0.5)  # adjust the bottom leaving top unchanged\n",
    "    return plt.show()"
   ]
  },
  {
   "cell_type": "code",
   "execution_count": 25,
   "metadata": {},
   "outputs": [
    {
     "name": "stdout",
     "output_type": "stream",
     "text": [
      "              precision    recall  f1-score   support\n",
      "\n",
      "      listed       0.91      0.79      0.85      2075\n",
      "    unlisted       0.39      0.63      0.48       425\n",
      "\n",
      "    accuracy                           0.77      2500\n",
      "   macro avg       0.65      0.71      0.66      2500\n",
      "weighted avg       0.82      0.77      0.79      2500\n",
      "\n"
     ]
    },
    {
     "data": {
      "image/png": "[encoded data removed]",
      "text/plain": [
       "<Figure size 640x480 with 2 Axes>"
      ]
     },
     "metadata": {},
     "output_type": "display_data"
    }
   ],
   "source": [
    "labels = {\"listed\":0, \"unlisted\":1}\n",
    "print(classification_report(y_pred, y_val, target_names = labels.keys()))\n",
    "\n",
    "plot_cm(confusion_matrix(y_pred, y_val), labels.keys())"
   ]
  },
  {
   "cell_type": "markdown",
   "metadata": {},
   "source": [
    "# Extending Features with Reviews"
   ]
  },
  {
   "cell_type": "markdown",
   "metadata": {},
   "source": [
    "## Preprocessing Reviews"
   ]
  },
  {
   "cell_type": "code",
   "execution_count": 26,
   "metadata": {},
   "outputs": [
    {
     "data": {
      "text/html": [
       "<div>\n",
       "<style scoped>\n",
       "    .dataframe tbody tr th:only-of-type {\n",
       "        vertical-align: middle;\n",
       "    }\n",
       "\n",
       "    .dataframe tbody tr th {\n",
       "        vertical-align: top;\n",
       "    }\n",
       "\n",
       "    .dataframe thead th {\n",
       "        text-align: right;\n",
       "    }\n",
       "</style>\n",
       "<table border=\"1\" class=\"dataframe\">\n",
       "  <thead>\n",
       "    <tr style=\"text-align: right;\">\n",
       "      <th></th>\n",
       "      <th>index</th>\n",
       "      <th>unique_languages_count</th>\n",
       "      <th>total_comments_count</th>\n",
       "      <th>eng_comment_count</th>\n",
       "      <th>eng_reviews_merged</th>\n",
       "    </tr>\n",
       "  </thead>\n",
       "  <tbody>\n",
       "    <tr>\n",
       "      <th>0</th>\n",
       "      <td>1</td>\n",
       "      <td>7</td>\n",
       "      <td>50</td>\n",
       "      <td>30.0</td>\n",
       "      <td>this is a very cozy and comfortable house to s...</td>\n",
       "    </tr>\n",
       "    <tr>\n",
       "      <th>1</th>\n",
       "      <td>5</td>\n",
       "      <td>6</td>\n",
       "      <td>41</td>\n",
       "      <td>17.0</td>\n",
       "      <td>We really enjoyed staying at Sonias place. The...</td>\n",
       "    </tr>\n",
       "    <tr>\n",
       "      <th>2</th>\n",
       "      <td>8</td>\n",
       "      <td>8</td>\n",
       "      <td>168</td>\n",
       "      <td>145.0</td>\n",
       "      <td>Shani was very helpful throughout our process!...</td>\n",
       "    </tr>\n",
       "    <tr>\n",
       "      <th>3</th>\n",
       "      <td>9</td>\n",
       "      <td>6</td>\n",
       "      <td>32</td>\n",
       "      <td>16.0</td>\n",
       "      <td>Great little space; lovely hosts - clean and w...</td>\n",
       "    </tr>\n",
       "    <tr>\n",
       "      <th>4</th>\n",
       "      <td>10</td>\n",
       "      <td>3</td>\n",
       "      <td>13</td>\n",
       "      <td>11.0</td>\n",
       "      <td>WOW, what a great stay! The spacious apartment...</td>\n",
       "    </tr>\n",
       "    <tr>\n",
       "      <th>...</th>\n",
       "      <td>...</td>\n",
       "      <td>...</td>\n",
       "      <td>...</td>\n",
       "      <td>...</td>\n",
       "      <td>...</td>\n",
       "    </tr>\n",
       "    <tr>\n",
       "      <th>8461</th>\n",
       "      <td>12490</td>\n",
       "      <td>7</td>\n",
       "      <td>32</td>\n",
       "      <td>14.0</td>\n",
       "      <td>Excellent very well equiped apartment! Thank y...</td>\n",
       "    </tr>\n",
       "    <tr>\n",
       "      <th>8462</th>\n",
       "      <td>12491</td>\n",
       "      <td>4</td>\n",
       "      <td>10</td>\n",
       "      <td>7.0</td>\n",
       "      <td>I am so happy to found this accomodation near ...</td>\n",
       "    </tr>\n",
       "    <tr>\n",
       "      <th>8463</th>\n",
       "      <td>12492</td>\n",
       "      <td>9</td>\n",
       "      <td>312</td>\n",
       "      <td>212.0</td>\n",
       "      <td>We were very happy to find this place. The com...</td>\n",
       "    </tr>\n",
       "    <tr>\n",
       "      <th>8464</th>\n",
       "      <td>12493</td>\n",
       "      <td>5</td>\n",
       "      <td>35</td>\n",
       "      <td>27.0</td>\n",
       "      <td>Nice place, nice location, easy communication!...</td>\n",
       "    </tr>\n",
       "    <tr>\n",
       "      <th>8465</th>\n",
       "      <td>12494</td>\n",
       "      <td>10</td>\n",
       "      <td>207</td>\n",
       "      <td>157.0</td>\n",
       "      <td>We had a very lovely stay in Lisbon.The apartm...</td>\n",
       "    </tr>\n",
       "  </tbody>\n",
       "</table>\n",
       "<p>8466 rows × 5 columns</p>\n",
       "</div>"
      ],
      "text/plain": [
       "      index  unique_languages_count  total_comments_count  eng_comment_count   \n",
       "0         1                       7                    50               30.0  \\\n",
       "1         5                       6                    41               17.0   \n",
       "2         8                       8                   168              145.0   \n",
       "3         9                       6                    32               16.0   \n",
       "4        10                       3                    13               11.0   \n",
       "...     ...                     ...                   ...                ...   \n",
       "8461  12490                       7                    32               14.0   \n",
       "8462  12491                       4                    10                7.0   \n",
       "8463  12492                       9                   312              212.0   \n",
       "8464  12493                       5                    35               27.0   \n",
       "8465  12494                      10                   207              157.0   \n",
       "\n",
       "                                     eng_reviews_merged  \n",
       "0     this is a very cozy and comfortable house to s...  \n",
       "1     We really enjoyed staying at Sonias place. The...  \n",
       "2     Shani was very helpful throughout our process!...  \n",
       "3     Great little space; lovely hosts - clean and w...  \n",
       "4     WOW, what a great stay! The spacious apartment...  \n",
       "...                                                 ...  \n",
       "8461  Excellent very well equiped apartment! Thank y...  \n",
       "8462  I am so happy to found this accomodation near ...  \n",
       "8463  We were very happy to find this place. The com...  \n",
       "8464  Nice place, nice location, easy communication!...  \n",
       "8465  We had a very lovely stay in Lisbon.The apartm...  \n",
       "\n",
       "[8466 rows x 5 columns]"
      ]
     },
     "execution_count": 26,
     "metadata": {},
     "output_type": "execute_result"
    }
   ],
   "source": [
    "reviews_df = pd.read_csv('output/reviews_with_language.csv')\n",
    "reviews_df['comments'] = reviews_df['comments'].astype('string')\n",
    "reviews_df = reviews_df.dropna()\n",
    "\n",
    "grouped = reviews_df.groupby(['index', 'language']).agg({'comments': 'count'})\n",
    "grouped = grouped.reset_index()\n",
    "final_grouped = grouped.groupby('index').agg({'language': 'nunique', 'comments': 'sum'})\n",
    "final_grouped = final_grouped.reset_index()\n",
    "final_grouped.columns = ['index', 'unique_languages_count', 'total_comments_count'] # rename the columns to the desired names\n",
    "\n",
    "\n",
    "# Extracting and merging only English revies for now\n",
    "reviews_df_eng = reviews_df[(reviews_df['language']=='en')]\n",
    "\n",
    "grouped_eng = reviews_df_eng.groupby(['index']).agg({'comments': ['count', ' '.join]})\n",
    "grouped_eng.columns = ['_'.join(col).strip() for col in grouped_eng.columns.values]\n",
    "grouped_eng = grouped_eng.reset_index()\n",
    "\n",
    "grouped_eng.columns = ['index', 'eng_comment_count', 'eng_reviews_merged'] # Rename the columns of the DataFrame\n",
    "\n",
    "# Dataset constructed from Reviews\n",
    "merged_reviews = pd.merge(final_grouped, grouped_eng, on='index', how='left')\n",
    "merged_reviews"
   ]
  },
  {
   "cell_type": "code",
   "execution_count": 27,
   "metadata": {},
   "outputs": [
    {
     "data": {
      "text/html": [
       "<div>\n",
       "<style scoped>\n",
       "    .dataframe tbody tr th:only-of-type {\n",
       "        vertical-align: middle;\n",
       "    }\n",
       "\n",
       "    .dataframe tbody tr th {\n",
       "        vertical-align: top;\n",
       "    }\n",
       "\n",
       "    .dataframe thead th {\n",
       "        text-align: right;\n",
       "    }\n",
       "</style>\n",
       "<table border=\"1\" class=\"dataframe\">\n",
       "  <thead>\n",
       "    <tr style=\"text-align: right;\">\n",
       "      <th></th>\n",
       "      <th>index</th>\n",
       "      <th>description</th>\n",
       "      <th>host_about</th>\n",
       "      <th>unlisted</th>\n",
       "      <th>description_language</th>\n",
       "      <th>host_about_language</th>\n",
       "      <th>description_english</th>\n",
       "      <th>cleaned_description</th>\n",
       "      <th>unique_languages_count</th>\n",
       "      <th>total_comments_count</th>\n",
       "      <th>eng_comment_count</th>\n",
       "      <th>eng_reviews_merged</th>\n",
       "    </tr>\n",
       "  </thead>\n",
       "  <tbody>\n",
       "    <tr>\n",
       "      <th>0</th>\n",
       "      <td>7713</td>\n",
       "      <td>This exclusive villa, located in a quiet pinew...</td>\n",
       "      <td>We are a couple with a big family and we love ...</td>\n",
       "      <td>0</td>\n",
       "      <td>en</td>\n",
       "      <td>en</td>\n",
       "      <td>This exclusive villa, located in a quiet pinew...</td>\n",
       "      <td>exclus villa locat quiet pinewood area complet...</td>\n",
       "      <td>3.0</td>\n",
       "      <td>25.0</td>\n",
       "      <td>21.0</td>\n",
       "      <td>Great house in a great location. Close to Lisb...</td>\n",
       "    </tr>\n",
       "    <tr>\n",
       "      <th>1</th>\n",
       "      <td>11334</td>\n",
       "      <td>Luna House B&amp;B is part of the Luna House Hub, ...</td>\n",
       "      <td>Luna House B&amp;B is part of the Luna House Hub, ...</td>\n",
       "      <td>1</td>\n",
       "      <td>en</td>\n",
       "      <td>en</td>\n",
       "      <td>Luna House B&amp;B is part of the Luna House Hub, ...</td>\n",
       "      <td>luna hous b b part luna hous hub locat close v...</td>\n",
       "      <td>NaN</td>\n",
       "      <td>NaN</td>\n",
       "      <td>NaN</td>\n",
       "      <td>&lt;NA&gt;</td>\n",
       "    </tr>\n",
       "    <tr>\n",
       "      <th>2</th>\n",
       "      <td>3537</td>\n",
       "      <td>Newly refurbished apartment with swimming pool...</td>\n",
       "      <td>World citizen looking forward to meet new peop...</td>\n",
       "      <td>0</td>\n",
       "      <td>en</td>\n",
       "      <td>en</td>\n",
       "      <td>Newly refurbished apartment with swimming pool...</td>\n",
       "      <td>newli refurbish apart swim pool stun view casa...</td>\n",
       "      <td>3.0</td>\n",
       "      <td>32.0</td>\n",
       "      <td>25.0</td>\n",
       "      <td>Great getaway in cascais. Gorgeous apartment a...</td>\n",
       "    </tr>\n",
       "    <tr>\n",
       "      <th>3</th>\n",
       "      <td>4062</td>\n",
       "      <td>Nice studio for two people with one bathroom a...</td>\n",
       "      <td>Hello, I’m Antonio and I want to welcome you i...</td>\n",
       "      <td>0</td>\n",
       "      <td>en</td>\n",
       "      <td>en</td>\n",
       "      <td>Nice studio for two people with one bathroom a...</td>\n",
       "      <td>nice studio two peopl one bathroom compact kit...</td>\n",
       "      <td>13.0</td>\n",
       "      <td>226.0</td>\n",
       "      <td>146.0</td>\n",
       "      <td>The studio is very charming, comfortable, has ...</td>\n",
       "    </tr>\n",
       "    <tr>\n",
       "      <th>4</th>\n",
       "      <td>2743</td>\n",
       "      <td>WHETHER FOR A SHORTER OR LONGER STAYS, I WANT ...</td>\n",
       "      <td>My name is Alexandre, I live in Lisbon and I l...</td>\n",
       "      <td>0</td>\n",
       "      <td>en</td>\n",
       "      <td>en</td>\n",
       "      <td>WHETHER FOR A SHORTER OR LONGER STAYS, I WANT ...</td>\n",
       "      <td>whether shorter longer stay want offer solut p...</td>\n",
       "      <td>16.0</td>\n",
       "      <td>523.0</td>\n",
       "      <td>356.0</td>\n",
       "      <td>I'm portuguese from Lisbon , living in Italy, ...</td>\n",
       "    </tr>\n",
       "  </tbody>\n",
       "</table>\n",
       "</div>"
      ],
      "text/plain": [
       "   index                                        description   \n",
       "0   7713  This exclusive villa, located in a quiet pinew...  \\\n",
       "1  11334  Luna House B&B is part of the Luna House Hub, ...   \n",
       "2   3537  Newly refurbished apartment with swimming pool...   \n",
       "3   4062  Nice studio for two people with one bathroom a...   \n",
       "4   2743  WHETHER FOR A SHORTER OR LONGER STAYS, I WANT ...   \n",
       "\n",
       "                                          host_about  unlisted   \n",
       "0  We are a couple with a big family and we love ...         0  \\\n",
       "1  Luna House B&B is part of the Luna House Hub, ...         1   \n",
       "2  World citizen looking forward to meet new peop...         0   \n",
       "3  Hello, I’m Antonio and I want to welcome you i...         0   \n",
       "4  My name is Alexandre, I live in Lisbon and I l...         0   \n",
       "\n",
       "  description_language host_about_language   \n",
       "0                   en                  en  \\\n",
       "1                   en                  en   \n",
       "2                   en                  en   \n",
       "3                   en                  en   \n",
       "4                   en                  en   \n",
       "\n",
       "                                 description_english   \n",
       "0  This exclusive villa, located in a quiet pinew...  \\\n",
       "1  Luna House B&B is part of the Luna House Hub, ...   \n",
       "2  Newly refurbished apartment with swimming pool...   \n",
       "3  Nice studio for two people with one bathroom a...   \n",
       "4  WHETHER FOR A SHORTER OR LONGER STAYS, I WANT ...   \n",
       "\n",
       "                                 cleaned_description  unique_languages_count   \n",
       "0  exclus villa locat quiet pinewood area complet...                     3.0  \\\n",
       "1  luna hous b b part luna hous hub locat close v...                     NaN   \n",
       "2  newli refurbish apart swim pool stun view casa...                     3.0   \n",
       "3  nice studio two peopl one bathroom compact kit...                    13.0   \n",
       "4  whether shorter longer stay want offer solut p...                    16.0   \n",
       "\n",
       "   total_comments_count  eng_comment_count   \n",
       "0                  25.0               21.0  \\\n",
       "1                   NaN                NaN   \n",
       "2                  32.0               25.0   \n",
       "3                 226.0              146.0   \n",
       "4                 523.0              356.0   \n",
       "\n",
       "                                  eng_reviews_merged  \n",
       "0  Great house in a great location. Close to Lisb...  \n",
       "1                                               <NA>  \n",
       "2  Great getaway in cascais. Gorgeous apartment a...  \n",
       "3  The studio is very charming, comfortable, has ...  \n",
       "4  I'm portuguese from Lisbon , living in Italy, ...  "
      ]
     },
     "execution_count": 27,
     "metadata": {},
     "output_type": "execute_result"
    }
   ],
   "source": [
    "# Merging reviews to train_df\n",
    "train_df = pd.merge(train_df, merged_reviews, on='index', how='left')\n",
    "train_df.head()"
   ]
  },
  {
   "cell_type": "code",
   "execution_count": 28,
   "metadata": {},
   "outputs": [
    {
     "name": "stderr",
     "output_type": "stream",
     "text": [
      "100%|███████████████████████████████████████| 9996/9996 [06:06<00:00, 27.26it/s]\n"
     ]
    },
    {
     "data": {
      "text/html": [
       "<div>\n",
       "<style scoped>\n",
       "    .dataframe tbody tr th:only-of-type {\n",
       "        vertical-align: middle;\n",
       "    }\n",
       "\n",
       "    .dataframe tbody tr th {\n",
       "        vertical-align: top;\n",
       "    }\n",
       "\n",
       "    .dataframe thead th {\n",
       "        text-align: right;\n",
       "    }\n",
       "</style>\n",
       "<table border=\"1\" class=\"dataframe\">\n",
       "  <thead>\n",
       "    <tr style=\"text-align: right;\">\n",
       "      <th></th>\n",
       "      <th>index</th>\n",
       "      <th>description</th>\n",
       "      <th>host_about</th>\n",
       "      <th>unlisted</th>\n",
       "      <th>description_language</th>\n",
       "      <th>host_about_language</th>\n",
       "      <th>description_english</th>\n",
       "      <th>cleaned_description</th>\n",
       "      <th>unique_languages_count</th>\n",
       "      <th>total_comments_count</th>\n",
       "      <th>eng_comment_count</th>\n",
       "      <th>eng_reviews_merged</th>\n",
       "      <th>eng_reviews_cleaned</th>\n",
       "    </tr>\n",
       "  </thead>\n",
       "  <tbody>\n",
       "    <tr>\n",
       "      <th>0</th>\n",
       "      <td>7713</td>\n",
       "      <td>This exclusive villa, located in a quiet pinew...</td>\n",
       "      <td>We are a couple with a big family and we love ...</td>\n",
       "      <td>0</td>\n",
       "      <td>en</td>\n",
       "      <td>en</td>\n",
       "      <td>This exclusive villa, located in a quiet pinew...</td>\n",
       "      <td>exclus villa locat quiet pinewood area complet...</td>\n",
       "      <td>3.0</td>\n",
       "      <td>25.0</td>\n",
       "      <td>21.0</td>\n",
       "      <td>Great house in a great location. Close to Lisb...</td>\n",
       "      <td>great hous great locat close lisbon sintra bea...</td>\n",
       "    </tr>\n",
       "    <tr>\n",
       "      <th>1</th>\n",
       "      <td>11334</td>\n",
       "      <td>Luna House B&amp;B is part of the Luna House Hub, ...</td>\n",
       "      <td>Luna House B&amp;B is part of the Luna House Hub, ...</td>\n",
       "      <td>1</td>\n",
       "      <td>en</td>\n",
       "      <td>en</td>\n",
       "      <td>Luna House B&amp;B is part of the Luna House Hub, ...</td>\n",
       "      <td>luna hous b b part luna hous hub locat close v...</td>\n",
       "      <td>NaN</td>\n",
       "      <td>NaN</td>\n",
       "      <td>NaN</td>\n",
       "      <td></td>\n",
       "      <td></td>\n",
       "    </tr>\n",
       "    <tr>\n",
       "      <th>2</th>\n",
       "      <td>3537</td>\n",
       "      <td>Newly refurbished apartment with swimming pool...</td>\n",
       "      <td>World citizen looking forward to meet new peop...</td>\n",
       "      <td>0</td>\n",
       "      <td>en</td>\n",
       "      <td>en</td>\n",
       "      <td>Newly refurbished apartment with swimming pool...</td>\n",
       "      <td>newli refurbish apart swim pool stun view casa...</td>\n",
       "      <td>3.0</td>\n",
       "      <td>32.0</td>\n",
       "      <td>25.0</td>\n",
       "      <td>Great getaway in cascais. Gorgeous apartment a...</td>\n",
       "      <td>great getaway cascai gorgeous apart excel kid ...</td>\n",
       "    </tr>\n",
       "    <tr>\n",
       "      <th>3</th>\n",
       "      <td>4062</td>\n",
       "      <td>Nice studio for two people with one bathroom a...</td>\n",
       "      <td>Hello, I’m Antonio and I want to welcome you i...</td>\n",
       "      <td>0</td>\n",
       "      <td>en</td>\n",
       "      <td>en</td>\n",
       "      <td>Nice studio for two people with one bathroom a...</td>\n",
       "      <td>nice studio two peopl one bathroom compact kit...</td>\n",
       "      <td>13.0</td>\n",
       "      <td>226.0</td>\n",
       "      <td>146.0</td>\n",
       "      <td>The studio is very charming, comfortable, has ...</td>\n",
       "      <td>studio charm comfort everyth need stay kitchen...</td>\n",
       "    </tr>\n",
       "    <tr>\n",
       "      <th>4</th>\n",
       "      <td>2743</td>\n",
       "      <td>WHETHER FOR A SHORTER OR LONGER STAYS, I WANT ...</td>\n",
       "      <td>My name is Alexandre, I live in Lisbon and I l...</td>\n",
       "      <td>0</td>\n",
       "      <td>en</td>\n",
       "      <td>en</td>\n",
       "      <td>WHETHER FOR A SHORTER OR LONGER STAYS, I WANT ...</td>\n",
       "      <td>whether shorter longer stay want offer solut p...</td>\n",
       "      <td>16.0</td>\n",
       "      <td>523.0</td>\n",
       "      <td>356.0</td>\n",
       "      <td>I'm portuguese from Lisbon , living in Italy, ...</td>\n",
       "      <td>portugues lisbon live itali travel often back ...</td>\n",
       "    </tr>\n",
       "  </tbody>\n",
       "</table>\n",
       "</div>"
      ],
      "text/plain": [
       "   index                                        description   \n",
       "0   7713  This exclusive villa, located in a quiet pinew...  \\\n",
       "1  11334  Luna House B&B is part of the Luna House Hub, ...   \n",
       "2   3537  Newly refurbished apartment with swimming pool...   \n",
       "3   4062  Nice studio for two people with one bathroom a...   \n",
       "4   2743  WHETHER FOR A SHORTER OR LONGER STAYS, I WANT ...   \n",
       "\n",
       "                                          host_about  unlisted   \n",
       "0  We are a couple with a big family and we love ...         0  \\\n",
       "1  Luna House B&B is part of the Luna House Hub, ...         1   \n",
       "2  World citizen looking forward to meet new peop...         0   \n",
       "3  Hello, I’m Antonio and I want to welcome you i...         0   \n",
       "4  My name is Alexandre, I live in Lisbon and I l...         0   \n",
       "\n",
       "  description_language host_about_language   \n",
       "0                   en                  en  \\\n",
       "1                   en                  en   \n",
       "2                   en                  en   \n",
       "3                   en                  en   \n",
       "4                   en                  en   \n",
       "\n",
       "                                 description_english   \n",
       "0  This exclusive villa, located in a quiet pinew...  \\\n",
       "1  Luna House B&B is part of the Luna House Hub, ...   \n",
       "2  Newly refurbished apartment with swimming pool...   \n",
       "3  Nice studio for two people with one bathroom a...   \n",
       "4  WHETHER FOR A SHORTER OR LONGER STAYS, I WANT ...   \n",
       "\n",
       "                                 cleaned_description  unique_languages_count   \n",
       "0  exclus villa locat quiet pinewood area complet...                     3.0  \\\n",
       "1  luna hous b b part luna hous hub locat close v...                     NaN   \n",
       "2  newli refurbish apart swim pool stun view casa...                     3.0   \n",
       "3  nice studio two peopl one bathroom compact kit...                    13.0   \n",
       "4  whether shorter longer stay want offer solut p...                    16.0   \n",
       "\n",
       "   total_comments_count  eng_comment_count   \n",
       "0                  25.0               21.0  \\\n",
       "1                   NaN                NaN   \n",
       "2                  32.0               25.0   \n",
       "3                 226.0              146.0   \n",
       "4                 523.0              356.0   \n",
       "\n",
       "                                  eng_reviews_merged   \n",
       "0  Great house in a great location. Close to Lisb...  \\\n",
       "1                                                      \n",
       "2  Great getaway in cascais. Gorgeous apartment a...   \n",
       "3  The studio is very charming, comfortable, has ...   \n",
       "4  I'm portuguese from Lisbon , living in Italy, ...   \n",
       "\n",
       "                                 eng_reviews_cleaned  \n",
       "0  great hous great locat close lisbon sintra bea...  \n",
       "1                                                     \n",
       "2  great getaway cascai gorgeous apart excel kid ...  \n",
       "3  studio charm comfort everyth need stay kitchen...  \n",
       "4  portugues lisbon live itali travel often back ...  "
      ]
     },
     "execution_count": 28,
     "metadata": {},
     "output_type": "execute_result"
    }
   ],
   "source": [
    "train_df['eng_reviews_cleaned'] = clean(train_df['eng_reviews_merged'], lemmatize = True, stemmer = True)\n",
    "train_df.head()"
   ]
  },
  {
   "cell_type": "code",
   "execution_count": 29,
   "metadata": {},
   "outputs": [
    {
     "data": {
      "text/html": [
       "<div>\n",
       "<style scoped>\n",
       "    .dataframe tbody tr th:only-of-type {\n",
       "        vertical-align: middle;\n",
       "    }\n",
       "\n",
       "    .dataframe tbody tr th {\n",
       "        vertical-align: top;\n",
       "    }\n",
       "\n",
       "    .dataframe thead th {\n",
       "        text-align: right;\n",
       "    }\n",
       "</style>\n",
       "<table border=\"1\" class=\"dataframe\">\n",
       "  <thead>\n",
       "    <tr style=\"text-align: right;\">\n",
       "      <th></th>\n",
       "      <th>index</th>\n",
       "      <th>description</th>\n",
       "      <th>host_about</th>\n",
       "      <th>unlisted</th>\n",
       "      <th>description_language</th>\n",
       "      <th>host_about_language</th>\n",
       "      <th>description_english</th>\n",
       "      <th>cleaned_description</th>\n",
       "      <th>unique_languages_count</th>\n",
       "      <th>total_comments_count</th>\n",
       "      <th>eng_comment_count</th>\n",
       "      <th>eng_reviews_merged</th>\n",
       "      <th>eng_reviews_cleaned</th>\n",
       "    </tr>\n",
       "  </thead>\n",
       "  <tbody>\n",
       "    <tr>\n",
       "      <th>0</th>\n",
       "      <td>7713</td>\n",
       "      <td>This exclusive villa, located in a quiet pinew...</td>\n",
       "      <td>We are a couple with a big family and we love ...</td>\n",
       "      <td>0</td>\n",
       "      <td>en</td>\n",
       "      <td>en</td>\n",
       "      <td>This exclusive villa, located in a quiet pinew...</td>\n",
       "      <td>exclus villa locat quiet pinewood area complet...</td>\n",
       "      <td>0.071429</td>\n",
       "      <td>0.026846</td>\n",
       "      <td>0.030303</td>\n",
       "      <td>Great house in a great location. Close to Lisb...</td>\n",
       "      <td>great hous great locat close lisbon sintra bea...</td>\n",
       "    </tr>\n",
       "    <tr>\n",
       "      <th>1</th>\n",
       "      <td>11334</td>\n",
       "      <td>Luna House B&amp;B is part of the Luna House Hub, ...</td>\n",
       "      <td>Luna House B&amp;B is part of the Luna House Hub, ...</td>\n",
       "      <td>1</td>\n",
       "      <td>en</td>\n",
       "      <td>en</td>\n",
       "      <td>Luna House B&amp;B is part of the Luna House Hub, ...</td>\n",
       "      <td>luna hous b b part luna hous hub locat close v...</td>\n",
       "      <td>NaN</td>\n",
       "      <td>NaN</td>\n",
       "      <td>NaN</td>\n",
       "      <td></td>\n",
       "      <td></td>\n",
       "    </tr>\n",
       "    <tr>\n",
       "      <th>2</th>\n",
       "      <td>3537</td>\n",
       "      <td>Newly refurbished apartment with swimming pool...</td>\n",
       "      <td>World citizen looking forward to meet new peop...</td>\n",
       "      <td>0</td>\n",
       "      <td>en</td>\n",
       "      <td>en</td>\n",
       "      <td>Newly refurbished apartment with swimming pool...</td>\n",
       "      <td>newli refurbish apart swim pool stun view casa...</td>\n",
       "      <td>0.071429</td>\n",
       "      <td>0.034676</td>\n",
       "      <td>0.036364</td>\n",
       "      <td>Great getaway in cascais. Gorgeous apartment a...</td>\n",
       "      <td>great getaway cascai gorgeous apart excel kid ...</td>\n",
       "    </tr>\n",
       "    <tr>\n",
       "      <th>3</th>\n",
       "      <td>4062</td>\n",
       "      <td>Nice studio for two people with one bathroom a...</td>\n",
       "      <td>Hello, I’m Antonio and I want to welcome you i...</td>\n",
       "      <td>0</td>\n",
       "      <td>en</td>\n",
       "      <td>en</td>\n",
       "      <td>Nice studio for two people with one bathroom a...</td>\n",
       "      <td>nice studio two peopl one bathroom compact kit...</td>\n",
       "      <td>0.428571</td>\n",
       "      <td>0.251678</td>\n",
       "      <td>0.219697</td>\n",
       "      <td>The studio is very charming, comfortable, has ...</td>\n",
       "      <td>studio charm comfort everyth need stay kitchen...</td>\n",
       "    </tr>\n",
       "    <tr>\n",
       "      <th>4</th>\n",
       "      <td>2743</td>\n",
       "      <td>WHETHER FOR A SHORTER OR LONGER STAYS, I WANT ...</td>\n",
       "      <td>My name is Alexandre, I live in Lisbon and I l...</td>\n",
       "      <td>0</td>\n",
       "      <td>en</td>\n",
       "      <td>en</td>\n",
       "      <td>WHETHER FOR A SHORTER OR LONGER STAYS, I WANT ...</td>\n",
       "      <td>whether shorter longer stay want offer solut p...</td>\n",
       "      <td>0.535714</td>\n",
       "      <td>0.583893</td>\n",
       "      <td>0.537879</td>\n",
       "      <td>I'm portuguese from Lisbon , living in Italy, ...</td>\n",
       "      <td>portugues lisbon live itali travel often back ...</td>\n",
       "    </tr>\n",
       "  </tbody>\n",
       "</table>\n",
       "</div>"
      ],
      "text/plain": [
       "   index                                        description   \n",
       "0   7713  This exclusive villa, located in a quiet pinew...  \\\n",
       "1  11334  Luna House B&B is part of the Luna House Hub, ...   \n",
       "2   3537  Newly refurbished apartment with swimming pool...   \n",
       "3   4062  Nice studio for two people with one bathroom a...   \n",
       "4   2743  WHETHER FOR A SHORTER OR LONGER STAYS, I WANT ...   \n",
       "\n",
       "                                          host_about  unlisted   \n",
       "0  We are a couple with a big family and we love ...         0  \\\n",
       "1  Luna House B&B is part of the Luna House Hub, ...         1   \n",
       "2  World citizen looking forward to meet new peop...         0   \n",
       "3  Hello, I’m Antonio and I want to welcome you i...         0   \n",
       "4  My name is Alexandre, I live in Lisbon and I l...         0   \n",
       "\n",
       "  description_language host_about_language   \n",
       "0                   en                  en  \\\n",
       "1                   en                  en   \n",
       "2                   en                  en   \n",
       "3                   en                  en   \n",
       "4                   en                  en   \n",
       "\n",
       "                                 description_english   \n",
       "0  This exclusive villa, located in a quiet pinew...  \\\n",
       "1  Luna House B&B is part of the Luna House Hub, ...   \n",
       "2  Newly refurbished apartment with swimming pool...   \n",
       "3  Nice studio for two people with one bathroom a...   \n",
       "4  WHETHER FOR A SHORTER OR LONGER STAYS, I WANT ...   \n",
       "\n",
       "                                 cleaned_description  unique_languages_count   \n",
       "0  exclus villa locat quiet pinewood area complet...                0.071429  \\\n",
       "1  luna hous b b part luna hous hub locat close v...                     NaN   \n",
       "2  newli refurbish apart swim pool stun view casa...                0.071429   \n",
       "3  nice studio two peopl one bathroom compact kit...                0.428571   \n",
       "4  whether shorter longer stay want offer solut p...                0.535714   \n",
       "\n",
       "   total_comments_count  eng_comment_count   \n",
       "0              0.026846           0.030303  \\\n",
       "1                   NaN                NaN   \n",
       "2              0.034676           0.036364   \n",
       "3              0.251678           0.219697   \n",
       "4              0.583893           0.537879   \n",
       "\n",
       "                                  eng_reviews_merged   \n",
       "0  Great house in a great location. Close to Lisb...  \\\n",
       "1                                                      \n",
       "2  Great getaway in cascais. Gorgeous apartment a...   \n",
       "3  The studio is very charming, comfortable, has ...   \n",
       "4  I'm portuguese from Lisbon , living in Italy, ...   \n",
       "\n",
       "                                 eng_reviews_cleaned  \n",
       "0  great hous great locat close lisbon sintra bea...  \n",
       "1                                                     \n",
       "2  great getaway cascai gorgeous apart excel kid ...  \n",
       "3  studio charm comfort everyth need stay kitchen...  \n",
       "4  portugues lisbon live itali travel often back ...  "
      ]
     },
     "execution_count": 29,
     "metadata": {},
     "output_type": "execute_result"
    }
   ],
   "source": [
    "# Scaling selected columns with MinMaxScaler\n",
    "scaler = MinMaxScaler()\n",
    "cols_to_scale = ['unique_languages_count', 'total_comments_count', 'eng_comment_count']\n",
    "train_df[cols_to_scale] = scaler.fit_transform(train_df[cols_to_scale])\n",
    "\n",
    "train_df.head()"
   ]
  },
  {
   "cell_type": "markdown",
   "metadata": {},
   "source": [
    "## Defining Features with TF-IDF"
   ]
  },
  {
   "cell_type": "code",
   "execution_count": 30,
   "metadata": {},
   "outputs": [
    {
     "data": {
      "text/html": [
       "<div>\n",
       "<style scoped>\n",
       "    .dataframe tbody tr th:only-of-type {\n",
       "        vertical-align: middle;\n",
       "    }\n",
       "\n",
       "    .dataframe tbody tr th {\n",
       "        vertical-align: top;\n",
       "    }\n",
       "\n",
       "    .dataframe thead th {\n",
       "        text-align: right;\n",
       "    }\n",
       "</style>\n",
       "<table border=\"1\" class=\"dataframe\">\n",
       "  <thead>\n",
       "    <tr style=\"text-align: right;\">\n",
       "      <th></th>\n",
       "      <th>index</th>\n",
       "      <th>description</th>\n",
       "      <th>host_about</th>\n",
       "      <th>unlisted</th>\n",
       "      <th>description_language</th>\n",
       "      <th>host_about_language</th>\n",
       "      <th>description_english</th>\n",
       "      <th>cleaned_description</th>\n",
       "      <th>unique_languages_count</th>\n",
       "      <th>total_comments_count</th>\n",
       "      <th>eng_comment_count</th>\n",
       "      <th>eng_reviews_merged</th>\n",
       "      <th>eng_reviews_cleaned</th>\n",
       "    </tr>\n",
       "  </thead>\n",
       "  <tbody>\n",
       "    <tr>\n",
       "      <th>0</th>\n",
       "      <td>7713</td>\n",
       "      <td>This exclusive villa, located in a quiet pinew...</td>\n",
       "      <td>We are a couple with a big family and we love ...</td>\n",
       "      <td>0</td>\n",
       "      <td>en</td>\n",
       "      <td>en</td>\n",
       "      <td>This exclusive villa, located in a quiet pinew...</td>\n",
       "      <td>exclus villa locat quiet pinewood area complet...</td>\n",
       "      <td>0.071429</td>\n",
       "      <td>0.026846</td>\n",
       "      <td>0.030303</td>\n",
       "      <td>Great house in a great location. Close to Lisb...</td>\n",
       "      <td>great hous great locat close lisbon sintra bea...</td>\n",
       "    </tr>\n",
       "    <tr>\n",
       "      <th>1</th>\n",
       "      <td>11334</td>\n",
       "      <td>Luna House B&amp;B is part of the Luna House Hub, ...</td>\n",
       "      <td>Luna House B&amp;B is part of the Luna House Hub, ...</td>\n",
       "      <td>1</td>\n",
       "      <td>en</td>\n",
       "      <td>en</td>\n",
       "      <td>Luna House B&amp;B is part of the Luna House Hub, ...</td>\n",
       "      <td>luna hous b b part luna hous hub locat close v...</td>\n",
       "      <td>NaN</td>\n",
       "      <td>NaN</td>\n",
       "      <td>NaN</td>\n",
       "      <td></td>\n",
       "      <td></td>\n",
       "    </tr>\n",
       "    <tr>\n",
       "      <th>2</th>\n",
       "      <td>3537</td>\n",
       "      <td>Newly refurbished apartment with swimming pool...</td>\n",
       "      <td>World citizen looking forward to meet new peop...</td>\n",
       "      <td>0</td>\n",
       "      <td>en</td>\n",
       "      <td>en</td>\n",
       "      <td>Newly refurbished apartment with swimming pool...</td>\n",
       "      <td>newli refurbish apart swim pool stun view casa...</td>\n",
       "      <td>0.071429</td>\n",
       "      <td>0.034676</td>\n",
       "      <td>0.036364</td>\n",
       "      <td>Great getaway in cascais. Gorgeous apartment a...</td>\n",
       "      <td>great getaway cascai gorgeous apart excel kid ...</td>\n",
       "    </tr>\n",
       "  </tbody>\n",
       "</table>\n",
       "</div>"
      ],
      "text/plain": [
       "   index                                        description   \n",
       "0   7713  This exclusive villa, located in a quiet pinew...  \\\n",
       "1  11334  Luna House B&B is part of the Luna House Hub, ...   \n",
       "2   3537  Newly refurbished apartment with swimming pool...   \n",
       "\n",
       "                                          host_about  unlisted   \n",
       "0  We are a couple with a big family and we love ...         0  \\\n",
       "1  Luna House B&B is part of the Luna House Hub, ...         1   \n",
       "2  World citizen looking forward to meet new peop...         0   \n",
       "\n",
       "  description_language host_about_language   \n",
       "0                   en                  en  \\\n",
       "1                   en                  en   \n",
       "2                   en                  en   \n",
       "\n",
       "                                 description_english   \n",
       "0  This exclusive villa, located in a quiet pinew...  \\\n",
       "1  Luna House B&B is part of the Luna House Hub, ...   \n",
       "2  Newly refurbished apartment with swimming pool...   \n",
       "\n",
       "                                 cleaned_description  unique_languages_count   \n",
       "0  exclus villa locat quiet pinewood area complet...                0.071429  \\\n",
       "1  luna hous b b part luna hous hub locat close v...                     NaN   \n",
       "2  newli refurbish apart swim pool stun view casa...                0.071429   \n",
       "\n",
       "   total_comments_count  eng_comment_count   \n",
       "0              0.026846           0.030303  \\\n",
       "1                   NaN                NaN   \n",
       "2              0.034676           0.036364   \n",
       "\n",
       "                                  eng_reviews_merged   \n",
       "0  Great house in a great location. Close to Lisb...  \\\n",
       "1                                                      \n",
       "2  Great getaway in cascais. Gorgeous apartment a...   \n",
       "\n",
       "                                 eng_reviews_cleaned  \n",
       "0  great hous great locat close lisbon sintra bea...  \n",
       "1                                                     \n",
       "2  great getaway cascai gorgeous apart excel kid ...  "
      ]
     },
     "execution_count": 30,
     "metadata": {},
     "output_type": "execute_result"
    }
   ],
   "source": [
    "train_df.head(3) # this is training dataset merged with \"merged english reviews\""
   ]
  },
  {
   "cell_type": "code",
   "execution_count": 31,
   "metadata": {},
   "outputs": [
    {
     "name": "stdout",
     "output_type": "stream",
     "text": [
      "(9996, 1000) (9996, 1000)\n"
     ]
    }
   ],
   "source": [
    "tfidf_desc = TfidfVectorizer(max_features = 1000)     \n",
    "tfidf_reviews = TfidfVectorizer(max_features = 1000) \n",
    "\n",
    "X_train_1 = tfidf_desc.fit_transform(train_df[\"cleaned_description\"])\n",
    "X_train_2 = tfidf_reviews.fit_transform(train_df[\"eng_reviews_cleaned\"]) \n",
    "\n",
    "print(X_train_1.shape, X_train_2.shape)"
   ]
  },
  {
   "cell_type": "code",
   "execution_count": 32,
   "metadata": {},
   "outputs": [],
   "source": [
    "n1 = X_train_1.shape[1]\n",
    "n2 = X_train_2.shape[1]\n",
    "n_additional = len(cols_to_scale)\n",
    "\n",
    "X_train_ext = np.zeros((X_train_1.shape[0], n1 + n2 + n_additional))"
   ]
  },
  {
   "cell_type": "code",
   "execution_count": 33,
   "metadata": {},
   "outputs": [
    {
     "data": {
      "text/plain": [
       "(9996, 2003)"
      ]
     },
     "execution_count": 33,
     "metadata": {},
     "output_type": "execute_result"
    }
   ],
   "source": [
    "X_train_ext[:, :n1] = X_train_1.toarray() # copy over TF-IDF for cleaned AirBnb description\n",
    "X_train_ext[:, n1:n1+n2] = X_train_2.toarray() # copy over TF-IDF for cleaned English reviews\n",
    "X_train_ext[:, n1+n2:] = train_df[cols_to_scale].values # copy over the count columns\n",
    "\n",
    "X_train_ext = np.nan_to_num(X_train_ext, nan=0) # filling in empty values with zeroes\n",
    "\n",
    "X_train_ext.shape"
   ]
  },
  {
   "cell_type": "markdown",
   "metadata": {},
   "source": [
    "## Processing validation set in the same manner"
   ]
  },
  {
   "cell_type": "code",
   "execution_count": 34,
   "metadata": {},
   "outputs": [
    {
     "name": "stderr",
     "output_type": "stream",
     "text": [
      "100%|██████████████████████████████████████| 2500/2500 [00:06<00:00, 371.54it/s]\n",
      "100%|███████████████████████████████████████| 2500/2500 [01:32<00:00, 26.97it/s]\n"
     ]
    },
    {
     "data": {
      "text/html": [
       "<div>\n",
       "<style scoped>\n",
       "    .dataframe tbody tr th:only-of-type {\n",
       "        vertical-align: middle;\n",
       "    }\n",
       "\n",
       "    .dataframe tbody tr th {\n",
       "        vertical-align: top;\n",
       "    }\n",
       "\n",
       "    .dataframe thead th {\n",
       "        text-align: right;\n",
       "    }\n",
       "</style>\n",
       "<table border=\"1\" class=\"dataframe\">\n",
       "  <thead>\n",
       "    <tr style=\"text-align: right;\">\n",
       "      <th></th>\n",
       "      <th>index</th>\n",
       "      <th>description</th>\n",
       "      <th>host_about</th>\n",
       "      <th>unlisted</th>\n",
       "      <th>description_language</th>\n",
       "      <th>host_about_language</th>\n",
       "      <th>description_english</th>\n",
       "      <th>cleaned_description</th>\n",
       "      <th>unique_languages_count</th>\n",
       "      <th>total_comments_count</th>\n",
       "      <th>eng_comment_count</th>\n",
       "      <th>eng_reviews_merged</th>\n",
       "      <th>eng_reviews_cleaned</th>\n",
       "    </tr>\n",
       "  </thead>\n",
       "  <tbody>\n",
       "    <tr>\n",
       "      <th>0</th>\n",
       "      <td>4769</td>\n",
       "      <td>This charming apartment on the first floor of ...</td>\n",
       "      <td>Easygoing person, always ready to present the ...</td>\n",
       "      <td>0</td>\n",
       "      <td>en</td>\n",
       "      <td>en</td>\n",
       "      <td>This charming apartment on the first floor of ...</td>\n",
       "      <td>charm apart first floor typic cascai build loc...</td>\n",
       "      <td>0.250000</td>\n",
       "      <td>0.059284</td>\n",
       "      <td>0.048485</td>\n",
       "      <td>The host canceled this reservation 233 days be...</td>\n",
       "      <td>host cancel reserv day arriv autom post daniel...</td>\n",
       "    </tr>\n",
       "    <tr>\n",
       "      <th>1</th>\n",
       "      <td>4385</td>\n",
       "      <td>Charming villa with a private pool and tennis ...</td>\n",
       "      <td>Allure Villas is your go-to spot for renting V...</td>\n",
       "      <td>1</td>\n",
       "      <td>en</td>\n",
       "      <td>en</td>\n",
       "      <td>Charming villa with a private pool and tennis ...</td>\n",
       "      <td>charm villa privat pool tenni tabl within walk...</td>\n",
       "      <td>NaN</td>\n",
       "      <td>NaN</td>\n",
       "      <td>NaN</td>\n",
       "      <td></td>\n",
       "      <td></td>\n",
       "    </tr>\n",
       "    <tr>\n",
       "      <th>2</th>\n",
       "      <td>11858</td>\n",
       "      <td>One bedroom apartment inside a modern developm...</td>\n",
       "      <td>Hey, this is Goncalo and Miku, your hosts in L...</td>\n",
       "      <td>0</td>\n",
       "      <td>en</td>\n",
       "      <td>en</td>\n",
       "      <td>One bedroom apartment inside a modern developm...</td>\n",
       "      <td>one bedroom apart insid modern develop elev ig...</td>\n",
       "      <td>0.321429</td>\n",
       "      <td>0.156600</td>\n",
       "      <td>0.159091</td>\n",
       "      <td>Everything is great and very convenient, the p...</td>\n",
       "      <td>everyth great conveni park place near apart th...</td>\n",
       "    </tr>\n",
       "  </tbody>\n",
       "</table>\n",
       "</div>"
      ],
      "text/plain": [
       "   index                                        description   \n",
       "0   4769  This charming apartment on the first floor of ...  \\\n",
       "1   4385  Charming villa with a private pool and tennis ...   \n",
       "2  11858  One bedroom apartment inside a modern developm...   \n",
       "\n",
       "                                          host_about  unlisted   \n",
       "0  Easygoing person, always ready to present the ...         0  \\\n",
       "1  Allure Villas is your go-to spot for renting V...         1   \n",
       "2  Hey, this is Goncalo and Miku, your hosts in L...         0   \n",
       "\n",
       "  description_language host_about_language   \n",
       "0                   en                  en  \\\n",
       "1                   en                  en   \n",
       "2                   en                  en   \n",
       "\n",
       "                                 description_english   \n",
       "0  This charming apartment on the first floor of ...  \\\n",
       "1  Charming villa with a private pool and tennis ...   \n",
       "2  One bedroom apartment inside a modern developm...   \n",
       "\n",
       "                                 cleaned_description  unique_languages_count   \n",
       "0  charm apart first floor typic cascai build loc...                0.250000  \\\n",
       "1  charm villa privat pool tenni tabl within walk...                     NaN   \n",
       "2  one bedroom apart insid modern develop elev ig...                0.321429   \n",
       "\n",
       "   total_comments_count  eng_comment_count   \n",
       "0              0.059284           0.048485  \\\n",
       "1                   NaN                NaN   \n",
       "2              0.156600           0.159091   \n",
       "\n",
       "                                  eng_reviews_merged   \n",
       "0  The host canceled this reservation 233 days be...  \\\n",
       "1                                                      \n",
       "2  Everything is great and very convenient, the p...   \n",
       "\n",
       "                                 eng_reviews_cleaned  \n",
       "0  host cancel reserv day arriv autom post daniel...  \n",
       "1                                                     \n",
       "2  everyth great conveni park place near apart th...  "
      ]
     },
     "execution_count": 34,
     "metadata": {},
     "output_type": "execute_result"
    }
   ],
   "source": [
    "# Pipeline of preprocessing the val_df to extract the same feature values\n",
    "#val_df['word_count']  = val_df['description'].apply(lambda x: len(str(x).split(\" \")))\n",
    "val_df['cleaned_description'] = clean(val_df['description_english'], lemmatize = True, stemmer = True)\n",
    "val_df = pd.merge(val_df, merged_reviews, on='index', how='left')\n",
    "\n",
    "val_df['eng_reviews_cleaned'] = clean(val_df['eng_reviews_merged'], lemmatize = True, stemmer = True)\n",
    "val_df[cols_to_scale] = scaler.transform(val_df[cols_to_scale]) # Note: just trannsform here\n",
    "\n",
    "val_df.head(3)"
   ]
  },
  {
   "cell_type": "code",
   "execution_count": 35,
   "metadata": {},
   "outputs": [],
   "source": [
    "X_val_1 = tfidf_desc.transform(val_df[\"cleaned_description\"])\n",
    "X_val_2 = tfidf_reviews.transform(val_df[\"eng_reviews_merged\"])                            \n",
    "n1 = X_val_1.shape[1]\n",
    "n2 = X_val_2.shape[1]\n",
    "n_additional = len(cols_to_scale)\n",
    "\n",
    "X_val_ext = np.zeros((X_val_1.shape[0], n1 + n2 + n_additional))\n",
    "X_val_ext[:, :n1] = X_val_1.toarray()      # copy over TF-IDF for cleaned AirBnb description\n",
    "X_val_ext[:, n1:n1+n2] = X_val_2.toarray() # copy over TF-IDF for cleaned English reviews\n",
    "X_val_ext[:, n1+n2:] = val_df[cols_to_scale].values   # copy over the count columns\n",
    "\n",
    "X_val_ext = np.nan_to_num(X_val_ext, nan=0)   # filling in empty values with zeroes                                 \n",
    "\n",
    "y_val = np.array(val_df['unlisted'])"
   ]
  },
  {
   "cell_type": "code",
   "execution_count": 36,
   "metadata": {},
   "outputs": [
    {
     "name": "stdout",
     "output_type": "stream",
     "text": [
      "(2500, 2003) (2500,)\n"
     ]
    }
   ],
   "source": [
    "print(X_val_ext.shape, y_val.shape)"
   ]
  },
  {
   "cell_type": "markdown",
   "metadata": {},
   "source": [
    "## KNN model (on extended list of features)"
   ]
  },
  {
   "cell_type": "code",
   "execution_count": 37,
   "metadata": {},
   "outputs": [
    {
     "data": {
      "text/html": [
       "<style>#sk-container-id-2 {color: black;background-color: white;}#sk-container-id-2 pre{padding: 0;}#sk-container-id-2 div.sk-toggleable {background-color: white;}#sk-container-id-2 label.sk-toggleable__label {cursor: pointer;display: block;width: 100%;margin-bottom: 0;padding: 0.3em;box-sizing: border-box;text-align: center;}#sk-container-id-2 label.sk-toggleable__label-arrow:before {content: \"▸\";float: left;margin-right: 0.25em;color: #696969;}#sk-container-id-2 label.sk-toggleable__label-arrow:hover:before {color: black;}#sk-container-id-2 div.sk-estimator:hover label.sk-toggleable__label-arrow:before {color: black;}#sk-container-id-2 div.sk-toggleable__content {max-height: 0;max-width: 0;overflow: hidden;text-align: left;background-color: #f0f8ff;}#sk-container-id-2 div.sk-toggleable__content pre {margin: 0.2em;color: black;border-radius: 0.25em;background-color: #f0f8ff;}#sk-container-id-2 input.sk-toggleable__control:checked~div.sk-toggleable__content {max-height: 200px;max-width: 100%;overflow: auto;}#sk-container-id-2 input.sk-toggleable__control:checked~label.sk-toggleable__label-arrow:before {content: \"▾\";}#sk-container-id-2 div.sk-estimator input.sk-toggleable__control:checked~label.sk-toggleable__label {background-color: #d4ebff;}#sk-container-id-2 div.sk-label input.sk-toggleable__control:checked~label.sk-toggleable__label {background-color: #d4ebff;}#sk-container-id-2 input.sk-hidden--visually {border: 0;clip: rect(1px 1px 1px 1px);clip: rect(1px, 1px, 1px, 1px);height: 1px;margin: -1px;overflow: hidden;padding: 0;position: absolute;width: 1px;}#sk-container-id-2 div.sk-estimator {font-family: monospace;background-color: #f0f8ff;border: 1px dotted black;border-radius: 0.25em;box-sizing: border-box;margin-bottom: 0.5em;}#sk-container-id-2 div.sk-estimator:hover {background-color: #d4ebff;}#sk-container-id-2 div.sk-parallel-item::after {content: \"\";width: 100%;border-bottom: 1px solid gray;flex-grow: 1;}#sk-container-id-2 div.sk-label:hover label.sk-toggleable__label {background-color: #d4ebff;}#sk-container-id-2 div.sk-serial::before {content: \"\";position: absolute;border-left: 1px solid gray;box-sizing: border-box;top: 0;bottom: 0;left: 50%;z-index: 0;}#sk-container-id-2 div.sk-serial {display: flex;flex-direction: column;align-items: center;background-color: white;padding-right: 0.2em;padding-left: 0.2em;position: relative;}#sk-container-id-2 div.sk-item {position: relative;z-index: 1;}#sk-container-id-2 div.sk-parallel {display: flex;align-items: stretch;justify-content: center;background-color: white;position: relative;}#sk-container-id-2 div.sk-item::before, #sk-container-id-2 div.sk-parallel-item::before {content: \"\";position: absolute;border-left: 1px solid gray;box-sizing: border-box;top: 0;bottom: 0;left: 50%;z-index: -1;}#sk-container-id-2 div.sk-parallel-item {display: flex;flex-direction: column;z-index: 1;position: relative;background-color: white;}#sk-container-id-2 div.sk-parallel-item:first-child::after {align-self: flex-end;width: 50%;}#sk-container-id-2 div.sk-parallel-item:last-child::after {align-self: flex-start;width: 50%;}#sk-container-id-2 div.sk-parallel-item:only-child::after {width: 0;}#sk-container-id-2 div.sk-dashed-wrapped {border: 1px dashed gray;margin: 0 0.4em 0.5em 0.4em;box-sizing: border-box;padding-bottom: 0.4em;background-color: white;}#sk-container-id-2 div.sk-label label {font-family: monospace;font-weight: bold;display: inline-block;line-height: 1.2em;}#sk-container-id-2 div.sk-label-container {text-align: center;}#sk-container-id-2 div.sk-container {/* jupyter's `normalize.less` sets `[hidden] { display: none; }` but bootstrap.min.css set `[hidden] { display: none !important; }` so we also need the `!important` here to be able to override the default hidden behavior on the sphinx rendered scikit-learn.org. See: https://github.com/scikit-learn/scikit-learn/issues/21755 */display: inline-block !important;position: relative;}#sk-container-id-2 div.sk-text-repr-fallback {display: none;}</style><div id=\"sk-container-id-2\" class=\"sk-top-container\"><div class=\"sk-text-repr-fallback\"><pre>KNeighborsClassifier(metric=&#x27;cosine&#x27;, n_neighbors=7, weights=&#x27;distance&#x27;)</pre><b>In a Jupyter environment, please rerun this cell to show the HTML representation or trust the notebook. <br />On GitHub, the HTML representation is unable to render, please try loading this page with nbviewer.org.</b></div><div class=\"sk-container\" hidden><div class=\"sk-item\"><div class=\"sk-estimator sk-toggleable\"><input class=\"sk-toggleable__control sk-hidden--visually\" id=\"sk-estimator-id-2\" type=\"checkbox\" checked><label for=\"sk-estimator-id-2\" class=\"sk-toggleable__label sk-toggleable__label-arrow\">KNeighborsClassifier</label><div class=\"sk-toggleable__content\"><pre>KNeighborsClassifier(metric=&#x27;cosine&#x27;, n_neighbors=7, weights=&#x27;distance&#x27;)</pre></div></div></div></div></div>"
      ],
      "text/plain": [
       "KNeighborsClassifier(metric='cosine', n_neighbors=7, weights='distance')"
      ]
     },
     "execution_count": 37,
     "metadata": {},
     "output_type": "execute_result"
    }
   ],
   "source": [
    "# Model Building\n",
    "modelknn = KNeighborsClassifier(n_neighbors = 7, \n",
    "                                metric = 'cosine', \n",
    "                                weights = 'distance')\n",
    "\n",
    "modelknn.fit(X_train_ext, y_train)"
   ]
  },
  {
   "cell_type": "code",
   "execution_count": 38,
   "metadata": {},
   "outputs": [],
   "source": [
    "# Making preditions\n",
    "y_pred = modelknn.predict(X_val_ext)"
   ]
  },
  {
   "cell_type": "code",
   "execution_count": 39,
   "metadata": {},
   "outputs": [
    {
     "name": "stdout",
     "output_type": "stream",
     "text": [
      "              precision    recall  f1-score   support\n",
      "\n",
      "      listed       0.92      0.90      0.91      1851\n",
      "    unlisted       0.73      0.78      0.76       649\n",
      "\n",
      "    accuracy                           0.87      2500\n",
      "   macro avg       0.83      0.84      0.83      2500\n",
      "weighted avg       0.87      0.87      0.87      2500\n",
      "\n"
     ]
    },
    {
     "data": {
      "image/png": "[encoded data removed]",
      "text/plain": [
       "<Figure size 640x480 with 2 Axes>"
      ]
     },
     "metadata": {},
     "output_type": "display_data"
    }
   ],
   "source": [
    "# Model Evaluation\n",
    "print(classification_report(y_pred, y_val, target_names = labels.keys()))\n",
    "plot_cm(confusion_matrix(y_pred, y_val), labels.keys())"
   ]
  },
  {
   "cell_type": "markdown",
   "metadata": {},
   "source": [
    "## RandomForest (on extended list of features)"
   ]
  },
  {
   "cell_type": "code",
   "execution_count": 40,
   "metadata": {},
   "outputs": [
    {
     "data": {
      "text/html": [
       "<style>#sk-container-id-3 {color: black;background-color: white;}#sk-container-id-3 pre{padding: 0;}#sk-container-id-3 div.sk-toggleable {background-color: white;}#sk-container-id-3 label.sk-toggleable__label {cursor: pointer;display: block;width: 100%;margin-bottom: 0;padding: 0.3em;box-sizing: border-box;text-align: center;}#sk-container-id-3 label.sk-toggleable__label-arrow:before {content: \"▸\";float: left;margin-right: 0.25em;color: #696969;}#sk-container-id-3 label.sk-toggleable__label-arrow:hover:before {color: black;}#sk-container-id-3 div.sk-estimator:hover label.sk-toggleable__label-arrow:before {color: black;}#sk-container-id-3 div.sk-toggleable__content {max-height: 0;max-width: 0;overflow: hidden;text-align: left;background-color: #f0f8ff;}#sk-container-id-3 div.sk-toggleable__content pre {margin: 0.2em;color: black;border-radius: 0.25em;background-color: #f0f8ff;}#sk-container-id-3 input.sk-toggleable__control:checked~div.sk-toggleable__content {max-height: 200px;max-width: 100%;overflow: auto;}#sk-container-id-3 input.sk-toggleable__control:checked~label.sk-toggleable__label-arrow:before {content: \"▾\";}#sk-container-id-3 div.sk-estimator input.sk-toggleable__control:checked~label.sk-toggleable__label {background-color: #d4ebff;}#sk-container-id-3 div.sk-label input.sk-toggleable__control:checked~label.sk-toggleable__label {background-color: #d4ebff;}#sk-container-id-3 input.sk-hidden--visually {border: 0;clip: rect(1px 1px 1px 1px);clip: rect(1px, 1px, 1px, 1px);height: 1px;margin: -1px;overflow: hidden;padding: 0;position: absolute;width: 1px;}#sk-container-id-3 div.sk-estimator {font-family: monospace;background-color: #f0f8ff;border: 1px dotted black;border-radius: 0.25em;box-sizing: border-box;margin-bottom: 0.5em;}#sk-container-id-3 div.sk-estimator:hover {background-color: #d4ebff;}#sk-container-id-3 div.sk-parallel-item::after {content: \"\";width: 100%;border-bottom: 1px solid gray;flex-grow: 1;}#sk-container-id-3 div.sk-label:hover label.sk-toggleable__label {background-color: #d4ebff;}#sk-container-id-3 div.sk-serial::before {content: \"\";position: absolute;border-left: 1px solid gray;box-sizing: border-box;top: 0;bottom: 0;left: 50%;z-index: 0;}#sk-container-id-3 div.sk-serial {display: flex;flex-direction: column;align-items: center;background-color: white;padding-right: 0.2em;padding-left: 0.2em;position: relative;}#sk-container-id-3 div.sk-item {position: relative;z-index: 1;}#sk-container-id-3 div.sk-parallel {display: flex;align-items: stretch;justify-content: center;background-color: white;position: relative;}#sk-container-id-3 div.sk-item::before, #sk-container-id-3 div.sk-parallel-item::before {content: \"\";position: absolute;border-left: 1px solid gray;box-sizing: border-box;top: 0;bottom: 0;left: 50%;z-index: -1;}#sk-container-id-3 div.sk-parallel-item {display: flex;flex-direction: column;z-index: 1;position: relative;background-color: white;}#sk-container-id-3 div.sk-parallel-item:first-child::after {align-self: flex-end;width: 50%;}#sk-container-id-3 div.sk-parallel-item:last-child::after {align-self: flex-start;width: 50%;}#sk-container-id-3 div.sk-parallel-item:only-child::after {width: 0;}#sk-container-id-3 div.sk-dashed-wrapped {border: 1px dashed gray;margin: 0 0.4em 0.5em 0.4em;box-sizing: border-box;padding-bottom: 0.4em;background-color: white;}#sk-container-id-3 div.sk-label label {font-family: monospace;font-weight: bold;display: inline-block;line-height: 1.2em;}#sk-container-id-3 div.sk-label-container {text-align: center;}#sk-container-id-3 div.sk-container {/* jupyter's `normalize.less` sets `[hidden] { display: none; }` but bootstrap.min.css set `[hidden] { display: none !important; }` so we also need the `!important` here to be able to override the default hidden behavior on the sphinx rendered scikit-learn.org. See: https://github.com/scikit-learn/scikit-learn/issues/21755 */display: inline-block !important;position: relative;}#sk-container-id-3 div.sk-text-repr-fallback {display: none;}</style><div id=\"sk-container-id-3\" class=\"sk-top-container\"><div class=\"sk-text-repr-fallback\"><pre>RandomForestClassifier(class_weight={0: 0.7, 1: 0.3}, random_state=42)</pre><b>In a Jupyter environment, please rerun this cell to show the HTML representation or trust the notebook. <br />On GitHub, the HTML representation is unable to render, please try loading this page with nbviewer.org.</b></div><div class=\"sk-container\" hidden><div class=\"sk-item\"><div class=\"sk-estimator sk-toggleable\"><input class=\"sk-toggleable__control sk-hidden--visually\" id=\"sk-estimator-id-3\" type=\"checkbox\" checked><label for=\"sk-estimator-id-3\" class=\"sk-toggleable__label sk-toggleable__label-arrow\">RandomForestClassifier</label><div class=\"sk-toggleable__content\"><pre>RandomForestClassifier(class_weight={0: 0.7, 1: 0.3}, random_state=42)</pre></div></div></div></div></div>"
      ],
      "text/plain": [
       "RandomForestClassifier(class_weight={0: 0.7, 1: 0.3}, random_state=42)"
      ]
     },
     "execution_count": 40,
     "metadata": {},
     "output_type": "execute_result"
    }
   ],
   "source": [
    "from sklearn.ensemble import RandomForestClassifier\n",
    "\n",
    "model_forest = RandomForestClassifier(n_estimators=100, \n",
    "                                      class_weight={0: 0.7, 1: 0.3}, \n",
    "                                      random_state=42)\n",
    "\n",
    "model_forest.fit(X_train_ext, y_train)"
   ]
  },
  {
   "cell_type": "code",
   "execution_count": 41,
   "metadata": {},
   "outputs": [],
   "source": [
    "# Predicting\n",
    "y_pred = model_forest.predict(X_val_ext)"
   ]
  },
  {
   "cell_type": "code",
   "execution_count": 42,
   "metadata": {},
   "outputs": [
    {
     "name": "stdout",
     "output_type": "stream",
     "text": [
      "              precision    recall  f1-score   support\n",
      "\n",
      "      listed       0.91      0.92      0.92      1780\n",
      "    unlisted       0.80      0.77      0.79       720\n",
      "\n",
      "    accuracy                           0.88      2500\n",
      "   macro avg       0.86      0.85      0.85      2500\n",
      "weighted avg       0.88      0.88      0.88      2500\n",
      "\n"
     ]
    },
    {
     "data": {
      "image/png": "[encoded data removed]",
      "text/plain": [
       "<Figure size 640x480 with 2 Axes>"
      ]
     },
     "metadata": {},
     "output_type": "display_data"
    }
   ],
   "source": [
    "# Evaluation\n",
    "print(classification_report(y_pred, y_val, target_names = labels.keys()))\n",
    "plot_cm(confusion_matrix(y_pred, y_val), labels.keys())"
   ]
  },
  {
   "cell_type": "markdown",
   "metadata": {},
   "source": [
    "## XGBoost model (on extended list of features)"
   ]
  },
  {
   "cell_type": "code",
   "execution_count": 43,
   "metadata": {},
   "outputs": [
    {
     "data": {
      "text/html": [
       "<style>#sk-container-id-4 {color: black;background-color: white;}#sk-container-id-4 pre{padding: 0;}#sk-container-id-4 div.sk-toggleable {background-color: white;}#sk-container-id-4 label.sk-toggleable__label {cursor: pointer;display: block;width: 100%;margin-bottom: 0;padding: 0.3em;box-sizing: border-box;text-align: center;}#sk-container-id-4 label.sk-toggleable__label-arrow:before {content: \"▸\";float: left;margin-right: 0.25em;color: #696969;}#sk-container-id-4 label.sk-toggleable__label-arrow:hover:before {color: black;}#sk-container-id-4 div.sk-estimator:hover label.sk-toggleable__label-arrow:before {color: black;}#sk-container-id-4 div.sk-toggleable__content {max-height: 0;max-width: 0;overflow: hidden;text-align: left;background-color: #f0f8ff;}#sk-container-id-4 div.sk-toggleable__content pre {margin: 0.2em;color: black;border-radius: 0.25em;background-color: #f0f8ff;}#sk-container-id-4 input.sk-toggleable__control:checked~div.sk-toggleable__content {max-height: 200px;max-width: 100%;overflow: auto;}#sk-container-id-4 input.sk-toggleable__control:checked~label.sk-toggleable__label-arrow:before {content: \"▾\";}#sk-container-id-4 div.sk-estimator input.sk-toggleable__control:checked~label.sk-toggleable__label {background-color: #d4ebff;}#sk-container-id-4 div.sk-label input.sk-toggleable__control:checked~label.sk-toggleable__label {background-color: #d4ebff;}#sk-container-id-4 input.sk-hidden--visually {border: 0;clip: rect(1px 1px 1px 1px);clip: rect(1px, 1px, 1px, 1px);height: 1px;margin: -1px;overflow: hidden;padding: 0;position: absolute;width: 1px;}#sk-container-id-4 div.sk-estimator {font-family: monospace;background-color: #f0f8ff;border: 1px dotted black;border-radius: 0.25em;box-sizing: border-box;margin-bottom: 0.5em;}#sk-container-id-4 div.sk-estimator:hover {background-color: #d4ebff;}#sk-container-id-4 div.sk-parallel-item::after {content: \"\";width: 100%;border-bottom: 1px solid gray;flex-grow: 1;}#sk-container-id-4 div.sk-label:hover label.sk-toggleable__label {background-color: #d4ebff;}#sk-container-id-4 div.sk-serial::before {content: \"\";position: absolute;border-left: 1px solid gray;box-sizing: border-box;top: 0;bottom: 0;left: 50%;z-index: 0;}#sk-container-id-4 div.sk-serial {display: flex;flex-direction: column;align-items: center;background-color: white;padding-right: 0.2em;padding-left: 0.2em;position: relative;}#sk-container-id-4 div.sk-item {position: relative;z-index: 1;}#sk-container-id-4 div.sk-parallel {display: flex;align-items: stretch;justify-content: center;background-color: white;position: relative;}#sk-container-id-4 div.sk-item::before, #sk-container-id-4 div.sk-parallel-item::before {content: \"\";position: absolute;border-left: 1px solid gray;box-sizing: border-box;top: 0;bottom: 0;left: 50%;z-index: -1;}#sk-container-id-4 div.sk-parallel-item {display: flex;flex-direction: column;z-index: 1;position: relative;background-color: white;}#sk-container-id-4 div.sk-parallel-item:first-child::after {align-self: flex-end;width: 50%;}#sk-container-id-4 div.sk-parallel-item:last-child::after {align-self: flex-start;width: 50%;}#sk-container-id-4 div.sk-parallel-item:only-child::after {width: 0;}#sk-container-id-4 div.sk-dashed-wrapped {border: 1px dashed gray;margin: 0 0.4em 0.5em 0.4em;box-sizing: border-box;padding-bottom: 0.4em;background-color: white;}#sk-container-id-4 div.sk-label label {font-family: monospace;font-weight: bold;display: inline-block;line-height: 1.2em;}#sk-container-id-4 div.sk-label-container {text-align: center;}#sk-container-id-4 div.sk-container {/* jupyter's `normalize.less` sets `[hidden] { display: none; }` but bootstrap.min.css set `[hidden] { display: none !important; }` so we also need the `!important` here to be able to override the default hidden behavior on the sphinx rendered scikit-learn.org. See: https://github.com/scikit-learn/scikit-learn/issues/21755 */display: inline-block !important;position: relative;}#sk-container-id-4 div.sk-text-repr-fallback {display: none;}</style><div id=\"sk-container-id-4\" class=\"sk-top-container\"><div class=\"sk-text-repr-fallback\"><pre>XGBClassifier(base_score=None, booster=None, callbacks=None,\n",
       "              colsample_bylevel=None, colsample_bynode=None,\n",
       "              colsample_bytree=None, early_stopping_rounds=None,\n",
       "              enable_categorical=False, eval_metric=None, feature_types=None,\n",
       "              gamma=None, gpu_id=None, grow_policy=None, importance_type=None,\n",
       "              interaction_constraints=None, learning_rate=None, max_bin=None,\n",
       "              max_cat_threshold=None, max_cat_to_onehot=None,\n",
       "              max_delta_step=None, max_depth=None, max_leaves=None,\n",
       "              min_child_weight=None, missing=nan, monotone_constraints=None,\n",
       "              n_estimators=100, n_jobs=None, num_parallel_tree=None,\n",
       "              predictor=None, random_state=123, ...)</pre><b>In a Jupyter environment, please rerun this cell to show the HTML representation or trust the notebook. <br />On GitHub, the HTML representation is unable to render, please try loading this page with nbviewer.org.</b></div><div class=\"sk-container\" hidden><div class=\"sk-item\"><div class=\"sk-estimator sk-toggleable\"><input class=\"sk-toggleable__control sk-hidden--visually\" id=\"sk-estimator-id-4\" type=\"checkbox\" checked><label for=\"sk-estimator-id-4\" class=\"sk-toggleable__label sk-toggleable__label-arrow\">XGBClassifier</label><div class=\"sk-toggleable__content\"><pre>XGBClassifier(base_score=None, booster=None, callbacks=None,\n",
       "              colsample_bylevel=None, colsample_bynode=None,\n",
       "              colsample_bytree=None, early_stopping_rounds=None,\n",
       "              enable_categorical=False, eval_metric=None, feature_types=None,\n",
       "              gamma=None, gpu_id=None, grow_policy=None, importance_type=None,\n",
       "              interaction_constraints=None, learning_rate=None, max_bin=None,\n",
       "              max_cat_threshold=None, max_cat_to_onehot=None,\n",
       "              max_delta_step=None, max_depth=None, max_leaves=None,\n",
       "              min_child_weight=None, missing=nan, monotone_constraints=None,\n",
       "              n_estimators=100, n_jobs=None, num_parallel_tree=None,\n",
       "              predictor=None, random_state=123, ...)</pre></div></div></div></div></div>"
      ],
      "text/plain": [
       "XGBClassifier(base_score=None, booster=None, callbacks=None,\n",
       "              colsample_bylevel=None, colsample_bynode=None,\n",
       "              colsample_bytree=None, early_stopping_rounds=None,\n",
       "              enable_categorical=False, eval_metric=None, feature_types=None,\n",
       "              gamma=None, gpu_id=None, grow_policy=None, importance_type=None,\n",
       "              interaction_constraints=None, learning_rate=None, max_bin=None,\n",
       "              max_cat_threshold=None, max_cat_to_onehot=None,\n",
       "              max_delta_step=None, max_depth=None, max_leaves=None,\n",
       "              min_child_weight=None, missing=nan, monotone_constraints=None,\n",
       "              n_estimators=100, n_jobs=None, num_parallel_tree=None,\n",
       "              predictor=None, random_state=123, ...)"
      ]
     },
     "execution_count": 43,
     "metadata": {},
     "output_type": "execute_result"
    }
   ],
   "source": [
    "import xgboost as xgb\n",
    "\n",
    "model_xgb = xgb.XGBClassifier(scale_pos_weight=0.25, random_state=123)\n",
    "model_xgb.fit(X_train_ext, y_train)"
   ]
  },
  {
   "cell_type": "code",
   "execution_count": 44,
   "metadata": {},
   "outputs": [
    {
     "name": "stdout",
     "output_type": "stream",
     "text": [
      "              precision    recall  f1-score   support\n",
      "\n",
      "      listed       0.95      0.85      0.90      2020\n",
      "    unlisted       0.56      0.81      0.66       480\n",
      "\n",
      "    accuracy                           0.84      2500\n",
      "   macro avg       0.75      0.83      0.78      2500\n",
      "weighted avg       0.87      0.84      0.85      2500\n",
      "\n"
     ]
    },
    {
     "data": {
      "image/png": "[encoded data removed]",
      "text/plain": [
       "<Figure size 640x480 with 2 Axes>"
      ]
     },
     "metadata": {},
     "output_type": "display_data"
    }
   ],
   "source": [
    "# Predicting\n",
    "y_pred = model_xgb.predict(X_val_ext)\n",
    "\n",
    "# Evaluating\n",
    "print(classification_report(y_pred, y_val, target_names = labels.keys()))\n",
    "plot_cm(confusion_matrix(y_pred, y_val), labels.keys())"
   ]
  },
  {
   "cell_type": "code",
   "execution_count": null,
   "metadata": {},
   "outputs": [],
   "source": []
  }
 ],
 "metadata": {
  "kernelspec": {
   "display_name": ".tm_env",
   "language": "python",
   "name": ".tm_env"
  },
  "language_info": {
   "codemirror_mode": {
    "name": "ipython",
    "version": 3
   },
   "file_extension": ".py",
   "mimetype": "text/x-python",
   "name": "python",
   "nbconvert_exporter": "python",
   "pygments_lexer": "ipython3",
   "version": "3.10.4"
  }
 },
 "nbformat": 4,
 "nbformat_minor": 4
}
