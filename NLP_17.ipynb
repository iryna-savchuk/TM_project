{
 "cells": [
  {
   "cell_type": "markdown",
   "id": "2402a668",
   "metadata": {},
   "source": [
    "# Text Mining: Predicting Airbnb Unlisting"
   ]
  },
  {
   "cell_type": "markdown",
   "id": "7a11db90",
   "metadata": {},
   "source": [
    "**University:** NOVA Information Management School<br/>\n",
    "**Program:** Master’s Degree Program in Data Science and Advanced Analytics<br/>\n",
    "**Academic Year:** 2022/2023\n",
    "\n",
    "```\n",
    "============== Students: ==============\n",
    "Iryna Savchuk (m20211310@novaims.unl.pt)\n",
    "Cátia Sofia Pereira Parrinha (m20201320@novaims.unl.pt)\n",
    "=======================================\n",
    "```"
   ]
  },
  {
   "cell_type": "code",
   "execution_count": 1,
   "id": "5fe5e85f",
   "metadata": {},
   "outputs": [],
   "source": [
    "import pandas as pd\n",
    "import numpy as np\n",
    "import matplotlib.pyplot as plt\n",
    "\n",
    "import nltk\n",
    "from nltk.tokenize import word_tokenize\n",
    "from nltk.corpus import stopwords\n",
    "from nltk.stem import SnowballStemmer\n",
    "from nltk.stem.wordnet import WordNetLemmatizer\n",
    "\n",
    "import string\n",
    "import re\n",
    "from tqdm import tqdm\n",
    "\n",
    "from sklearn.feature_extraction.text import CountVectorizer\n",
    "from sklearn.neighbors import KNeighborsClassifier\n",
    "from sklearn.metrics import classification_report, confusion_matrix"
   ]
  },
  {
   "cell_type": "code",
   "execution_count": null,
   "id": "eb821e95",
   "metadata": {},
   "outputs": [],
   "source": []
  }
 ],
 "metadata": {
  "kernelspec": {
   "display_name": ".tm_env",
   "language": "python",
   "name": ".tm_env"
  },
  "language_info": {
   "codemirror_mode": {
    "name": "ipython",
    "version": 3
   },
   "file_extension": ".py",
   "mimetype": "text/x-python",
   "name": "python",
   "nbconvert_exporter": "python",
   "pygments_lexer": "ipython3",
   "version": "3.10.4"
  }
 },
 "nbformat": 4,
 "nbformat_minor": 5
}
